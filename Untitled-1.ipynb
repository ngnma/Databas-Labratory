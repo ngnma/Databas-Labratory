{
 "cells": [
  {
   "cell_type": "markdown",
   "metadata": {},
   "source": [
    "# Database Labratory Project"
   ]
  },
  {
   "cell_type": "markdown",
   "metadata": {},
   "source": [
    "- Negin mashayekhi\n",
    "- Farbod fooladi"
   ]
  },
  {
   "cell_type": "code",
   "execution_count": 1,
   "metadata": {},
   "outputs": [],
   "source": [
    "# from twilio.rest import Client\n",
    "# import smtplib\n",
    "# from email.mime.text import MIMEText\n",
    "# from email.mime.multipart import MIMEMultipart\n",
    "import random\n",
    "import pandas as pd\n",
    "from flask import Flask\n",
    "import datetime\n",
    "from flask import request, jsonify\n",
    "import uuid\n",
    "import requests\n",
    "from bs4 import BeautifulSoup\n",
    "from datetime import datetime"
   ]
  },
  {
   "cell_type": "markdown",
   "metadata": {},
   "source": [
    "## Phase 1 (Email API)"
   ]
  },
  {
   "cell_type": "markdown",
   "metadata": {},
   "source": [
    "- Email/SMS API\n",
    "- Crawling a webpage(handelled later)"
   ]
  },
  {
   "cell_type": "markdown",
   "metadata": {},
   "source": [
    "### 1-1.Sending SMS/Email\n"
   ]
  },
  {
   "cell_type": "code",
   "execution_count": null,
   "metadata": {},
   "outputs": [],
   "source": [
    "def send_sms(message):\n",
    "    try:\n",
    "        # Your Account SID and Auth Token from twilio.com/console\n",
    "        account_sid = 'account_sid'\n",
    "        auth_token = 'auth_token'\n",
    "        client = Client(account_sid, auth_token)\n",
    "\n",
    "        # Use the Twilio API to send an SMS message\n",
    "        message = client.messages.create(\n",
    "            body=message,\n",
    "            from_='+98121212121', # Replace with your Twilio phone number\n",
    "            to='+98121212121' # Replace with the recipient's phone number\n",
    "        )\n",
    "        return 1\n",
    "    except NameError:\n",
    "        #return 0\n",
    "        return random.random()%2\n",
    "\n",
    "def send_email(message):\n",
    "    try:\n",
    "        # Set up connection to the SMTP server\n",
    "        smtp_server = 'smtp.gmail.com'  # replace with your SMTP server address\n",
    "        smtp_port = 25  # replace with your SMTP server port\n",
    "        username = 'n.mashayekhi456@gmail.com'  # replace with your email address\n",
    "        password = '1234'  # replace with your email password\n",
    "\n",
    "        server = smtplib.SMTP(smtp_server, smtp_port)\n",
    "        server.starttls()\n",
    "        server.login(username, password)\n",
    "\n",
    "        # Construct the email message\n",
    "        from_addr = 'n.mashayekhi456@gmail.com'  # replace with your email address\n",
    "        to_addr = 'n.mashayekhi456@gmail.com'  # replace with recipient email address\n",
    "        subject = message\n",
    "        body = new_price\n",
    "\n",
    "        msg = MIMEMultipart()\n",
    "        msg['From'] = from_addr\n",
    "        msg['To'] = to_addr\n",
    "        msg['Subject'] = subject\n",
    "\n",
    "        msg.attach(MIMEText(body, 'plain'))\n",
    "\n",
    "        # Send the email\n",
    "        text = msg.as_string()\n",
    "        server.sendmail(from_addr, to_addr, text)\n",
    "\n",
    "        # Close the connection to the SMTP server\n",
    "        server.quit()\n",
    "        return 1\n",
    "    except NameError:\n",
    "        #return 0\n",
    "        return random.random()%2"
   ]
  },
  {
   "cell_type": "markdown",
   "metadata": {},
   "source": [
    "## Phase 2 (Login)"
   ]
  },
  {
   "cell_type": "markdown",
   "metadata": {},
   "source": [
    "- Save session for further use\n",
    "- Extract elements inside user panel"
   ]
  },
  {
   "cell_type": "markdown",
   "metadata": {},
   "source": [
    "### 2-1.Save Sessions in DB"
   ]
  },
  {
   "cell_type": "code",
   "execution_count": null,
   "metadata": {},
   "outputs": [],
   "source": [
    "# POSTLOGINURL = 'www.toplearn.com/login'\n",
    "# #REQUESTURL = 'www.example.com/page_to_scrape'\n",
    "\n",
    "# payload = {'username': 'aacc9818@gmail.com', 'password': '456654321'}\n",
    "# with request.Session() as session:\n",
    "#     post = session.post(POSTLOGINURL, data=payload)\n",
    "#     print(session)"
   ]
  },
  {
   "cell_type": "code",
   "execution_count": 1,
   "metadata": {},
   "outputs": [],
   "source": [
    "import mysql\n",
    "import mysql.connector\n",
    "# run this every time\n",
    "mydb = mysql.connector.connect(\n",
    "  host=\"localhost\",\n",
    "  user=\"root\",\n",
    "  password=\"pdne\",\n",
    ")\n",
    "mycursor = mydb.cursor()\n",
    "\n",
    "# Create Database\n",
    "#mycursor.execute(\"DROP DATABASE TopLearn_Project\")\n",
    "\n",
    "# Switch to the newly created database\n",
    "mycursor.execute(\"USE TopLearn_Project\")"
   ]
  },
  {
   "cell_type": "markdown",
   "metadata": {},
   "source": [
    "Creating Databases.Dont run this cell again."
   ]
  },
  {
   "cell_type": "code",
   "execution_count": null,
   "metadata": {},
   "outputs": [],
   "source": [
    "# Create a database named \"TopLearn_Project\"\n",
    "mycursor.execute(\"CREATE DATABASE TopLearn_Project\")\n",
    "# Switch to the newly created database\n",
    "mycursor.execute(\"USE TopLearn_Project\")\n",
    "# Create Table Session for save login cookies\n",
    "mycursor.execute(\"CREATE TABLE Sessions (id INT AUTO_INCREMENT PRIMARY KEY, URL_uid VARCHAR(255), username VARCHAR(127), cookie VARCHAR(1024), site_name VARCHAR(127))\")\n",
    "# Create Table Discounts for toplearn website\n",
    "mycursor.execute(\"CREATE TABLE Discounts (id INT AUTO_INCREMENT PRIMARY KEY, course_name VARCHAR(1024), login_status INT)\")\n",
    "# Create Table Logs for discounts changes\n",
    "mycursor.execute(\"CREATE TABLE Logs (id INT AUTO_INCREMENT PRIMARY KEY, new_value VARCHAR(1024), sms INT, email INT, discount_id INT,time TIME, FOREIGN KEY (discount_id) REFERENCES Discounts(id))\" )\n"
   ]
  },
  {
   "cell_type": "markdown",
   "metadata": {},
   "source": [
    "MySQl Helpping functions"
   ]
  },
  {
   "cell_type": "code",
   "execution_count": 3,
   "metadata": {},
   "outputs": [],
   "source": [
    "def show_databases():\n",
    "    mycursor.execute(\"SHOW DATABASES\")\n",
    "    for db in mycursor:\n",
    "        print(db)\n",
    "\n",
    "def show_tables():\n",
    "    mycursor.execute(\"SHOW TABLES\")\n",
    "    for table in mycursor:\n",
    "        print(table)\n",
    "\n",
    "def show_rows(table):\n",
    "    mycursor.execute(f'select * from {table}')\n",
    "    records = mycursor.fetchall()\n",
    "    for record in records:\n",
    "        print(record)"
   ]
  },
  {
   "cell_type": "code",
   "execution_count": 4,
   "metadata": {},
   "outputs": [
    {
     "name": "stdout",
     "output_type": "stream",
     "text": [
      "('Discounts',)\n",
      "('Logs',)\n",
      "('Registrations',)\n",
      "('Sessions',)\n"
     ]
    }
   ],
   "source": [
    "show_tables()"
   ]
  },
  {
   "cell_type": "markdown",
   "metadata": {},
   "source": [
    "Getting session_id from toplearn"
   ]
  },
  {
   "cell_type": "code",
   "execution_count": null,
   "metadata": {},
   "outputs": [],
   "source": [
    "toplearn_url = 'http://www.toplearn.com/Login'\n",
    "url = 'https://toplearn.com/Account/DashBoard?uid=c8ef2015-a667-4a68-a8d7-3d07ef51ec96'\n",
    "response = requests.get(url)\n",
    "\n",
    "#session_id = response.cookies.get('.AspNetCore.Session')\n",
    "#print(response.headers)\n",
    "#print(response.cookies.AspNetCore.Mvc.CookieTempDataProvider)\n",
    "#response.cookies.Session\n",
    "session_id = response.headers['Set-Cookie']"
   ]
  },
  {
   "cell_type": "markdown",
   "metadata": {},
   "source": [
    "Save Session_id in Database"
   ]
  },
  {
   "cell_type": "code",
   "execution_count": null,
   "metadata": {},
   "outputs": [],
   "source": [
    "mycursor.execute(\"INSERT INTO Sessions (URL_uid, username, cookie, site_name ) VALUES (%s,%s,%s,%s)\", [url,'Neginma',str(session_id),'Toplearn'])\n",
    "mydb.commit()\n",
    "query = 'SELECT * FROM Sessions'\n",
    "df = pd.read_sql(query, mydb)\n",
    "df"
   ]
  },
  {
   "cell_type": "code",
   "execution_count": null,
   "metadata": {},
   "outputs": [],
   "source": [
    "# this is the last cell for using database- dont run it now!\n",
    "# cursor.close()\n",
    "# connection.close()"
   ]
  },
  {
   "cell_type": "markdown",
   "metadata": {},
   "source": [
    "### 2-2.Crawl toplearn "
   ]
  },
  {
   "cell_type": "code",
   "execution_count": null,
   "metadata": {},
   "outputs": [],
   "source": [
    "url_topl = 'https://toplearn.com/TodayDiscounts'\n",
    "response = requests.get(url_topl)\n",
    "soup = BeautifulSoup(response.text, 'html.parser')"
   ]
  },
  {
   "cell_type": "markdown",
   "metadata": {},
   "source": [
    "Save Initial values in Discounts"
   ]
  },
  {
   "cell_type": "code",
   "execution_count": null,
   "metadata": {},
   "outputs": [],
   "source": [
    "# this cell get the initial value of target element\n",
    "list_h2 = soup.find_all('h2')[:10]\n",
    "for h2 in list_h2:\n",
    "    mycursor.execute(\"INSERT INTO Discounts (course_name, login_status) VALUES (%s,%s)\", [(h2.find('a').text),1])\n",
    "query = 'SELECT * FROM Discounts'\n",
    "df = pd.read_sql(query, mydb)\n",
    "df"
   ]
  },
  {
   "cell_type": "markdown",
   "metadata": {},
   "source": [
    "Checking for any changes in Discounts Table and save log in Logs Table and send SMS/Email"
   ]
  },
  {
   "cell_type": "code",
   "execution_count": null,
   "metadata": {},
   "outputs": [],
   "source": [
    "#while True:\n",
    "updated_list = soup.find_all('h2')[:10]\n",
    "for i in range(1,10):\n",
    "    mycursor.execute(f\"SELECT course_name FROM Discounts WHERE id = {i}\")\n",
    "    old_value = mycursor.fetchone()[0]\n",
    "    new_value = str(updated_list[i].text)\n",
    "    if new_value!= old_value:\n",
    "        sms = send_sms(new_value)\n",
    "        email = send_email(new_value)\n",
    "        discount_id = i\n",
    "        current_time = datetime.now().time().strftime('%H:%M:%S')\n",
    "        mycursor.execute(\"INSERT INTO Logs (discount_id, new_value, sms, email, time) VALUES (%s,%s,%s,%s,%s)\", [discount_id, new_value, sms, email,current_time])\n",
    "        mydb.commit()"
   ]
  },
  {
   "cell_type": "code",
   "execution_count": null,
   "metadata": {},
   "outputs": [],
   "source": [
    "query = 'SELECT * FROM Logs'\n",
    "df = pd.read_sql(query, mydb)\n",
    "df"
   ]
  },
  {
   "cell_type": "markdown",
   "metadata": {},
   "source": [
    "## Phase 3 (kaptcha solver)"
   ]
  },
  {
   "cell_type": "markdown",
   "metadata": {},
   "source": [
    "- Database Tables of pahse 3\n",
    "- solve captcha using Selenium"
   ]
  },
  {
   "cell_type": "markdown",
   "metadata": {},
   "source": [
    "### 3-1.Captcha Database"
   ]
  },
  {
   "cell_type": "code",
   "execution_count": 20,
   "metadata": {},
   "outputs": [],
   "source": [
    "# Create Table Discounts for toplearn website\n",
    "mycursor.execute(\"CREATE TABLE Captchas (id INT AUTO_INCREMENT PRIMARY KEY, captcha_type VARCHAR(255), function_name VARCHAR(255))\")\n",
    "# Create Table Logs for discounts changes\n",
    "mycursor.execute(\"CREATE TABLE WebPages (id INT AUTO_INCREMENT PRIMARY KEY, page_name VARCHAR(255),URL VARCHAR(1023),captcha_xpath VARCHAR(255) ,login_status INT ,captcha_id INT, FOREIGN KEY (captcha_id) REFERENCES Captchas(id))\" )"
   ]
  },
  {
   "cell_type": "code",
   "execution_count": 19,
   "metadata": {},
   "outputs": [],
   "source": [
    "#mycursor.execute(\"DROP Table WebPages\")\n",
    "#mycursor.execute(\"DROP Table Captchas\")"
   ]
  },
  {
   "cell_type": "code",
   "execution_count": 32,
   "metadata": {},
   "outputs": [
    {
     "name": "stdout",
     "output_type": "stream",
     "text": [
      "('Captchas',)\n",
      "('Discounts',)\n",
      "('Logs',)\n",
      "('Registrations',)\n",
      "('Sessions',)\n",
      "('WebPages',)\n"
     ]
    }
   ],
   "source": [
    "show_tables()"
   ]
  },
  {
   "cell_type": "markdown",
   "metadata": {},
   "source": [
    "Adding some row into captchas database"
   ]
  },
  {
   "cell_type": "code",
   "execution_count": 22,
   "metadata": {},
   "outputs": [
    {
     "data": {
      "text/html": [
       "<div>\n",
       "<style scoped>\n",
       "    .dataframe tbody tr th:only-of-type {\n",
       "        vertical-align: middle;\n",
       "    }\n",
       "\n",
       "    .dataframe tbody tr th {\n",
       "        vertical-align: top;\n",
       "    }\n",
       "\n",
       "    .dataframe thead th {\n",
       "        text-align: right;\n",
       "    }\n",
       "</style>\n",
       "<table border=\"1\" class=\"dataframe\">\n",
       "  <thead>\n",
       "    <tr style=\"text-align: right;\">\n",
       "      <th></th>\n",
       "      <th>id</th>\n",
       "      <th>captcha_type</th>\n",
       "      <th>function_name</th>\n",
       "    </tr>\n",
       "  </thead>\n",
       "  <tbody>\n",
       "    <tr>\n",
       "      <th>0</th>\n",
       "      <td>1</td>\n",
       "      <td>literal</td>\n",
       "      <td>literal_solver</td>\n",
       "    </tr>\n",
       "    <tr>\n",
       "      <th>1</th>\n",
       "      <td>2</td>\n",
       "      <td>image-selection</td>\n",
       "      <td>image_selection_solver</td>\n",
       "    </tr>\n",
       "  </tbody>\n",
       "</table>\n",
       "</div>"
      ],
      "text/plain": [
       "   id     captcha_type           function_name\n",
       "0   1          literal          literal_solver\n",
       "1   2  image-selection  image_selection_solver"
      ]
     },
     "execution_count": 22,
     "metadata": {},
     "output_type": "execute_result"
    }
   ],
   "source": [
    "mycursor.execute(\"INSERT INTO Captchas (captcha_type, function_name ) VALUES (%s,%s)\", ['literal','literal_solver'])\n",
    "\n",
    "mycursor.execute(\"INSERT INTO Captchas (captcha_type, function_name ) VALUES (%s,%s)\", ['image-selection','image_selection_solver'])\n",
    "mydb.commit()\n",
    "query = 'SELECT * FROM Captchas'\n",
    "df = pd.read_sql(query, mydb)\n",
    "df"
   ]
  },
  {
   "cell_type": "markdown",
   "metadata": {},
   "source": [
    "Adding some row into webpage database"
   ]
  },
  {
   "cell_type": "code",
   "execution_count": 23,
   "metadata": {},
   "outputs": [
    {
     "data": {
      "text/html": [
       "<div>\n",
       "<style scoped>\n",
       "    .dataframe tbody tr th:only-of-type {\n",
       "        vertical-align: middle;\n",
       "    }\n",
       "\n",
       "    .dataframe tbody tr th {\n",
       "        vertical-align: top;\n",
       "    }\n",
       "\n",
       "    .dataframe thead th {\n",
       "        text-align: right;\n",
       "    }\n",
       "</style>\n",
       "<table border=\"1\" class=\"dataframe\">\n",
       "  <thead>\n",
       "    <tr style=\"text-align: right;\">\n",
       "      <th></th>\n",
       "      <th>id</th>\n",
       "      <th>page_name</th>\n",
       "      <th>URL</th>\n",
       "      <th>captcha_xpath</th>\n",
       "      <th>login_status</th>\n",
       "      <th>captcha_id</th>\n",
       "    </tr>\n",
       "  </thead>\n",
       "  <tbody>\n",
       "    <tr>\n",
       "      <th>0</th>\n",
       "      <td>1</td>\n",
       "      <td>7learn</td>\n",
       "      <td>https://7learn.com/auth?register</td>\n",
       "      <td>//*[@id=\"rc-imageselect\"]</td>\n",
       "      <td>1</td>\n",
       "      <td>2</td>\n",
       "    </tr>\n",
       "    <tr>\n",
       "      <th>1</th>\n",
       "      <td>2</td>\n",
       "      <td>toplearn</td>\n",
       "      <td>https://toplearn.com/Register</td>\n",
       "      <td>//*[@id=\"captcha-image\"]</td>\n",
       "      <td>0</td>\n",
       "      <td>1</td>\n",
       "    </tr>\n",
       "    <tr>\n",
       "      <th>2</th>\n",
       "      <td>3</td>\n",
       "      <td>Golestan-esfehan</td>\n",
       "      <td>https://golestan.ui.ac.ir/forms/authenticateus...</td>\n",
       "      <td>//*[@id=\"imgCaptcha\"]</td>\n",
       "      <td>0</td>\n",
       "      <td>1</td>\n",
       "    </tr>\n",
       "  </tbody>\n",
       "</table>\n",
       "</div>"
      ],
      "text/plain": [
       "   id         page_name                                                URL  \\\n",
       "0   1            7learn                   https://7learn.com/auth?register   \n",
       "1   2          toplearn                      https://toplearn.com/Register   \n",
       "2   3  Golestan-esfehan  https://golestan.ui.ac.ir/forms/authenticateus...   \n",
       "\n",
       "               captcha_xpath  login_status  captcha_id  \n",
       "0  //*[@id=\"rc-imageselect\"]             1           2  \n",
       "1   //*[@id=\"captcha-image\"]             0           1  \n",
       "2      //*[@id=\"imgCaptcha\"]             0           1  "
      ]
     },
     "execution_count": 23,
     "metadata": {},
     "output_type": "execute_result"
    }
   ],
   "source": [
    "mycursor.execute(\"INSERT INTO WebPages (page_name, URL, captcha_xpath, login_status, captcha_id) VALUES (%s,%s,%s,%s,%s)\", ['7learn','https://7learn.com/auth?register','//*[@id=\"rc-imageselect\"]',1,2])\n",
    "\n",
    "mycursor.execute(\"INSERT INTO WebPages (page_name, URL, captcha_xpath, login_status, captcha_id) VALUES (%s,%s,%s,%s,%s)\", ['toplearn','https://toplearn.com/Register','//*[@id=\"captcha-image\"]',0,1])\n",
    "\n",
    "mycursor.execute(\"INSERT INTO WebPages (page_name, URL, captcha_xpath, login_status, captcha_id) VALUES (%s,%s,%s,%s,%s)\", ['Golestan-esfehan','https://golestan.ui.ac.ir/forms/authenticateuser/main.htm','//*[@id=\"imgCaptcha\"]',0,1])\n",
    "mydb.commit()\n",
    "query = 'SELECT * FROM WebPages'\n",
    "df = pd.read_sql(query, mydb)\n",
    "df"
   ]
  },
  {
   "cell_type": "markdown",
   "metadata": {},
   "source": [
    "### 3-2.Solving captcha of Toplearn"
   ]
  },
  {
   "cell_type": "code",
   "execution_count": 52,
   "metadata": {},
   "outputs": [
    {
     "name": "stderr",
     "output_type": "stream",
     "text": [
      "/var/folders/bf/9616ns414yg2qn2p8czl2sr00000gn/T/ipykernel_21301/1816839210.py:24: DeprecationWarning: find_element_by_* commands are deprecated. Please use find_element() instead\n",
      "  driver.find_element_by_xpath(webpage[3]).click()\n"
     ]
    }
   ],
   "source": [
    "import time\n",
    "\n",
    "def solve_captcha(captcha_function):\n",
    "    if captcha_function == \"literal_solver\":\n",
    "        time.sleep(5)\n",
    "    else:\n",
    "        time.sleep(10)\n",
    "\n",
    "\n",
    "from selenium import webdriver\n",
    "from selenium.webdriver.firefox.service import Service\n",
    "from selenium.webdriver import Firefox\n",
    "\n",
    "path_to_geckodriver = '/Users/ngn/geckodriver'\n",
    "service = Service(path_to_geckodriver)\n",
    "driver = Firefox(service=service)\n",
    "\n",
    "# navigate to a webpage\n",
    "mycursor.execute(f\"SELECT * FROM WebPages WHERE id = {2}\")\n",
    "webpage = mycursor.fetchone()\n",
    "driver.get(webpage[2])\n",
    "\n",
    "# find captcha by xpath\n",
    "driver.find_element_by_xpath(webpage[3]).click()\n",
    "\n",
    "# solve captcha by knowing type and fetching script from DB\n",
    "query = f'''\n",
    "SELECT function_name\n",
    "FROM WebPages\n",
    "JOIN Captchas\n",
    "ON WebPages.captcha_id = Captchas.id\n",
    "WHERE WebPages.id = {2}\n",
    "'''\n",
    "\n",
    "# Execute the query and fetch the results\n",
    "mycursor.execute(query)\n",
    "captcha_function = mycursor.fetchone()[0]\n",
    "solve_captcha(captcha_function)\n",
    "\n",
    "driver.quit()"
   ]
  },
  {
   "cell_type": "code",
   "execution_count": 33,
   "metadata": {},
   "outputs": [
    {
     "data": {
      "text/html": [
       "<div>\n",
       "<style scoped>\n",
       "    .dataframe tbody tr th:only-of-type {\n",
       "        vertical-align: middle;\n",
       "    }\n",
       "\n",
       "    .dataframe tbody tr th {\n",
       "        vertical-align: top;\n",
       "    }\n",
       "\n",
       "    .dataframe thead th {\n",
       "        text-align: right;\n",
       "    }\n",
       "</style>\n",
       "<table border=\"1\" class=\"dataframe\">\n",
       "  <thead>\n",
       "    <tr style=\"text-align: right;\">\n",
       "      <th></th>\n",
       "      <th>id</th>\n",
       "      <th>page_name</th>\n",
       "      <th>URL</th>\n",
       "      <th>captcha_xpath</th>\n",
       "      <th>login_status</th>\n",
       "      <th>captcha_id</th>\n",
       "    </tr>\n",
       "  </thead>\n",
       "  <tbody>\n",
       "    <tr>\n",
       "      <th>0</th>\n",
       "      <td>1</td>\n",
       "      <td>7learn</td>\n",
       "      <td>https://7learn.com/auth?register</td>\n",
       "      <td>//*[@id=\"rc-imageselect\"]</td>\n",
       "      <td>1</td>\n",
       "      <td>2</td>\n",
       "    </tr>\n",
       "    <tr>\n",
       "      <th>1</th>\n",
       "      <td>2</td>\n",
       "      <td>toplearn</td>\n",
       "      <td>https://toplearn.com/Register</td>\n",
       "      <td>//*[@id=\"captcha-image\"]</td>\n",
       "      <td>0</td>\n",
       "      <td>1</td>\n",
       "    </tr>\n",
       "    <tr>\n",
       "      <th>2</th>\n",
       "      <td>3</td>\n",
       "      <td>Golestan-esfehan</td>\n",
       "      <td>https://golestan.ui.ac.ir/forms/authenticateus...</td>\n",
       "      <td>//*[@id=\"imgCaptcha\"]</td>\n",
       "      <td>0</td>\n",
       "      <td>1</td>\n",
       "    </tr>\n",
       "  </tbody>\n",
       "</table>\n",
       "</div>"
      ],
      "text/plain": [
       "   id         page_name                                                URL  \\\n",
       "0   1            7learn                   https://7learn.com/auth?register   \n",
       "1   2          toplearn                      https://toplearn.com/Register   \n",
       "2   3  Golestan-esfehan  https://golestan.ui.ac.ir/forms/authenticateus...   \n",
       "\n",
       "               captcha_xpath  login_status  captcha_id  \n",
       "0  //*[@id=\"rc-imageselect\"]             1           2  \n",
       "1   //*[@id=\"captcha-image\"]             0           1  \n",
       "2      //*[@id=\"imgCaptcha\"]             0           1  "
      ]
     },
     "execution_count": 33,
     "metadata": {},
     "output_type": "execute_result"
    }
   ],
   "source": [
    "query = 'SELECT * FROM WebPages'\n",
    "df = pd.read_sql(query, mydb)\n",
    "df"
   ]
  },
  {
   "cell_type": "markdown",
   "metadata": {},
   "source": [
    "## Phase 4 (Registration)"
   ]
  },
  {
   "cell_type": "markdown",
   "metadata": {},
   "source": [
    "- Gather list of name & family & ... into Database \n",
    "- Register with temp mail in sites have email verification"
   ]
  },
  {
   "cell_type": "markdown",
   "metadata": {},
   "source": [
    "### 4-1. Gather Data and store in DB"
   ]
  },
  {
   "cell_type": "code",
   "execution_count": 57,
   "metadata": {},
   "outputs": [],
   "source": [
    "mycursor.execute(\"DROP TABLE Registrations\")"
   ]
  },
  {
   "cell_type": "code",
   "execution_count": 58,
   "metadata": {},
   "outputs": [
    {
     "data": {
      "text/html": [
       "<div>\n",
       "<style scoped>\n",
       "    .dataframe tbody tr th:only-of-type {\n",
       "        vertical-align: middle;\n",
       "    }\n",
       "\n",
       "    .dataframe tbody tr th {\n",
       "        vertical-align: top;\n",
       "    }\n",
       "\n",
       "    .dataframe thead th {\n",
       "        text-align: right;\n",
       "    }\n",
       "</style>\n",
       "<table border=\"1\" class=\"dataframe\">\n",
       "  <thead>\n",
       "    <tr style=\"text-align: right;\">\n",
       "      <th></th>\n",
       "      <th>id</th>\n",
       "      <th>name</th>\n",
       "      <th>family</th>\n",
       "      <th>email</th>\n",
       "      <th>password</th>\n",
       "    </tr>\n",
       "  </thead>\n",
       "  <tbody>\n",
       "    <tr>\n",
       "      <th>0</th>\n",
       "      <td>1</td>\n",
       "      <td>سارا</td>\n",
       "      <td>گودرزی</td>\n",
       "      <td>None</td>\n",
       "      <td>None</td>\n",
       "    </tr>\n",
       "    <tr>\n",
       "      <th>1</th>\n",
       "      <td>2</td>\n",
       "      <td>احمد</td>\n",
       "      <td>علیفر</td>\n",
       "      <td>None</td>\n",
       "      <td>None</td>\n",
       "    </tr>\n",
       "    <tr>\n",
       "      <th>2</th>\n",
       "      <td>3</td>\n",
       "      <td>سعید</td>\n",
       "      <td>آقاخانی</td>\n",
       "      <td>None</td>\n",
       "      <td>None</td>\n",
       "    </tr>\n",
       "    <tr>\n",
       "      <th>3</th>\n",
       "      <td>4</td>\n",
       "      <td>ali</td>\n",
       "      <td>alavi</td>\n",
       "      <td>None</td>\n",
       "      <td>None</td>\n",
       "    </tr>\n",
       "    <tr>\n",
       "      <th>4</th>\n",
       "      <td>5</td>\n",
       "      <td>naghi</td>\n",
       "      <td>naghavi</td>\n",
       "      <td>None</td>\n",
       "      <td>None</td>\n",
       "    </tr>\n",
       "    <tr>\n",
       "      <th>5</th>\n",
       "      <td>6</td>\n",
       "      <td>taghi</td>\n",
       "      <td>taghavi</td>\n",
       "      <td>None</td>\n",
       "      <td>None</td>\n",
       "    </tr>\n",
       "  </tbody>\n",
       "</table>\n",
       "</div>"
      ],
      "text/plain": [
       "   id   name   family email password\n",
       "0   1   سارا   گودرزی  None     None\n",
       "1   2   احمد    علیفر  None     None\n",
       "2   3   سعید  آقاخانی  None     None\n",
       "3   4    ali    alavi  None     None\n",
       "4   5  naghi  naghavi  None     None\n",
       "5   6  taghi  taghavi  None     None"
      ]
     },
     "execution_count": 58,
     "metadata": {},
     "output_type": "execute_result"
    }
   ],
   "source": [
    "# Create Table Registrations for toplearn website\n",
    "mycursor.execute(\"CREATE TABLE Registrations (id INT AUTO_INCREMENT PRIMARY KEY, name VARCHAR(255), family VARCHAR(255), email VARCHAR(255), password VARCHAR(255))\")\n",
    "\n",
    "# create a list of tuples containing the data to insert\n",
    "data = [\n",
    "  ('سارا', 'گودرزی'),\n",
    "  ('احمد', 'علیفر'),\n",
    "  ('سعید', 'آقاخانی'),\n",
    "  ('ali', 'alavi'),\n",
    "  ('naghi', 'naghavi'),\n",
    "  ('taghi', 'taghavi')\n",
    "]\n",
    "# define the SQL query to insert data into the table\n",
    "sql = \"INSERT INTO Registrations (name, family) VALUES (%s, %s)\"\n",
    "mycursor.executemany(sql, data)\n",
    "mydb.commit()\n",
    "query = 'SELECT * FROM Registrations'\n",
    "pd.read_sql(query, mydb)"
   ]
  },
  {
   "cell_type": "markdown",
   "metadata": {},
   "source": [
    "### 4-2. Register in site"
   ]
  },
  {
   "cell_type": "markdown",
   "metadata": {},
   "source": [
    "#### 4-2-1. Toplearn \n",
    "- email\n",
    "- password\n",
    "- confirm-password"
   ]
  },
  {
   "cell_type": "code",
   "execution_count": 112,
   "metadata": {},
   "outputs": [
    {
     "name": "stderr",
     "output_type": "stream",
     "text": [
      "/var/folders/bf/9616ns414yg2qn2p8czl2sr00000gn/T/ipykernel_21301/835673666.py:22: DeprecationWarning: find_element_by_* commands are deprecated. Please use find_element() instead\n",
      "  driver.find_element_by_xpath('/html/body/section[1]/div[2]/div/div[4]/a[1]').click()\n",
      "/var/folders/bf/9616ns414yg2qn2p8czl2sr00000gn/T/ipykernel_21301/835673666.py:39: DeprecationWarning: find_element_by_* commands are deprecated. Please use find_element() instead\n",
      "  input_element = driver.find_element_by_xpath('//*[@id=\"Email\"]')\n",
      "/var/folders/bf/9616ns414yg2qn2p8czl2sr00000gn/T/ipykernel_21301/835673666.py:51: DeprecationWarning: find_element_by_* commands are deprecated. Please use find_element() instead\n",
      "  driver.find_element_by_xpath('//*[@id=\"Password\"]').send_keys('skdjbjds54')\n",
      "/var/folders/bf/9616ns414yg2qn2p8czl2sr00000gn/T/ipykernel_21301/835673666.py:52: DeprecationWarning: find_element_by_* commands are deprecated. Please use find_element() instead\n",
      "  driver.find_element_by_xpath('//*[@id=\"ConfirmPassword\"]').send_keys('skdjbjds54')\n",
      "/var/folders/bf/9616ns414yg2qn2p8czl2sr00000gn/T/ipykernel_21301/835673666.py:66: DeprecationWarning: find_element_by_* commands are deprecated. Please use find_element() instead\n",
      "  driver.find_element_by_xpath('/html/body/div[2]/div/div/div/form/div[2]/div[8]/button').click()\n",
      "/var/folders/bf/9616ns414yg2qn2p8czl2sr00000gn/T/ipykernel_21301/835673666.py:70: DeprecationWarning: find_element_by_* commands are deprecated. Please use find_element() instead\n",
      "  driver.find_element_by_xpath('/html/body/div[3]/div/div[3]/button[1]').click()\n",
      "/var/folders/bf/9616ns414yg2qn2p8czl2sr00000gn/T/ipykernel_21301/835673666.py:75: DeprecationWarning: find_element_by_* commands are deprecated. Please use find_element() instead\n",
      "  input_element = driver.find_element_by_xpath('//*[@id=\"EmailOrMobilePhone\"]')\n",
      "/var/folders/bf/9616ns414yg2qn2p8czl2sr00000gn/T/ipykernel_21301/835673666.py:84: DeprecationWarning: find_element_by_* commands are deprecated. Please use find_element() instead\n",
      "  driver.find_element_by_css_selector(\"ul.mailler li:nth-child(2)\")\n"
     ]
    }
   ],
   "source": [
    "from selenium import webdriver\n",
    "from selenium.webdriver.firefox.service import Service\n",
    "from selenium.webdriver import Firefox\n",
    "import time\n",
    "from selenium.webdriver.common.by import By\n",
    "from selenium.webdriver.support.ui import WebDriverWait\n",
    "from selenium.webdriver.support import expected_conditions as EC\n",
    "from selenium.webdriver.common.keys import Keys\n",
    "from selenium.webdriver.common.action_chains import ActionChains\n",
    "import pyperclip\n",
    "\n",
    "path_to_geckodriver = '/Users/ngn/geckodriver'\n",
    "service = Service(path_to_geckodriver)\n",
    "driver = Firefox(service=service)\n",
    "\n",
    "# navigate to temp mail webpage\n",
    "driver.get('https://tempail.com/en/')\n",
    "time.sleep(10)\n",
    "\n",
    "driver.find_element_by_xpath('/html/body/section[1]/div[2]/div/div[4]/a[1]').click()\n",
    "\n",
    "# switch to the new tab for toplearn webpage\n",
    "driver.execute_script(\"window.open('');\")\n",
    "driver.switch_to.window(driver.window_handles[-1])\n",
    "driver.get(\"https://toplearn.com/Register\")\n",
    "\n",
    "\n",
    "# Put information for registration\n",
    "\n",
    "# Get clipboard data\n",
    "text = pyperclip.paste()\n",
    "\n",
    "# find the input element to paste the text into\n",
    "input_element = driver.find_element_by_xpath('//*[@id=\"Email\"]')\n",
    "\n",
    "# click on the input element to focus it\n",
    "input_element.click()\n",
    "\n",
    "# use ActionChains to simulate a keyboard shortcut for pasting\n",
    "ActionChains(driver).key_down(Keys.COMMAND).send_keys('v').key_up(Keys.COMMAND).perform()\n",
    "\n",
    "# enter the pasted text into the input element\n",
    "# input_element.send_keys(text)\n",
    "\n",
    "# Enter password\n",
    "driver.find_element_by_xpath('//*[@id=\"Password\"]').send_keys('skdjbjds54')\n",
    "driver.find_element_by_xpath('//*[@id=\"ConfirmPassword\"]').send_keys('skdjbjds54')\n",
    "\n",
    "# waiting for solve captcha\n",
    "time.sleep(15)\n",
    "\n",
    "# submit\n",
    "# driver.find_element_by_xpath('/html/body/div[2]/div/div/div/form/div[2]/div[8]/button').click()\n",
    "\n",
    "# checkbox = WebDriverWait(driver, 5).until(EC.element_to_be_clickable((By.XPATH, '//*[@id=\"AcceptRules\"]')))\n",
    "# checkbox = driver.find_element_by_xpath('//*[@id=\"AcceptRules\"]')\n",
    "# After this you should check the checkbox and click on the button at the bottom\n",
    "\n",
    "\n",
    "# submit\n",
    "driver.find_element_by_xpath('/html/body/div[2]/div/div/div/form/div[2]/div[8]/button').click()\n",
    "time.sleep(3)\n",
    "\n",
    "# ok button\n",
    "driver.find_element_by_xpath('/html/body/div[3]/div/div[3]/button[1]').click()\n",
    "time.sleep(2)\n",
    "\n",
    "# Login\n",
    "# enter email\n",
    "input_element = driver.find_element_by_xpath('//*[@id=\"EmailOrMobilePhone\"]')\n",
    "input_element.click()\n",
    "ActionChains(driver).key_down(Keys.COMMAND).send_keys('v').key_up(Keys.COMMAND).perform()\n",
    "\n",
    "# open email tab\n",
    "driver.switch_to.window(driver.window_handles[0])\n",
    "\n",
    "# click on Inbox\n",
    "#driver.find_element_by_xpath('/html/body/section[2]/div/div/div/ul/li[2]/a/div[3]').click()\n",
    "driver.find_element_by_css_selector(\"ul.mailler li:nth-child(2)\")\n",
    "time.sleep(5)\n",
    "\n",
    "# click on remove ads\n",
    "driver.find_element_by_css_selector(\"ul.mailler li:nth-child(2)\").click()\n",
    "# click on verification link\n",
    "# solve captcha and submit\n"
   ]
  },
  {
   "cell_type": "code",
   "execution_count": 116,
   "metadata": {},
   "outputs": [],
   "source": [
    "driver.quit()"
   ]
  },
  {
   "cell_type": "markdown",
   "metadata": {},
   "source": [
    "#### 4-2-2.Github\n",
    "- email\n",
    "- password\n",
    "- username\n",
    "- y/n question\n",
    "- captcha"
   ]
  },
  {
   "cell_type": "code",
   "execution_count": null,
   "metadata": {},
   "outputs": [],
   "source": [
    "path_to_geckodriver = '/Users/ngn/geckodriver'\n",
    "service = Service(path_to_geckodriver)\n",
    "driver = Firefox(service=service)\n",
    "\n",
    "# navigate to temp mail webpage\n",
    "driver.get('https://tempail.com/en/')\n",
    "time.sleep(10)\n",
    "\n",
    "driver.find_element_by_xpath('/html/body/section[1]/div[2]/div/div[4]/a[1]').click()\n",
    "\n",
    "# switch to the new tab for toplearn webpage\n",
    "driver.execute_script(\"window.open('');\")\n",
    "driver.switch_to.window(driver.window_handles[-1])\n",
    "driver.get(\"https://github.com/signup?ref_cta=Sign+up&ref_loc=header+logged+out&ref_page=%2F&source=header-home\")\n",
    "\n",
    "\n",
    "# Put information for registration\n",
    "# email\n",
    "input_element = driver.find_element_by_xpath('//*[@id=\"email\"]')\n",
    "input_element.click()\n",
    "ActionChains(driver).key_down(Keys.COMMAND).send_keys('v').key_up(Keys.COMMAND).perform()\n",
    "driver.find_element_by_xpath('//*[@id=\"email-container\"]/div[2]/button').click()\n",
    "\n",
    "# password\n",
    "driver.find_element_by_xpath('//*[@id=\"password\"]').send_keys('JSBjasb6253@')\n",
    "driver.find_element_by_xpath('//*[@id=\"password-container\"]/div[2]/button').click()\n",
    "\n",
    "# username\n",
    "mycursor.execute(f\"SELECT name,family FROM Registrations WHERE id = {5}\")\n",
    "user = mycursor.fetchone()\n",
    "driver.find_element_by_xpath('//*[@id=\"login\"]').send_keys(str(user[0]+'_'+user[1]))\n",
    "driver.find_element_by_xpath('//*[@id=\"username-container\"]/div[2]/button').click()\n",
    "\n",
    "# y/n question\n",
    "driver.find_element_by_xpath('//*[@id=\"opt_in\"]').send_keys('n')\n",
    "driver.find_element_by_xpath('//*[@id=\"opt-in-container\"]/div[2]/button').click()\n",
    "\n",
    "# solve captcha\n",
    "# submit\n",
    "\n",
    "driver.quit()"
   ]
  },
  {
   "cell_type": "markdown",
   "metadata": {},
   "source": [
    "## Phase 5 (Fill form)"
   ]
  },
  {
   "cell_type": "markdown",
   "metadata": {},
   "source": [
    "- calendar    \n",
    "- text    \n",
    "- drop down   \n",
    "- checkbox    \n",
    "- click button (for example any follow button in instagram followers list)"
   ]
  },
  {
   "cell_type": "code",
   "execution_count": 39,
   "metadata": {},
   "outputs": [
    {
     "name": "stderr",
     "output_type": "stream",
     "text": [
      "/var/folders/bf/9616ns414yg2qn2p8czl2sr00000gn/T/ipykernel_14354/2702899285.py:7: DeprecationWarning: find_element_by_* commands are deprecated. Please use find_element() instead\n",
      "  driver.find_element_by_xpath('/html/body/header/div[1]/div[3]/dropdown-cta/div').click()\n",
      "/var/folders/bf/9616ns414yg2qn2p8czl2sr00000gn/T/ipykernel_14354/2702899285.py:8: DeprecationWarning: find_element_by_* commands are deprecated. Please use find_element() instead\n",
      "  driver.find_element_by_xpath('/html/body/header/div[1]/div[3]/dropdown-cta/a[1]').click()\n",
      "/var/folders/bf/9616ns414yg2qn2p8czl2sr00000gn/T/ipykernel_14354/2702899285.py:9: DeprecationWarning: find_element_by_* commands are deprecated. Please use find_element() instead\n",
      "  driver.find_element_by_xpath('/html/body/div[1]/div[1]/div[2]/div[1]/div[2]/div/div/div[2]/div/div[1]/div/form/span/section/div/div/div[3]/div[3]/div/div[1]/div/div/div[1]/div').click()\n"
     ]
    },
    {
     "ename": "NoSuchElementException",
     "evalue": "Message: Unable to locate element: /html/body/div[1]/div[1]/div[2]/div[1]/div[2]/div/div/div[2]/div/div[1]/div/form/span/section/div/div/div[3]/div[3]/div/div[1]/div/div/div[1]/div\nStacktrace:\nRemoteError@chrome://remote/content/shared/RemoteError.sys.mjs:8:8\nWebDriverError@chrome://remote/content/shared/webdriver/Errors.sys.mjs:180:5\nNoSuchElementError@chrome://remote/content/shared/webdriver/Errors.sys.mjs:392:5\nelement.find/</<@chrome://remote/content/marionette/element.sys.mjs:134:16\n",
     "output_type": "error",
     "traceback": [
      "\u001b[0;31m---------------------------------------------------------------------------\u001b[0m",
      "\u001b[0;31mNoSuchElementException\u001b[0m                    Traceback (most recent call last)",
      "\u001b[1;32m/Users/ngn/Documents/uni/Term 8/DBLAB/neew/Databas-Labratory/Untitled-1.ipynb Cell 53\u001b[0m in \u001b[0;36m<cell line: 9>\u001b[0;34m()\u001b[0m\n\u001b[1;32m      <a href='vscode-notebook-cell:/Users/ngn/Documents/uni/Term%208/DBLAB/neew/Databas-Labratory/Untitled-1.ipynb#Y106sZmlsZQ%3D%3D?line=6'>7</a>\u001b[0m driver\u001b[39m.\u001b[39mfind_element_by_xpath(\u001b[39m'\u001b[39m\u001b[39m/html/body/header/div[1]/div[3]/dropdown-cta/div\u001b[39m\u001b[39m'\u001b[39m)\u001b[39m.\u001b[39mclick()\n\u001b[1;32m      <a href='vscode-notebook-cell:/Users/ngn/Documents/uni/Term%208/DBLAB/neew/Databas-Labratory/Untitled-1.ipynb#Y106sZmlsZQ%3D%3D?line=7'>8</a>\u001b[0m driver\u001b[39m.\u001b[39mfind_element_by_xpath(\u001b[39m'\u001b[39m\u001b[39m/html/body/header/div[1]/div[3]/dropdown-cta/a[1]\u001b[39m\u001b[39m'\u001b[39m)\u001b[39m.\u001b[39mclick()\n\u001b[0;32m----> <a href='vscode-notebook-cell:/Users/ngn/Documents/uni/Term%208/DBLAB/neew/Databas-Labratory/Untitled-1.ipynb#Y106sZmlsZQ%3D%3D?line=8'>9</a>\u001b[0m driver\u001b[39m.\u001b[39;49mfind_element_by_xpath(\u001b[39m'\u001b[39;49m\u001b[39m/html/body/div[1]/div[1]/div[2]/div[1]/div[2]/div/div/div[2]/div/div[1]/div/form/span/section/div/div/div[3]/div[3]/div/div[1]/div/div/div[1]/div\u001b[39;49m\u001b[39m'\u001b[39;49m)\u001b[39m.\u001b[39mclick()\n",
      "File \u001b[0;32m/Library/Frameworks/Python.framework/Versions/3.8/lib/python3.8/site-packages/selenium/webdriver/remote/webdriver.py:514\u001b[0m, in \u001b[0;36mWebDriver.find_element_by_xpath\u001b[0;34m(self, xpath)\u001b[0m\n\u001b[1;32m    492\u001b[0m \u001b[39m\"\"\"\u001b[39;00m\n\u001b[1;32m    493\u001b[0m \u001b[39mFinds an element by xpath.\u001b[39;00m\n\u001b[1;32m    494\u001b[0m \n\u001b[0;32m   (...)\u001b[0m\n\u001b[1;32m    507\u001b[0m \u001b[39m        element = driver.find_element_by_xpath('//div/td[1]')\u001b[39;00m\n\u001b[1;32m    508\u001b[0m \u001b[39m\"\"\"\u001b[39;00m\n\u001b[1;32m    509\u001b[0m warnings\u001b[39m.\u001b[39mwarn(\n\u001b[1;32m    510\u001b[0m     \u001b[39m\"\u001b[39m\u001b[39mfind_element_by_* commands are deprecated. Please use find_element() instead\u001b[39m\u001b[39m\"\u001b[39m,\n\u001b[1;32m    511\u001b[0m     \u001b[39mDeprecationWarning\u001b[39;00m,\n\u001b[1;32m    512\u001b[0m     stacklevel\u001b[39m=\u001b[39m\u001b[39m2\u001b[39m,\n\u001b[1;32m    513\u001b[0m )\n\u001b[0;32m--> 514\u001b[0m \u001b[39mreturn\u001b[39;00m \u001b[39mself\u001b[39;49m\u001b[39m.\u001b[39;49mfind_element(by\u001b[39m=\u001b[39;49mBy\u001b[39m.\u001b[39;49mXPATH, value\u001b[39m=\u001b[39;49mxpath)\n",
      "File \u001b[0;32m/Library/Frameworks/Python.framework/Versions/3.8/lib/python3.8/site-packages/selenium/webdriver/remote/webdriver.py:1238\u001b[0m, in \u001b[0;36mWebDriver.find_element\u001b[0;34m(self, by, value)\u001b[0m\n\u001b[1;32m   1235\u001b[0m     by \u001b[39m=\u001b[39m By\u001b[39m.\u001b[39mCSS_SELECTOR\n\u001b[1;32m   1236\u001b[0m     value \u001b[39m=\u001b[39m \u001b[39m'\u001b[39m\u001b[39m[name=\u001b[39m\u001b[39m\"\u001b[39m\u001b[39m%s\u001b[39;00m\u001b[39m\"\u001b[39m\u001b[39m]\u001b[39m\u001b[39m'\u001b[39m \u001b[39m%\u001b[39m value\n\u001b[0;32m-> 1238\u001b[0m \u001b[39mreturn\u001b[39;00m \u001b[39mself\u001b[39;49m\u001b[39m.\u001b[39;49mexecute(Command\u001b[39m.\u001b[39;49mFIND_ELEMENT, {\n\u001b[1;32m   1239\u001b[0m     \u001b[39m'\u001b[39;49m\u001b[39musing\u001b[39;49m\u001b[39m'\u001b[39;49m: by,\n\u001b[1;32m   1240\u001b[0m     \u001b[39m'\u001b[39;49m\u001b[39mvalue\u001b[39;49m\u001b[39m'\u001b[39;49m: value})[\u001b[39m'\u001b[39m\u001b[39mvalue\u001b[39m\u001b[39m'\u001b[39m]\n",
      "File \u001b[0;32m/Library/Frameworks/Python.framework/Versions/3.8/lib/python3.8/site-packages/selenium/webdriver/remote/webdriver.py:418\u001b[0m, in \u001b[0;36mWebDriver.execute\u001b[0;34m(self, driver_command, params)\u001b[0m\n\u001b[1;32m    416\u001b[0m response \u001b[39m=\u001b[39m \u001b[39mself\u001b[39m\u001b[39m.\u001b[39mcommand_executor\u001b[39m.\u001b[39mexecute(driver_command, params)\n\u001b[1;32m    417\u001b[0m \u001b[39mif\u001b[39;00m response:\n\u001b[0;32m--> 418\u001b[0m     \u001b[39mself\u001b[39;49m\u001b[39m.\u001b[39;49merror_handler\u001b[39m.\u001b[39;49mcheck_response(response)\n\u001b[1;32m    419\u001b[0m     response[\u001b[39m'\u001b[39m\u001b[39mvalue\u001b[39m\u001b[39m'\u001b[39m] \u001b[39m=\u001b[39m \u001b[39mself\u001b[39m\u001b[39m.\u001b[39m_unwrap_value(\n\u001b[1;32m    420\u001b[0m         response\u001b[39m.\u001b[39mget(\u001b[39m'\u001b[39m\u001b[39mvalue\u001b[39m\u001b[39m'\u001b[39m, \u001b[39mNone\u001b[39;00m))\n\u001b[1;32m    421\u001b[0m     \u001b[39mreturn\u001b[39;00m response\n",
      "File \u001b[0;32m/Library/Frameworks/Python.framework/Versions/3.8/lib/python3.8/site-packages/selenium/webdriver/remote/errorhandler.py:243\u001b[0m, in \u001b[0;36mErrorHandler.check_response\u001b[0;34m(self, response)\u001b[0m\n\u001b[1;32m    241\u001b[0m         alert_text \u001b[39m=\u001b[39m value[\u001b[39m'\u001b[39m\u001b[39malert\u001b[39m\u001b[39m'\u001b[39m]\u001b[39m.\u001b[39mget(\u001b[39m'\u001b[39m\u001b[39mtext\u001b[39m\u001b[39m'\u001b[39m)\n\u001b[1;32m    242\u001b[0m     \u001b[39mraise\u001b[39;00m exception_class(message, screen, stacktrace, alert_text)  \u001b[39m# type: ignore[call-arg]  # mypy is not smart enough here\u001b[39;00m\n\u001b[0;32m--> 243\u001b[0m \u001b[39mraise\u001b[39;00m exception_class(message, screen, stacktrace)\n",
      "\u001b[0;31mNoSuchElementException\u001b[0m: Message: Unable to locate element: /html/body/div[1]/div[1]/div[2]/div[1]/div[2]/div/div/div[2]/div/div[1]/div/form/span/section/div/div/div[3]/div[3]/div/div[1]/div/div/div[1]/div\nStacktrace:\nRemoteError@chrome://remote/content/shared/RemoteError.sys.mjs:8:8\nWebDriverError@chrome://remote/content/shared/webdriver/Errors.sys.mjs:180:5\nNoSuchElementError@chrome://remote/content/shared/webdriver/Errors.sys.mjs:392:5\nelement.find/</<@chrome://remote/content/marionette/element.sys.mjs:134:16\n"
     ]
    }
   ],
   "source": [
    "# path_to_geckodriver = '/Users/ngn/geckodriver'\n",
    "# service = Service(path_to_geckodriver)\n",
    "# driver = Firefox(service=service)\n",
    "\n",
    "# # navigate to temp mail webpage\n",
    "# driver.get('https://calendar.google.com/calendar/')\n",
    "# driver.find_element_by_xpath('/html/body/header/div[1]/div[3]/dropdown-cta/div').click()\n",
    "# driver.find_element_by_xpath('/html/body/header/div[1]/div[3]/dropdown-cta/a[1]').click()\n",
    "# driver.find_element_by_xpath('/html/body/div[1]/div[1]/div[2]/div[1]/div[2]/div/div/div[2]/div/div[1]/div/form/span/section/div/div/div[3]/div[3]/div/div[1]/div/div/div[1]/div').click()"
   ]
  },
  {
   "cell_type": "markdown",
   "metadata": {},
   "source": [
    "Creat Tables\n",
    "- TypeAddress\n",
    "- Webs\n",
    "- Elements"
   ]
  },
  {
   "cell_type": "code",
   "execution_count": 10,
   "metadata": {},
   "outputs": [],
   "source": [
    "mycursor.execute(\"CREATE TABLE TypeAddress (id INT AUTO_INCREMENT PRIMARY KEY, type VARCHAR(255))\" )\n",
    "\n",
    "mycursor.execute(\"CREATE TABLE Webs (id INT AUTO_INCREMENT PRIMARY KEY, name VARCHAR(255), url VARCHAR(1024))\" )\n",
    "\n",
    "query = '''\n",
    "CREATE TABLE Elements (id INT AUTO_INCREMENT PRIMARY KEY,\n",
    "element VARCHAR(1024),\n",
    "web_id INT,\n",
    "type_id INT,\n",
    "value VARCHAR(1023),\n",
    "FOREIGN KEY (web_id) REFERENCES Webs(id),\n",
    "FOREIGN KEY (type_id) REFERENCES TypeAddress(id))\n",
    "'''\n",
    "mycursor.execute(query)"
   ]
  },
  {
   "cell_type": "markdown",
   "metadata": {},
   "source": [
    "Table TypeAddress"
   ]
  },
  {
   "cell_type": "code",
   "execution_count": 15,
   "metadata": {},
   "outputs": [
    {
     "data": {
      "text/html": [
       "<div>\n",
       "<style scoped>\n",
       "    .dataframe tbody tr th:only-of-type {\n",
       "        vertical-align: middle;\n",
       "    }\n",
       "\n",
       "    .dataframe tbody tr th {\n",
       "        vertical-align: top;\n",
       "    }\n",
       "\n",
       "    .dataframe thead th {\n",
       "        text-align: right;\n",
       "    }\n",
       "</style>\n",
       "<table border=\"1\" class=\"dataframe\">\n",
       "  <thead>\n",
       "    <tr style=\"text-align: right;\">\n",
       "      <th></th>\n",
       "      <th>id</th>\n",
       "      <th>type</th>\n",
       "    </tr>\n",
       "  </thead>\n",
       "  <tbody>\n",
       "    <tr>\n",
       "      <th>0</th>\n",
       "      <td>1</td>\n",
       "      <td>Xpath</td>\n",
       "    </tr>\n",
       "    <tr>\n",
       "      <th>1</th>\n",
       "      <td>2</td>\n",
       "      <td>CSS-selector</td>\n",
       "    </tr>\n",
       "    <tr>\n",
       "      <th>2</th>\n",
       "      <td>3</td>\n",
       "      <td>CSS-path</td>\n",
       "    </tr>\n",
       "  </tbody>\n",
       "</table>\n",
       "</div>"
      ],
      "text/plain": [
       "   id          type\n",
       "0   1         Xpath\n",
       "1   2  CSS-selector\n",
       "2   3      CSS-path"
      ]
     },
     "execution_count": 15,
     "metadata": {},
     "output_type": "execute_result"
    }
   ],
   "source": [
    "import pandas as pd\n",
    "mycursor.execute(\"INSERT INTO TypeAddress (type) VALUES (%s)\", ['Xpath'])\n",
    "mycursor.execute(\"INSERT INTO TypeAddress (type) VALUES (%s)\", ['CSS-selector'])\n",
    "mycursor.execute(\"INSERT INTO TypeAddress (type) VALUES (%s)\", ['CSS-path'])\n",
    "mydb.commit()\n",
    "query = 'SELECT * FROM TypeAddress'\n",
    "df = pd.read_sql(query, mydb)\n",
    "df"
   ]
  },
  {
   "cell_type": "code",
   "execution_count": 9,
   "metadata": {},
   "outputs": [],
   "source": [
    "# mycursor.execute('DROP TABLE Elements')\n",
    "# mycursor.execute('DROP TABLE Webs')\n",
    "# mycursor.execute('DROP TABLE TypeAddress')"
   ]
  },
  {
   "cell_type": "markdown",
   "metadata": {},
   "source": [
    "Table Webs"
   ]
  },
  {
   "cell_type": "code",
   "execution_count": 14,
   "metadata": {},
   "outputs": [
    {
     "data": {
      "text/html": [
       "<div>\n",
       "<style scoped>\n",
       "    .dataframe tbody tr th:only-of-type {\n",
       "        vertical-align: middle;\n",
       "    }\n",
       "\n",
       "    .dataframe tbody tr th {\n",
       "        vertical-align: top;\n",
       "    }\n",
       "\n",
       "    .dataframe thead th {\n",
       "        text-align: right;\n",
       "    }\n",
       "</style>\n",
       "<table border=\"1\" class=\"dataframe\">\n",
       "  <thead>\n",
       "    <tr style=\"text-align: right;\">\n",
       "      <th></th>\n",
       "      <th>id</th>\n",
       "      <th>name</th>\n",
       "      <th>url</th>\n",
       "    </tr>\n",
       "  </thead>\n",
       "  <tbody>\n",
       "    <tr>\n",
       "      <th>0</th>\n",
       "      <td>1</td>\n",
       "      <td>Toplearn</td>\n",
       "      <td>https://toplearn.com/Register</td>\n",
       "    </tr>\n",
       "    <tr>\n",
       "      <th>1</th>\n",
       "      <td>2</td>\n",
       "      <td>Github</td>\n",
       "      <td>https://github.com/signup?ref_cta=Sign+up&amp;ref_...</td>\n",
       "    </tr>\n",
       "    <tr>\n",
       "      <th>2</th>\n",
       "      <td>3</td>\n",
       "      <td>Tempmail</td>\n",
       "      <td>https://tempail.com/en/</td>\n",
       "    </tr>\n",
       "    <tr>\n",
       "      <th>3</th>\n",
       "      <td>4</td>\n",
       "      <td>GoogleCalender</td>\n",
       "      <td>https://calendar.google.com/calendar/</td>\n",
       "    </tr>\n",
       "  </tbody>\n",
       "</table>\n",
       "</div>"
      ],
      "text/plain": [
       "   id            name                                                url\n",
       "0   1        Toplearn                      https://toplearn.com/Register\n",
       "1   2          Github  https://github.com/signup?ref_cta=Sign+up&ref_...\n",
       "2   3        Tempmail                            https://tempail.com/en/\n",
       "3   4  GoogleCalender              https://calendar.google.com/calendar/"
      ]
     },
     "execution_count": 14,
     "metadata": {},
     "output_type": "execute_result"
    }
   ],
   "source": [
    "\n",
    "mycursor.execute(\"INSERT INTO Webs (name,url) VALUES (%s,%s)\", ['Toplearn','https://toplearn.com/Register'])\n",
    "mycursor.execute(\"INSERT INTO Webs (name,url) VALUES (%s,%s)\", ['Github','https://github.com/signup?ref_cta=Sign+up&ref_loc=header+logged+out&ref_page=%2F&source=header-home'])\n",
    "mycursor.execute(\"INSERT INTO Webs (name,url) VALUES (%s,%s)\", ['Tempmail','https://tempail.com/en/'])\n",
    "mycursor.execute(\"INSERT INTO Webs (name,url) VALUES (%s,%s)\", ['GoogleCalender','https://calendar.google.com/calendar/'])\n",
    "mydb.commit()\n",
    "query = 'SELECT * FROM Webs'\n",
    "df = pd.read_sql(query, mydb)\n",
    "df"
   ]
  },
  {
   "cell_type": "markdown",
   "metadata": {},
   "source": [
    "Table Elements"
   ]
  },
  {
   "cell_type": "code",
   "execution_count": 20,
   "metadata": {},
   "outputs": [
    {
     "data": {
      "text/html": [
       "<div>\n",
       "<style scoped>\n",
       "    .dataframe tbody tr th:only-of-type {\n",
       "        vertical-align: middle;\n",
       "    }\n",
       "\n",
       "    .dataframe tbody tr th {\n",
       "        vertical-align: top;\n",
       "    }\n",
       "\n",
       "    .dataframe thead th {\n",
       "        text-align: right;\n",
       "    }\n",
       "</style>\n",
       "<table border=\"1\" class=\"dataframe\">\n",
       "  <thead>\n",
       "    <tr style=\"text-align: right;\">\n",
       "      <th></th>\n",
       "      <th>id</th>\n",
       "      <th>element</th>\n",
       "      <th>web_id</th>\n",
       "      <th>type_id</th>\n",
       "      <th>value</th>\n",
       "    </tr>\n",
       "  </thead>\n",
       "  <tbody>\n",
       "    <tr>\n",
       "      <th>0</th>\n",
       "      <td>1</td>\n",
       "      <td>input</td>\n",
       "      <td>1</td>\n",
       "      <td>1</td>\n",
       "      <td>//*[@id=\"Email\"]</td>\n",
       "    </tr>\n",
       "    <tr>\n",
       "      <th>1</th>\n",
       "      <td>2</td>\n",
       "      <td>button</td>\n",
       "      <td>1</td>\n",
       "      <td>1</td>\n",
       "      <td>/html/body/div[2]/div/div/div/form/div[2]/div[...</td>\n",
       "    </tr>\n",
       "    <tr>\n",
       "      <th>2</th>\n",
       "      <td>3</td>\n",
       "      <td>button</td>\n",
       "      <td>3</td>\n",
       "      <td>2</td>\n",
       "      <td>ul.mailler li:nth-child(2)</td>\n",
       "    </tr>\n",
       "    <tr>\n",
       "      <th>3</th>\n",
       "      <td>4</td>\n",
       "      <td>dropdown</td>\n",
       "      <td>4</td>\n",
       "      <td>1</td>\n",
       "      <td>/html/body/div[1]/div[1]/div[2]/div[1]/div[2]/...</td>\n",
       "    </tr>\n",
       "    <tr>\n",
       "      <th>4</th>\n",
       "      <td>5</td>\n",
       "      <td>checkbox</td>\n",
       "      <td>1</td>\n",
       "      <td>3</td>\n",
       "      <td>html.js.flexbox.flexboxlegacy.canvas.canvastex...</td>\n",
       "    </tr>\n",
       "  </tbody>\n",
       "</table>\n",
       "</div>"
      ],
      "text/plain": [
       "   id   element  web_id  type_id  \\\n",
       "0   1     input       1        1   \n",
       "1   2    button       1        1   \n",
       "2   3    button       3        2   \n",
       "3   4  dropdown       4        1   \n",
       "4   5  checkbox       1        3   \n",
       "\n",
       "                                               value  \n",
       "0                                   //*[@id=\"Email\"]  \n",
       "1  /html/body/div[2]/div/div/div/form/div[2]/div[...  \n",
       "2                         ul.mailler li:nth-child(2)  \n",
       "3  /html/body/div[1]/div[1]/div[2]/div[1]/div[2]/...  \n",
       "4  html.js.flexbox.flexboxlegacy.canvas.canvastex...  "
      ]
     },
     "execution_count": 20,
     "metadata": {},
     "output_type": "execute_result"
    }
   ],
   "source": [
    "mycursor.execute(\"INSERT INTO Elements (web_id,element,type_id,value) VALUES (%s,%s,%s,%s)\", [1,'input',1,'//*[@id=\"Email\"]'])\n",
    "mycursor.execute(\"INSERT INTO Elements (web_id,element,type_id,value) VALUES (%s,%s,%s,%s)\", [1,'button',1,'/html/body/div[2]/div/div/div/form/div[2]/div[8]/button'])\n",
    "mycursor.execute(\"INSERT INTO Elements (web_id,element,type_id,value) VALUES (%s,%s,%s,%s)\", [3,'button',2,'ul.mailler li:nth-child(2)'])\n",
    "mycursor.execute(\"INSERT INTO Elements (web_id,element,type_id,value) VALUES (%s,%s,%s,%s)\", [4,'dropdown',1,'/html/body/div[1]/div[1]/div[2]/div[1]/div[2]/div/div/div[2]/div/div[1]/div/form/span/section/div/div/div[3]/div[3]/div/div[1]/div/div/div[1]/div'])\n",
    "mycursor.execute(\"INSERT INTO Elements (web_id,element,type_id,value) VALUES (%s,%s,%s,%s)\", [1,'checkbox',3,'html.js.flexbox.flexboxlegacy.canvas.canvastext.webgl.no-touch.geolocation.postmessage.no-websqldatabase.indexeddb.hashchange.history.draganddrop.websockets.rgba.hsla.multiplebgs.backgroundsize.borderimage.borderradius.boxshadow.textshadow.opacity.cssanimations.csscolumns.cssgradients.no-cssreflections.csstransforms.csstransforms3d.csstransitions.fontface.generatedcontent.video.audio.localstorage.sessionstorage.webworkers.applicationcache.svg.inlinesvg.smil.svgclippaths body div.client-page.register-bg-style div.container div.client-form div.inner form div.row div.col-md-12.pull-right div.checkbox-remember input#AcceptRules'])\n",
    "\n",
    "mydb.commit()\n",
    "query = 'SELECT * FROM Elements'\n",
    "df = pd.read_sql(query, mydb)\n",
    "df"
   ]
  },
  {
   "cell_type": "markdown",
   "metadata": {},
   "source": [
    "## Phase 6 (Thread)"
   ]
  },
  {
   "cell_type": "code",
   "execution_count": 1,
   "metadata": {},
   "outputs": [],
   "source": [
    "import mysql\n",
    "import mysql.connector\n",
    "# run this every time\n",
    "mydb = mysql.connector.connect(\n",
    "  host=\"localhost\",\n",
    "  user=\"root\",\n",
    "  password=\"pdne\",\n",
    ")\n",
    "mycursor = mydb.cursor()"
   ]
  },
  {
   "cell_type": "markdown",
   "metadata": {},
   "source": [
    "* creating tables for storing session datas."
   ]
  },
  {
   "cell_type": "code",
   "execution_count": 6,
   "metadata": {},
   "outputs": [],
   "source": [
    "# Create a database named \"Session_Data\"\n",
    "mycursor.execute(\"DROP DATABASE Session_Data\")\n",
    "mycursor.execute(\"CREATE DATABASE Session_Data\")\n",
    "# Switch to the newly created database\n",
    "mycursor.execute(\"USE Session_Data\")\n",
    "\n",
    "# Create Table Script6\n",
    "mycursor.execute(\"CREATE TABLE Script6 (id INT AUTO_INCREMENT PRIMARY KEY, script_name VARCHAR(255))\")\n",
    "\n",
    "# Create Table Web6\n",
    "mycursor.execute(\"CREATE TABLE Web6 (id INT AUTO_INCREMENT PRIMARY KEY, URL VARCHAR(1024), name VARCHAR(255), script_id INT, FOREIGN KEY (script_id) REFERENCES Script6(id))\")\n",
    "\n",
    "# Create Table URL_Session6\n",
    "#mycursor.execute(\"CREATE TABLE URL_Session6 (id INT AUTO_INCREMENT PRIMARY KEY, web_id VARCHAR(1024), session_id VARCHAR(1024))\")\n",
    "\n",
    "# Create Table Browsers6\n",
    "mycursor.execute(\"CREATE TABLE Browsers6 (id INT AUTO_INCREMENT PRIMARY KEY, b_name VARCHAR(255), b_version VARCHAR(255))\")\n",
    "\n",
    "# Create Table OS6\n",
    "mycursor.execute(\"CREATE TABLE OS6 (id INT AUTO_INCREMENT PRIMARY KEY, o_name VARCHAR(255), o_version VARCHAR(255))\")\n",
    "\n",
    "# Create Table Resolution6\n",
    "mycursor.execute(\"CREATE TABLE Resolution6 (id INT AUTO_INCREMENT PRIMARY KEY, width INT, height INT)\")\n",
    "\n",
    "# Create Table Session6\n",
    "#mycursor.execute(\"CREATE TABLE Session6 (id INT AUTO_INCREMENT PRIMARY KEY, b_name VARCHAR(1024), b_version VARCHAR(1024), O_name VARCHAR(1024), O_version VARCHAR(1024),width INT, height INT, FOREIGN KEY (id) REFERENCES URL_Session6(session_id))\")\n"
   ]
  },
  {
   "cell_type": "markdown",
   "metadata": {},
   "source": [
    "# HERE"
   ]
  },
  {
   "cell_type": "markdown",
   "metadata": {},
   "source": [
    "#### Fill the URL_Session6 table"
   ]
  },
  {
   "cell_type": "code",
   "execution_count": null,
   "metadata": {},
   "outputs": [],
   "source": [
    "# create a list of tuples containing the data to insert\n",
    "data = [\n",
    "  ('webId 1', 'session_id 1'),\n",
    "  ('webId 2', 'session_id 5'),\n",
    "  ('webId 5', 'session_id 7')\n",
    "]\n",
    "\n",
    "# define the SQL query to insert data into the table\n",
    "sql = \"INSERT INTO URL_Session6 (web_id, session_id) VALUES (%s, %s)\"\n",
    "mycursor.executemany(sql, data)\n",
    "mydb.commit()\n",
    "\n",
    "query = 'SELECT * FROM URL_Session6'\n",
    "pd.read_sql(query, mydb)"
   ]
  },
  {
   "cell_type": "markdown",
   "metadata": {},
   "source": [
    "#### Fill the Web6 table"
   ]
  },
  {
   "cell_type": "code",
   "execution_count": null,
   "metadata": {},
   "outputs": [],
   "source": [
    "# create a list of tuples containing the data to insert\n",
    "data = [\n",
    "  ('https://toplearn.com', 'toplearn' , '1'),\n",
    "  ('https://github.com', 'github', '1'),\n",
    "  ('https://golestan.ir', 'golestan', '2')\n",
    "]\n",
    "\n",
    "# define the SQL query to insert data into the table\n",
    "sql = \"INSERT INTO Web6 (URL, name, script_id) VALUES (%s, %s, %s)\"\n",
    "mycursor.executemany(sql, data)\n",
    "mydb.commit()\n",
    "\n",
    "query = 'SELECT * FROM Web6'\n",
    "pd.read_sql(query, mydb)"
   ]
  },
  {
   "cell_type": "markdown",
   "metadata": {},
   "source": [
    "#### Fill the Script6 table"
   ]
  },
  {
   "cell_type": "code",
   "execution_count": 7,
   "metadata": {},
   "outputs": [
    {
     "ename": "ProgrammingError",
     "evalue": "Not all parameters were used in the SQL statement",
     "output_type": "error",
     "traceback": [
      "\u001b[0;31m---------------------------------------------------------------------------\u001b[0m",
      "\u001b[0;31mProgrammingError\u001b[0m                          Traceback (most recent call last)",
      "\u001b[1;32m/Users/ngn/Documents/uni/Term 8/DBLAB/neew/Databas-Labratory/Untitled-1.ipynb Cell 75\u001b[0m in \u001b[0;36m<cell line: 10>\u001b[0;34m()\u001b[0m\n\u001b[1;32m      <a href='vscode-notebook-cell:/Users/ngn/Documents/uni/Term%208/DBLAB/neew/Databas-Labratory/Untitled-1.ipynb#Y136sZmlsZQ%3D%3D?line=7'>8</a>\u001b[0m \u001b[39m# define the SQL query to insert data into the table\u001b[39;00m\n\u001b[1;32m      <a href='vscode-notebook-cell:/Users/ngn/Documents/uni/Term%208/DBLAB/neew/Databas-Labratory/Untitled-1.ipynb#Y136sZmlsZQ%3D%3D?line=8'>9</a>\u001b[0m sql \u001b[39m=\u001b[39m \u001b[39m\"\u001b[39m\u001b[39mINSERT INTO Script6 (script_name) VALUES (\u001b[39m\u001b[39m%s\u001b[39;00m\u001b[39m)\u001b[39m\u001b[39m\"\u001b[39m\n\u001b[0;32m---> <a href='vscode-notebook-cell:/Users/ngn/Documents/uni/Term%208/DBLAB/neew/Databas-Labratory/Untitled-1.ipynb#Y136sZmlsZQ%3D%3D?line=9'>10</a>\u001b[0m mycursor\u001b[39m.\u001b[39;49mexecutemany(sql, data)\n\u001b[1;32m     <a href='vscode-notebook-cell:/Users/ngn/Documents/uni/Term%208/DBLAB/neew/Databas-Labratory/Untitled-1.ipynb#Y136sZmlsZQ%3D%3D?line=10'>11</a>\u001b[0m mydb\u001b[39m.\u001b[39mcommit()\n\u001b[1;32m     <a href='vscode-notebook-cell:/Users/ngn/Documents/uni/Term%208/DBLAB/neew/Databas-Labratory/Untitled-1.ipynb#Y136sZmlsZQ%3D%3D?line=12'>13</a>\u001b[0m query \u001b[39m=\u001b[39m \u001b[39m'\u001b[39m\u001b[39mSELECT * FROM Script6\u001b[39m\u001b[39m'\u001b[39m\n",
      "File \u001b[0;32m/Library/Frameworks/Python.framework/Versions/3.8/lib/python3.8/site-packages/mysql/connector/cursor.py:720\u001b[0m, in \u001b[0;36mMySQLCursor.executemany\u001b[0;34m(self, operation, seq_params)\u001b[0m\n\u001b[1;32m    718\u001b[0m     \u001b[39mself\u001b[39m\u001b[39m.\u001b[39m_rowcount \u001b[39m=\u001b[39m \u001b[39m0\u001b[39m\n\u001b[1;32m    719\u001b[0m     \u001b[39mreturn\u001b[39;00m \u001b[39mNone\u001b[39;00m\n\u001b[0;32m--> 720\u001b[0m stmt \u001b[39m=\u001b[39m \u001b[39mself\u001b[39;49m\u001b[39m.\u001b[39;49m_batch_insert(operation, seq_params)\n\u001b[1;32m    721\u001b[0m \u001b[39mif\u001b[39;00m stmt \u001b[39mis\u001b[39;00m \u001b[39mnot\u001b[39;00m \u001b[39mNone\u001b[39;00m:\n\u001b[1;32m    722\u001b[0m     \u001b[39mself\u001b[39m\u001b[39m.\u001b[39m_executed \u001b[39m=\u001b[39m stmt\n",
      "File \u001b[0;32m/Library/Frameworks/Python.framework/Versions/3.8/lib/python3.8/site-packages/mysql/connector/cursor.py:666\u001b[0m, in \u001b[0;36mMySQLCursor._batch_insert\u001b[0;34m(self, operation, seq_params)\u001b[0m\n\u001b[1;32m    664\u001b[0m         tmp \u001b[39m=\u001b[39m RE_PY_PARAM\u001b[39m.\u001b[39msub(psub, tmp)\n\u001b[1;32m    665\u001b[0m         \u001b[39mif\u001b[39;00m psub\u001b[39m.\u001b[39mremaining \u001b[39m!=\u001b[39m \u001b[39m0\u001b[39m:\n\u001b[0;32m--> 666\u001b[0m             \u001b[39mraise\u001b[39;00m ProgrammingError(\n\u001b[1;32m    667\u001b[0m                 \u001b[39m\"\u001b[39m\u001b[39mNot all parameters were used in the SQL statement\u001b[39m\u001b[39m\"\u001b[39m\n\u001b[1;32m    668\u001b[0m             )\n\u001b[1;32m    669\u001b[0m     values\u001b[39m.\u001b[39mappend(tmp)\n\u001b[1;32m    670\u001b[0m \u001b[39mif\u001b[39;00m fmt \u001b[39min\u001b[39;00m stmt:\n",
      "\u001b[0;31mProgrammingError\u001b[0m: Not all parameters were used in the SQL statement"
     ]
    }
   ],
   "source": [
    "# create a list of tuples containing the data to insert\n",
    "data = [\n",
    "  ('script 1'),\n",
    "  ('script 2'),\n",
    "  ('script 5')\n",
    "]\n",
    "\n",
    "# define the SQL query to insert data into the table\n",
    "sql = \"INSERT INTO Script6 (script_name) VALUES (%s)\"\n",
    "mycursor.executemany(sql, data)\n",
    "mydb.commit()\n",
    "\n",
    "query = 'SELECT * FROM Script6'\n",
    "pd.read_sql(query, mydb)"
   ]
  },
  {
   "cell_type": "markdown",
   "metadata": {},
   "source": [
    "#### Fill the Browsers6 table"
   ]
  },
  {
   "cell_type": "code",
   "execution_count": null,
   "metadata": {},
   "outputs": [],
   "source": [
    "# create a list of tuples containing the data to insert\n",
    "data = [\n",
    "  ('FireFox', '102.0'),\n",
    "  ('FireFox', '103.0.2'),\n",
    "  ('Chrome', '7.0.517')\n",
    "]\n",
    "\n",
    "# define the SQL query to insert data into the table\n",
    "sql = \"INSERT INTO Browsers6 (b_name, b_version) VALUES (%s, %s)\"\n",
    "mycursor.executemany(sql, data)\n",
    "mydb.commit()\n",
    "\n",
    "query = 'SELECT * FROM Browsers6'\n",
    "pd.read_sql(query, mydb)"
   ]
  },
  {
   "cell_type": "markdown",
   "metadata": {},
   "source": [
    "#### Fill the OS6 table"
   ]
  },
  {
   "cell_type": "code",
   "execution_count": null,
   "metadata": {},
   "outputs": [],
   "source": [
    "# create a list of tuples containing the data to insert\n",
    "data = [\n",
    "  ('windows', '11'),\n",
    "  ('windows', '10'),\n",
    "  ('ubuntu', '4.10')\n",
    "]\n",
    "\n",
    "# define the SQL query to insert data into the table\n",
    "sql = \"INSERT INTO OS6 (o_name, o_version) VALUES (%s, %s)\"\n",
    "mycursor.executemany(sql, data)\n",
    "mydb.commit()\n",
    "\n",
    "query = 'SELECT * FROM OS6'\n",
    "pd.read_sql(query, mydb)"
   ]
  },
  {
   "cell_type": "markdown",
   "metadata": {},
   "source": [
    "#### Fill the Resolution6 table"
   ]
  },
  {
   "cell_type": "code",
   "execution_count": null,
   "metadata": {},
   "outputs": [],
   "source": [
    "# create a list of tuples containing the data to insert\n",
    "data = [\n",
    "  ('1920', '1080'),\n",
    "  ('1680', '1050'),\n",
    "  ('1440', '900')\n",
    "]\n",
    "\n",
    "# define the SQL query to insert data into the table\n",
    "sql = \"INSERT INTO Resolution6 (width, height) VALUES (%s, %s)\"\n",
    "mycursor.executemany(sql, data)\n",
    "mydb.commit()\n",
    "\n",
    "query = 'SELECT * FROM Resolution6'\n",
    "pd.read_sql(query, mydb)"
   ]
  },
  {
   "cell_type": "markdown",
   "metadata": {},
   "source": [
    "#### Make different permutation data and store them in Session6 table"
   ]
  },
  {
   "cell_type": "code",
   "execution_count": null,
   "metadata": {},
   "outputs": [],
   "source": [
    "sql = \"INSERT INTO Session6 (b_name, b_version, o_name, o_version, width, height) SELECT Browsers6.id, Browsers6.b_name, Browsers6.b_version, OS6.id, OS6.o_name, OS6.o_version, Resolution6.id, Resolution6.width, Resolution6.height FROM Browsers6 CROSS JOIN OS6 CROSS JOIN Resolution6\"\n",
    "\n",
    "mycursor.execute(sql)\n",
    "mydb.commit()\n",
    "\n",
    "query = 'SELECT * FROM Session6'\n",
    "pd.read_sql(query, mydb)"
   ]
  }
 ],
 "metadata": {
  "kernelspec": {
   "display_name": "Python 3.8.5 64-bit",
   "language": "python",
   "name": "python3"
  },
  "language_info": {
   "codemirror_mode": {
    "name": "ipython",
    "version": 3
   },
   "file_extension": ".py",
   "mimetype": "text/x-python",
   "name": "python",
   "nbconvert_exporter": "python",
   "pygments_lexer": "ipython3",
   "version": "3.8.5"
  },
  "vscode": {
   "interpreter": {
    "hash": "0adcc2737ebf6a4a119f135174df96668767fca1ef1112612db5ecadf2b6d608"
   }
  }
 },
 "nbformat": 4,
 "nbformat_minor": 4
}
