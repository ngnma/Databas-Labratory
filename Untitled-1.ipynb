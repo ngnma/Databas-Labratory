{
 "cells": [
  {
   "cell_type": "markdown",
   "metadata": {},
   "source": [
    "# Database Labratory Project"
   ]
  },
  {
   "cell_type": "markdown",
   "metadata": {},
   "source": [
    "- Negin mashayekhi\n",
    "- Farbod fooladi"
   ]
  },
  {
   "cell_type": "markdown",
   "metadata": {},
   "source": [
    "### 1. Checking a webpage to know when an element has changed"
   ]
  },
  {
   "cell_type": "code",
   "execution_count": null,
   "metadata": {},
   "outputs": [],
   "source": [
    "import requests\n",
    "from bs4 import BeautifulSoup\n",
    "\n",
    "url = 'https://www.digikala.com/search/category-foreign-printed-book/'\n",
    "response = requests.get(url)\n",
    "soup = BeautifulSoup(response.text, 'html.parser')"
   ]
  },
  {
   "cell_type": "code",
   "execution_count": null,
   "metadata": {},
   "outputs": [],
   "source": [
    "# this cell get the initial value of target element\n",
    "seventh_h3 = soup.find_all('h3')[7] \n",
    "next_span_info = seventh_h3.find_next_sibling('span', {'class': 'info-value'})\n",
    "price_span = next_span_info.find('span', {'class': 'info-price'})\n",
    "initial_value = price_span.text\n",
    "initial_value"
   ]
  },
  {
   "cell_type": "code",
   "execution_count": null,
   "metadata": {},
   "outputs": [],
   "source": [
    "# this cell check the element continously \n",
    "while True:\n",
    "    seventh_h3 = soup.find_all('h3')[7] \n",
    "    next_span_info = seventh_h3.find_next_sibling('span', {'class': 'info-value'})\n",
    "    price_span = next_span_info.find('span', {'class': 'info-price'})\n",
    "    if initial_value != price_span.text:\n",
    "        new_price = price_span.text\n",
    "        print(price_span.text)\n",
    "        break"
   ]
  },
  {
   "cell_type": "markdown",
   "metadata": {},
   "source": [
    "#### Sending Email"
   ]
  },
  {
   "cell_type": "code",
   "execution_count": null,
   "metadata": {},
   "outputs": [],
   "source": [
    "import smtplib\n",
    "from email.mime.text import MIMEText\n",
    "from email.mime.multipart import MIMEMultipart"
   ]
  },
  {
   "cell_type": "code",
   "execution_count": null,
   "metadata": {},
   "outputs": [],
   "source": [
    "# Set up connection to the SMTP server\n",
    "smtp_server = 'smtp.gmail.com'  # replace with your SMTP server address\n",
    "smtp_port = 25  # replace with your SMTP server port\n",
    "username = 'n.mashayekhi456@gmail.com'  # replace with your email address\n",
    "password = '123456'  # replace with your email password\n",
    "\n",
    "server = smtplib.SMTP(smtp_server, smtp_port)\n",
    "server.starttls()\n",
    "server.login(username, password)\n",
    "\n",
    "# Construct the email message\n",
    "from_addr = 'n.mashayekhi456@gmail.com'  # replace with your email address\n",
    "to_addr = 'n.mashayekhi456@gmail.com'  # replace with recipient email address\n",
    "subject = 'teter price has changed!'\n",
    "body = new_price\n",
    "\n",
    "msg = MIMEMultipart()\n",
    "msg['From'] = from_addr\n",
    "msg['To'] = to_addr\n",
    "msg['Subject'] = subject\n",
    "\n",
    "msg.attach(MIMEText(body, 'plain'))\n",
    "\n",
    "# Send the email\n",
    "text = msg.as_string()\n",
    "server.sendmail(from_addr, to_addr, text)\n",
    "\n",
    "# Close the connection to the SMTP server\n",
    "server.quit()\n"
   ]
  },
  {
   "cell_type": "markdown",
   "metadata": {},
   "source": [
    "#### Sending SMS\n"
   ]
  },
  {
   "cell_type": "code",
   "execution_count": null,
   "metadata": {},
   "outputs": [],
   "source": [
    "from twilio.rest import Client\n",
    "\n",
    "# Your Account SID and Auth Token from twilio.com/console\n",
    "account_sid = 'your_account_sid'\n",
    "auth_token = 'your_auth_token'\n",
    "client = Client(account_sid, auth_token)\n",
    "\n",
    "# Use the Twilio API to send an SMS message\n",
    "message = client.messages.create(\n",
    "    body='Hello, this is a test message!',\n",
    "    from_='+989351004976', # Replace with your Twilio phone number\n",
    "    to='+989120753574' # Replace with the recipient's phone number\n",
    ")\n",
    "\n",
    "print(f'Sent message with SID: {message.sid}')"
   ]
  },
  {
   "attachments": {},
   "cell_type": "markdown",
   "metadata": {},
   "source": [
    "# Phase 2"
   ]
  },
  {
   "cell_type": "code",
   "execution_count": null,
   "metadata": {},
   "outputs": [],
   "source": [
    "from bs4 import BeautifulSoup\n",
    "\n",
    "# Parse the HTML content using Beautiful Soup\n",
    "html = '<<span>۷۵,۰۰۰</span><div class=\"d-flex\"><svg style=\"width: 16px; height: 16px; fill: var(--color-icon-high-emphasis);\"><use xlink:href=\"#toman\"></use></svg></div>>'\n",
    "soup = BeautifulSoup(html, 'html.parser')\n",
    "\n",
    "# Find the outer div using a CSS selector\n",
    "outer_div = soup.find('div', {'class': 'outer'})\n",
    "\n",
    "# Iterate over all the nested elements using the descendants attribute\n",
    "for element in outer_div.descendants:\n",
    "    if element.name == 'span' and element.get('id') == 'my-element':\n",
    "        # Extract the text or other attributes of the desired element\n",
    "        element_text = element.text\n",
    "        element_attribute = element['data-my-attribute']\n",
    "        break\n",
    "else:\n",
    "    # Handle the case where the desired element was not found\n",
    "    element_text = None\n",
    "    element_attribute = None\n"
   ]
  },
  {
   "attachments": {},
   "cell_type": "markdown",
   "metadata": {},
   "source": [
    "# Phase 3\n",
    "* database creation"
   ]
  },
  {
   "cell_type": "code",
   "execution_count": null,
   "metadata": {},
   "outputs": [],
   "source": [
    "import mysql.connector\n",
    "\n",
    "# Connect to MySQL server\n",
    "mydb = mysql.connector.connect(\n",
    "  host=\"localhost\",\n",
    "  user=\"nf\",\n",
    "  password=\"1234\",\n",
    "  port=3306\n",
    ")\n",
    "\n",
    "# Create a cursor object\n",
    "mycursor = mydb.cursor()\n",
    "\n",
    "# Create a database named \"DB_Lab\"\n",
    "mycursor.execute(\"CREATE DATABASE DB_Lab\")\n",
    "\n",
    "# Switch to the newly created database\n",
    "mycursor.execute(\"USE DB_Lab\")\n",
    "\n",
    "# Create the \"urlLink\" table\n",
    "mycursor.execute(\"CREATE TABLE urlLink (id INT AUTO_INCREMENT PRIMARY KEY, url VARCHAR(255))\")\n",
    "\n",
    "# Create the \"captchaType\" table\n",
    "mycursor.execute(\"CREATE TABLE captchaType (id INT AUTO_INCREMENT PRIMARY KEY, type VARCHAR(255))\")\n",
    "\n",
    "# Create the \"libraryType\" table\n",
    "mycursor.execute(\"CREATE TABLE libraryType (id INT AUTO_INCREMENT PRIMARY KEY, type VARCHAR(255))\")\n",
    "\n",
    "# Confirm that the tables have been created\n",
    "mycursor.execute(\"SHOW TABLES\")\n",
    "for table in mycursor:\n",
    "  print(table)\n"
   ]
  },
  {
   "cell_type": "markdown",
   "metadata": {},
   "source": [
    "# Phase 2 (Login)\n",
    "- Save session for further use\n",
    "- Extract elements inside user panel"
   ]
  },
  {
   "cell_type": "markdown",
   "metadata": {},
   "source": [
    "### 2-1.Save Sessions in DB"
   ]
  },
  {
   "cell_type": "code",
   "execution_count": 1,
   "metadata": {},
   "outputs": [],
   "source": [
    "from flask import Flask\n",
    "import datetime\n",
    "\n",
    "from flask import request, jsonify\n",
    "import uuid"
   ]
  },
  {
   "cell_type": "code",
   "execution_count": null,
   "metadata": {},
   "outputs": [],
   "source": [
    "# POSTLOGINURL = 'www.toplearn.com/login'\n",
    "# #REQUESTURL = 'www.example.com/page_to_scrape'\n",
    "\n",
    "# payload = {'username': 'aacc9818@gmail.com', 'password': '456654321'}\n",
    "# with request.Session() as session:\n",
    "#     post = session.post(POSTLOGINURL, data=payload)\n",
    "#     print(session)"
   ]
  },
  {
   "cell_type": "code",
   "execution_count": 2,
   "metadata": {},
   "outputs": [],
   "source": [
    "import requests\n",
    "url = 'http://www.toplearn.com/Login'\n",
    "url3 = 'https://toplearn.com/Account/DashBoard?uid=c8ef2015-a667-4a68-a8d7-3d07ef51ec96'\n",
    "response = requests.get(url3)\n",
    "\n",
    "#session_id = response.cookies.get('.AspNetCore.Session')\n",
    "#print(response.headers)\n",
    "#print(response.cookies.AspNetCore.Mvc.CookieTempDataProvider)\n",
    "#response.cookies.Session\n",
    "session_id = response.headers['Set-Cookie']"
   ]
  },
  {
   "cell_type": "code",
   "execution_count": 3,
   "metadata": {},
   "outputs": [],
   "source": [
    "import mysql\n",
    "import mysql.connector"
   ]
  },
  {
   "cell_type": "code",
   "execution_count": 4,
   "metadata": {},
   "outputs": [
    {
     "name": "stdout",
     "output_type": "stream",
     "text": [
      "('DB_Lab',)\n",
      "('information_schema',)\n",
      "('myDatabase',)\n",
      "('mysql',)\n",
      "('performance_schema',)\n",
      "('sys',)\n"
     ]
    }
   ],
   "source": [
    "mydb = mysql.connector.connect(\n",
    "  host=\"localhost\",\n",
    "  user=\"root\",\n",
    "  password=\"pdne\",\n",
    ")\n",
    "mycursor = mydb.cursor()\n",
    "mycursor.execute(\"SHOW DATABASES\")\n",
    "for x in mycursor:\n",
    "  print(x)"
   ]
  },
  {
   "cell_type": "code",
   "execution_count": null,
   "metadata": {},
   "outputs": [],
   "source": [
    "# Create a database named \"DB_Lab\"\n",
    "mycursor.execute(\"CREATE DATABASE DB_Lab\")"
   ]
  },
  {
   "cell_type": "code",
   "execution_count": 5,
   "metadata": {},
   "outputs": [],
   "source": [
    "# run this every time\n",
    "# Switch to the newly created database\n",
    "mycursor.execute(\"USE DB_Lab\")"
   ]
  },
  {
   "cell_type": "code",
   "execution_count": 9,
   "metadata": {},
   "outputs": [],
   "source": [
    "mycursor.execute(\"CREATE TABLE Sessions2 (id INT AUTO_INCREMENT PRIMARY KEY, session VARCHAR(1024))\")"
   ]
  },
  {
   "cell_type": "code",
   "execution_count": 7,
   "metadata": {},
   "outputs": [
    {
     "name": "stdout",
     "output_type": "stream",
     "text": [
      "('Discounts',)\n",
      "('Sessions',)\n",
      "('Sessions2',)\n"
     ]
    }
   ],
   "source": [
    "mycursor.execute(\"SHOW TABLES\")\n",
    "for table in mycursor:\n",
    "  print(table)"
   ]
  },
  {
   "cell_type": "code",
   "execution_count": 11,
   "metadata": {},
   "outputs": [],
   "source": [
    "sql = \"INSERT INTO Sessions2 (session) VALUES (%s)\"\n",
    "val = ([str(session_id)])\n",
    "mycursor.execute(sql, val)\n",
    "mydb.commit()"
   ]
  },
  {
   "cell_type": "code",
   "execution_count": 13,
   "metadata": {},
   "outputs": [
    {
     "name": "stdout",
     "output_type": "stream",
     "text": [
      "(1, '.AspNetCore.Antiforgery.xX1vr0OcUbw=CfDJ8ANvLv7vMY5JpBI7sQrug1LGKBB29TL573RrwYAqwZb-GWr7lmSLgjHQ3tb4s97ufPht1TKRfTeRK2HwYaCXVbuUP3dhhBPqSKFD_upfKqpjl-sadlY1S1Y5DU5H4F6cGlVYDuTSqAUzfZt1I57YyHk; path=/; samesite=strict; httponly, .AspNetCore.Mvc.CookieTempDataProvider=; expires=Thu, 01 Jan 1970 00:00:00 GMT; path=/; samesite=lax; httponly')\n"
     ]
    }
   ],
   "source": [
    "mycursor.execute('select * from Sessions2')\n",
    "myresult = mycursor.fetchall()\n",
    "\n",
    "for x in myresult:\n",
    "  print(x)"
   ]
  },
  {
   "cell_type": "code",
   "execution_count": null,
   "metadata": {},
   "outputs": [],
   "source": [
    "# this is the last cell for using database- dont run it now!\n",
    "# cursor.close()\n",
    "# connection.close()"
   ]
  },
  {
   "cell_type": "markdown",
   "metadata": {},
   "source": [
    "### 2-2.Crawl toplearn "
   ]
  },
  {
   "cell_type": "code",
   "execution_count": 11,
   "metadata": {},
   "outputs": [],
   "source": [
    "mycursor.execute(\"CREATE TABLE Discounts2 (id INT AUTO_INCREMENT PRIMARY KEY, course_name VARCHAR(255))\")"
   ]
  },
  {
   "cell_type": "code",
   "execution_count": 1,
   "metadata": {},
   "outputs": [],
   "source": [
    "import requests\n",
    "from bs4 import BeautifulSoup\n",
    "\n",
    "url = 'https://toplearn.com/TodayDiscounts'\n",
    "response = requests.get(url)\n",
    "soup = BeautifulSoup(response.text, 'html.parser')"
   ]
  },
  {
   "cell_type": "code",
   "execution_count": 12,
   "metadata": {},
   "outputs": [
    {
     "name": "stdout",
     "output_type": "stream",
     "text": [
      "(1, ' تحلیل و پیش\\u200cبینی بورس در پایتون ')\n",
      "(2, ' آموزش جامع آردوینو (Arduino) - پروژه محور ')\n",
      "(3, ' آنالیز مالی در پایتون ')\n",
      "(4, ' آنالیز چهره و بینـایی کامپیوتر در پایتون ')\n",
      "(5, ' آموزش شاخه\\u200cهای جذاب پایتون ')\n",
      "(6, ' آموزش معاملات الگوریتمی ارز دیجیتال در پایتون ')\n",
      "(7, ' آنالیز کلان داده (Big Data) با پایتون و اسپارک ')\n",
      "(8, ' دوره Asp.Net MVC پیشرفته ')\n",
      "(9, ' آموزش BootStrap (بوت استرپ 4 و 5 ) ')\n",
      "(10, ' آموزش Asp.Net Core پیشرفته ')\n"
     ]
    }
   ],
   "source": [
    "# this cell get the initial value of target element\n",
    "list_h2 = soup.find_all('h2')[:10]\n",
    "for h2 in list_h2:\n",
    "    #print(h2.find('a').text)\n",
    "    mycursor.execute(\"INSERT INTO Discounts2 (course_name) VALUES (%s)\", [(h2.find('a').text)])\n",
    "\n",
    "mycursor.execute('select * from Discounts2')\n",
    "myresult = mycursor.fetchall()\n",
    "for x in myresult:\n",
    "  print(x)"
   ]
  }
 ],
 "metadata": {
  "kernelspec": {
   "display_name": "Python 3.8.5 64-bit",
   "language": "python",
   "name": "python3"
  },
  "language_info": {
   "codemirror_mode": {
    "name": "ipython",
    "version": 3
   },
   "file_extension": ".py",
   "mimetype": "text/x-python",
   "name": "python",
   "nbconvert_exporter": "python",
   "pygments_lexer": "ipython3",
   "version": "3.8.5"
  },
  "vscode": {
   "interpreter": {
    "hash": "aee8b7b246df8f9039afb4144a1f6fd8d2ca17a180786b69acc140d282b71a49"
   }
  }
 },
 "nbformat": 4,
 "nbformat_minor": 4
}
