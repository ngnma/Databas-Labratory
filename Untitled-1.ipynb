{
 "cells": [
  {
   "cell_type": "markdown",
   "metadata": {},
   "source": [
    "# Database Labratory Project"
   ]
  },
  {
   "cell_type": "markdown",
   "metadata": {},
   "source": [
    "- Negin mashayekhi\n",
    "- Farbod fooladi"
   ]
  },
  {
   "cell_type": "markdown",
   "metadata": {},
   "source": [
    "### 1. Checking a webpage to know when an element has changed"
   ]
  },
  {
   "cell_type": "code",
   "execution_count": null,
   "metadata": {},
   "outputs": [],
   "source": [
    "import requests\n",
    "from bs4 import BeautifulSoup\n",
    "\n",
    "url = 'https://www.digikala.com/search/category-foreign-printed-book/'\n",
    "response = requests.get(url)\n",
    "soup = BeautifulSoup(response.text, 'html.parser')"
   ]
  },
  {
   "cell_type": "code",
   "execution_count": null,
   "metadata": {},
   "outputs": [],
   "source": [
    "# this cell get the initial value of target element\n",
    "seventh_h3 = soup.find_all('h3')[7] \n",
    "next_span_info = seventh_h3.find_next_sibling('span', {'class': 'info-value'})\n",
    "price_span = next_span_info.find('span', {'class': 'info-price'})\n",
    "initial_value = price_span.text\n",
    "initial_value"
   ]
  },
  {
   "cell_type": "code",
   "execution_count": null,
   "metadata": {},
   "outputs": [],
   "source": [
    "# this cell check the element continously \n",
    "while True:\n",
    "    seventh_h3 = soup.find_all('h3')[7] \n",
    "    next_span_info = seventh_h3.find_next_sibling('span', {'class': 'info-value'})\n",
    "    price_span = next_span_info.find('span', {'class': 'info-price'})\n",
    "    if initial_value != price_span.text:\n",
    "        new_price = price_span.text\n",
    "        print(price_span.text)\n",
    "        break"
   ]
  },
  {
   "cell_type": "markdown",
   "metadata": {},
   "source": [
    "#### Sending Email"
   ]
  },
  {
   "cell_type": "code",
   "execution_count": null,
   "metadata": {},
   "outputs": [],
   "source": [
    "import smtplib\n",
    "from email.mime.text import MIMEText\n",
    "from email.mime.multipart import MIMEMultipart"
   ]
  },
  {
   "cell_type": "code",
   "execution_count": null,
   "metadata": {},
   "outputs": [],
   "source": [
    "# Set up connection to the SMTP server\n",
    "smtp_server = 'smtp.gmail.com'  # replace with your SMTP server address\n",
    "smtp_port = 25  # replace with your SMTP server port\n",
    "username = 'n.mashayekhi456@gmail.com'  # replace with your email address\n",
    "password = '123456'  # replace with your email password\n",
    "\n",
    "server = smtplib.SMTP(smtp_server, smtp_port)\n",
    "server.starttls()\n",
    "server.login(username, password)\n",
    "\n",
    "# Construct the email message\n",
    "from_addr = 'n.mashayekhi456@gmail.com'  # replace with your email address\n",
    "to_addr = 'n.mashayekhi456@gmail.com'  # replace with recipient email address\n",
    "subject = 'teter price has changed!'\n",
    "body = new_price\n",
    "\n",
    "msg = MIMEMultipart()\n",
    "msg['From'] = from_addr\n",
    "msg['To'] = to_addr\n",
    "msg['Subject'] = subject\n",
    "\n",
    "msg.attach(MIMEText(body, 'plain'))\n",
    "\n",
    "# Send the email\n",
    "text = msg.as_string()\n",
    "server.sendmail(from_addr, to_addr, text)\n",
    "\n",
    "# Close the connection to the SMTP server\n",
    "server.quit()\n"
   ]
  },
  {
   "cell_type": "markdown",
   "metadata": {},
   "source": [
    "#### Sending SMS\n"
   ]
  },
  {
   "cell_type": "code",
   "execution_count": null,
   "metadata": {},
   "outputs": [],
   "source": [
    "from twilio.rest import Client\n",
    "\n",
    "# Your Account SID and Auth Token from twilio.com/console\n",
    "account_sid = 'your_account_sid'\n",
    "auth_token = 'your_auth_token'\n",
    "client = Client(account_sid, auth_token)\n",
    "\n",
    "# Use the Twilio API to send an SMS message\n",
    "message = client.messages.create(\n",
    "    body='Hello, this is a test message!',\n",
    "    from_='+989351004976', # Replace with your Twilio phone number\n",
    "    to='+989120753574' # Replace with the recipient's phone number\n",
    ")\n",
    "\n",
    "print(f'Sent message with SID: {message.sid}')"
   ]
  },
  {
   "attachments": {},
   "cell_type": "markdown",
   "metadata": {},
   "source": [
    "# Phase 2"
   ]
  },
  {
   "cell_type": "code",
   "execution_count": null,
   "metadata": {},
   "outputs": [],
   "source": [
    "from bs4 import BeautifulSoup\n",
    "\n",
    "# Parse the HTML content using Beautiful Soup\n",
    "html = '<div class=\"outer\"><div class=\"inner\"><span id=\"my-element\" data-my-attribute=\"value\">Hello, world!</span></div></div>'\n",
    "soup = BeautifulSoup(html, 'html.parser')\n",
    "\n",
    "# Find the outer div using a CSS selector\n",
    "outer_div = soup.find('div', {'class': 'outer'})\n",
    "\n",
    "# Iterate over all the nested elements using the descendants attribute\n",
    "for element in outer_div.descendants:\n",
    "    if element.name == 'span' and element.get('id') == 'my-element':\n",
    "        # Extract the text or other attributes of the desired element\n",
    "        element_text = element.text\n",
    "        element_attribute = element['data-my-attribute']\n",
    "        break\n",
    "else:\n",
    "    # Handle the case where the desired element was not found\n",
    "    element_text = None\n",
    "    element_attribute = None\n"
   ]
  },
  {
   "cell_type": "code",
   "execution_count": null,
   "metadata": {
    "vscode": {
     "languageId": "plaintext"
    }
   },
   "outputs": [],
   "source": [
    "div.product-list_ProductList__item__LiiNI:nth-child(1) > a:nth-child(1) > div:nth-child(1) > article:nth-child(1) > div:nth-child(2) > div:nth-child(2) > div:nth-child(4) > div:nth-child(1) > div:nth-child(1) > span:nth-child(1)\n",
    "\n",
    "<span>۷۵,۰۰۰</span><div class=\"d-flex\"><svg style=\"width: 16px; height: 16px; fill: var(--color-icon-high-emphasis);\"><use xlink:href=\"#toman\"></use></svg></div>"
   ]
  }
 ],
 "metadata": {
  "kernelspec": {
   "display_name": "Python 3",
   "language": "python",
   "name": "python3"
  },
  "language_info": {
   "codemirror_mode": {
    "name": "ipython",
    "version": 3
   },
   "file_extension": ".py",
   "mimetype": "text/x-python",
   "name": "python",
   "nbconvert_exporter": "python",
   "pygments_lexer": "ipython3",
   "version": "3.8.3"
  }
 },
 "nbformat": 4,
 "nbformat_minor": 4
}
