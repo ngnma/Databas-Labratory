{
 "cells": [
  {
   "cell_type": "markdown",
   "metadata": {},
   "source": [
    "# Database Labratory Project"
   ]
  },
  {
   "cell_type": "markdown",
   "metadata": {},
   "source": [
    "- Negin mashayekhi\n",
    "- Farbod fooladi"
   ]
  },
  {
   "cell_type": "code",
   "execution_count": 1,
   "metadata": {},
   "outputs": [],
   "source": [
    "# from twilio.rest import Client\n",
    "# import smtplib\n",
    "# from email.mime.text import MIMEText\n",
    "# from email.mime.multipart import MIMEMultipart\n",
    "import random\n",
    "import pandas as pd\n",
    "from flask import Flask\n",
    "import datetime\n",
    "from flask import request, jsonify\n",
    "import uuid\n",
    "import requests\n",
    "from bs4 import BeautifulSoup\n",
    "from datetime import datetime"
   ]
  },
  {
   "cell_type": "markdown",
   "metadata": {},
   "source": [
    "## Phase 1 \n",
    "- Email/SMS API\n",
    "- Crawling a webpage(handelled later)\n"
   ]
  },
  {
   "cell_type": "markdown",
   "metadata": {},
   "source": [
    "### 1-1.Sending SMS/Email\n"
   ]
  },
  {
   "cell_type": "code",
   "execution_count": 2,
   "metadata": {},
   "outputs": [],
   "source": [
    "def send_sms(message):\n",
    "    try:\n",
    "        # Your Account SID and Auth Token from twilio.com/console\n",
    "        account_sid = 'account_sid'\n",
    "        auth_token = 'auth_token'\n",
    "        client = Client(account_sid, auth_token)\n",
    "\n",
    "        # Use the Twilio API to send an SMS message\n",
    "        message = client.messages.create(\n",
    "            body=message,\n",
    "            from_='+98121212121', # Replace with your Twilio phone number\n",
    "            to='+98121212121' # Replace with the recipient's phone number\n",
    "        )\n",
    "        return 1\n",
    "    except NameError:\n",
    "        #return 0\n",
    "        return random.random()%2\n",
    "\n",
    "def send_email(message):\n",
    "    try:\n",
    "        # Set up connection to the SMTP server\n",
    "        smtp_server = 'smtp.gmail.com'  # replace with your SMTP server address\n",
    "        smtp_port = 25  # replace with your SMTP server port\n",
    "        username = 'n.mashayekhi456@gmail.com'  # replace with your email address\n",
    "        password = '1234'  # replace with your email password\n",
    "\n",
    "        server = smtplib.SMTP(smtp_server, smtp_port)\n",
    "        server.starttls()\n",
    "        server.login(username, password)\n",
    "\n",
    "        # Construct the email message\n",
    "        from_addr = 'n.mashayekhi456@gmail.com'  # replace with your email address\n",
    "        to_addr = 'n.mashayekhi456@gmail.com'  # replace with recipient email address\n",
    "        subject = message\n",
    "        body = new_price\n",
    "\n",
    "        msg = MIMEMultipart()\n",
    "        msg['From'] = from_addr\n",
    "        msg['To'] = to_addr\n",
    "        msg['Subject'] = subject\n",
    "\n",
    "        msg.attach(MIMEText(body, 'plain'))\n",
    "\n",
    "        # Send the email\n",
    "        text = msg.as_string()\n",
    "        server.sendmail(from_addr, to_addr, text)\n",
    "\n",
    "        # Close the connection to the SMTP server\n",
    "        server.quit()\n",
    "        return 1\n",
    "    except NameError:\n",
    "        #return 0\n",
    "        return random.random()%2"
   ]
  },
  {
   "cell_type": "markdown",
   "metadata": {},
   "source": [
    "## Phase 2 (Login)\n",
    "- Save session for further use\n",
    "- Extract elements inside user panel"
   ]
  },
  {
   "cell_type": "markdown",
   "metadata": {},
   "source": [
    "### 2-1.Save Sessions in DB"
   ]
  },
  {
   "cell_type": "code",
   "execution_count": 3,
   "metadata": {},
   "outputs": [],
   "source": [
    "# POSTLOGINURL = 'www.toplearn.com/login'\n",
    "# #REQUESTURL = 'www.example.com/page_to_scrape'\n",
    "\n",
    "# payload = {'username': 'aacc9818@gmail.com', 'password': '456654321'}\n",
    "# with request.Session() as session:\n",
    "#     post = session.post(POSTLOGINURL, data=payload)\n",
    "#     print(session)"
   ]
  },
  {
   "cell_type": "code",
   "execution_count": 4,
   "metadata": {},
   "outputs": [],
   "source": [
    "import mysql\n",
    "import mysql.connector\n",
    "# run this every time\n",
    "mydb = mysql.connector.connect(\n",
    "  host=\"localhost\",\n",
    "  user=\"root\",\n",
    "  password=\"pdne\",\n",
    ")\n",
    "mycursor = mydb.cursor()\n",
    "\n",
    "# Create Database\n",
    "#mycursor.execute(\"DROP DATABASE TopLearn_Project\")\n",
    "\n",
    "# Switch to the newly created database\n",
    "mycursor.execute(\"USE TopLearn_Project\")"
   ]
  },
  {
   "cell_type": "markdown",
   "metadata": {},
   "source": [
    "Creating Databases.Dont run this cell again."
   ]
  },
  {
   "cell_type": "code",
   "execution_count": 5,
   "metadata": {},
   "outputs": [],
   "source": [
    "# Create a database named \"TopLearn_Project\"\n",
    "mycursor.execute(\"CREATE DATABASE TopLearn_Project\")\n",
    "# Switch to the newly created database\n",
    "mycursor.execute(\"USE TopLearn_Project\")\n",
    "# Create Table Session for save login cookies\n",
    "mycursor.execute(\"CREATE TABLE Sessions (id INT AUTO_INCREMENT PRIMARY KEY, URL_uid VARCHAR(255), username VARCHAR(127), cookie VARCHAR(1024), site_name VARCHAR(127))\")\n",
    "# Create Table Discounts for toplearn website\n",
    "mycursor.execute(\"CREATE TABLE Discounts (id INT AUTO_INCREMENT PRIMARY KEY, course_name VARCHAR(1024), login_status INT)\")\n",
    "# Create Table Logs for discounts changes\n",
    "mycursor.execute(\"CREATE TABLE Logs (id INT AUTO_INCREMENT PRIMARY KEY, new_value VARCHAR(1024), sms INT, email INT, discount_id INT,time TIME, FOREIGN KEY (discount_id) REFERENCES Discounts(id))\" )\n"
   ]
  },
  {
   "cell_type": "markdown",
   "metadata": {},
   "source": [
    "MySQl Helpping functions"
   ]
  },
  {
   "cell_type": "code",
   "execution_count": 6,
   "metadata": {},
   "outputs": [],
   "source": [
    "def show_databases():\n",
    "    mycursor.execute(\"SHOW DATABASES\")\n",
    "    for db in mycursor:\n",
    "        print(db)\n",
    "\n",
    "def show_tables():\n",
    "    mycursor.execute(\"SHOW TABLES\")\n",
    "    for table in mycursor:\n",
    "        print(table)\n",
    "\n",
    "def show_rows(table):\n",
    "    mycursor.execute(f'select * from {table}')\n",
    "    records = mycursor.fetchall()\n",
    "    for record in records:\n",
    "        print(record)"
   ]
  },
  {
   "cell_type": "markdown",
   "metadata": {},
   "source": [
    "Getting session_id from toplearn"
   ]
  },
  {
   "cell_type": "code",
   "execution_count": 7,
   "metadata": {},
   "outputs": [],
   "source": [
    "toplearn_url = 'http://www.toplearn.com/Login'\n",
    "url = 'https://toplearn.com/Account/DashBoard?uid=c8ef2015-a667-4a68-a8d7-3d07ef51ec96'\n",
    "response = requests.get(url)\n",
    "\n",
    "#session_id = response.cookies.get('.AspNetCore.Session')\n",
    "#print(response.headers)\n",
    "#print(response.cookies.AspNetCore.Mvc.CookieTempDataProvider)\n",
    "#response.cookies.Session\n",
    "session_id = response.headers['Set-Cookie']"
   ]
  },
  {
   "cell_type": "markdown",
   "metadata": {},
   "source": [
    "Save Session_id in Database"
   ]
  },
  {
   "cell_type": "code",
   "execution_count": 8,
   "metadata": {},
   "outputs": [
    {
     "data": {
      "text/html": [
       "<div>\n",
       "<style scoped>\n",
       "    .dataframe tbody tr th:only-of-type {\n",
       "        vertical-align: middle;\n",
       "    }\n",
       "\n",
       "    .dataframe tbody tr th {\n",
       "        vertical-align: top;\n",
       "    }\n",
       "\n",
       "    .dataframe thead th {\n",
       "        text-align: right;\n",
       "    }\n",
       "</style>\n",
       "<table border=\"1\" class=\"dataframe\">\n",
       "  <thead>\n",
       "    <tr style=\"text-align: right;\">\n",
       "      <th></th>\n",
       "      <th>id</th>\n",
       "      <th>URL_uid</th>\n",
       "      <th>username</th>\n",
       "      <th>cookie</th>\n",
       "      <th>site_name</th>\n",
       "    </tr>\n",
       "  </thead>\n",
       "  <tbody>\n",
       "    <tr>\n",
       "      <th>0</th>\n",
       "      <td>1</td>\n",
       "      <td>https://toplearn.com/Account/DashBoard?uid=c8e...</td>\n",
       "      <td>Neginma</td>\n",
       "      <td>.AspNetCore.Antiforgery.xX1vr0OcUbw=CfDJ8ANvLv...</td>\n",
       "      <td>Toplearn</td>\n",
       "    </tr>\n",
       "  </tbody>\n",
       "</table>\n",
       "</div>"
      ],
      "text/plain": [
       "   id                                            URL_uid username  \\\n",
       "0   1  https://toplearn.com/Account/DashBoard?uid=c8e...  Neginma   \n",
       "\n",
       "                                              cookie site_name  \n",
       "0  .AspNetCore.Antiforgery.xX1vr0OcUbw=CfDJ8ANvLv...  Toplearn  "
      ]
     },
     "execution_count": 8,
     "metadata": {},
     "output_type": "execute_result"
    }
   ],
   "source": [
    "mycursor.execute(\"INSERT INTO Sessions (URL_uid, username, cookie, site_name ) VALUES (%s,%s,%s,%s)\", [url,'Neginma',str(session_id),'Toplearn'])\n",
    "mydb.commit()\n",
    "query = 'SELECT * FROM Sessions'\n",
    "df = pd.read_sql(query, mydb)\n",
    "df"
   ]
  },
  {
   "cell_type": "code",
   "execution_count": 9,
   "metadata": {},
   "outputs": [],
   "source": [
    "# this is the last cell for using database- dont run it now!\n",
    "# cursor.close()\n",
    "# connection.close()"
   ]
  },
  {
   "cell_type": "markdown",
   "metadata": {},
   "source": [
    "### 2-2.Crawl toplearn "
   ]
  },
  {
   "cell_type": "code",
   "execution_count": 10,
   "metadata": {},
   "outputs": [],
   "source": [
    "url_topl = 'https://toplearn.com/TodayDiscounts'\n",
    "response = requests.get(url_topl)\n",
    "soup = BeautifulSoup(response.text, 'html.parser')"
   ]
  },
  {
   "cell_type": "markdown",
   "metadata": {},
   "source": [
    "Save Initial values in Discounts"
   ]
  },
  {
   "cell_type": "code",
   "execution_count": 11,
   "metadata": {},
   "outputs": [
    {
     "data": {
      "text/html": [
       "<div>\n",
       "<style scoped>\n",
       "    .dataframe tbody tr th:only-of-type {\n",
       "        vertical-align: middle;\n",
       "    }\n",
       "\n",
       "    .dataframe tbody tr th {\n",
       "        vertical-align: top;\n",
       "    }\n",
       "\n",
       "    .dataframe thead th {\n",
       "        text-align: right;\n",
       "    }\n",
       "</style>\n",
       "<table border=\"1\" class=\"dataframe\">\n",
       "  <thead>\n",
       "    <tr style=\"text-align: right;\">\n",
       "      <th></th>\n",
       "      <th>id</th>\n",
       "      <th>course_name</th>\n",
       "      <th>login_status</th>\n",
       "    </tr>\n",
       "  </thead>\n",
       "  <tbody>\n",
       "    <tr>\n",
       "      <th>0</th>\n",
       "      <td>1</td>\n",
       "      <td>آموزش ساخت ربات تلگرام با Python</td>\n",
       "      <td>1</td>\n",
       "    </tr>\n",
       "    <tr>\n",
       "      <th>1</th>\n",
       "      <td>2</td>\n",
       "      <td>آموزش کتابخانه LOTTIE – انیمیشن در اندروید</td>\n",
       "      <td>1</td>\n",
       "    </tr>\n",
       "    <tr>\n",
       "      <th>2</th>\n",
       "      <td>3</td>\n",
       "      <td>آموزش افتر افکت ( After Effects )</td>\n",
       "      <td>1</td>\n",
       "    </tr>\n",
       "    <tr>\n",
       "      <th>3</th>\n",
       "      <td>4</td>\n",
       "      <td>آموزش افترافکت ( انیمیشن سازی )</td>\n",
       "      <td>1</td>\n",
       "    </tr>\n",
       "    <tr>\n",
       "      <th>4</th>\n",
       "      <td>5</td>\n",
       "      <td>آموزش کالیگرافی در فتوشاپ</td>\n",
       "      <td>1</td>\n",
       "    </tr>\n",
       "    <tr>\n",
       "      <th>5</th>\n",
       "      <td>6</td>\n",
       "      <td>آموزش ساخت کاور اینستاگرام در فتوشاپ</td>\n",
       "      <td>1</td>\n",
       "    </tr>\n",
       "    <tr>\n",
       "      <th>6</th>\n",
       "      <td>7</td>\n",
       "      <td>طراحی استوری اینستاگرام در افتر افکت</td>\n",
       "      <td>1</td>\n",
       "    </tr>\n",
       "    <tr>\n",
       "      <th>7</th>\n",
       "      <td>8</td>\n",
       "      <td>آموزش کار با موتور بازی سازی آنریل انجین</td>\n",
       "      <td>1</td>\n",
       "    </tr>\n",
       "    <tr>\n",
       "      <th>8</th>\n",
       "      <td>9</td>\n",
       "      <td>آموزش ++C در آنریل انجین</td>\n",
       "      <td>1</td>\n",
       "    </tr>\n",
       "    <tr>\n",
       "      <th>9</th>\n",
       "      <td>10</td>\n",
       "      <td>تحلیل و پیش‌بینی بورس در پایتون</td>\n",
       "      <td>1</td>\n",
       "    </tr>\n",
       "  </tbody>\n",
       "</table>\n",
       "</div>"
      ],
      "text/plain": [
       "   id                                   course_name  login_status\n",
       "0   1             آموزش ساخت ربات تلگرام با Python              1\n",
       "1   2   آموزش کتابخانه LOTTIE – انیمیشن در اندروید              1\n",
       "2   3            آموزش افتر افکت ( After Effects )              1\n",
       "3   4              آموزش افترافکت ( انیمیشن سازی )              1\n",
       "4   5                    آموزش کالیگرافی در فتوشاپ              1\n",
       "5   6         آموزش ساخت کاور اینستاگرام در فتوشاپ              1\n",
       "6   7         طراحی استوری اینستاگرام در افتر افکت              1\n",
       "7   8     آموزش کار با موتور بازی سازی آنریل انجین              1\n",
       "8   9                     آموزش ++C در آنریل انجین              1\n",
       "9  10              تحلیل و پیش‌بینی بورس در پایتون              1"
      ]
     },
     "execution_count": 11,
     "metadata": {},
     "output_type": "execute_result"
    }
   ],
   "source": [
    "# this cell get the initial value of target element\n",
    "list_h2 = soup.find_all('h2')[:10]\n",
    "for h2 in list_h2:\n",
    "    mycursor.execute(\"INSERT INTO Discounts (course_name, login_status) VALUES (%s,%s)\", [(h2.find('a').text),1])\n",
    "query = 'SELECT * FROM Discounts'\n",
    "df = pd.read_sql(query, mydb)\n",
    "df"
   ]
  },
  {
   "cell_type": "markdown",
   "metadata": {},
   "source": [
    "Checking for any changes in Discounts Table and save log in Logs Table and send SMS/Email"
   ]
  },
  {
   "cell_type": "code",
   "execution_count": 12,
   "metadata": {},
   "outputs": [],
   "source": [
    "#while True:\n",
    "updated_list = soup.find_all('h2')[:10]\n",
    "for i in range(1,10):\n",
    "    mycursor.execute(f\"SELECT course_name FROM Discounts WHERE id = {i}\")\n",
    "    old_value = mycursor.fetchone()[0]\n",
    "    new_value = str(updated_list[i].text)\n",
    "    if new_value!= old_value:\n",
    "        sms = send_sms(new_value)\n",
    "        email = send_email(new_value)\n",
    "        discount_id = i\n",
    "        current_time = datetime.now().time().strftime('%H:%M:%S')\n",
    "        mycursor.execute(\"INSERT INTO Logs (discount_id, new_value, sms, email, time) VALUES (%s,%s,%s,%s,%s)\", [discount_id, new_value, sms, email,current_time])\n",
    "        mydb.commit()"
   ]
  },
  {
   "cell_type": "code",
   "execution_count": 13,
   "metadata": {},
   "outputs": [
    {
     "data": {
      "text/html": [
       "<div>\n",
       "<style scoped>\n",
       "    .dataframe tbody tr th:only-of-type {\n",
       "        vertical-align: middle;\n",
       "    }\n",
       "\n",
       "    .dataframe tbody tr th {\n",
       "        vertical-align: top;\n",
       "    }\n",
       "\n",
       "    .dataframe thead th {\n",
       "        text-align: right;\n",
       "    }\n",
       "</style>\n",
       "<table border=\"1\" class=\"dataframe\">\n",
       "  <thead>\n",
       "    <tr style=\"text-align: right;\">\n",
       "      <th></th>\n",
       "      <th>id</th>\n",
       "      <th>new_value</th>\n",
       "      <th>sms</th>\n",
       "      <th>email</th>\n",
       "      <th>discount_id</th>\n",
       "      <th>time</th>\n",
       "    </tr>\n",
       "  </thead>\n",
       "  <tbody>\n",
       "    <tr>\n",
       "      <th>0</th>\n",
       "      <td>1</td>\n",
       "      <td>آموزش کتابخانه LOTTIE – انیمیشن در اندروید</td>\n",
       "      <td>0</td>\n",
       "      <td>1</td>\n",
       "      <td>1</td>\n",
       "      <td>0 days 23:38:58</td>\n",
       "    </tr>\n",
       "    <tr>\n",
       "      <th>1</th>\n",
       "      <td>2</td>\n",
       "      <td>آموزش افتر افکت ( After Effects )</td>\n",
       "      <td>0</td>\n",
       "      <td>1</td>\n",
       "      <td>2</td>\n",
       "      <td>0 days 23:38:58</td>\n",
       "    </tr>\n",
       "    <tr>\n",
       "      <th>2</th>\n",
       "      <td>3</td>\n",
       "      <td>آموزش افترافکت ( انیمیشن سازی )</td>\n",
       "      <td>1</td>\n",
       "      <td>1</td>\n",
       "      <td>3</td>\n",
       "      <td>0 days 23:38:58</td>\n",
       "    </tr>\n",
       "    <tr>\n",
       "      <th>3</th>\n",
       "      <td>4</td>\n",
       "      <td>آموزش کالیگرافی در فتوشاپ</td>\n",
       "      <td>0</td>\n",
       "      <td>1</td>\n",
       "      <td>4</td>\n",
       "      <td>0 days 23:38:58</td>\n",
       "    </tr>\n",
       "    <tr>\n",
       "      <th>4</th>\n",
       "      <td>5</td>\n",
       "      <td>آموزش ساخت کاور اینستاگرام در فتوشاپ</td>\n",
       "      <td>0</td>\n",
       "      <td>0</td>\n",
       "      <td>5</td>\n",
       "      <td>0 days 23:38:58</td>\n",
       "    </tr>\n",
       "    <tr>\n",
       "      <th>5</th>\n",
       "      <td>6</td>\n",
       "      <td>طراحی استوری اینستاگرام در افتر افکت</td>\n",
       "      <td>0</td>\n",
       "      <td>0</td>\n",
       "      <td>6</td>\n",
       "      <td>0 days 23:38:58</td>\n",
       "    </tr>\n",
       "    <tr>\n",
       "      <th>6</th>\n",
       "      <td>7</td>\n",
       "      <td>آموزش کار با موتور بازی سازی آنریل انجین</td>\n",
       "      <td>0</td>\n",
       "      <td>1</td>\n",
       "      <td>7</td>\n",
       "      <td>0 days 23:38:58</td>\n",
       "    </tr>\n",
       "    <tr>\n",
       "      <th>7</th>\n",
       "      <td>8</td>\n",
       "      <td>آموزش ++C در آنریل انجین</td>\n",
       "      <td>1</td>\n",
       "      <td>1</td>\n",
       "      <td>8</td>\n",
       "      <td>0 days 23:38:58</td>\n",
       "    </tr>\n",
       "    <tr>\n",
       "      <th>8</th>\n",
       "      <td>9</td>\n",
       "      <td>تحلیل و پیش‌بینی بورس در پایتون</td>\n",
       "      <td>1</td>\n",
       "      <td>1</td>\n",
       "      <td>9</td>\n",
       "      <td>0 days 23:38:58</td>\n",
       "    </tr>\n",
       "  </tbody>\n",
       "</table>\n",
       "</div>"
      ],
      "text/plain": [
       "   id                                     new_value  sms  email  discount_id  \\\n",
       "0   1   آموزش کتابخانه LOTTIE – انیمیشن در اندروید     0      1            1   \n",
       "1   2            آموزش افتر افکت ( After Effects )     0      1            2   \n",
       "2   3              آموزش افترافکت ( انیمیشن سازی )     1      1            3   \n",
       "3   4                    آموزش کالیگرافی در فتوشاپ     0      1            4   \n",
       "4   5         آموزش ساخت کاور اینستاگرام در فتوشاپ     0      0            5   \n",
       "5   6         طراحی استوری اینستاگرام در افتر افکت     0      0            6   \n",
       "6   7     آموزش کار با موتور بازی سازی آنریل انجین     0      1            7   \n",
       "7   8                     آموزش ++C در آنریل انجین     1      1            8   \n",
       "8   9              تحلیل و پیش‌بینی بورس در پایتون     1      1            9   \n",
       "\n",
       "             time  \n",
       "0 0 days 23:38:58  \n",
       "1 0 days 23:38:58  \n",
       "2 0 days 23:38:58  \n",
       "3 0 days 23:38:58  \n",
       "4 0 days 23:38:58  \n",
       "5 0 days 23:38:58  \n",
       "6 0 days 23:38:58  \n",
       "7 0 days 23:38:58  \n",
       "8 0 days 23:38:58  "
      ]
     },
     "execution_count": 13,
     "metadata": {},
     "output_type": "execute_result"
    }
   ],
   "source": [
    "query = 'SELECT * FROM Logs'\n",
    "df = pd.read_sql(query, mydb)\n",
    "df"
   ]
  },
  {
   "cell_type": "markdown",
   "metadata": {},
   "source": [
    "## Phase 3 (kaptcha solver)"
   ]
  },
  {
   "cell_type": "code",
   "execution_count": 43,
   "metadata": {},
   "outputs": [
    {
     "name": "stderr",
     "output_type": "stream",
     "text": [
      "/var/folders/bf/9616ns414yg2qn2p8czl2sr00000gn/T/ipykernel_29060/1496496790.py:19: DeprecationWarning: find_element_by_* commands are deprecated. Please use find_element() instead\n",
      "  driver.find_element_by_xpath(\"/html/body/div[2]/div/header/div/div/div/a[1]\").click()\n",
      "/var/folders/bf/9616ns414yg2qn2p8czl2sr00000gn/T/ipykernel_29060/1496496790.py:22: DeprecationWarning: find_element_by_* commands are deprecated. Please use find_element() instead\n",
      "  driver.find_element_by_xpath('//*[@id=\"EmailOrMobilePhone\"]').send_keys(\"aacc9818@gmail.com\")\n",
      "/var/folders/bf/9616ns414yg2qn2p8czl2sr00000gn/T/ipykernel_29060/1496496790.py:23: DeprecationWarning: find_element_by_* commands are deprecated. Please use find_element() instead\n",
      "  driver.find_element_by_xpath('//*[@id=\"Password\"]').send_keys(\"456654321\")\n",
      "/var/folders/bf/9616ns414yg2qn2p8czl2sr00000gn/T/ipykernel_29060/1496496790.py:30: DeprecationWarning: find_element_by_* commands are deprecated. Please use find_element() instead\n",
      "  image_element = driver.find_element_by_xpath('//*[@id=\"captcha-image\"]')\n"
     ]
    }
   ],
   "source": [
    "from selenium import webdriver\n",
    "from selenium.webdriver.firefox.service import Service\n",
    "from selenium.webdriver import Firefox\n",
    "import time\n",
    "\n",
    "path_to_geckodriver = '/Users/ngn/geckodriver'\n",
    "\n",
    "service = Service(path_to_geckodriver)\n",
    "driver = Firefox(service=service)\n",
    "\n",
    "\n",
    "# navigate to a webpage\n",
    "driver.get(\"https://www.Toplearn.com\")\n",
    "\n",
    "# close the browser window\n",
    "#driver.quit()\n",
    "\n",
    "# Click on Login element\n",
    "driver.find_element_by_xpath(\"/html/body/div[2]/div/header/div/div/div/a[1]\").click()\n",
    "\n",
    "# Put username and Password\n",
    "driver.find_element_by_xpath('//*[@id=\"EmailOrMobilePhone\"]').send_keys(\"aacc9818@gmail.com\")\n",
    "driver.find_element_by_xpath('//*[@id=\"Password\"]').send_keys(\"456654321\")\n",
    "\n",
    "# Make delay for solving kaptcha manually\n",
    "#time.sleep(10)\n",
    "\n",
    "\n",
    "# Solving kaptcha automatically\n",
    "image_element = driver.find_element_by_xpath('//*[@id=\"captcha-image\"]')\n",
    "with open('captcha.png', 'wb') as file:\n",
    "    file.write(image_element.screenshot_as_png)\n",
    "\n",
    "# Click on Login Button\n",
    "#driver.find_element_by_xpath(\"/html/body/div[2]/div/div/div/form/div[2]/div[7]/button\").click()\n"
   ]
  },
  {
   "cell_type": "code",
   "execution_count": 35,
   "metadata": {},
   "outputs": [
    {
     "name": "stderr",
     "output_type": "stream",
     "text": [
      "/var/folders/bf/9616ns414yg2qn2p8czl2sr00000gn/T/ipykernel_10590/2125602030.py:18: DeprecationWarning: find_element_by_* commands are deprecated. Please use find_element() instead\n",
      "  captcha_img = driver.find_element_by_xpath('//*[@id=\"captcha-image\"]')\n",
      "/var/folders/bf/9616ns414yg2qn2p8czl2sr00000gn/T/ipykernel_10590/2125602030.py:44: DeprecationWarning: find_element_by_* commands are deprecated. Please use find_element() instead\n",
      "  captcha_input = driver.find_element_by_xpath('/html/body/div[2]/div/div/div/form/div[2]/div[7]/div/div[2]/div/input')\n"
     ]
    }
   ],
   "source": [
    "from selenium import webdriver\n",
    "from selenium.webdriver.firefox.service import Service\n",
    "from selenium.webdriver import Firefox\n",
    "import time\n",
    "from PIL import Image\n",
    "import pytesseract\n",
    "import tempfile\n",
    "import requests\n",
    "\n",
    "path_to_geckodriver = '/Users/ngn/geckodriver'\n",
    "\n",
    "service = Service(path_to_geckodriver)\n",
    "driver = Firefox(service=service)\n",
    "\n",
    "\n",
    "# navigate to a webpage\n",
    "driver.get(\"https://toplearn.com/Register\")\n",
    "captcha_img = driver.find_element_by_xpath('//*[@id=\"captcha-image\"]')\n",
    "captcha_img_url = captcha_img.get_attribute(\"src\")\n",
    "\n",
    "response = requests.get(captcha_img_url)\n",
    "with tempfile.NamedTemporaryFile(suffix='.jpeg') as img_file:\n",
    "    img_file.write(response.content)\n",
    "    img_file.flush()\n",
    "\n",
    "    # recognize the captcha\n",
    "    im = Image.open(img_file.name).convert(\"L\")\n",
    "    # 1. threshold the image\n",
    "    threshold = 140\n",
    "    table = []\n",
    "    for i in range(256):\n",
    "        if i < threshold:\n",
    "            table.append(0)\n",
    "        else:\n",
    "            table.append(1)\n",
    "\n",
    "    out = im.point(table, '1')\n",
    "    # out.show()\n",
    "    # 2. recognize with tesseract\n",
    "    # pytesseract.pytesseract.tesseract_cmd = r'/Library/Frameworks/Python.framework/Versions/3.8/lib/python3.8/site-packages'\n",
    "    time.sleep(5)\n",
    "    num = pytesseract.image_to_string(out)\n",
    "    time.sleep(5)\n",
    "    captcha_input = driver.find_element_by_xpath('/html/body/div[2]/div/div/div/form/div[2]/div[7]/div/div[2]/div/input')\n",
    "    captcha_input.send_keys(num)\n"
   ]
  },
  {
   "cell_type": "code",
   "execution_count": null,
   "metadata": {},
   "outputs": [],
   "source": [
    "/html/body/div[2]/div/div/div/form/div[2]/div[7]/div/div[2]/div/input\n",
    "\n",
    "data:image/png;base64,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"
   ]
  },
  {
   "cell_type": "code",
   "execution_count": 34,
   "metadata": {},
   "outputs": [],
   "source": [
    "driver.quit()"
   ]
  },
  {
   "cell_type": "code",
   "execution_count": 6,
   "metadata": {},
   "outputs": [
    {
     "name": "stdout",
     "output_type": "stream",
     "text": [
      "Requirement already satisfied: pytesseract in /Library/Frameworks/Python.framework/Versions/3.8/lib/python3.8/site-packages (0.3.10)\n",
      "Requirement already satisfied: packaging>=21.3 in /Library/Frameworks/Python.framework/Versions/3.8/lib/python3.8/site-packages (from pytesseract) (21.3)\n",
      "Requirement already satisfied: Pillow>=8.0.0 in /Library/Frameworks/Python.framework/Versions/3.8/lib/python3.8/site-packages (from pytesseract) (9.2.0)\n",
      "Requirement already satisfied: pyparsing!=3.0.5,>=2.0.2 in /Library/Frameworks/Python.framework/Versions/3.8/lib/python3.8/site-packages (from packaging>=21.3->pytesseract) (3.0.9)\n"
     ]
    }
   ],
   "source": [
    "! pip install pytesseract"
   ]
  },
  {
   "cell_type": "code",
   "execution_count": 6,
   "metadata": {},
   "outputs": [
    {
     "name": "stdout",
     "output_type": "stream",
     "text": [
      "Name: pytesseract\n",
      "Version: 0.3.10\n",
      "Summary: Python-tesseract is a python wrapper for Google's Tesseract-OCR\n",
      "Home-page: https://github.com/madmaze/pytesseract\n",
      "Author: Samuel Hoffstaetter\n",
      "Author-email: samuel@hoffstaetter.com\n",
      "License: Apache License 2.0\n",
      "Location: /Library/Frameworks/Python.framework/Versions/3.8/lib/python3.8/site-packages\n",
      "Requires: packaging, Pillow\n",
      "Required-by: \n"
     ]
    }
   ],
   "source": [
    "! pip show pytesseract\n"
   ]
  },
  {
   "cell_type": "code",
   "execution_count": 7,
   "metadata": {},
   "outputs": [
    {
     "name": "stdout",
     "output_type": "stream",
     "text": [
      "Collecting pytesseract\n",
      "  Using cached pytesseract-0.3.10-py3-none-any.whl (14 kB)\n",
      "Collecting Pillow>=8.0.0\n",
      "  Using cached Pillow-9.5.0-cp38-cp38-macosx_10_10_x86_64.whl (3.4 MB)\n",
      "Collecting packaging>=21.3\n",
      "  Using cached packaging-23.0-py3-none-any.whl (42 kB)\n",
      "Installing collected packages: Pillow, packaging, pytesseract\n",
      "\u001b[31mERROR: pip's dependency resolver does not currently take into account all the packages that are installed. This behaviour is the source of the following dependency conflicts.\n",
      "mlflow 2.1.1 requires packaging<23, but you have packaging 23.0 which is incompatible.\u001b[0m\u001b[31m\n",
      "\u001b[0mSuccessfully installed Pillow-9.5.0 packaging-23.0 pytesseract-0.3.10\n"
     ]
    }
   ],
   "source": [
    "! pip install pytesseract --target /Users/ngn/"
   ]
  },
  {
   "attachments": {},
   "cell_type": "markdown",
   "metadata": {},
   "source": [
    "#### second version of captcha solver"
   ]
  },
  {
   "cell_type": "code",
   "execution_count": null,
   "metadata": {},
   "outputs": [],
   "source": [
    "from selenium import webdriver\n",
    "from selenium.webdriver.common.keys import Keys\n",
    "from PIL import Image\n",
    "import pytesseract\n",
    "import tempfile\n",
    "import time\n",
    "\n",
    "# initialize the browser\n",
    "browser = webdriver.Chrome()\n",
    "\n",
    "# navigate to the website that has the captcha\n",
    "browser.get(\"https://example.com/\")\n",
    "\n",
    "# find the element that contains the captcha image\n",
    "captcha_img = browser.find_element_by_css_selector(\"#captcha img\")\n",
    "\n",
    "# get the image URL from the element\n",
    "captcha_img_url = captcha_img.get_attribute(\"src\")\n",
    "\n",
    "# download the image and save it to a temporary file\n",
    "response = requests.get(captcha_img_url)\n",
    "with tempfile.NamedTemporaryFile(suffix='.jpg') as img_file:\n",
    "    img_file.write(response.content)\n",
    "    img_file.flush()\n",
    "\n",
    "    # recognize the captcha\n",
    "    im = Image.open(img_file.name).convert(\"L\")\n",
    "    # 1. threshold the image\n",
    "    threshold = 140\n",
    "    table = []\n",
    "    for i in range(256):\n",
    "        if i < threshold:\n",
    "            table.append(0)\n",
    "        else:\n",
    "            table.append(1)\n",
    "\n",
    "    out = im.point(table, '1')\n",
    "    # out.show()\n",
    "    # 2. recognize with tesseract\n",
    "    num = pytesseract.image_to_string(out)\n",
    "    # fill in the captcha input field\n",
    "    captcha_input = browser.find_element_by_css_selector(\"#captcha input\")\n",
    "    captcha_input.send_keys(num)\n",
    "\n",
    "# submit the form\n",
    "submit_button = browser.find_element_by_css_selector(\"#submit\")\n",
    "submit_button.click()\n",
    "\n",
    "# wait for the page to load\n",
    "time.sleep(5)\n",
    "\n",
    "# get the result\n",
    "result_element = browser.find_element_by_css_selector(\"#result\")\n",
    "result = result_element.text\n",
    "print(result)\n",
    "\n",
    "# close the browser\n",
    "browser.quit()"
   ]
  },
  {
   "cell_type": "markdown",
   "metadata": {},
   "source": [
    "# Phase 4 (Registration)"
   ]
  },
  {
   "cell_type": "markdown",
   "metadata": {},
   "source": [
    "- Gather list of name & family & ... into Database \n",
    "- Register with temp mail in sites have email verification"
   ]
  },
  {
   "cell_type": "markdown",
   "metadata": {},
   "source": [
    "### 4-1. Gather Data and store in DB"
   ]
  },
  {
   "cell_type": "code",
   "execution_count": 26,
   "metadata": {},
   "outputs": [],
   "source": [
    "mycursor.execute(\"DROP TABLE Registrations\")"
   ]
  },
  {
   "cell_type": "code",
   "execution_count": 27,
   "metadata": {},
   "outputs": [
    {
     "data": {
      "text/html": [
       "<div>\n",
       "<style scoped>\n",
       "    .dataframe tbody tr th:only-of-type {\n",
       "        vertical-align: middle;\n",
       "    }\n",
       "\n",
       "    .dataframe tbody tr th {\n",
       "        vertical-align: top;\n",
       "    }\n",
       "\n",
       "    .dataframe thead th {\n",
       "        text-align: right;\n",
       "    }\n",
       "</style>\n",
       "<table border=\"1\" class=\"dataframe\">\n",
       "  <thead>\n",
       "    <tr style=\"text-align: right;\">\n",
       "      <th></th>\n",
       "      <th>id</th>\n",
       "      <th>name</th>\n",
       "      <th>family</th>\n",
       "      <th>email</th>\n",
       "      <th>password</th>\n",
       "    </tr>\n",
       "  </thead>\n",
       "  <tbody>\n",
       "    <tr>\n",
       "      <th>0</th>\n",
       "      <td>1</td>\n",
       "      <td>ali</td>\n",
       "      <td>alavi</td>\n",
       "      <td>None</td>\n",
       "      <td>None</td>\n",
       "    </tr>\n",
       "    <tr>\n",
       "      <th>1</th>\n",
       "      <td>2</td>\n",
       "      <td>naghi</td>\n",
       "      <td>naghavi</td>\n",
       "      <td>None</td>\n",
       "      <td>None</td>\n",
       "    </tr>\n",
       "    <tr>\n",
       "      <th>2</th>\n",
       "      <td>3</td>\n",
       "      <td>taghi</td>\n",
       "      <td>taghavi</td>\n",
       "      <td>None</td>\n",
       "      <td>None</td>\n",
       "    </tr>\n",
       "  </tbody>\n",
       "</table>\n",
       "</div>"
      ],
      "text/plain": [
       "   id   name   family email password\n",
       "0   1    ali    alavi  None     None\n",
       "1   2  naghi  naghavi  None     None\n",
       "2   3  taghi  taghavi  None     None"
      ]
     },
     "execution_count": 27,
     "metadata": {},
     "output_type": "execute_result"
    }
   ],
   "source": [
    "# Create Table Registrations for toplearn website\n",
    "mycursor.execute(\"CREATE TABLE Registrations (id INT AUTO_INCREMENT PRIMARY KEY, name VARCHAR(255), family VARCHAR(255), email VARCHAR(255), password VARCHAR(255))\")\n",
    "\n",
    "# create a list of tuples containing the data to insert\n",
    "data = [\n",
    "  ('ali', 'alavi'),\n",
    "  ('naghi', 'naghavi'),\n",
    "  ('taghi', 'taghavi')\n",
    "]\n",
    "# define the SQL query to insert data into the table\n",
    "sql = \"INSERT INTO Registrations (name, family) VALUES (%s, %s)\"\n",
    "mycursor.executemany(sql, data)\n",
    "mydb.commit()\n",
    "query = 'SELECT * FROM Registrations'\n",
    "pd.read_sql(query, mydb)"
   ]
  },
  {
   "cell_type": "markdown",
   "metadata": {},
   "source": [
    "### 4-2. Register in site(Toplearn)"
   ]
  },
  {
   "cell_type": "code",
   "execution_count": 1,
   "metadata": {},
   "outputs": [
    {
     "ename": "KeyboardInterrupt",
     "evalue": "",
     "output_type": "error",
     "traceback": [
      "\u001b[0;31m---------------------------------------------------------------------------\u001b[0m",
      "\u001b[0;31mKeyboardInterrupt\u001b[0m                         Traceback (most recent call last)",
      "\u001b[1;32m/Users/ngn/Documents/uni/Term 8/DBLAB/exe/Databas-Labratory/Untitled-1.ipynb Cell 38\u001b[0m in \u001b[0;36m<cell line: 18>\u001b[0;34m()\u001b[0m\n\u001b[1;32m     <a href='vscode-notebook-cell:/Users/ngn/Documents/uni/Term%208/DBLAB/exe/Databas-Labratory/Untitled-1.ipynb#Y151sZmlsZQ%3D%3D?line=15'>16</a>\u001b[0m \u001b[39m# navigate to temp mail webpage\u001b[39;00m\n\u001b[1;32m     <a href='vscode-notebook-cell:/Users/ngn/Documents/uni/Term%208/DBLAB/exe/Databas-Labratory/Untitled-1.ipynb#Y151sZmlsZQ%3D%3D?line=16'>17</a>\u001b[0m driver\u001b[39m.\u001b[39mget(\u001b[39m\"\u001b[39m\u001b[39mhttps://temp-mail.org/en/\u001b[39m\u001b[39m\"\u001b[39m)\n\u001b[0;32m---> <a href='vscode-notebook-cell:/Users/ngn/Documents/uni/Term%208/DBLAB/exe/Databas-Labratory/Untitled-1.ipynb#Y151sZmlsZQ%3D%3D?line=17'>18</a>\u001b[0m time\u001b[39m.\u001b[39;49msleep(\u001b[39m10\u001b[39;49m)\n\u001b[1;32m     <a href='vscode-notebook-cell:/Users/ngn/Documents/uni/Term%208/DBLAB/exe/Databas-Labratory/Untitled-1.ipynb#Y151sZmlsZQ%3D%3D?line=18'>19</a>\u001b[0m driver\u001b[39m.\u001b[39mfind_element_by_xpath(\u001b[39m\"\u001b[39m\u001b[39m/html/body/div[1]/div/div/div[2]/div[1]/form/div[2]/button\u001b[39m\u001b[39m\"\u001b[39m)\u001b[39m.\u001b[39mclick()\n\u001b[1;32m     <a href='vscode-notebook-cell:/Users/ngn/Documents/uni/Term%208/DBLAB/exe/Databas-Labratory/Untitled-1.ipynb#Y151sZmlsZQ%3D%3D?line=20'>21</a>\u001b[0m \u001b[39m# switch to the new tab for toplearn webpage\u001b[39;00m\n",
      "\u001b[0;31mKeyboardInterrupt\u001b[0m: "
     ]
    }
   ],
   "source": [
    "from selenium import webdriver\n",
    "from selenium.webdriver.firefox.service import Service\n",
    "from selenium.webdriver import Firefox\n",
    "import time\n",
    "from selenium.webdriver.common.by import By\n",
    "from selenium.webdriver.support.ui import WebDriverWait\n",
    "from selenium.webdriver.support import expected_conditions as EC\n",
    "from selenium.webdriver.common.keys import Keys\n",
    "from selenium.webdriver.common.action_chains import ActionChains\n",
    "import pyperclip\n",
    "\n",
    "path_to_geckodriver = '/Users/ngn/geckodriver'\n",
    "service = Service(path_to_geckodriver)\n",
    "driver = Firefox(service=service)\n",
    "\n",
    "# navigate to temp mail webpage\n",
    "driver.get(\"https://temp-mail.org/en/\")\n",
    "time.sleep(10)\n",
    "driver.find_element_by_xpath(\"/html/body/div[1]/div/div/div[2]/div[1]/form/div[2]/button\").click()\n",
    "\n",
    "# switch to the new tab for toplearn webpage\n",
    "driver.execute_script(\"window.open('');\")\n",
    "driver.switch_to.window(driver.window_handles[-1])\n",
    "driver.get(\"https://www.Toplearn.com\")\n",
    "\n",
    "# Click on Login element\n",
    "driver.find_element_by_xpath(\"/html/body/div[2]/div/header/div/div/div/a[2]\").click()\n",
    "\n",
    "# Put information for registration\n",
    "\n",
    "\n",
    "\n",
    "# Get clipboard data\n",
    "text = pyperclip.paste()\n",
    "\n",
    "# find the input element to paste the text into\n",
    "input_element = driver.find_element_by_xpath('//*[@id=\"Email\"]')\n",
    "\n",
    "# click on the input element to focus it\n",
    "input_element.click()\n",
    "\n",
    "# use ActionChains to simulate a keyboard shortcut for pasting\n",
    "ActionChains(driver).key_down(Keys.COMMAND).send_keys('v').key_up(Keys.COMMAND).perform()\n",
    "\n",
    "# enter the pasted text into the input element\n",
    "input_element.send_keys(text)\n",
    "# driver.find_element_by_xpath('//*[@id=\"Password\"]')\n",
    "# driver.find_element_by_xpath('//*[@id=\"ConfirmPassword\"]').send_keys(text)\n",
    "\n",
    "# checkbox = WebDriverWait(driver, 5).until(EC.element_to_be_clickable((By.XPATH, '//*[@id=\"AcceptRules\"]')))\n",
    "# checkbox = driver.find_element_by_xpath('//*[@id=\"AcceptRules\"]')\n",
    "# After this you should check the checkbox and click on the button at the bottom"
   ]
  },
  {
   "cell_type": "code",
   "execution_count": 37,
   "metadata": {},
   "outputs": [],
   "source": [
    "text = pyperclip.paste()"
   ]
  },
  {
   "cell_type": "code",
   "execution_count": 36,
   "metadata": {},
   "outputs": [
    {
     "name": "stdout",
     "output_type": "stream",
     "text": [
      "Collecting pyperclip\n",
      "  Downloading pyperclip-1.8.2.tar.gz (20 kB)\n",
      "  Preparing metadata (setup.py) ... \u001b[?25ldone\n",
      "\u001b[?25hBuilding wheels for collected packages: pyperclip\n",
      "  Building wheel for pyperclip (setup.py) ... \u001b[?25ldone\n",
      "\u001b[?25h  Created wheel for pyperclip: filename=pyperclip-1.8.2-py3-none-any.whl size=11107 sha256=39ad41a0321b1ffbfe6eeedbcadee70f4765e9b4b44a6e3be90b4792754cf2a6\n",
      "  Stored in directory: /Users/ngn/Library/Caches/pip/wheels/7f/1a/65/84ff8c386bec21fca6d220ea1f5498a0367883a78dd5ba6122\n",
      "Successfully built pyperclip\n",
      "Installing collected packages: pyperclip\n",
      "Successfully installed pyperclip-1.8.2\n"
     ]
    }
   ],
   "source": [
    "! pip install pyperclip"
   ]
  },
  {
   "cell_type": "code",
   "execution_count": null,
   "metadata": {},
   "outputs": [],
   "source": []
  }
 ],
 "metadata": {
  "kernelspec": {
   "display_name": "Python 3.8.5 64-bit",
   "language": "python",
   "name": "python3"
  },
  "language_info": {
   "codemirror_mode": {
    "name": "ipython",
    "version": 3
   },
   "file_extension": ".py",
   "mimetype": "text/x-python",
   "name": "python",
   "nbconvert_exporter": "python",
   "pygments_lexer": "ipython3",
   "version": "3.8.5"
  },
  "vscode": {
   "interpreter": {
    "hash": "0adcc2737ebf6a4a119f135174df96668767fca1ef1112612db5ecadf2b6d608"
   }
  }
 },
 "nbformat": 4,
 "nbformat_minor": 4
}
