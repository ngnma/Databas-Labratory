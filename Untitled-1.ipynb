{
 "cells": [
  {
   "cell_type": "markdown",
   "metadata": {},
   "source": [
    "# Database Labratory Project"
   ]
  },
  {
   "cell_type": "markdown",
   "metadata": {},
   "source": [
    "- Negin mashayekhi\n",
    "- Farbod fooladi"
   ]
  },
  {
   "cell_type": "markdown",
   "metadata": {},
   "source": [
    "### 1. Checking a webpage to know when an element has changed"
   ]
  },
  {
   "cell_type": "code",
   "execution_count": null,
   "metadata": {},
   "outputs": [],
   "source": [
    "import requests\n",
    "from bs4 import BeautifulSoup\n",
    "\n",
    "url = 'https://www.digikala.com/search/category-foreign-printed-book/'\n",
    "response = requests.get(url)\n",
    "soup = BeautifulSoup(response.text, 'html.parser')"
   ]
  },
  {
   "cell_type": "code",
   "execution_count": null,
   "metadata": {},
   "outputs": [],
   "source": [
    "# this cell get the initial value of target element\n",
    "seventh_h3 = soup.find_all('h3')[7] \n",
    "next_span_info = seventh_h3.find_next_sibling('span', {'class': 'info-value'})\n",
    "price_span = next_span_info.find('span', {'class': 'info-price'})\n",
    "initial_value = price_span.text\n",
    "initial_value"
   ]
  },
  {
   "cell_type": "code",
   "execution_count": null,
   "metadata": {},
   "outputs": [],
   "source": [
    "# this cell check the element continously \n",
    "while True:\n",
    "    seventh_h3 = soup.find_all('h3')[7] \n",
    "    next_span_info = seventh_h3.find_next_sibling('span', {'class': 'info-value'})\n",
    "    price_span = next_span_info.find('span', {'class': 'info-price'})\n",
    "    if initial_value != price_span.text:\n",
    "        new_price = price_span.text\n",
    "        print(price_span.text)\n",
    "        break"
   ]
  },
  {
   "cell_type": "markdown",
   "metadata": {},
   "source": [
    "#### Sending Email"
   ]
  },
  {
   "cell_type": "code",
   "execution_count": null,
   "metadata": {},
   "outputs": [],
   "source": [
    "import smtplib\n",
    "from email.mime.text import MIMEText\n",
    "from email.mime.multipart import MIMEMultipart"
   ]
  },
  {
   "cell_type": "code",
   "execution_count": null,
   "metadata": {},
   "outputs": [],
   "source": [
    "# Set up connection to the SMTP server\n",
    "smtp_server = 'smtp.gmail.com'  # replace with your SMTP server address\n",
    "smtp_port = 25  # replace with your SMTP server port\n",
    "username = 'n.mashayekhi456@gmail.com'  # replace with your email address\n",
    "password = '123456'  # replace with your email password\n",
    "\n",
    "server = smtplib.SMTP(smtp_server, smtp_port)\n",
    "server.starttls()\n",
    "server.login(username, password)\n",
    "\n",
    "# Construct the email message\n",
    "from_addr = 'n.mashayekhi456@gmail.com'  # replace with your email address\n",
    "to_addr = 'n.mashayekhi456@gmail.com'  # replace with recipient email address\n",
    "subject = 'teter price has changed!'\n",
    "body = new_price\n",
    "\n",
    "msg = MIMEMultipart()\n",
    "msg['From'] = from_addr\n",
    "msg['To'] = to_addr\n",
    "msg['Subject'] = subject\n",
    "\n",
    "msg.attach(MIMEText(body, 'plain'))\n",
    "\n",
    "# Send the email\n",
    "text = msg.as_string()\n",
    "server.sendmail(from_addr, to_addr, text)\n",
    "\n",
    "# Close the connection to the SMTP server\n",
    "server.quit()\n"
   ]
  },
  {
   "cell_type": "markdown",
   "metadata": {},
   "source": [
    "#### Sending SMS\n"
   ]
  },
  {
   "cell_type": "code",
   "execution_count": null,
   "metadata": {},
   "outputs": [],
   "source": [
    "from twilio.rest import Client\n",
    "\n",
    "# Your Account SID and Auth Token from twilio.com/console\n",
    "account_sid = 'your_account_sid'\n",
    "auth_token = 'your_auth_token'\n",
    "client = Client(account_sid, auth_token)\n",
    "\n",
    "# Use the Twilio API to send an SMS message\n",
    "message = client.messages.create(\n",
    "    body='Hello, this is a test message!',\n",
    "    from_='+989351004976', # Replace with your Twilio phone number\n",
    "    to='+989120753574' # Replace with the recipient's phone number\n",
    ")\n",
    "\n",
    "print(f'Sent message with SID: {message.sid}')"
   ]
  },
  {
   "attachments": {},
   "cell_type": "markdown",
   "metadata": {},
   "source": [
    "# Phase 2"
   ]
  },
  {
   "cell_type": "code",
   "execution_count": null,
   "metadata": {},
   "outputs": [],
   "source": [
    "from bs4 import BeautifulSoup\n",
    "\n",
    "# Parse the HTML content using Beautiful Soup\n",
    "html = '<<span>۷۵,۰۰۰</span><div class=\"d-flex\"><svg style=\"width: 16px; height: 16px; fill: var(--color-icon-high-emphasis);\"><use xlink:href=\"#toman\"></use></svg></div>>'\n",
    "soup = BeautifulSoup(html, 'html.parser')\n",
    "\n",
    "# Find the outer div using a CSS selector\n",
    "outer_div = soup.find('div', {'class': 'outer'})\n",
    "\n",
    "# Iterate over all the nested elements using the descendants attribute\n",
    "for element in outer_div.descendants:\n",
    "    if element.name == 'span' and element.get('id') == 'my-element':\n",
    "        # Extract the text or other attributes of the desired element\n",
    "        element_text = element.text\n",
    "        element_attribute = element['data-my-attribute']\n",
    "        break\n",
    "else:\n",
    "    # Handle the case where the desired element was not found\n",
    "    element_text = None\n",
    "    element_attribute = None\n"
   ]
  },
  {
   "cell_type": "code",
   "execution_count": null,
   "metadata": {},
   "outputs": [],
   "source": [
    "div.product-list_ProductList__item__LiiNI:nth-child(1) > a:nth-child(1) > div:nth-child(1) > article:nth-child(1) > div:nth-child(2) > div:nth-child(2) > div:nth-child(4) > div:nth-child(1) > div:nth-child(1) > span:nth-child(1)\n",
    "\n",
    "<span>۷۵,۰۰۰</span><div class=\"d-flex\"><svg style=\"width: 16px; height: 16px; fill: var(--color-icon-high-emphasis);\"><use xlink:href=\"#toman\"></use></svg></div>"
   ]
  },
  {
   "attachments": {},
   "cell_type": "markdown",
   "metadata": {},
   "source": [
    "# Phase 3\n",
    "* database creation"
   ]
  },
  {
   "cell_type": "code",
   "execution_count": null,
   "metadata": {},
   "outputs": [],
   "source": [
    "import mysql.connector\n",
    "\n",
    "# Connect to MySQL server\n",
    "mydb = mysql.connector.connect(\n",
    "  host=\"localhost\",\n",
    "  user=\"nf\",\n",
    "  password=\"1234\",\n",
    "  port=3306\n",
    ")\n",
    "\n",
    "# Create a cursor object\n",
    "mycursor = mydb.cursor()\n",
    "\n",
    "# Create a database named \"DB_Lab\"\n",
    "mycursor.execute(\"CREATE DATABASE DB_Lab\")\n",
    "\n",
    "# Switch to the newly created database\n",
    "mycursor.execute(\"USE DB_Lab\")\n",
    "\n",
    "# Create the \"urlLink\" table\n",
    "mycursor.execute(\"CREATE TABLE urlLink (id INT AUTO_INCREMENT PRIMARY KEY, url VARCHAR(255))\")\n",
    "\n",
    "# Create the \"captchaType\" table\n",
    "mycursor.execute(\"CREATE TABLE captchaType (id INT AUTO_INCREMENT PRIMARY KEY, type VARCHAR(255))\")\n",
    "\n",
    "# Create the \"libraryType\" table\n",
    "mycursor.execute(\"CREATE TABLE libraryType (id INT AUTO_INCREMENT PRIMARY KEY, type VARCHAR(255))\")\n",
    "\n",
    "# Confirm that the tables have been created\n",
    "mycursor.execute(\"SHOW TABLES\")\n",
    "for table in mycursor:\n",
    "  print(table)\n"
   ]
  },
  {
   "attachments": {},
   "cell_type": "markdown",
   "metadata": {},
   "source": [
    "* add data to tables"
   ]
  },
  {
   "attachments": {},
   "cell_type": "markdown",
   "metadata": {},
   "source": [
    "import mysql.connector\n",
    "\n",
    "# Connect to MySQL server\n",
    "mydb = mysql.connector.connect(\n",
    "  host=\"localhost\",\n",
    "  user=\"yourusername\",\n",
    "  password=\"yourpassword\",\n",
    "  database=\"DB_Lab\"\n",
    ")\n",
    "\n",
    "# Create a cursor object\n",
    "mycursor = mydb.cursor()\n",
    "\n",
    "# Insert data into the \"urlLink\" table\n",
    "sql = \"INSERT INTO urlLink (url) VALUES (%s)\"\n",
    "val = [\n",
    "  (\"https://www.example.com\"),\n",
    "  (\"https://www.google.com\"),\n",
    "  (\"https://www.yahoo.com\"),\n",
    "  (\"https://www.amazon.com\"),\n",
    "  (\"https://www.microsoft.com\")\n",
    "]\n",
    "mycursor.executemany(sql, val)\n",
    "mydb.commit()\n",
    "\n",
    "# Confirm that the data has been inserted\n",
    "mycursor.execute(\"SELECT * FROM urlLink\")\n",
    "result = mycursor.fetchall()\n",
    "for row in result:\n",
    "  print(row)\n"
   ]
  },
  {
   "cell_type": "markdown",
   "metadata": {},
   "source": [
    "# Phase 2 Top Learn"
   ]
  },
  {
   "cell_type": "markdown",
   "metadata": {},
   "source": []
  },
  {
   "cell_type": "code",
   "execution_count": 2,
   "metadata": {},
   "outputs": [],
   "source": [
    "from flask import Flask\n",
    "import datetime\n",
    "\n",
    "from flask import request, jsonify\n",
    "import uuid"
   ]
  },
  {
   "cell_type": "code",
   "execution_count": 3,
   "metadata": {},
   "outputs": [],
   "source": [
    "app = Flask(__name__)"
   ]
  },
  {
   "cell_type": "code",
   "execution_count": null,
   "metadata": {},
   "outputs": [],
   "source": [
    "class Session:\n",
    "    def __init__(self, user_id, session_id):\n",
    "        self.user_id = user_id\n",
    "        self.session_id = session_id\n",
    "        self.created_at = datetime.datetime.now()"
   ]
  },
  {
   "cell_type": "code",
   "execution_count": null,
   "metadata": {},
   "outputs": [],
   "source": [
    "@app.route('/login', methods=['POST'])\n",
    "def handle_login():\n",
    "    user_id = request.form['user_id']\n",
    "    session_id = str(uuid.uuid4())\n",
    "    session = Session(user_id, session_id)\n",
    "    session.save()\n",
    "    return jsonify({'session_id': session_id})\n",
    "\n",
    "@app.route('/profile', methods=['GET'])\n",
    "def handle_profile():\n",
    "    session_id = request.headers.get('Authorization')\n",
    "    connection = mysql.connector.connect(\n",
    "        host='localhost',\n",
    "        user='root',\n",
    "        password='password',\n",
    "        database='mydatabase'\n",
    "    )\n"
   ]
  },
  {
   "cell_type": "code",
   "execution_count": null,
   "metadata": {},
   "outputs": [],
   "source": [
    "POSTLOGINURL = 'www.toplearn.com/login'\n",
    "#REQUESTURL = 'www.example.com/page_to_scrape'\n",
    "\n",
    "payload = {'username': 'aacc9818@gmail.com', 'password': '456654321'}\n",
    "with request.Session() as session:\n",
    "    post = session.post(POSTLOGINURL, data=payload)\n",
    "    print(session)"
   ]
  },
  {
   "cell_type": "code",
   "execution_count": null,
   "metadata": {},
   "outputs": [],
   "source": [
    "import requests\n",
    "url = 'http://www.toplearn.com/Login'\n",
    "url2 = 'https://toplearn.com/Account/DashBoard?uid=c8ef2015-a667-4a68-a8d7-3d07ef51ec96'\n",
    "url3 = 'https://toplearn.com/Account/DashBoard?uid=c8ef2015-a667-4a68-a8d7-3d07ef51ec96'\n",
    "response = requests.get(url3)\n",
    "# Retrieve the session ID cookie\n",
    "session_id = response.cookies.get('.AspNetCore.Session')\n",
    "\n",
    "\n",
    "#print(response.headers)\n",
    "#print(response.cookies.AspNetCore.Mvc.CookieTempDataProvider)\n",
    "#response.cookies.Session\n",
    "response.headers['Set-Cookie']"
   ]
  },
  {
   "cell_type": "code",
   "execution_count": 1,
   "metadata": {},
   "outputs": [],
   "source": [
    "import mysql\n",
    "import mysql.connector"
   ]
  },
  {
   "cell_type": "code",
   "execution_count": 13,
   "metadata": {},
   "outputs": [],
   "source": [
    "mydb = mysql.connector.connect(\n",
    "  host=\"localhost\",\n",
    "  user=\"root\",\n",
    "  password=\"pdne\",\n",
    ")"
   ]
  },
  {
   "cell_type": "code",
   "execution_count": 17,
   "metadata": {},
   "outputs": [
    {
     "name": "stdout",
     "output_type": "stream",
     "text": [
      "('DB_Lab',)\n",
      "('information_schema',)\n",
      "('myDatabase',)\n",
      "('mysql',)\n",
      "('performance_schema',)\n",
      "('sys',)\n"
     ]
    }
   ],
   "source": [
    "mycursor = mydb.cursor()\n",
    "mycursor.execute(\"SHOW DATABASES\")\n",
    "for x in mycursor:\n",
    "  print(x)"
   ]
  },
  {
   "cell_type": "code",
   "execution_count": 16,
   "metadata": {},
   "outputs": [],
   "source": [
    "# Create a database named \"DB_Lab\"\n",
    "mycursor.execute(\"CREATE DATABASE DB_Lab\")"
   ]
  },
  {
   "cell_type": "code",
   "execution_count": 18,
   "metadata": {},
   "outputs": [],
   "source": [
    "# Switch to the newly created database\n",
    "mycursor.execute(\"USE DB_Lab\")"
   ]
  },
  {
   "cell_type": "code",
   "execution_count": 19,
   "metadata": {},
   "outputs": [],
   "source": [
    "mycursor.execute(\"CREATE TABLE Sessions (id INT AUTO_INCREMENT PRIMARY KEY, session VARCHAR(255))\")"
   ]
  },
  {
   "cell_type": "code",
   "execution_count": 20,
   "metadata": {},
   "outputs": [
    {
     "name": "stdout",
     "output_type": "stream",
     "text": [
      "('Sessions',)\n"
     ]
    }
   ],
   "source": [
    "mycursor.execute(\"SHOW TABLES\")\n",
    "for table in mycursor:\n",
    "  print(table)"
   ]
  },
  {
   "cell_type": "code",
   "execution_count": 34,
   "metadata": {},
   "outputs": [
    {
     "ename": "InternalError",
     "evalue": "Unread result found",
     "output_type": "error",
     "traceback": [
      "\u001b[0;31m---------------------------------------------------------------------------\u001b[0m",
      "\u001b[0;31mInternalError\u001b[0m                             Traceback (most recent call last)",
      "\u001b[1;32m/Users/ngn/Documents/uni/Term 8/DBLAB/exe/Databas-Labratory/Untitled-1.ipynb Cell 34\u001b[0m in \u001b[0;36m<cell line: 1>\u001b[0;34m()\u001b[0m\n\u001b[0;32m----> <a href='vscode-notebook-cell:/Users/ngn/Documents/uni/Term%208/DBLAB/exe/Databas-Labratory/Untitled-1.ipynb#X62sZmlsZQ%3D%3D?line=0'>1</a>\u001b[0m mycursor\u001b[39m.\u001b[39;49mexecute(\n\u001b[1;32m      <a href='vscode-notebook-cell:/Users/ngn/Documents/uni/Term%208/DBLAB/exe/Databas-Labratory/Untitled-1.ipynb#X62sZmlsZQ%3D%3D?line=1'>2</a>\u001b[0m     \u001b[39m'\u001b[39;49m\u001b[39mINSERT INTO Sessions (session) VALUES (\u001b[39;49m\u001b[39m%s\u001b[39;49;00m\u001b[39m)\u001b[39;49m\u001b[39m'\u001b[39;49m,\n\u001b[1;32m      <a href='vscode-notebook-cell:/Users/ngn/Documents/uni/Term%208/DBLAB/exe/Databas-Labratory/Untitled-1.ipynb#X62sZmlsZQ%3D%3D?line=2'>3</a>\u001b[0m     ([\u001b[39m\"\u001b[39;49m\u001b[39msession1\u001b[39;49m\u001b[39m\"\u001b[39;49m])\n\u001b[1;32m      <a href='vscode-notebook-cell:/Users/ngn/Documents/uni/Term%208/DBLAB/exe/Databas-Labratory/Untitled-1.ipynb#X62sZmlsZQ%3D%3D?line=3'>4</a>\u001b[0m )\n",
      "File \u001b[0;32m/Library/Frameworks/Python.framework/Versions/3.8/lib/python3.8/site-packages/mysql/connector/cursor.py:582\u001b[0m, in \u001b[0;36mMySQLCursor.execute\u001b[0;34m(self, operation, params, multi)\u001b[0m\n\u001b[1;32m    579\u001b[0m \u001b[39mexcept\u001b[39;00m (ProgrammingError, \u001b[39mReferenceError\u001b[39;00m) \u001b[39mas\u001b[39;00m err:\n\u001b[1;32m    580\u001b[0m     \u001b[39mraise\u001b[39;00m ProgrammingError(\u001b[39m\"\u001b[39m\u001b[39mCursor is not connected\u001b[39m\u001b[39m\"\u001b[39m) \u001b[39mfrom\u001b[39;00m \u001b[39merr\u001b[39;00m\n\u001b[0;32m--> 582\u001b[0m \u001b[39mself\u001b[39;49m\u001b[39m.\u001b[39;49m_connection\u001b[39m.\u001b[39;49mhandle_unread_result()\n\u001b[1;32m    584\u001b[0m \u001b[39mself\u001b[39m\u001b[39m.\u001b[39m_reset_result()\n\u001b[1;32m    585\u001b[0m stmt: StrOrBytes \u001b[39m=\u001b[39m \u001b[39m\"\u001b[39m\u001b[39m\"\u001b[39m\n",
      "File \u001b[0;32m/Library/Frameworks/Python.framework/Versions/3.8/lib/python3.8/site-packages/mysql/connector/connection.py:1711\u001b[0m, in \u001b[0;36mMySQLConnection.handle_unread_result\u001b[0;34m(self)\u001b[0m\n\u001b[1;32m   1709\u001b[0m     \u001b[39mself\u001b[39m\u001b[39m.\u001b[39mconsume_results()\n\u001b[1;32m   1710\u001b[0m \u001b[39melif\u001b[39;00m \u001b[39mself\u001b[39m\u001b[39m.\u001b[39munread_result:\n\u001b[0;32m-> 1711\u001b[0m     \u001b[39mraise\u001b[39;00m InternalError(\u001b[39m\"\u001b[39m\u001b[39mUnread result found\u001b[39m\u001b[39m\"\u001b[39m)\n",
      "\u001b[0;31mInternalError\u001b[0m: Unread result found"
     ]
    }
   ],
   "source": [
    "mycursor.execute(\n",
    "    'INSERT INTO Sessions (session) VALUES (%s)',\n",
    "    ([\"session1\"])\n",
    ")\n",
    "\n"
   ]
  },
  {
   "cell_type": "code",
   "execution_count": 30,
   "metadata": {},
   "outputs": [
    {
     "ename": "InternalError",
     "evalue": "Unread result found",
     "output_type": "error",
     "traceback": [
      "\u001b[0;31m---------------------------------------------------------------------------\u001b[0m",
      "\u001b[0;31mInternalError\u001b[0m                             Traceback (most recent call last)",
      "\u001b[1;32m/Users/ngn/Documents/uni/Term 8/DBLAB/exe/Databas-Labratory/Untitled-1.ipynb Cell 35\u001b[0m in \u001b[0;36m<cell line: 1>\u001b[0;34m()\u001b[0m\n\u001b[0;32m----> <a href='vscode-notebook-cell:/Users/ngn/Documents/uni/Term%208/DBLAB/exe/Databas-Labratory/Untitled-1.ipynb#X64sZmlsZQ%3D%3D?line=0'>1</a>\u001b[0m mycursor\u001b[39m.\u001b[39;49mexecute(\u001b[39m'\u001b[39;49m\u001b[39mselect * from Sessions\u001b[39;49m\u001b[39m'\u001b[39;49m)\n\u001b[1;32m      <a href='vscode-notebook-cell:/Users/ngn/Documents/uni/Term%208/DBLAB/exe/Databas-Labratory/Untitled-1.ipynb#X64sZmlsZQ%3D%3D?line=1'>2</a>\u001b[0m \u001b[39m# for item in mycursor:\u001b[39;00m\n\u001b[1;32m      <a href='vscode-notebook-cell:/Users/ngn/Documents/uni/Term%208/DBLAB/exe/Databas-Labratory/Untitled-1.ipynb#X64sZmlsZQ%3D%3D?line=2'>3</a>\u001b[0m \u001b[39m#   print(item)\u001b[39;00m\n\u001b[1;32m      <a href='vscode-notebook-cell:/Users/ngn/Documents/uni/Term%208/DBLAB/exe/Databas-Labratory/Untitled-1.ipynb#X64sZmlsZQ%3D%3D?line=4'>5</a>\u001b[0m myresult \u001b[39m=\u001b[39m mycursor\u001b[39m.\u001b[39mfetchall()\n",
      "File \u001b[0;32m/Library/Frameworks/Python.framework/Versions/3.8/lib/python3.8/site-packages/mysql/connector/cursor.py:582\u001b[0m, in \u001b[0;36mMySQLCursor.execute\u001b[0;34m(self, operation, params, multi)\u001b[0m\n\u001b[1;32m    579\u001b[0m \u001b[39mexcept\u001b[39;00m (ProgrammingError, \u001b[39mReferenceError\u001b[39;00m) \u001b[39mas\u001b[39;00m err:\n\u001b[1;32m    580\u001b[0m     \u001b[39mraise\u001b[39;00m ProgrammingError(\u001b[39m\"\u001b[39m\u001b[39mCursor is not connected\u001b[39m\u001b[39m\"\u001b[39m) \u001b[39mfrom\u001b[39;00m \u001b[39merr\u001b[39;00m\n\u001b[0;32m--> 582\u001b[0m \u001b[39mself\u001b[39;49m\u001b[39m.\u001b[39;49m_connection\u001b[39m.\u001b[39;49mhandle_unread_result()\n\u001b[1;32m    584\u001b[0m \u001b[39mself\u001b[39m\u001b[39m.\u001b[39m_reset_result()\n\u001b[1;32m    585\u001b[0m stmt: StrOrBytes \u001b[39m=\u001b[39m \u001b[39m\"\u001b[39m\u001b[39m\"\u001b[39m\n",
      "File \u001b[0;32m/Library/Frameworks/Python.framework/Versions/3.8/lib/python3.8/site-packages/mysql/connector/connection.py:1711\u001b[0m, in \u001b[0;36mMySQLConnection.handle_unread_result\u001b[0;34m(self)\u001b[0m\n\u001b[1;32m   1709\u001b[0m     \u001b[39mself\u001b[39m\u001b[39m.\u001b[39mconsume_results()\n\u001b[1;32m   1710\u001b[0m \u001b[39melif\u001b[39;00m \u001b[39mself\u001b[39m\u001b[39m.\u001b[39munread_result:\n\u001b[0;32m-> 1711\u001b[0m     \u001b[39mraise\u001b[39;00m InternalError(\u001b[39m\"\u001b[39m\u001b[39mUnread result found\u001b[39m\u001b[39m\"\u001b[39m)\n",
      "\u001b[0;31mInternalError\u001b[0m: Unread result found"
     ]
    }
   ],
   "source": [
    "mycursor.execute('select * from Sessions')\n",
    "# for item in mycursor:\n",
    "#   print(item)\n",
    "\n",
    "myresult = mycursor.fetchall()\n",
    "\n",
    "for x in myresult:\n",
    "  print(x)"
   ]
  },
  {
   "cell_type": "code",
   "execution_count": null,
   "metadata": {},
   "outputs": [],
   "source": [
    "\n",
    "cursor.close()\n",
    "connection.close()"
   ]
  },
  {
   "cell_type": "code",
   "execution_count": null,
   "metadata": {},
   "outputs": [],
   "source": []
  }
 ],
 "metadata": {
  "kernelspec": {
   "display_name": "Python 3.8.5 64-bit",
   "language": "python",
   "name": "python3"
  },
  "language_info": {
   "codemirror_mode": {
    "name": "ipython",
    "version": 3
   },
   "file_extension": ".py",
   "mimetype": "text/x-python",
   "name": "python",
   "nbconvert_exporter": "python",
   "pygments_lexer": "ipython3",
   "version": "3.8.5"
  },
  "vscode": {
   "interpreter": {
    "hash": "aee8b7b246df8f9039afb4144a1f6fd8d2ca17a180786b69acc140d282b71a49"
   }
  }
 },
 "nbformat": 4,
 "nbformat_minor": 4
}
