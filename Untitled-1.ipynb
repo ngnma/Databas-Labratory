{
 "cells": [
  {
   "cell_type": "markdown",
   "metadata": {},
   "source": [
    "# Database Labratory Project"
   ]
  },
  {
   "cell_type": "markdown",
   "metadata": {},
   "source": [
    "- Negin mashayekhi\n",
    "- Farbod fooladi"
   ]
  },
  {
   "cell_type": "code",
   "execution_count": 3,
   "metadata": {},
   "outputs": [],
   "source": [
    "# from twilio.rest import Client\n",
    "# import smtplib\n",
    "# from email.mime.text import MIMEText\n",
    "# from email.mime.multipart import MIMEMultipart\n",
    "import random\n",
    "import pandas as pd\n",
    "from flask import Flask\n",
    "import datetime\n",
    "from flask import request, jsonify\n",
    "import uuid\n",
    "import requests\n",
    "import requests\n",
    "from bs4 import BeautifulSoup\n",
    "from datetime import datetime"
   ]
  },
  {
   "cell_type": "markdown",
   "metadata": {},
   "source": [
    "## Phase 1 \n",
    "- Email/SMS API\n",
    "- Crawling a webpage(handelled later)\n"
   ]
  },
  {
   "cell_type": "markdown",
   "metadata": {},
   "source": [
    "### 1-1.Sending SMS/Email\n"
   ]
  },
  {
   "cell_type": "code",
   "execution_count": 2,
   "metadata": {},
   "outputs": [],
   "source": [
    "def send_sms(message):\n",
    "    try:\n",
    "        # Your Account SID and Auth Token from twilio.com/console\n",
    "        account_sid = 'account_sid'\n",
    "        auth_token = 'auth_token'\n",
    "        client = Client(account_sid, auth_token)\n",
    "\n",
    "        # Use the Twilio API to send an SMS message\n",
    "        message = client.messages.create(\n",
    "            body=message,\n",
    "            from_='+98121212121', # Replace with your Twilio phone number\n",
    "            to='+98121212121' # Replace with the recipient's phone number\n",
    "        )\n",
    "        return 1\n",
    "    except NameError:\n",
    "        #return 0\n",
    "        return random.random()%2\n",
    "\n",
    "def send_email(message):\n",
    "    try:\n",
    "        # Set up connection to the SMTP server\n",
    "        smtp_server = 'smtp.gmail.com'  # replace with your SMTP server address\n",
    "        smtp_port = 25  # replace with your SMTP server port\n",
    "        username = 'n.mashayekhi456@gmail.com'  # replace with your email address\n",
    "        password = '1234'  # replace with your email password\n",
    "\n",
    "        server = smtplib.SMTP(smtp_server, smtp_port)\n",
    "        server.starttls()\n",
    "        server.login(username, password)\n",
    "\n",
    "        # Construct the email message\n",
    "        from_addr = 'n.mashayekhi456@gmail.com'  # replace with your email address\n",
    "        to_addr = 'n.mashayekhi456@gmail.com'  # replace with recipient email address\n",
    "        subject = message\n",
    "        body = new_price\n",
    "\n",
    "        msg = MIMEMultipart()\n",
    "        msg['From'] = from_addr\n",
    "        msg['To'] = to_addr\n",
    "        msg['Subject'] = subject\n",
    "\n",
    "        msg.attach(MIMEText(body, 'plain'))\n",
    "\n",
    "        # Send the email\n",
    "        text = msg.as_string()\n",
    "        server.sendmail(from_addr, to_addr, text)\n",
    "\n",
    "        # Close the connection to the SMTP server\n",
    "        server.quit()\n",
    "        return 1\n",
    "    except NameError:\n",
    "        #return 0\n",
    "        return random.random()%2"
   ]
  },
  {
   "cell_type": "markdown",
   "metadata": {},
   "source": [
    "## Phase 2 (Login)\n",
    "- Save session for further use\n",
    "- Extract elements inside user panel"
   ]
  },
  {
   "cell_type": "markdown",
   "metadata": {},
   "source": [
    "### 2-1.Save Sessions in DB"
   ]
  },
  {
   "cell_type": "code",
   "execution_count": 3,
   "metadata": {},
   "outputs": [],
   "source": [
    "# POSTLOGINURL = 'www.toplearn.com/login'\n",
    "# #REQUESTURL = 'www.example.com/page_to_scrape'\n",
    "\n",
    "# payload = {'username': 'aacc9818@gmail.com', 'password': '456654321'}\n",
    "# with request.Session() as session:\n",
    "#     post = session.post(POSTLOGINURL, data=payload)\n",
    "#     print(session)"
   ]
  },
  {
   "cell_type": "code",
   "execution_count": 4,
   "metadata": {},
   "outputs": [],
   "source": [
    "import mysql\n",
    "import mysql.connector\n",
    "# run this every time\n",
    "mydb = mysql.connector.connect(\n",
    "  host=\"localhost\",\n",
    "  user=\"root\",\n",
    "  password=\"pdne\",\n",
    ")\n",
    "mycursor = mydb.cursor()\n",
    "\n",
    "# Create Database\n",
    "#mycursor.execute(\"DROP DATABASE TopLearn_Project\")\n",
    "\n",
    "# Switch to the newly created database\n",
    "mycursor.execute(\"USE TopLearn_Project\")"
   ]
  },
  {
   "cell_type": "markdown",
   "metadata": {},
   "source": [
    "Creating Databases.Dont run this cell again."
   ]
  },
  {
   "cell_type": "code",
   "execution_count": 5,
   "metadata": {},
   "outputs": [],
   "source": [
    "# Create a database named \"TopLearn_Project\"\n",
    "mycursor.execute(\"CREATE DATABASE TopLearn_Project\")\n",
    "# Switch to the newly created database\n",
    "mycursor.execute(\"USE TopLearn_Project\")\n",
    "# Create Table Session for save login cookies\n",
    "mycursor.execute(\"CREATE TABLE Sessions (id INT AUTO_INCREMENT PRIMARY KEY, URL_uid VARCHAR(255), username VARCHAR(127), cookie VARCHAR(1024), site_name VARCHAR(127))\")\n",
    "# Create Table Discounts for toplearn website\n",
    "mycursor.execute(\"CREATE TABLE Discounts (id INT AUTO_INCREMENT PRIMARY KEY, course_name VARCHAR(1024), login_status INT)\")\n",
    "# Create Table Logs for discounts changes\n",
    "mycursor.execute(\"CREATE TABLE Logs (id INT AUTO_INCREMENT PRIMARY KEY, new_value VARCHAR(1024), sms INT, email INT, discount_id INT,time TIME, FOREIGN KEY (discount_id) REFERENCES Discounts(id))\" )\n"
   ]
  },
  {
   "cell_type": "markdown",
   "metadata": {},
   "source": [
    "MySQl Helpping functions"
   ]
  },
  {
   "cell_type": "code",
   "execution_count": 6,
   "metadata": {},
   "outputs": [],
   "source": [
    "def show_databases():\n",
    "    mycursor.execute(\"SHOW DATABASES\")\n",
    "    for db in mycursor:\n",
    "        print(db)\n",
    "\n",
    "def show_tables():\n",
    "    mycursor.execute(\"SHOW TABLES\")\n",
    "    for table in mycursor:\n",
    "        print(table)\n",
    "\n",
    "def show_rows(table):\n",
    "    mycursor.execute(f'select * from {table}')\n",
    "    records = mycursor.fetchall()\n",
    "    for record in records:\n",
    "        print(record)"
   ]
  },
  {
   "cell_type": "markdown",
   "metadata": {},
   "source": [
    "Getting session_id from toplearn"
   ]
  },
  {
   "cell_type": "code",
   "execution_count": 7,
   "metadata": {},
   "outputs": [],
   "source": [
    "toplearn_url = 'http://www.toplearn.com/Login'\n",
    "url = 'https://toplearn.com/Account/DashBoard?uid=c8ef2015-a667-4a68-a8d7-3d07ef51ec96'\n",
    "response = requests.get(url)\n",
    "\n",
    "#session_id = response.cookies.get('.AspNetCore.Session')\n",
    "#print(response.headers)\n",
    "#print(response.cookies.AspNetCore.Mvc.CookieTempDataProvider)\n",
    "#response.cookies.Session\n",
    "session_id = response.headers['Set-Cookie']"
   ]
  },
  {
   "cell_type": "markdown",
   "metadata": {},
   "source": [
    "Save Session_id in Database"
   ]
  },
  {
   "cell_type": "code",
   "execution_count": 8,
   "metadata": {},
   "outputs": [
    {
     "data": {
      "text/html": [
       "<div>\n",
       "<style scoped>\n",
       "    .dataframe tbody tr th:only-of-type {\n",
       "        vertical-align: middle;\n",
       "    }\n",
       "\n",
       "    .dataframe tbody tr th {\n",
       "        vertical-align: top;\n",
       "    }\n",
       "\n",
       "    .dataframe thead th {\n",
       "        text-align: right;\n",
       "    }\n",
       "</style>\n",
       "<table border=\"1\" class=\"dataframe\">\n",
       "  <thead>\n",
       "    <tr style=\"text-align: right;\">\n",
       "      <th></th>\n",
       "      <th>id</th>\n",
       "      <th>URL_uid</th>\n",
       "      <th>username</th>\n",
       "      <th>cookie</th>\n",
       "      <th>site_name</th>\n",
       "    </tr>\n",
       "  </thead>\n",
       "  <tbody>\n",
       "    <tr>\n",
       "      <th>0</th>\n",
       "      <td>1</td>\n",
       "      <td>https://toplearn.com/Account/DashBoard?uid=c8e...</td>\n",
       "      <td>Neginma</td>\n",
       "      <td>.AspNetCore.Antiforgery.xX1vr0OcUbw=CfDJ8ANvLv...</td>\n",
       "      <td>Toplearn</td>\n",
       "    </tr>\n",
       "  </tbody>\n",
       "</table>\n",
       "</div>"
      ],
      "text/plain": [
       "   id                                            URL_uid username  \\\n",
       "0   1  https://toplearn.com/Account/DashBoard?uid=c8e...  Neginma   \n",
       "\n",
       "                                              cookie site_name  \n",
       "0  .AspNetCore.Antiforgery.xX1vr0OcUbw=CfDJ8ANvLv...  Toplearn  "
      ]
     },
     "execution_count": 8,
     "metadata": {},
     "output_type": "execute_result"
    }
   ],
   "source": [
    "mycursor.execute(\"INSERT INTO Sessions (URL_uid, username, cookie, site_name ) VALUES (%s,%s,%s,%s)\", [url,'Neginma',str(session_id),'Toplearn'])\n",
    "mydb.commit()\n",
    "query = 'SELECT * FROM Sessions'\n",
    "df = pd.read_sql(query, mydb)\n",
    "df"
   ]
  },
  {
   "cell_type": "code",
   "execution_count": 9,
   "metadata": {},
   "outputs": [],
   "source": [
    "# this is the last cell for using database- dont run it now!\n",
    "# cursor.close()\n",
    "# connection.close()"
   ]
  },
  {
   "cell_type": "markdown",
   "metadata": {},
   "source": [
    "### 2-2.Crawl toplearn "
   ]
  },
  {
   "cell_type": "code",
   "execution_count": 10,
   "metadata": {},
   "outputs": [],
   "source": [
    "url_topl = 'https://toplearn.com/TodayDiscounts'\n",
    "response = requests.get(url_topl)\n",
    "soup = BeautifulSoup(response.text, 'html.parser')"
   ]
  },
  {
   "cell_type": "markdown",
   "metadata": {},
   "source": [
    "Save Initial values in Discounts"
   ]
  },
  {
   "cell_type": "code",
   "execution_count": 11,
   "metadata": {},
   "outputs": [
    {
     "data": {
      "text/html": [
       "<div>\n",
       "<style scoped>\n",
       "    .dataframe tbody tr th:only-of-type {\n",
       "        vertical-align: middle;\n",
       "    }\n",
       "\n",
       "    .dataframe tbody tr th {\n",
       "        vertical-align: top;\n",
       "    }\n",
       "\n",
       "    .dataframe thead th {\n",
       "        text-align: right;\n",
       "    }\n",
       "</style>\n",
       "<table border=\"1\" class=\"dataframe\">\n",
       "  <thead>\n",
       "    <tr style=\"text-align: right;\">\n",
       "      <th></th>\n",
       "      <th>id</th>\n",
       "      <th>course_name</th>\n",
       "      <th>login_status</th>\n",
       "    </tr>\n",
       "  </thead>\n",
       "  <tbody>\n",
       "    <tr>\n",
       "      <th>0</th>\n",
       "      <td>1</td>\n",
       "      <td>آموزش ساخت ربات تلگرام با Python</td>\n",
       "      <td>1</td>\n",
       "    </tr>\n",
       "    <tr>\n",
       "      <th>1</th>\n",
       "      <td>2</td>\n",
       "      <td>آموزش کتابخانه LOTTIE – انیمیشن در اندروید</td>\n",
       "      <td>1</td>\n",
       "    </tr>\n",
       "    <tr>\n",
       "      <th>2</th>\n",
       "      <td>3</td>\n",
       "      <td>آموزش افتر افکت ( After Effects )</td>\n",
       "      <td>1</td>\n",
       "    </tr>\n",
       "    <tr>\n",
       "      <th>3</th>\n",
       "      <td>4</td>\n",
       "      <td>آموزش افترافکت ( انیمیشن سازی )</td>\n",
       "      <td>1</td>\n",
       "    </tr>\n",
       "    <tr>\n",
       "      <th>4</th>\n",
       "      <td>5</td>\n",
       "      <td>آموزش کالیگرافی در فتوشاپ</td>\n",
       "      <td>1</td>\n",
       "    </tr>\n",
       "    <tr>\n",
       "      <th>5</th>\n",
       "      <td>6</td>\n",
       "      <td>آموزش ساخت کاور اینستاگرام در فتوشاپ</td>\n",
       "      <td>1</td>\n",
       "    </tr>\n",
       "    <tr>\n",
       "      <th>6</th>\n",
       "      <td>7</td>\n",
       "      <td>طراحی استوری اینستاگرام در افتر افکت</td>\n",
       "      <td>1</td>\n",
       "    </tr>\n",
       "    <tr>\n",
       "      <th>7</th>\n",
       "      <td>8</td>\n",
       "      <td>آموزش کار با موتور بازی سازی آنریل انجین</td>\n",
       "      <td>1</td>\n",
       "    </tr>\n",
       "    <tr>\n",
       "      <th>8</th>\n",
       "      <td>9</td>\n",
       "      <td>آموزش ++C در آنریل انجین</td>\n",
       "      <td>1</td>\n",
       "    </tr>\n",
       "    <tr>\n",
       "      <th>9</th>\n",
       "      <td>10</td>\n",
       "      <td>تحلیل و پیش‌بینی بورس در پایتون</td>\n",
       "      <td>1</td>\n",
       "    </tr>\n",
       "  </tbody>\n",
       "</table>\n",
       "</div>"
      ],
      "text/plain": [
       "   id                                   course_name  login_status\n",
       "0   1             آموزش ساخت ربات تلگرام با Python              1\n",
       "1   2   آموزش کتابخانه LOTTIE – انیمیشن در اندروید              1\n",
       "2   3            آموزش افتر افکت ( After Effects )              1\n",
       "3   4              آموزش افترافکت ( انیمیشن سازی )              1\n",
       "4   5                    آموزش کالیگرافی در فتوشاپ              1\n",
       "5   6         آموزش ساخت کاور اینستاگرام در فتوشاپ              1\n",
       "6   7         طراحی استوری اینستاگرام در افتر افکت              1\n",
       "7   8     آموزش کار با موتور بازی سازی آنریل انجین              1\n",
       "8   9                     آموزش ++C در آنریل انجین              1\n",
       "9  10              تحلیل و پیش‌بینی بورس در پایتون              1"
      ]
     },
     "execution_count": 11,
     "metadata": {},
     "output_type": "execute_result"
    }
   ],
   "source": [
    "# this cell get the initial value of target element\n",
    "list_h2 = soup.find_all('h2')[:10]\n",
    "for h2 in list_h2:\n",
    "    mycursor.execute(\"INSERT INTO Discounts (course_name, login_status) VALUES (%s,%s)\", [(h2.find('a').text),1])\n",
    "query = 'SELECT * FROM Discounts'\n",
    "df = pd.read_sql(query, mydb)\n",
    "df"
   ]
  },
  {
   "cell_type": "markdown",
   "metadata": {},
   "source": [
    "Checking for any changes in Discounts Table and save log in Logs Table and send SMS/Email"
   ]
  },
  {
   "cell_type": "code",
   "execution_count": 12,
   "metadata": {},
   "outputs": [],
   "source": [
    "#while True:\n",
    "updated_list = soup.find_all('h2')[:10]\n",
    "for i in range(1,10):\n",
    "    mycursor.execute(f\"SELECT course_name FROM Discounts WHERE id = {i}\")\n",
    "    old_value = mycursor.fetchone()[0]\n",
    "    new_value = str(updated_list[i].text)\n",
    "    if new_value!= old_value:\n",
    "        sms = send_sms(new_value)\n",
    "        email = send_email(new_value)\n",
    "        discount_id = i\n",
    "        current_time = datetime.now().time().strftime('%H:%M:%S')\n",
    "        mycursor.execute(\"INSERT INTO Logs (discount_id, new_value, sms, email, time) VALUES (%s,%s,%s,%s,%s)\", [discount_id, new_value, sms, email,current_time])\n",
    "        mydb.commit()"
   ]
  },
  {
   "cell_type": "code",
   "execution_count": 13,
   "metadata": {},
   "outputs": [
    {
     "data": {
      "text/html": [
       "<div>\n",
       "<style scoped>\n",
       "    .dataframe tbody tr th:only-of-type {\n",
       "        vertical-align: middle;\n",
       "    }\n",
       "\n",
       "    .dataframe tbody tr th {\n",
       "        vertical-align: top;\n",
       "    }\n",
       "\n",
       "    .dataframe thead th {\n",
       "        text-align: right;\n",
       "    }\n",
       "</style>\n",
       "<table border=\"1\" class=\"dataframe\">\n",
       "  <thead>\n",
       "    <tr style=\"text-align: right;\">\n",
       "      <th></th>\n",
       "      <th>id</th>\n",
       "      <th>new_value</th>\n",
       "      <th>sms</th>\n",
       "      <th>email</th>\n",
       "      <th>discount_id</th>\n",
       "      <th>time</th>\n",
       "    </tr>\n",
       "  </thead>\n",
       "  <tbody>\n",
       "    <tr>\n",
       "      <th>0</th>\n",
       "      <td>1</td>\n",
       "      <td>آموزش کتابخانه LOTTIE – انیمیشن در اندروید</td>\n",
       "      <td>0</td>\n",
       "      <td>1</td>\n",
       "      <td>1</td>\n",
       "      <td>0 days 23:38:58</td>\n",
       "    </tr>\n",
       "    <tr>\n",
       "      <th>1</th>\n",
       "      <td>2</td>\n",
       "      <td>آموزش افتر افکت ( After Effects )</td>\n",
       "      <td>0</td>\n",
       "      <td>1</td>\n",
       "      <td>2</td>\n",
       "      <td>0 days 23:38:58</td>\n",
       "    </tr>\n",
       "    <tr>\n",
       "      <th>2</th>\n",
       "      <td>3</td>\n",
       "      <td>آموزش افترافکت ( انیمیشن سازی )</td>\n",
       "      <td>1</td>\n",
       "      <td>1</td>\n",
       "      <td>3</td>\n",
       "      <td>0 days 23:38:58</td>\n",
       "    </tr>\n",
       "    <tr>\n",
       "      <th>3</th>\n",
       "      <td>4</td>\n",
       "      <td>آموزش کالیگرافی در فتوشاپ</td>\n",
       "      <td>0</td>\n",
       "      <td>1</td>\n",
       "      <td>4</td>\n",
       "      <td>0 days 23:38:58</td>\n",
       "    </tr>\n",
       "    <tr>\n",
       "      <th>4</th>\n",
       "      <td>5</td>\n",
       "      <td>آموزش ساخت کاور اینستاگرام در فتوشاپ</td>\n",
       "      <td>0</td>\n",
       "      <td>0</td>\n",
       "      <td>5</td>\n",
       "      <td>0 days 23:38:58</td>\n",
       "    </tr>\n",
       "    <tr>\n",
       "      <th>5</th>\n",
       "      <td>6</td>\n",
       "      <td>طراحی استوری اینستاگرام در افتر افکت</td>\n",
       "      <td>0</td>\n",
       "      <td>0</td>\n",
       "      <td>6</td>\n",
       "      <td>0 days 23:38:58</td>\n",
       "    </tr>\n",
       "    <tr>\n",
       "      <th>6</th>\n",
       "      <td>7</td>\n",
       "      <td>آموزش کار با موتور بازی سازی آنریل انجین</td>\n",
       "      <td>0</td>\n",
       "      <td>1</td>\n",
       "      <td>7</td>\n",
       "      <td>0 days 23:38:58</td>\n",
       "    </tr>\n",
       "    <tr>\n",
       "      <th>7</th>\n",
       "      <td>8</td>\n",
       "      <td>آموزش ++C در آنریل انجین</td>\n",
       "      <td>1</td>\n",
       "      <td>1</td>\n",
       "      <td>8</td>\n",
       "      <td>0 days 23:38:58</td>\n",
       "    </tr>\n",
       "    <tr>\n",
       "      <th>8</th>\n",
       "      <td>9</td>\n",
       "      <td>تحلیل و پیش‌بینی بورس در پایتون</td>\n",
       "      <td>1</td>\n",
       "      <td>1</td>\n",
       "      <td>9</td>\n",
       "      <td>0 days 23:38:58</td>\n",
       "    </tr>\n",
       "  </tbody>\n",
       "</table>\n",
       "</div>"
      ],
      "text/plain": [
       "   id                                     new_value  sms  email  discount_id  \\\n",
       "0   1   آموزش کتابخانه LOTTIE – انیمیشن در اندروید     0      1            1   \n",
       "1   2            آموزش افتر افکت ( After Effects )     0      1            2   \n",
       "2   3              آموزش افترافکت ( انیمیشن سازی )     1      1            3   \n",
       "3   4                    آموزش کالیگرافی در فتوشاپ     0      1            4   \n",
       "4   5         آموزش ساخت کاور اینستاگرام در فتوشاپ     0      0            5   \n",
       "5   6         طراحی استوری اینستاگرام در افتر افکت     0      0            6   \n",
       "6   7     آموزش کار با موتور بازی سازی آنریل انجین     0      1            7   \n",
       "7   8                     آموزش ++C در آنریل انجین     1      1            8   \n",
       "8   9              تحلیل و پیش‌بینی بورس در پایتون     1      1            9   \n",
       "\n",
       "             time  \n",
       "0 0 days 23:38:58  \n",
       "1 0 days 23:38:58  \n",
       "2 0 days 23:38:58  \n",
       "3 0 days 23:38:58  \n",
       "4 0 days 23:38:58  \n",
       "5 0 days 23:38:58  \n",
       "6 0 days 23:38:58  \n",
       "7 0 days 23:38:58  \n",
       "8 0 days 23:38:58  "
      ]
     },
     "execution_count": 13,
     "metadata": {},
     "output_type": "execute_result"
    }
   ],
   "source": [
    "query = 'SELECT * FROM Logs'\n",
    "df = pd.read_sql(query, mydb)\n",
    "df"
   ]
  },
  {
   "cell_type": "markdown",
   "metadata": {},
   "source": [
    "## Phase 3 (kaptcha solver)"
   ]
  },
  {
   "cell_type": "code",
   "execution_count": 43,
   "metadata": {},
   "outputs": [
    {
     "name": "stderr",
     "output_type": "stream",
     "text": [
      "/var/folders/bf/9616ns414yg2qn2p8czl2sr00000gn/T/ipykernel_29060/1496496790.py:19: DeprecationWarning: find_element_by_* commands are deprecated. Please use find_element() instead\n",
      "  driver.find_element_by_xpath(\"/html/body/div[2]/div/header/div/div/div/a[1]\").click()\n",
      "/var/folders/bf/9616ns414yg2qn2p8czl2sr00000gn/T/ipykernel_29060/1496496790.py:22: DeprecationWarning: find_element_by_* commands are deprecated. Please use find_element() instead\n",
      "  driver.find_element_by_xpath('//*[@id=\"EmailOrMobilePhone\"]').send_keys(\"aacc9818@gmail.com\")\n",
      "/var/folders/bf/9616ns414yg2qn2p8czl2sr00000gn/T/ipykernel_29060/1496496790.py:23: DeprecationWarning: find_element_by_* commands are deprecated. Please use find_element() instead\n",
      "  driver.find_element_by_xpath('//*[@id=\"Password\"]').send_keys(\"456654321\")\n",
      "/var/folders/bf/9616ns414yg2qn2p8czl2sr00000gn/T/ipykernel_29060/1496496790.py:30: DeprecationWarning: find_element_by_* commands are deprecated. Please use find_element() instead\n",
      "  image_element = driver.find_element_by_xpath('//*[@id=\"captcha-image\"]')\n"
     ]
    }
   ],
   "source": [
    "from selenium import webdriver\n",
    "from selenium.webdriver.firefox.service import Service\n",
    "from selenium.webdriver import Firefox\n",
    "import time\n",
    "\n",
    "path_to_geckodriver = '/Users/ngn/geckodriver'\n",
    "\n",
    "service = Service(path_to_geckodriver)\n",
    "driver = Firefox(service=service)\n",
    "\n",
    "\n",
    "# navigate to a webpage\n",
    "driver.get(\"https://www.Toplearn.com\")\n",
    "\n",
    "# close the browser window\n",
    "#driver.quit()\n",
    "\n",
    "# Click on Login element\n",
    "driver.find_element_by_xpath(\"/html/body/div[2]/div/header/div/div/div/a[1]\").click()\n",
    "\n",
    "# Put username and Password\n",
    "driver.find_element_by_xpath('//*[@id=\"EmailOrMobilePhone\"]').send_keys(\"aacc9818@gmail.com\")\n",
    "driver.find_element_by_xpath('//*[@id=\"Password\"]').send_keys(\"456654321\")\n",
    "\n",
    "# Make delay for solving kaptcha manually\n",
    "#time.sleep(10)\n",
    "\n",
    "\n",
    "# Solving kaptcha automatically\n",
    "image_element = driver.find_element_by_xpath('//*[@id=\"captcha-image\"]')\n",
    "with open('captcha.png', 'wb') as file:\n",
    "    file.write(image_element.screenshot_as_png)\n",
    "\n",
    "# Click on Login Button\n",
    "#driver.find_element_by_xpath(\"/html/body/div[2]/div/div/div/form/div[2]/div[7]/button\").click()\n"
   ]
  },
  {
   "cell_type": "code",
   "execution_count": 9,
   "metadata": {},
   "outputs": [
    {
     "name": "stderr",
     "output_type": "stream",
     "text": [
      "/var/folders/bf/9616ns414yg2qn2p8czl2sr00000gn/T/ipykernel_3345/3501660987.py:17: DeprecationWarning: find_element_by_* commands are deprecated. Please use find_element() instead\n",
      "  captcha_img = driver.find_element_by_xpath('//*[@id=\"captcha-image\"]')\n"
     ]
    },
    {
     "ename": "PermissionError",
     "evalue": "[Errno 13] Permission denied: '/Library/Frameworks/Python.framework/Versions/3.8/lib/python3.8/site-packages'",
     "output_type": "error",
     "traceback": [
      "\u001b[0;31m---------------------------------------------------------------------------\u001b[0m",
      "\u001b[0;31mPermissionError\u001b[0m                           Traceback (most recent call last)",
      "\u001b[1;32m/Users/ngn/Documents/uni/Term 8/DBLAB/neew/Databas-Labratory/Untitled-1.ipynb Cell 29\u001b[0m in \u001b[0;36m<cell line: 20>\u001b[0;34m()\u001b[0m\n\u001b[1;32m     <a href='vscode-notebook-cell:/Users/ngn/Documents/uni/Term%208/DBLAB/neew/Databas-Labratory/Untitled-1.ipynb#X40sZmlsZQ%3D%3D?line=35'>36</a>\u001b[0m \u001b[39m# out.show()\u001b[39;00m\n\u001b[1;32m     <a href='vscode-notebook-cell:/Users/ngn/Documents/uni/Term%208/DBLAB/neew/Databas-Labratory/Untitled-1.ipynb#X40sZmlsZQ%3D%3D?line=36'>37</a>\u001b[0m \u001b[39m# 2. recognize with tesseract\u001b[39;00m\n\u001b[1;32m     <a href='vscode-notebook-cell:/Users/ngn/Documents/uni/Term%208/DBLAB/neew/Databas-Labratory/Untitled-1.ipynb#X40sZmlsZQ%3D%3D?line=37'>38</a>\u001b[0m pytesseract\u001b[39m.\u001b[39mpytesseract\u001b[39m.\u001b[39mtesseract_cmd \u001b[39m=\u001b[39m \u001b[39mr\u001b[39m\u001b[39m'\u001b[39m\u001b[39m/Library/Frameworks/Python.framework/Versions/3.8/lib/python3.8/site-packages\u001b[39m\u001b[39m'\u001b[39m\n\u001b[0;32m---> <a href='vscode-notebook-cell:/Users/ngn/Documents/uni/Term%208/DBLAB/neew/Databas-Labratory/Untitled-1.ipynb#X40sZmlsZQ%3D%3D?line=38'>39</a>\u001b[0m num \u001b[39m=\u001b[39m pytesseract\u001b[39m.\u001b[39;49mimage_to_string(out)\n",
      "File \u001b[0;32m/Library/Frameworks/Python.framework/Versions/3.8/lib/python3.8/site-packages/pytesseract/pytesseract.py:423\u001b[0m, in \u001b[0;36mimage_to_string\u001b[0;34m(image, lang, config, nice, output_type, timeout)\u001b[0m\n\u001b[1;32m    418\u001b[0m \u001b[39m\"\"\"\u001b[39;00m\n\u001b[1;32m    419\u001b[0m \u001b[39mReturns the result of a Tesseract OCR run on the provided image to string\u001b[39;00m\n\u001b[1;32m    420\u001b[0m \u001b[39m\"\"\"\u001b[39;00m\n\u001b[1;32m    421\u001b[0m args \u001b[39m=\u001b[39m [image, \u001b[39m'\u001b[39m\u001b[39mtxt\u001b[39m\u001b[39m'\u001b[39m, lang, config, nice, timeout]\n\u001b[0;32m--> 423\u001b[0m \u001b[39mreturn\u001b[39;00m {\n\u001b[1;32m    424\u001b[0m     Output\u001b[39m.\u001b[39;49mBYTES: \u001b[39mlambda\u001b[39;49;00m: run_and_get_output(\u001b[39m*\u001b[39;49m(args \u001b[39m+\u001b[39;49m [\u001b[39mTrue\u001b[39;49;00m])),\n\u001b[1;32m    425\u001b[0m     Output\u001b[39m.\u001b[39;49mDICT: \u001b[39mlambda\u001b[39;49;00m: {\u001b[39m'\u001b[39;49m\u001b[39mtext\u001b[39;49m\u001b[39m'\u001b[39;49m: run_and_get_output(\u001b[39m*\u001b[39;49margs)},\n\u001b[1;32m    426\u001b[0m     Output\u001b[39m.\u001b[39;49mSTRING: \u001b[39mlambda\u001b[39;49;00m: run_and_get_output(\u001b[39m*\u001b[39;49margs),\n\u001b[1;32m    427\u001b[0m }[output_type]()\n",
      "File \u001b[0;32m/Library/Frameworks/Python.framework/Versions/3.8/lib/python3.8/site-packages/pytesseract/pytesseract.py:426\u001b[0m, in \u001b[0;36mimage_to_string.<locals>.<lambda>\u001b[0;34m()\u001b[0m\n\u001b[1;32m    418\u001b[0m \u001b[39m\"\"\"\u001b[39;00m\n\u001b[1;32m    419\u001b[0m \u001b[39mReturns the result of a Tesseract OCR run on the provided image to string\u001b[39;00m\n\u001b[1;32m    420\u001b[0m \u001b[39m\"\"\"\u001b[39;00m\n\u001b[1;32m    421\u001b[0m args \u001b[39m=\u001b[39m [image, \u001b[39m'\u001b[39m\u001b[39mtxt\u001b[39m\u001b[39m'\u001b[39m, lang, config, nice, timeout]\n\u001b[1;32m    423\u001b[0m \u001b[39mreturn\u001b[39;00m {\n\u001b[1;32m    424\u001b[0m     Output\u001b[39m.\u001b[39mBYTES: \u001b[39mlambda\u001b[39;00m: run_and_get_output(\u001b[39m*\u001b[39m(args \u001b[39m+\u001b[39m [\u001b[39mTrue\u001b[39;00m])),\n\u001b[1;32m    425\u001b[0m     Output\u001b[39m.\u001b[39mDICT: \u001b[39mlambda\u001b[39;00m: {\u001b[39m'\u001b[39m\u001b[39mtext\u001b[39m\u001b[39m'\u001b[39m: run_and_get_output(\u001b[39m*\u001b[39margs)},\n\u001b[0;32m--> 426\u001b[0m     Output\u001b[39m.\u001b[39mSTRING: \u001b[39mlambda\u001b[39;00m: run_and_get_output(\u001b[39m*\u001b[39;49margs),\n\u001b[1;32m    427\u001b[0m }[output_type]()\n",
      "File \u001b[0;32m/Library/Frameworks/Python.framework/Versions/3.8/lib/python3.8/site-packages/pytesseract/pytesseract.py:288\u001b[0m, in \u001b[0;36mrun_and_get_output\u001b[0;34m(image, extension, lang, config, nice, timeout, return_bytes)\u001b[0m\n\u001b[1;32m    277\u001b[0m \u001b[39mwith\u001b[39;00m save(image) \u001b[39mas\u001b[39;00m (temp_name, input_filename):\n\u001b[1;32m    278\u001b[0m     kwargs \u001b[39m=\u001b[39m {\n\u001b[1;32m    279\u001b[0m         \u001b[39m'\u001b[39m\u001b[39minput_filename\u001b[39m\u001b[39m'\u001b[39m: input_filename,\n\u001b[1;32m    280\u001b[0m         \u001b[39m'\u001b[39m\u001b[39moutput_filename_base\u001b[39m\u001b[39m'\u001b[39m: temp_name,\n\u001b[0;32m   (...)\u001b[0m\n\u001b[1;32m    285\u001b[0m         \u001b[39m'\u001b[39m\u001b[39mtimeout\u001b[39m\u001b[39m'\u001b[39m: timeout,\n\u001b[1;32m    286\u001b[0m     }\n\u001b[0;32m--> 288\u001b[0m     run_tesseract(\u001b[39m*\u001b[39;49m\u001b[39m*\u001b[39;49mkwargs)\n\u001b[1;32m    289\u001b[0m     filename \u001b[39m=\u001b[39m \u001b[39mf\u001b[39m\u001b[39m\"\u001b[39m\u001b[39m{\u001b[39;00mkwargs[\u001b[39m'\u001b[39m\u001b[39moutput_filename_base\u001b[39m\u001b[39m'\u001b[39m]\u001b[39m}\u001b[39;00m\u001b[39m{\u001b[39;00mextsep\u001b[39m}\u001b[39;00m\u001b[39m{\u001b[39;00mextension\u001b[39m}\u001b[39;00m\u001b[39m\"\u001b[39m\n\u001b[1;32m    290\u001b[0m     \u001b[39mwith\u001b[39;00m \u001b[39mopen\u001b[39m(filename, \u001b[39m'\u001b[39m\u001b[39mrb\u001b[39m\u001b[39m'\u001b[39m) \u001b[39mas\u001b[39;00m output_file:\n",
      "File \u001b[0;32m/Library/Frameworks/Python.framework/Versions/3.8/lib/python3.8/site-packages/pytesseract/pytesseract.py:255\u001b[0m, in \u001b[0;36mrun_tesseract\u001b[0;34m(input_filename, output_filename_base, extension, lang, config, nice, timeout)\u001b[0m\n\u001b[1;32m    252\u001b[0m     cmd_args\u001b[39m.\u001b[39mappend(extension)\n\u001b[1;32m    254\u001b[0m \u001b[39mtry\u001b[39;00m:\n\u001b[0;32m--> 255\u001b[0m     proc \u001b[39m=\u001b[39m subprocess\u001b[39m.\u001b[39;49mPopen(cmd_args, \u001b[39m*\u001b[39;49m\u001b[39m*\u001b[39;49msubprocess_args())\n\u001b[1;32m    256\u001b[0m \u001b[39mexcept\u001b[39;00m \u001b[39mOSError\u001b[39;00m \u001b[39mas\u001b[39;00m e:\n\u001b[1;32m    257\u001b[0m     \u001b[39mif\u001b[39;00m e\u001b[39m.\u001b[39merrno \u001b[39m!=\u001b[39m ENOENT:\n",
      "File \u001b[0;32m/Library/Frameworks/Python.framework/Versions/3.8/lib/python3.8/subprocess.py:854\u001b[0m, in \u001b[0;36mPopen.__init__\u001b[0;34m(self, args, bufsize, executable, stdin, stdout, stderr, preexec_fn, close_fds, shell, cwd, env, universal_newlines, startupinfo, creationflags, restore_signals, start_new_session, pass_fds, encoding, errors, text)\u001b[0m\n\u001b[1;32m    850\u001b[0m         \u001b[39mif\u001b[39;00m \u001b[39mself\u001b[39m\u001b[39m.\u001b[39mtext_mode:\n\u001b[1;32m    851\u001b[0m             \u001b[39mself\u001b[39m\u001b[39m.\u001b[39mstderr \u001b[39m=\u001b[39m io\u001b[39m.\u001b[39mTextIOWrapper(\u001b[39mself\u001b[39m\u001b[39m.\u001b[39mstderr,\n\u001b[1;32m    852\u001b[0m                     encoding\u001b[39m=\u001b[39mencoding, errors\u001b[39m=\u001b[39merrors)\n\u001b[0;32m--> 854\u001b[0m     \u001b[39mself\u001b[39;49m\u001b[39m.\u001b[39;49m_execute_child(args, executable, preexec_fn, close_fds,\n\u001b[1;32m    855\u001b[0m                         pass_fds, cwd, env,\n\u001b[1;32m    856\u001b[0m                         startupinfo, creationflags, shell,\n\u001b[1;32m    857\u001b[0m                         p2cread, p2cwrite,\n\u001b[1;32m    858\u001b[0m                         c2pread, c2pwrite,\n\u001b[1;32m    859\u001b[0m                         errread, errwrite,\n\u001b[1;32m    860\u001b[0m                         restore_signals, start_new_session)\n\u001b[1;32m    861\u001b[0m \u001b[39mexcept\u001b[39;00m:\n\u001b[1;32m    862\u001b[0m     \u001b[39m# Cleanup if the child failed starting.\u001b[39;00m\n\u001b[1;32m    863\u001b[0m     \u001b[39mfor\u001b[39;00m f \u001b[39min\u001b[39;00m \u001b[39mfilter\u001b[39m(\u001b[39mNone\u001b[39;00m, (\u001b[39mself\u001b[39m\u001b[39m.\u001b[39mstdin, \u001b[39mself\u001b[39m\u001b[39m.\u001b[39mstdout, \u001b[39mself\u001b[39m\u001b[39m.\u001b[39mstderr)):\n",
      "File \u001b[0;32m/Library/Frameworks/Python.framework/Versions/3.8/lib/python3.8/subprocess.py:1702\u001b[0m, in \u001b[0;36mPopen._execute_child\u001b[0;34m(self, args, executable, preexec_fn, close_fds, pass_fds, cwd, env, startupinfo, creationflags, shell, p2cread, p2cwrite, c2pread, c2pwrite, errread, errwrite, restore_signals, start_new_session)\u001b[0m\n\u001b[1;32m   1700\u001b[0m     \u001b[39mif\u001b[39;00m errno_num \u001b[39m!=\u001b[39m \u001b[39m0\u001b[39m:\n\u001b[1;32m   1701\u001b[0m         err_msg \u001b[39m=\u001b[39m os\u001b[39m.\u001b[39mstrerror(errno_num)\n\u001b[0;32m-> 1702\u001b[0m     \u001b[39mraise\u001b[39;00m child_exception_type(errno_num, err_msg, err_filename)\n\u001b[1;32m   1703\u001b[0m \u001b[39mraise\u001b[39;00m child_exception_type(err_msg)\n",
      "\u001b[0;31mPermissionError\u001b[0m: [Errno 13] Permission denied: '/Library/Frameworks/Python.framework/Versions/3.8/lib/python3.8/site-packages'"
     ]
    }
   ],
   "source": [
    "from selenium import webdriver\n",
    "from selenium.webdriver.firefox.service import Service\n",
    "from selenium.webdriver import Firefox\n",
    "import time\n",
    "from PIL import Image\n",
    "import pytesseract\n",
    "import tempfile\n",
    "\n",
    "path_to_geckodriver = '/Users/ngn/geckodriver'\n",
    "\n",
    "service = Service(path_to_geckodriver)\n",
    "driver = Firefox(service=service)\n",
    "\n",
    "\n",
    "# navigate to a webpage\n",
    "driver.get(\"https://toplearn.com/Register\")\n",
    "captcha_img = driver.find_element_by_xpath('//*[@id=\"captcha-image\"]')\n",
    "captcha_img_url = captcha_img.get_attribute(\"src\")\n",
    "response = requests.get(captcha_img_url)\n",
    "with tempfile.NamedTemporaryFile(suffix='.jpg') as img_file:\n",
    "    img_file.write(response.content)\n",
    "    img_file.flush()\n",
    "\n",
    "    # recognize the captcha\n",
    "    im = Image.open(img_file.name).convert(\"L\")\n",
    "    # 1. threshold the image\n",
    "    threshold = 140\n",
    "    table = []\n",
    "    for i in range(256):\n",
    "        if i < threshold:\n",
    "            table.append(0)\n",
    "        else:\n",
    "            table.append(1)\n",
    "\n",
    "    out = im.point(table, '1')\n",
    "    # out.show()\n",
    "    # 2. recognize with tesseract\n",
    "    pytesseract.pytesseract.tesseract_cmd = r'/Library/Frameworks/Python.framework/Versions/3.8/lib/python3.8/site-packages'\n",
    "    num = pytesseract.image_to_string(out)"
   ]
  },
  {
   "cell_type": "code",
   "execution_count": 6,
   "metadata": {},
   "outputs": [
    {
     "name": "stdout",
     "output_type": "stream",
     "text": [
      "Requirement already satisfied: pytesseract in /Library/Frameworks/Python.framework/Versions/3.8/lib/python3.8/site-packages (0.3.10)\n",
      "Requirement already satisfied: packaging>=21.3 in /Library/Frameworks/Python.framework/Versions/3.8/lib/python3.8/site-packages (from pytesseract) (21.3)\n",
      "Requirement already satisfied: Pillow>=8.0.0 in /Library/Frameworks/Python.framework/Versions/3.8/lib/python3.8/site-packages (from pytesseract) (9.2.0)\n",
      "Requirement already satisfied: pyparsing!=3.0.5,>=2.0.2 in /Library/Frameworks/Python.framework/Versions/3.8/lib/python3.8/site-packages (from packaging>=21.3->pytesseract) (3.0.9)\n"
     ]
    }
   ],
   "source": [
    "! pip install pytesseract"
   ]
  },
  {
   "cell_type": "code",
   "execution_count": 8,
   "metadata": {},
   "outputs": [],
   "source": [
    "driver.quit()"
   ]
  },
  {
   "attachments": {},
   "cell_type": "markdown",
   "metadata": {},
   "source": [
    "#### second version of captcha solver"
   ]
  },
  {
   "cell_type": "code",
   "execution_count": null,
   "metadata": {},
   "outputs": [],
   "source": [
    "from selenium import webdriver\n",
    "from selenium.webdriver.common.keys import Keys\n",
    "from PIL import Image\n",
    "import pytesseract\n",
    "import tempfile\n",
    "import time\n",
    "\n",
    "# initialize the browser\n",
    "browser = webdriver.Chrome()\n",
    "\n",
    "# navigate to the website that has the captcha\n",
    "browser.get(\"https://example.com/\")\n",
    "\n",
    "# find the element that contains the captcha image\n",
    "captcha_img = browser.find_element_by_css_selector(\"#captcha img\")\n",
    "\n",
    "# get the image URL from the element\n",
    "captcha_img_url = captcha_img.get_attribute(\"src\")\n",
    "\n",
    "# download the image and save it to a temporary file\n",
    "response = requests.get(captcha_img_url)\n",
    "with tempfile.NamedTemporaryFile(suffix='.jpg') as img_file:\n",
    "    img_file.write(response.content)\n",
    "    img_file.flush()\n",
    "\n",
    "    # recognize the captcha\n",
    "    im = Image.open(img_file.name).convert(\"L\")\n",
    "    # 1. threshold the image\n",
    "    threshold = 140\n",
    "    table = []\n",
    "    for i in range(256):\n",
    "        if i < threshold:\n",
    "            table.append(0)\n",
    "        else:\n",
    "            table.append(1)\n",
    "\n",
    "    out = im.point(table, '1')\n",
    "    # out.show()\n",
    "    # 2. recognize with tesseract\n",
    "    num = pytesseract.image_to_string(out)\n",
    "    # fill in the captcha input field\n",
    "    captcha_input = browser.find_element_by_css_selector(\"#captcha input\")\n",
    "    captcha_input.send_keys(num)\n",
    "\n",
    "# submit the form\n",
    "submit_button = browser.find_element_by_css_selector(\"#submit\")\n",
    "submit_button.click()\n",
    "\n",
    "# wait for the page to load\n",
    "time.sleep(5)\n",
    "\n",
    "# get the result\n",
    "result_element = browser.find_element_by_css_selector(\"#result\")\n",
    "result = result_element.text\n",
    "print(result)\n",
    "\n",
    "# close the browser\n",
    "browser.quit()"
   ]
  },
  {
   "cell_type": "markdown",
   "metadata": {},
   "source": [
    "# Phase 4 (Registration)"
   ]
  },
  {
   "cell_type": "markdown",
   "metadata": {},
   "source": [
    "- Gather list of name & family & ... into Database \n",
    "- Register with temp mail in sites have email verification"
   ]
  },
  {
   "cell_type": "markdown",
   "metadata": {},
   "source": [
    "### 4-1. Gather Data and store in DB"
   ]
  },
  {
   "cell_type": "code",
   "execution_count": 26,
   "metadata": {},
   "outputs": [],
   "source": [
    "mycursor.execute(\"DROP TABLE Registrations\")"
   ]
  },
  {
   "cell_type": "code",
   "execution_count": 27,
   "metadata": {},
   "outputs": [
    {
     "data": {
      "text/html": [
       "<div>\n",
       "<style scoped>\n",
       "    .dataframe tbody tr th:only-of-type {\n",
       "        vertical-align: middle;\n",
       "    }\n",
       "\n",
       "    .dataframe tbody tr th {\n",
       "        vertical-align: top;\n",
       "    }\n",
       "\n",
       "    .dataframe thead th {\n",
       "        text-align: right;\n",
       "    }\n",
       "</style>\n",
       "<table border=\"1\" class=\"dataframe\">\n",
       "  <thead>\n",
       "    <tr style=\"text-align: right;\">\n",
       "      <th></th>\n",
       "      <th>id</th>\n",
       "      <th>name</th>\n",
       "      <th>family</th>\n",
       "      <th>email</th>\n",
       "      <th>password</th>\n",
       "    </tr>\n",
       "  </thead>\n",
       "  <tbody>\n",
       "    <tr>\n",
       "      <th>0</th>\n",
       "      <td>1</td>\n",
       "      <td>ali</td>\n",
       "      <td>alavi</td>\n",
       "      <td>None</td>\n",
       "      <td>None</td>\n",
       "    </tr>\n",
       "    <tr>\n",
       "      <th>1</th>\n",
       "      <td>2</td>\n",
       "      <td>naghi</td>\n",
       "      <td>naghavi</td>\n",
       "      <td>None</td>\n",
       "      <td>None</td>\n",
       "    </tr>\n",
       "    <tr>\n",
       "      <th>2</th>\n",
       "      <td>3</td>\n",
       "      <td>taghi</td>\n",
       "      <td>taghavi</td>\n",
       "      <td>None</td>\n",
       "      <td>None</td>\n",
       "    </tr>\n",
       "  </tbody>\n",
       "</table>\n",
       "</div>"
      ],
      "text/plain": [
       "   id   name   family email password\n",
       "0   1    ali    alavi  None     None\n",
       "1   2  naghi  naghavi  None     None\n",
       "2   3  taghi  taghavi  None     None"
      ]
     },
     "execution_count": 27,
     "metadata": {},
     "output_type": "execute_result"
    }
   ],
   "source": [
    "# Create Table Registrations for toplearn website\n",
    "mycursor.execute(\"CREATE TABLE Registrations (id INT AUTO_INCREMENT PRIMARY KEY, name VARCHAR(255), family VARCHAR(255), email VARCHAR(255), password VARCHAR(255))\")\n",
    "\n",
    "# create a list of tuples containing the data to insert\n",
    "data = [\n",
    "  ('ali', 'alavi'),\n",
    "  ('naghi', 'naghavi'),\n",
    "  ('taghi', 'taghavi')\n",
    "]\n",
    "# define the SQL query to insert data into the table\n",
    "sql = \"INSERT INTO Registrations (name, family) VALUES (%s, %s)\"\n",
    "mycursor.executemany(sql, data)\n",
    "mydb.commit()\n",
    "query = 'SELECT * FROM Registrations'\n",
    "pd.read_sql(query, mydb)"
   ]
  },
  {
   "cell_type": "markdown",
   "metadata": {},
   "source": [
    "### 4-2. Register in site(Toplearn)"
   ]
  },
  {
   "cell_type": "code",
   "execution_count": 1,
   "metadata": {},
   "outputs": [
    {
     "ename": "KeyboardInterrupt",
     "evalue": "",
     "output_type": "error",
     "traceback": [
      "\u001b[0;31m---------------------------------------------------------------------------\u001b[0m",
      "\u001b[0;31mKeyboardInterrupt\u001b[0m                         Traceback (most recent call last)",
      "\u001b[1;32m/Users/ngn/Documents/uni/Term 8/DBLAB/exe/Databas-Labratory/Untitled-1.ipynb Cell 38\u001b[0m in \u001b[0;36m<cell line: 18>\u001b[0;34m()\u001b[0m\n\u001b[1;32m     <a href='vscode-notebook-cell:/Users/ngn/Documents/uni/Term%208/DBLAB/exe/Databas-Labratory/Untitled-1.ipynb#Y151sZmlsZQ%3D%3D?line=15'>16</a>\u001b[0m \u001b[39m# navigate to temp mail webpage\u001b[39;00m\n\u001b[1;32m     <a href='vscode-notebook-cell:/Users/ngn/Documents/uni/Term%208/DBLAB/exe/Databas-Labratory/Untitled-1.ipynb#Y151sZmlsZQ%3D%3D?line=16'>17</a>\u001b[0m driver\u001b[39m.\u001b[39mget(\u001b[39m\"\u001b[39m\u001b[39mhttps://temp-mail.org/en/\u001b[39m\u001b[39m\"\u001b[39m)\n\u001b[0;32m---> <a href='vscode-notebook-cell:/Users/ngn/Documents/uni/Term%208/DBLAB/exe/Databas-Labratory/Untitled-1.ipynb#Y151sZmlsZQ%3D%3D?line=17'>18</a>\u001b[0m time\u001b[39m.\u001b[39;49msleep(\u001b[39m10\u001b[39;49m)\n\u001b[1;32m     <a href='vscode-notebook-cell:/Users/ngn/Documents/uni/Term%208/DBLAB/exe/Databas-Labratory/Untitled-1.ipynb#Y151sZmlsZQ%3D%3D?line=18'>19</a>\u001b[0m driver\u001b[39m.\u001b[39mfind_element_by_xpath(\u001b[39m\"\u001b[39m\u001b[39m/html/body/div[1]/div/div/div[2]/div[1]/form/div[2]/button\u001b[39m\u001b[39m\"\u001b[39m)\u001b[39m.\u001b[39mclick()\n\u001b[1;32m     <a href='vscode-notebook-cell:/Users/ngn/Documents/uni/Term%208/DBLAB/exe/Databas-Labratory/Untitled-1.ipynb#Y151sZmlsZQ%3D%3D?line=20'>21</a>\u001b[0m \u001b[39m# switch to the new tab for toplearn webpage\u001b[39;00m\n",
      "\u001b[0;31mKeyboardInterrupt\u001b[0m: "
     ]
    }
   ],
   "source": [
    "from selenium import webdriver\n",
    "from selenium.webdriver.firefox.service import Service\n",
    "from selenium.webdriver import Firefox\n",
    "import time\n",
    "from selenium.webdriver.common.by import By\n",
    "from selenium.webdriver.support.ui import WebDriverWait\n",
    "from selenium.webdriver.support import expected_conditions as EC\n",
    "from selenium.webdriver.common.keys import Keys\n",
    "from selenium.webdriver.common.action_chains import ActionChains\n",
    "import pyperclip\n",
    "\n",
    "path_to_geckodriver = '/Users/ngn/geckodriver'\n",
    "service = Service(path_to_geckodriver)\n",
    "driver = Firefox(service=service)\n",
    "\n",
    "# navigate to temp mail webpage\n",
    "driver.get(\"https://temp-mail.org/en/\")\n",
    "time.sleep(10)\n",
    "driver.find_element_by_xpath(\"/html/body/div[1]/div/div/div[2]/div[1]/form/div[2]/button\").click()\n",
    "\n",
    "# switch to the new tab for toplearn webpage\n",
    "driver.execute_script(\"window.open('');\")\n",
    "driver.switch_to.window(driver.window_handles[-1])\n",
    "driver.get(\"https://www.Toplearn.com\")\n",
    "\n",
    "# Click on Login element\n",
    "driver.find_element_by_xpath(\"/html/body/div[2]/div/header/div/div/div/a[2]\").click()\n",
    "\n",
    "# Put information for registration\n",
    "\n",
    "\n",
    "\n",
    "# Get clipboard data\n",
    "text = pyperclip.paste()\n",
    "\n",
    "# find the input element to paste the text into\n",
    "input_element = driver.find_element_by_xpath('//*[@id=\"Email\"]')\n",
    "\n",
    "# click on the input element to focus it\n",
    "input_element.click()\n",
    "\n",
    "# use ActionChains to simulate a keyboard shortcut for pasting\n",
    "ActionChains(driver).key_down(Keys.COMMAND).send_keys('v').key_up(Keys.COMMAND).perform()\n",
    "\n",
    "# enter the pasted text into the input element\n",
    "input_element.send_keys(text)\n",
    "# driver.find_element_by_xpath('//*[@id=\"Password\"]')\n",
    "# driver.find_element_by_xpath('//*[@id=\"ConfirmPassword\"]').send_keys(text)\n",
    "\n",
    "# checkbox = WebDriverWait(driver, 5).until(EC.element_to_be_clickable((By.XPATH, '//*[@id=\"AcceptRules\"]')))\n",
    "# checkbox = driver.find_element_by_xpath('//*[@id=\"AcceptRules\"]')\n",
    "# After this you should check the checkbox and click on the button at the bottom"
   ]
  },
  {
   "cell_type": "code",
   "execution_count": 37,
   "metadata": {},
   "outputs": [],
   "source": [
    "text = pyperclip.paste()"
   ]
  },
  {
   "cell_type": "code",
   "execution_count": 36,
   "metadata": {},
   "outputs": [
    {
     "name": "stdout",
     "output_type": "stream",
     "text": [
      "Collecting pyperclip\n",
      "  Downloading pyperclip-1.8.2.tar.gz (20 kB)\n",
      "  Preparing metadata (setup.py) ... \u001b[?25ldone\n",
      "\u001b[?25hBuilding wheels for collected packages: pyperclip\n",
      "  Building wheel for pyperclip (setup.py) ... \u001b[?25ldone\n",
      "\u001b[?25h  Created wheel for pyperclip: filename=pyperclip-1.8.2-py3-none-any.whl size=11107 sha256=39ad41a0321b1ffbfe6eeedbcadee70f4765e9b4b44a6e3be90b4792754cf2a6\n",
      "  Stored in directory: /Users/ngn/Library/Caches/pip/wheels/7f/1a/65/84ff8c386bec21fca6d220ea1f5498a0367883a78dd5ba6122\n",
      "Successfully built pyperclip\n",
      "Installing collected packages: pyperclip\n",
      "Successfully installed pyperclip-1.8.2\n"
     ]
    }
   ],
   "source": [
    "! pip install pyperclip"
   ]
  },
  {
   "cell_type": "code",
   "execution_count": null,
   "metadata": {},
   "outputs": [],
   "source": []
  }
 ],
 "metadata": {
  "kernelspec": {
   "display_name": "Python 3.8.5 64-bit",
   "language": "python",
   "name": "python3"
  },
  "language_info": {
   "codemirror_mode": {
    "name": "ipython",
    "version": 3
   },
   "file_extension": ".py",
   "mimetype": "text/x-python",
   "name": "python",
   "nbconvert_exporter": "python",
   "pygments_lexer": "ipython3",
   "version": "3.8.5"
  },
  "vscode": {
   "interpreter": {
    "hash": "0adcc2737ebf6a4a119f135174df96668767fca1ef1112612db5ecadf2b6d608"
   }
  }
 },
 "nbformat": 4,
 "nbformat_minor": 4
}
