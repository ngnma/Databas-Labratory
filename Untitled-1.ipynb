{
 "cells": [
  {
   "cell_type": "markdown",
   "metadata": {},
   "source": [
    "# Database Labratory Project"
   ]
  },
  {
   "cell_type": "markdown",
   "metadata": {},
   "source": [
    "- Negin mashayekhi\n",
    "- Farbod fooladi"
   ]
  },
  {
   "cell_type": "markdown",
   "metadata": {},
   "source": [
    "## Phase 1 \n",
    "- Email/SMS API\n",
    "- Crawling a webpage(handelled later)\n"
   ]
  },
  {
   "cell_type": "markdown",
   "metadata": {},
   "source": [
    "### 1-1.Sending SMS/Email\n"
   ]
  },
  {
   "cell_type": "code",
   "execution_count": 27,
   "metadata": {},
   "outputs": [],
   "source": [
    "# from twilio.rest import Client\n",
    "# import smtplib\n",
    "# from email.mime.text import MIMEText\n",
    "# from email.mime.multipart import MIMEMultipart\n",
    "\n",
    "def send_sms(message):\n",
    "    try:\n",
    "        # Your Account SID and Auth Token from twilio.com/console\n",
    "        account_sid = 'account_sid'\n",
    "        auth_token = 'auth_token'\n",
    "        client = Client(account_sid, auth_token)\n",
    "\n",
    "        # Use the Twilio API to send an SMS message\n",
    "        message = client.messages.create(\n",
    "            body=message,\n",
    "            from_='+98121212121', # Replace with your Twilio phone number\n",
    "            to='+98121212121' # Replace with the recipient's phone number\n",
    "        )\n",
    "        return 1\n",
    "    except NameError:\n",
    "        return 0\n",
    "\n",
    "def send_email(message):\n",
    "    try:\n",
    "        # Set up connection to the SMTP server\n",
    "        smtp_server = 'smtp.gmail.com'  # replace with your SMTP server address\n",
    "        smtp_port = 25  # replace with your SMTP server port\n",
    "        username = 'n.mashayekhi456@gmail.com'  # replace with your email address\n",
    "        password = '1234'  # replace with your email password\n",
    "\n",
    "        server = smtplib.SMTP(smtp_server, smtp_port)\n",
    "        server.starttls()\n",
    "        server.login(username, password)\n",
    "\n",
    "        # Construct the email message\n",
    "        from_addr = 'n.mashayekhi456@gmail.com'  # replace with your email address\n",
    "        to_addr = 'n.mashayekhi456@gmail.com'  # replace with recipient email address\n",
    "        subject = message\n",
    "        body = new_price\n",
    "\n",
    "        msg = MIMEMultipart()\n",
    "        msg['From'] = from_addr\n",
    "        msg['To'] = to_addr\n",
    "        msg['Subject'] = subject\n",
    "\n",
    "        msg.attach(MIMEText(body, 'plain'))\n",
    "\n",
    "        # Send the email\n",
    "        text = msg.as_string()\n",
    "        server.sendmail(from_addr, to_addr, text)\n",
    "\n",
    "        # Close the connection to the SMTP server\n",
    "        server.quit()\n",
    "        return 1\n",
    "    except NameError:\n",
    "        return 0"
   ]
  },
  {
   "cell_type": "markdown",
   "metadata": {},
   "source": [
    "## Phase 2 (Login)\n",
    "- Save session for further use\n",
    "- Extract elements inside user panel"
   ]
  },
  {
   "cell_type": "markdown",
   "metadata": {},
   "source": [
    "### 2-1.Save Sessions in DB"
   ]
  },
  {
   "cell_type": "code",
   "execution_count": null,
   "metadata": {},
   "outputs": [],
   "source": [
    "# POSTLOGINURL = 'www.toplearn.com/login'\n",
    "# #REQUESTURL = 'www.example.com/page_to_scrape'\n",
    "\n",
    "# payload = {'username': 'aacc9818@gmail.com', 'password': '456654321'}\n",
    "# with request.Session() as session:\n",
    "#     post = session.post(POSTLOGINURL, data=payload)\n",
    "#     print(session)"
   ]
  },
  {
   "cell_type": "code",
   "execution_count": 4,
   "metadata": {},
   "outputs": [],
   "source": [
    "# run this every time\n",
    "import mysql\n",
    "import mysql.connector\n",
    "\n",
    "mydb = mysql.connector.connect(\n",
    "  host=\"localhost\",\n",
    "  user=\"root\",\n",
    "  password=\"pdne\",\n",
    ")\n",
    "mycursor = mydb.cursor()\n",
    "\n",
    "# Create Database\n",
    "#mycursor.execute(\"DROP DATABASE TopLearn_Project\")\n",
    "\n",
    "# Switch to the newly created database\n",
    "mycursor.execute(\"USE TopLearn_Project\")"
   ]
  },
  {
   "cell_type": "markdown",
   "metadata": {},
   "source": [
    "Creating Databases.Dont run this cell again."
   ]
  },
  {
   "cell_type": "code",
   "execution_count": 5,
   "metadata": {},
   "outputs": [],
   "source": [
    "# Create a database named \"TopLearn_Project\"\n",
    "mycursor.execute(\"CREATE DATABASE TopLearn_Project\")\n",
    "# Switch to the newly created database\n",
    "mycursor.execute(\"USE TopLearn_Project\")\n",
    "# Create Table Session for save login cookies\n",
    "mycursor.execute(\"CREATE TABLE Sessions (id INT AUTO_INCREMENT PRIMARY KEY, URL_uid VARCHAR(255), cookie VARCHAR(1024))\")\n",
    "# Create Table Discounts for toplearn website\n",
    "mycursor.execute(\"CREATE TABLE Discounts (id INT AUTO_INCREMENT PRIMARY KEY, course_name VARCHAR(1024))\")\n",
    "# Create Table Logs for discounts changes\n",
    "mycursor.execute(\"CREATE TABLE Logs (id INT AUTO_INCREMENT PRIMARY KEY, new_value VARCHAR(1024), sms INT, email INT, discount_id INT,time TIME, FOREIGN KEY (discount_id) REFERENCES Discounts(id))\" )\n"
   ]
  },
  {
   "cell_type": "markdown",
   "metadata": {},
   "source": [
    "MySQl Helpping functions"
   ]
  },
  {
   "cell_type": "code",
   "execution_count": 6,
   "metadata": {},
   "outputs": [],
   "source": [
    "def show_databases():\n",
    "    mycursor.execute(\"SHOW DATABASES\")\n",
    "    for db in mycursor:\n",
    "        print(db)\n",
    "\n",
    "def show_tables():\n",
    "    mycursor.execute(\"SHOW TABLES\")\n",
    "    for table in mycursor:\n",
    "        print(table)\n",
    "\n",
    "def show_rows(table):\n",
    "    mycursor.execute(f'select * from {table}')\n",
    "    records = mycursor.fetchall()\n",
    "    for record in records:\n",
    "        print(record)"
   ]
  },
  {
   "cell_type": "markdown",
   "metadata": {},
   "source": [
    "Getting session_id from toplearn"
   ]
  },
  {
   "cell_type": "code",
   "execution_count": 7,
   "metadata": {},
   "outputs": [],
   "source": [
    "from flask import Flask\n",
    "import datetime\n",
    "from flask import request, jsonify\n",
    "import uuid\n",
    "import requests\n",
    "\n",
    "toplearn_url = 'http://www.toplearn.com/Login'\n",
    "url = 'https://toplearn.com/Account/DashBoard?uid=c8ef2015-a667-4a68-a8d7-3d07ef51ec96'\n",
    "response = requests.get(url)\n",
    "\n",
    "#session_id = response.cookies.get('.AspNetCore.Session')\n",
    "#print(response.headers)\n",
    "#print(response.cookies.AspNetCore.Mvc.CookieTempDataProvider)\n",
    "#response.cookies.Session\n",
    "session_id = response.headers['Set-Cookie']"
   ]
  },
  {
   "cell_type": "markdown",
   "metadata": {},
   "source": [
    "Save Session_id in Database"
   ]
  },
  {
   "cell_type": "code",
   "execution_count": 8,
   "metadata": {},
   "outputs": [
    {
     "name": "stdout",
     "output_type": "stream",
     "text": [
      "(1, 'https://toplearn.com/Account/DashBoard?uid=c8ef2015-a667-4a68-a8d7-3d07ef51ec96', '.AspNetCore.Antiforgery.xX1vr0OcUbw=CfDJ8ANvLv7vMY5JpBI7sQrug1IW_kznRdrOEKjdjSPfl8EHLELXn7niZJ3tlgmvpaUxnbnez2r2bzG2FmUNa8bx9hP8VWg0cf3YNbCBTVH_tXm418yDSxQNiCJUYRGPflLCfLaIl3udwr_t52XcMI6dUHo; path=/; samesite=strict; httponly, .AspNetCore.Mvc.CookieTempDataProvider=; expires=Thu, 01 Jan 1970 00:00:00 GMT; path=/; samesite=lax; httponly')\n"
     ]
    }
   ],
   "source": [
    "mycursor.execute(\"INSERT INTO Sessions (URL_uid, cookie) VALUES (%s,%s)\", [url,str(session_id)])\n",
    "mydb.commit()\n",
    "show_rows(\"Sessions\")"
   ]
  },
  {
   "cell_type": "code",
   "execution_count": 9,
   "metadata": {},
   "outputs": [],
   "source": [
    "# this is the last cell for using database- dont run it now!\n",
    "# cursor.close()\n",
    "# connection.close()"
   ]
  },
  {
   "cell_type": "markdown",
   "metadata": {},
   "source": [
    "### 2-2.Crawl toplearn "
   ]
  },
  {
   "cell_type": "code",
   "execution_count": 10,
   "metadata": {},
   "outputs": [],
   "source": [
    "import requests\n",
    "from bs4 import BeautifulSoup\n",
    "\n",
    "url_topl = 'https://toplearn.com/TodayDiscounts'\n",
    "response = requests.get(url_topl)\n",
    "soup = BeautifulSoup(response.text, 'html.parser')"
   ]
  },
  {
   "cell_type": "markdown",
   "metadata": {},
   "source": [
    "Save Initial values in Discounts"
   ]
  },
  {
   "cell_type": "code",
   "execution_count": 11,
   "metadata": {},
   "outputs": [
    {
     "name": "stdout",
     "output_type": "stream",
     "text": [
      "(1, ' آموزش ساخت ربات تلگرام با Python ')\n",
      "(2, ' آموزش کتابخانه LOTTIE – انیمیشن در اندروید ')\n",
      "(3, ' آموزش افتر افکت ( After Effects ) ')\n",
      "(4, ' آموزش افترافکت ( انیمیشن سازی ) ')\n",
      "(5, ' آموزش کالیگرافی در فتوشاپ ')\n",
      "(6, ' آموزش ساخت کاور اینستاگرام در فتوشاپ ')\n",
      "(7, ' طراحی استوری اینستاگرام در افتر افکت ')\n",
      "(8, ' آموزش کار با موتور بازی سازی آنریل انجین ')\n",
      "(9, ' آموزش ++C در آنریل انجین ')\n",
      "(10, ' تحلیل و پیش\\u200cبینی بورس در پایتون ')\n"
     ]
    }
   ],
   "source": [
    "# this cell get the initial value of target element\n",
    "list_h2 = soup.find_all('h2')[:10]\n",
    "for h2 in list_h2:\n",
    "    mycursor.execute(\"INSERT INTO Discounts (course_name) VALUES (%s)\", [(h2.find('a').text)])\n",
    "show_rows(\"Discounts\")"
   ]
  },
  {
   "cell_type": "markdown",
   "metadata": {},
   "source": [
    "Checking for any changes in Discounts Table and save log in Logs Table and send SMS/Email"
   ]
  },
  {
   "cell_type": "code",
   "execution_count": 28,
   "metadata": {},
   "outputs": [],
   "source": [
    "from datetime import datetime\n",
    "\n",
    "#while True:\n",
    "updated_list = soup.find_all('h2')[:10]\n",
    "for i in range(1,10):\n",
    "    mycursor.execute(f\"SELECT course_name FROM Discounts WHERE id = {i}\")\n",
    "    old_value = mycursor.fetchone()[0]\n",
    "    new_value = str(updated_list[i].text)\n",
    "    if new_value!= old_value:\n",
    "        sms = send_sms(new_value)\n",
    "        email = send_email(new_value)\n",
    "        discount_id = i\n",
    "        current_time = datetime.now().time().strftime('%H:%M:%S')\n",
    "        mycursor.execute(\"INSERT INTO Logs (discount_id, new_value, sms, email, time) VALUES (%s,%s,%s,%s,%s)\", [discount_id, new_value, sms, email,current_time])\n",
    "        mydb.commit()"
   ]
  },
  {
   "cell_type": "code",
   "execution_count": 29,
   "metadata": {},
   "outputs": [
    {
     "name": "stdout",
     "output_type": "stream",
     "text": [
      "(1, ' آموزش کتابخانه LOTTIE – انیمیشن در اندروید ', 1, 1, 1, datetime.timedelta(seconds=83089))\n",
      "(2, ' آموزش افتر افکت ( After Effects ) ', 1, 1, 2, datetime.timedelta(seconds=83089))\n",
      "(3, ' آموزش افترافکت ( انیمیشن سازی ) ', 1, 1, 3, datetime.timedelta(seconds=83089))\n",
      "(4, ' آموزش کالیگرافی در فتوشاپ ', 1, 1, 4, datetime.timedelta(seconds=83089))\n",
      "(5, ' آموزش ساخت کاور اینستاگرام در فتوشاپ ', 1, 1, 5, datetime.timedelta(seconds=83089))\n",
      "(6, ' طراحی استوری اینستاگرام در افتر افکت ', 1, 1, 6, datetime.timedelta(seconds=83089))\n",
      "(7, ' آموزش کار با موتور بازی سازی آنریل انجین ', 1, 1, 7, datetime.timedelta(seconds=83089))\n",
      "(8, ' آموزش ++C در آنریل انجین ', 1, 1, 8, datetime.timedelta(seconds=83089))\n",
      "(9, ' تحلیل و پیش\\u200cبینی بورس در پایتون ', 1, 1, 9, datetime.timedelta(seconds=83089))\n",
      "(10, ' آموزش کتابخانه LOTTIE – انیمیشن در اندروید ', 1, 1, 1, datetime.timedelta(seconds=83131))\n",
      "(11, ' آموزش افتر افکت ( After Effects ) ', 1, 1, 2, datetime.timedelta(seconds=83131))\n",
      "(12, ' آموزش افترافکت ( انیمیشن سازی ) ', 1, 1, 3, datetime.timedelta(seconds=83131))\n",
      "(13, ' آموزش کالیگرافی در فتوشاپ ', 1, 1, 4, datetime.timedelta(seconds=83131))\n",
      "(14, ' آموزش ساخت کاور اینستاگرام در فتوشاپ ', 1, 1, 5, datetime.timedelta(seconds=83131))\n",
      "(15, ' طراحی استوری اینستاگرام در افتر افکت ', 1, 1, 6, datetime.timedelta(seconds=83131))\n",
      "(16, ' آموزش کار با موتور بازی سازی آنریل انجین ', 1, 1, 7, datetime.timedelta(seconds=83131))\n",
      "(17, ' آموزش ++C در آنریل انجین ', 1, 1, 8, datetime.timedelta(seconds=83131))\n",
      "(18, ' تحلیل و پیش\\u200cبینی بورس در پایتون ', 1, 1, 9, datetime.timedelta(seconds=83131))\n",
      "(19, ' آموزش کتابخانه LOTTIE – انیمیشن در اندروید ', 1, 1, 1, datetime.timedelta(seconds=83139))\n",
      "(20, ' آموزش افتر افکت ( After Effects ) ', 1, 1, 2, datetime.timedelta(seconds=83139))\n",
      "(21, ' آموزش افترافکت ( انیمیشن سازی ) ', 1, 1, 3, datetime.timedelta(seconds=83139))\n",
      "(22, ' آموزش کالیگرافی در فتوشاپ ', 1, 1, 4, datetime.timedelta(seconds=83139))\n",
      "(23, ' آموزش ساخت کاور اینستاگرام در فتوشاپ ', 1, 1, 5, datetime.timedelta(seconds=83139))\n",
      "(24, ' طراحی استوری اینستاگرام در افتر افکت ', 1, 1, 6, datetime.timedelta(seconds=83139))\n",
      "(25, ' آموزش کار با موتور بازی سازی آنریل انجین ', 1, 1, 7, datetime.timedelta(seconds=83139))\n",
      "(26, ' آموزش ++C در آنریل انجین ', 1, 1, 8, datetime.timedelta(seconds=83139))\n",
      "(27, ' تحلیل و پیش\\u200cبینی بورس در پایتون ', 1, 1, 9, datetime.timedelta(seconds=83139))\n",
      "(28, ' آموزش کتابخانه LOTTIE – انیمیشن در اندروید ', 0, 1, 1, datetime.timedelta(seconds=83424))\n",
      "(29, ' آموزش افتر افکت ( After Effects ) ', 0, 1, 2, datetime.timedelta(seconds=83424))\n",
      "(30, ' آموزش افترافکت ( انیمیشن سازی ) ', 0, 1, 3, datetime.timedelta(seconds=83424))\n",
      "(31, ' آموزش کالیگرافی در فتوشاپ ', 0, 1, 4, datetime.timedelta(seconds=83424))\n",
      "(32, ' آموزش ساخت کاور اینستاگرام در فتوشاپ ', 0, 1, 5, datetime.timedelta(seconds=83424))\n",
      "(33, ' طراحی استوری اینستاگرام در افتر افکت ', 0, 1, 6, datetime.timedelta(seconds=83424))\n",
      "(34, ' آموزش کار با موتور بازی سازی آنریل انجین ', 0, 1, 7, datetime.timedelta(seconds=83424))\n",
      "(35, ' آموزش ++C در آنریل انجین ', 0, 1, 8, datetime.timedelta(seconds=83424))\n",
      "(36, ' تحلیل و پیش\\u200cبینی بورس در پایتون ', 0, 1, 9, datetime.timedelta(seconds=83424))\n",
      "(37, ' آموزش کتابخانه LOTTIE – انیمیشن در اندروید ', 0, 0, 1, datetime.timedelta(seconds=83548))\n",
      "(38, ' آموزش افتر افکت ( After Effects ) ', 0, 0, 2, datetime.timedelta(seconds=83548))\n",
      "(39, ' آموزش افترافکت ( انیمیشن سازی ) ', 0, 0, 3, datetime.timedelta(seconds=83548))\n",
      "(40, ' آموزش کالیگرافی در فتوشاپ ', 0, 0, 4, datetime.timedelta(seconds=83548))\n",
      "(41, ' آموزش ساخت کاور اینستاگرام در فتوشاپ ', 0, 0, 5, datetime.timedelta(seconds=83548))\n",
      "(42, ' طراحی استوری اینستاگرام در افتر افکت ', 0, 0, 6, datetime.timedelta(seconds=83548))\n",
      "(43, ' آموزش کار با موتور بازی سازی آنریل انجین ', 0, 0, 7, datetime.timedelta(seconds=83548))\n",
      "(44, ' آموزش ++C در آنریل انجین ', 0, 0, 8, datetime.timedelta(seconds=83548))\n",
      "(45, ' تحلیل و پیش\\u200cبینی بورس در پایتون ', 0, 0, 9, datetime.timedelta(seconds=83548))\n",
      "(46, ' آموزش کتابخانه LOTTIE – انیمیشن در اندروید ', 0, 10, 1, datetime.timedelta(seconds=83568))\n",
      "(47, ' آموزش افتر افکت ( After Effects ) ', 0, 10, 2, datetime.timedelta(seconds=83568))\n",
      "(48, ' آموزش افترافکت ( انیمیشن سازی ) ', 0, 10, 3, datetime.timedelta(seconds=83568))\n",
      "(49, ' آموزش کالیگرافی در فتوشاپ ', 0, 10, 4, datetime.timedelta(seconds=83568))\n",
      "(50, ' آموزش ساخت کاور اینستاگرام در فتوشاپ ', 0, 10, 5, datetime.timedelta(seconds=83568))\n",
      "(51, ' طراحی استوری اینستاگرام در افتر افکت ', 0, 10, 6, datetime.timedelta(seconds=83568))\n",
      "(52, ' آموزش کار با موتور بازی سازی آنریل انجین ', 0, 10, 7, datetime.timedelta(seconds=83568))\n",
      "(53, ' آموزش ++C در آنریل انجین ', 0, 10, 8, datetime.timedelta(seconds=83568))\n",
      "(54, ' تحلیل و پیش\\u200cبینی بورس در پایتون ', 0, 10, 9, datetime.timedelta(seconds=83568))\n"
     ]
    }
   ],
   "source": [
    "show_rows(\"Logs\")"
   ]
  },
  {
   "cell_type": "code",
   "execution_count": null,
   "metadata": {},
   "outputs": [],
   "source": []
  }
 ],
 "metadata": {
  "kernelspec": {
   "display_name": "Python 3.8.5 64-bit",
   "language": "python",
   "name": "python3"
  },
  "language_info": {
   "codemirror_mode": {
    "name": "ipython",
    "version": 3
   },
   "file_extension": ".py",
   "mimetype": "text/x-python",
   "name": "python",
   "nbconvert_exporter": "python",
   "pygments_lexer": "ipython3",
   "version": "3.8.5"
  },
  "vscode": {
   "interpreter": {
    "hash": "aee8b7b246df8f9039afb4144a1f6fd8d2ca17a180786b69acc140d282b71a49"
   }
  }
 },
 "nbformat": 4,
 "nbformat_minor": 4
}
