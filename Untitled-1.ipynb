{
 "cells": [
  {
   "cell_type": "markdown",
   "metadata": {},
   "source": [
    "# Database Labratory Project"
   ]
  },
  {
   "cell_type": "markdown",
   "metadata": {},
   "source": [
    "- Negin mashayekhi\n",
    "- Farbod fooladi"
   ]
  },
  {
   "cell_type": "markdown",
   "metadata": {},
   "source": [
    "### 1. Checking a webpage to know when an element has changed"
   ]
  },
  {
   "cell_type": "code",
   "execution_count": null,
   "metadata": {},
   "outputs": [],
   "source": [
    "import requests\n",
    "from bs4 import BeautifulSoup\n",
    "\n",
    "url = 'https://www.digikala.com/search/category-foreign-printed-book/'\n",
    "response = requests.get(url)\n",
    "soup = BeautifulSoup(response.text, 'html.parser')"
   ]
  },
  {
   "cell_type": "code",
   "execution_count": null,
   "metadata": {},
   "outputs": [],
   "source": [
    "# this cell get the initial value of target element\n",
    "seventh_h3 = soup.find_all('h3')[7] \n",
    "next_span_info = seventh_h3.find_next_sibling('span', {'class': 'info-value'})\n",
    "price_span = next_span_info.find('span', {'class': 'info-price'})\n",
    "initial_value = price_span.text\n",
    "initial_value"
   ]
  },
  {
   "cell_type": "code",
   "execution_count": null,
   "metadata": {},
   "outputs": [],
   "source": [
    "# this cell check the element continously \n",
    "while True:\n",
    "    seventh_h3 = soup.find_all('h3')[7] \n",
    "    next_span_info = seventh_h3.find_next_sibling('span', {'class': 'info-value'})\n",
    "    price_span = next_span_info.find('span', {'class': 'info-price'})\n",
    "    if initial_value != price_span.text:\n",
    "        new_price = price_span.text\n",
    "        print(price_span.text)\n",
    "        break"
   ]
  },
  {
   "cell_type": "markdown",
   "metadata": {},
   "source": [
    "#### Sending Email"
   ]
  },
  {
   "cell_type": "code",
   "execution_count": null,
   "metadata": {},
   "outputs": [],
   "source": [
    "import smtplib\n",
    "from email.mime.text import MIMEText\n",
    "from email.mime.multipart import MIMEMultipart"
   ]
  },
  {
   "cell_type": "code",
   "execution_count": null,
   "metadata": {},
   "outputs": [],
   "source": [
    "# Set up connection to the SMTP server\n",
    "smtp_server = 'smtp.gmail.com'  # replace with your SMTP server address\n",
    "smtp_port = 25  # replace with your SMTP server port\n",
    "username = 'n.mashayekhi456@gmail.com'  # replace with your email address\n",
    "password = '123456'  # replace with your email password\n",
    "\n",
    "server = smtplib.SMTP(smtp_server, smtp_port)\n",
    "server.starttls()\n",
    "server.login(username, password)\n",
    "\n",
    "# Construct the email message\n",
    "from_addr = 'n.mashayekhi456@gmail.com'  # replace with your email address\n",
    "to_addr = 'n.mashayekhi456@gmail.com'  # replace with recipient email address\n",
    "subject = 'teter price has changed!'\n",
    "body = new_price\n",
    "\n",
    "msg = MIMEMultipart()\n",
    "msg['From'] = from_addr\n",
    "msg['To'] = to_addr\n",
    "msg['Subject'] = subject\n",
    "\n",
    "msg.attach(MIMEText(body, 'plain'))\n",
    "\n",
    "# Send the email\n",
    "text = msg.as_string()\n",
    "server.sendmail(from_addr, to_addr, text)\n",
    "\n",
    "# Close the connection to the SMTP server\n",
    "server.quit()\n"
   ]
  },
  {
   "cell_type": "markdown",
   "metadata": {},
   "source": [
    "#### Sending SMS\n"
   ]
  },
  {
   "cell_type": "code",
   "execution_count": null,
   "metadata": {},
   "outputs": [],
   "source": [
    "from twilio.rest import Client\n",
    "\n",
    "# Your Account SID and Auth Token from twilio.com/console\n",
    "account_sid = 'your_account_sid'\n",
    "auth_token = 'your_auth_token'\n",
    "client = Client(account_sid, auth_token)\n",
    "\n",
    "# Use the Twilio API to send an SMS message\n",
    "message = client.messages.create(\n",
    "    body='Hello, this is a test message!',\n",
    "    from_='+989351004976', # Replace with your Twilio phone number\n",
    "    to='+989120753574' # Replace with the recipient's phone number\n",
    ")\n",
    "\n",
    "print(f'Sent message with SID: {message.sid}')"
   ]
  },
  {
   "attachments": {},
   "cell_type": "markdown",
   "metadata": {},
   "source": [
    "# Phase 2"
   ]
  },
  {
   "cell_type": "code",
   "execution_count": null,
   "metadata": {},
   "outputs": [],
   "source": [
    "from bs4 import BeautifulSoup\n",
    "\n",
    "# Parse the HTML content using Beautiful Soup\n",
    "html = '<<span>۷۵,۰۰۰</span><div class=\"d-flex\"><svg style=\"width: 16px; height: 16px; fill: var(--color-icon-high-emphasis);\"><use xlink:href=\"#toman\"></use></svg></div>>'\n",
    "soup = BeautifulSoup(html, 'html.parser')\n",
    "\n",
    "# Find the outer div using a CSS selector\n",
    "outer_div = soup.find('div', {'class': 'outer'})\n",
    "\n",
    "# Iterate over all the nested elements using the descendants attribute\n",
    "for element in outer_div.descendants:\n",
    "    if element.name == 'span' and element.get('id') == 'my-element':\n",
    "        # Extract the text or other attributes of the desired element\n",
    "        element_text = element.text\n",
    "        element_attribute = element['data-my-attribute']\n",
    "        break\n",
    "else:\n",
    "    # Handle the case where the desired element was not found\n",
    "    element_text = None\n",
    "    element_attribute = None\n"
   ]
  },
  {
   "attachments": {},
   "cell_type": "markdown",
   "metadata": {},
   "source": [
    "# Phase 3\n",
    "* database creation"
   ]
  },
  {
   "cell_type": "code",
   "execution_count": null,
   "metadata": {},
   "outputs": [],
   "source": [
    "import mysql.connector\n",
    "\n",
    "# Connect to MySQL server\n",
    "mydb = mysql.connector.connect(\n",
    "  host=\"localhost\",\n",
    "  user=\"nf\",\n",
    "  password=\"1234\",\n",
    "  port=3306\n",
    ")\n",
    "\n",
    "# Create a cursor object\n",
    "mycursor = mydb.cursor()\n",
    "\n",
    "# Create a database named \"DB_Lab\"\n",
    "mycursor.execute(\"CREATE DATABASE DB_Lab\")\n",
    "\n",
    "# Switch to the newly created database\n",
    "mycursor.execute(\"USE DB_Lab\")\n",
    "\n",
    "# Create the \"urlLink\" table\n",
    "mycursor.execute(\"CREATE TABLE urlLink (id INT AUTO_INCREMENT PRIMARY KEY, url VARCHAR(255))\")\n",
    "\n",
    "# Create the \"captchaType\" table\n",
    "mycursor.execute(\"CREATE TABLE captchaType (id INT AUTO_INCREMENT PRIMARY KEY, type VARCHAR(255))\")\n",
    "\n",
    "# Create the \"libraryType\" table\n",
    "mycursor.execute(\"CREATE TABLE libraryType (id INT AUTO_INCREMENT PRIMARY KEY, type VARCHAR(255))\")\n",
    "\n",
    "# Confirm that the tables have been created\n",
    "mycursor.execute(\"SHOW TABLES\")\n",
    "for table in mycursor:\n",
    "  print(table)\n"
   ]
  },
  {
   "cell_type": "markdown",
   "metadata": {},
   "source": [
    "# Phase 2 (Login)\n",
    "- Save session for further use\n",
    "- Extract elements inside user panel"
   ]
  },
  {
   "cell_type": "markdown",
   "metadata": {},
   "source": [
    "### 2-1.Save Sessions in DB"
   ]
  },
  {
   "cell_type": "code",
   "execution_count": 1,
   "metadata": {},
   "outputs": [],
   "source": [
    "from flask import Flask\n",
    "import datetime\n",
    "\n",
    "from flask import request, jsonify\n",
    "import uuid"
   ]
  },
  {
   "cell_type": "code",
   "execution_count": null,
   "metadata": {},
   "outputs": [],
   "source": [
    "# POSTLOGINURL = 'www.toplearn.com/login'\n",
    "# #REQUESTURL = 'www.example.com/page_to_scrape'\n",
    "\n",
    "# payload = {'username': 'aacc9818@gmail.com', 'password': '456654321'}\n",
    "# with request.Session() as session:\n",
    "#     post = session.post(POSTLOGINURL, data=payload)\n",
    "#     print(session)"
   ]
  },
  {
   "cell_type": "code",
   "execution_count": 2,
   "metadata": {},
   "outputs": [],
   "source": [
    "import requests\n",
    "url = 'http://www.toplearn.com/Login'\n",
    "url3 = 'https://toplearn.com/Account/DashBoard?uid=c8ef2015-a667-4a68-a8d7-3d07ef51ec96'\n",
    "response = requests.get(url3)\n",
    "\n",
    "#session_id = response.cookies.get('.AspNetCore.Session')\n",
    "#print(response.headers)\n",
    "#print(response.cookies.AspNetCore.Mvc.CookieTempDataProvider)\n",
    "#response.cookies.Session\n",
    "session_id = response.headers['Set-Cookie']"
   ]
  },
  {
   "cell_type": "code",
   "execution_count": 3,
   "metadata": {},
   "outputs": [],
   "source": [
    "import mysql\n",
    "import mysql.connector"
   ]
  },
  {
   "cell_type": "code",
   "execution_count": 4,
   "metadata": {},
   "outputs": [
    {
     "name": "stdout",
     "output_type": "stream",
     "text": [
      "('DB_Lab',)\n",
      "('information_schema',)\n",
      "('myDatabase',)\n",
      "('mysql',)\n",
      "('performance_schema',)\n",
      "('sys',)\n"
     ]
    }
   ],
   "source": [
    "mydb = mysql.connector.connect(\n",
    "  host=\"localhost\",\n",
    "  user=\"root\",\n",
    "  password=\"pdne\",\n",
    ")\n",
    "mycursor = mydb.cursor()\n",
    "mycursor.execute(\"SHOW DATABASES\")\n",
    "for x in mycursor:\n",
    "  print(x)"
   ]
  },
  {
   "cell_type": "code",
   "execution_count": null,
   "metadata": {},
   "outputs": [],
   "source": [
    "# Create a database named \"DB_Lab\"\n",
    "mycursor.execute(\"CREATE DATABASE DB_Lab\")"
   ]
  },
  {
   "cell_type": "code",
   "execution_count": 5,
   "metadata": {},
   "outputs": [],
   "source": [
    "# run this every time\n",
    "# Switch to the newly created database\n",
    "mycursor.execute(\"USE DB_Lab\")"
   ]
  },
  {
   "cell_type": "code",
   "execution_count": 9,
   "metadata": {},
   "outputs": [],
   "source": [
    "mycursor.execute(\"CREATE TABLE Sessions2 (id INT AUTO_INCREMENT PRIMARY KEY, session VARCHAR(1024))\")"
   ]
  },
  {
   "cell_type": "code",
   "execution_count": 10,
   "metadata": {},
   "outputs": [
    {
     "name": "stdout",
     "output_type": "stream",
     "text": [
      "('Sessions',)\n",
      "('Sessions2',)\n"
     ]
    }
   ],
   "source": [
    "mycursor.execute(\"SHOW TABLES\")\n",
    "for table in mycursor:\n",
    "  print(table)"
   ]
  },
  {
   "cell_type": "code",
   "execution_count": 11,
   "metadata": {},
   "outputs": [],
   "source": [
    "sql = \"INSERT INTO Sessions2 (session) VALUES (%s)\"\n",
    "val = ([str(session_id)])\n",
    "mycursor.execute(sql, val)\n",
    "mydb.commit()"
   ]
  },
  {
   "cell_type": "code",
   "execution_count": 13,
   "metadata": {},
   "outputs": [
    {
     "name": "stdout",
     "output_type": "stream",
     "text": [
      "(1, '.AspNetCore.Antiforgery.xX1vr0OcUbw=CfDJ8ANvLv7vMY5JpBI7sQrug1LGKBB29TL573RrwYAqwZb-GWr7lmSLgjHQ3tb4s97ufPht1TKRfTeRK2HwYaCXVbuUP3dhhBPqSKFD_upfKqpjl-sadlY1S1Y5DU5H4F6cGlVYDuTSqAUzfZt1I57YyHk; path=/; samesite=strict; httponly, .AspNetCore.Mvc.CookieTempDataProvider=; expires=Thu, 01 Jan 1970 00:00:00 GMT; path=/; samesite=lax; httponly')\n"
     ]
    }
   ],
   "source": [
    "mycursor.execute('select * from Sessions2')\n",
    "myresult = mycursor.fetchall()\n",
    "\n",
    "for x in myresult:\n",
    "  print(x)"
   ]
  },
  {
   "cell_type": "code",
   "execution_count": null,
   "metadata": {},
   "outputs": [],
   "source": [
    "# this is the last cell for using database- dont run it now!\n",
    "# cursor.close()\n",
    "# connection.close()"
   ]
  },
  {
   "cell_type": "markdown",
   "metadata": {},
   "source": [
    "### 2-2.Crawl toplearn "
   ]
  },
  {
   "cell_type": "code",
   "execution_count": null,
   "metadata": {},
   "outputs": [],
   "source": [
    "https://toplearn.com/TodayDiscounts"
   ]
  },
  {
   "cell_type": "code",
   "execution_count": 14,
   "metadata": {},
   "outputs": [],
   "source": [
    "import requests\n",
    "from bs4 import BeautifulSoup\n",
    "\n",
    "url = 'https://toplearn.com/TodayDiscounts'\n",
    "response = requests.get(url)\n",
    "soup = BeautifulSoup(response.text, 'html.parser')"
   ]
  },
  {
   "cell_type": "code",
   "execution_count": 16,
   "metadata": {},
   "outputs": [
    {
     "data": {
      "text/plain": [
       "[<h2><a href=\"/courses/4526/%D8%AA%D8%AD%D9%84%DB%8C%D9%84-%D9%88-%D9%BE%DB%8C%D8%B4%E2%80%8C%D8%A8%DB%8C%D9%86%DB%8C-%D8%A8%D9%88%D8%B1%D8%B3-%D8%AF%D8%B1-%D9%BE%D8%A7%DB%8C%D8%AA%D9%88%D9%86\" title=\"تحلیل و پیش‌بینی بورس در پایتون\"> تحلیل و پیش‌بینی بورس در پایتون </a></h2>,\n",
       " <h2><a href=\"/courses/4616/%D8%A2%D9%85%D9%88%D8%B2%D8%B4-%D8%AC%D8%A7%D9%85%D8%B9-%D8%A2%D8%B1%D8%AF%D9%88%DB%8C%D9%86%D9%88-(-arduino-)%D9%BE%D8%B1%D9%88%DA%98%D9%87-%D9%85%D8%AD%D9%88%D8%B1\" title=\"آموزش جامع آردوینو (Arduino) - پروژه محور\"> آموزش جامع آردوینو (Arduino) - پروژه محور </a></h2>,\n",
       " <h2><a href=\"/courses/4648/%D8%A2%D9%86%D8%A7%D9%84%DB%8C%D8%B2-%D9%85%D8%A7%D9%84%DB%8C-%D8%AF%D8%B1-%D9%BE%D8%A7%DB%8C%D8%AA%D9%88%D9%86\" title=\"آنالیز مالی در پایتون\"> آنالیز مالی در پایتون </a></h2>,\n",
       " <h2><a href=\"/courses/4675/-%D8%A2%D9%86%D8%A7%D9%84%DB%8C%D8%B2-%DA%86%D9%87%D8%B1%D9%87-%D9%88-%D8%A8%DB%8C%D9%86%D9%80%D8%A7%DB%8C%DB%8C-%DA%A9%D8%A7%D9%85%D9%BE%DB%8C%D9%88%D8%AA%D8%B1-%D8%AF%D8%B1-%D9%BE%D8%A7%DB%8C%D8%AA%D9%88%D9%86\" title=\" آنالیز چهره و بینـایی کامپیوتر در پایتون\"> آنالیز چهره و بینـایی کامپیوتر در پایتون </a></h2>,\n",
       " <h2><a href=\"/courses/4693/-%D8%A2%D9%85%D9%88%D8%B2%D8%B4-%D8%B4%D8%A7%D8%AE%D9%87%E2%80%8C%D9%87%D8%A7%DB%8C-%D8%AC%D8%B0%D8%A7%D8%A8-%D9%BE%D8%A7%DB%8C%D8%AA%D9%88%D9%86\" title=\" آموزش شاخه‌های جذاب پایتون\"> آموزش شاخه‌های جذاب پایتون </a></h2>,\n",
       " <h2><a href=\"/courses/5783/%D8%A2%D9%85%D9%88%D8%B2%D8%B4-%D9%85%D8%B9%D8%A7%D9%85%D9%84%D8%A7%D8%AA-%D8%A7%D9%84%DA%AF%D9%88%D8%B1%DB%8C%D8%AA%D9%85%DB%8C-%D8%A7%D8%B1%D8%B2-%D8%AF%DB%8C%D8%AC%DB%8C%D8%AA%D8%A7%D9%84-%D8%AF%D8%B1-%D9%BE%D8%A7%DB%8C%D8%AA%D9%88%D9%86\" title=\"آموزش معاملات الگوریتمی ارز دیجیتال در پایتون\"> آموزش معاملات الگوریتمی ارز دیجیتال در پایتون </a></h2>,\n",
       " <h2><a href=\"/courses/5915/%D8%A2%D9%86%D8%A7%D9%84%DB%8C%D8%B2-%DA%A9%D9%84%D8%A7%D9%86-%D8%AF%D8%A7%D8%AF%D9%87-(-bigdata-)-%D8%A8%D8%A7-%D9%BE%D8%A7%DB%8C%D8%AA%D9%88%D9%86-%D9%88-%D8%A7%D8%B3%D9%BE%D8%A7%D8%B1%DA%A9\" title=\"آنالیز کلان داده (Big Data) با پایتون و اسپارک\"> آنالیز کلان داده (Big Data) با پایتون و اسپارک </a></h2>,\n",
       " <h2><a href=\"/courses/40/%D8%AF%D9%88%D8%B1%D9%87asp-netmvc-%D9%BE%DB%8C%D8%B4%D8%B1%D9%81%D8%AA%D9%87\" title=\"دوره  Asp.Net MVC پیشرفته\"> دوره Asp.Net MVC پیشرفته </a></h2>,\n",
       " <h2><a href=\"/courses/54/%D8%A2%D9%85%D9%88%D8%B2%D8%B4-boot-strap-(%D8%A8%D9%88%D8%AA-%D8%A7%D8%B3%D8%AA%D8%B1%D9%BE-4-%D9%88-5-)\" title=\"آموزش BootStrap (بوت استرپ 4 و 5 )\"> آموزش BootStrap (بوت استرپ 4 و 5 ) </a></h2>,\n",
       " <h2><a href=\"/courses/62/%D8%A2%D9%85%D9%88%D8%B2%D8%B4-asp-netcore%D9%BE%DB%8C%D8%B4%D8%B1%D9%81%D8%AA%D9%87\" title=\"آموزش Asp.Net Core  پیشرفته\"> آموزش Asp.Net Core پیشرفته </a></h2>,\n",
       " <h2><a href=\"/courses/69/%D8%AF%D9%88%D8%B1%D9%87-%D8%AC%D8%A7%D9%85%D8%B9-%D8%A2%D9%85%D9%88%D8%B2%D8%B4-seo\" title=\"دوره جامع آموزش SEO\"> دوره جامع آموزش SEO </a></h2>,\n",
       " <h2><a href=\"/courses/73/%D8%A2%D9%85%D9%88%D8%B2%D8%B4-xamarinforms\" title=\"آموزش Xamarin Forms\"> آموزش Xamarin Forms </a></h2>,\n",
       " <h2><a href=\"/courses/78/%D8%AF%D9%88%D8%B1%D9%87-%D8%A7%D9%85%D9%86%DB%8C%D8%AA-%D8%AF%D8%B1-asp-netcore\" title=\"دوره امنیت در Asp.Net Core\"> دوره امنیت در Asp.Net Core </a></h2>,\n",
       " <h2><a href=\"/courses/79/%D8%AF%D9%88%D8%B1%D9%87-%D8%A2%D9%85%D9%88%D8%B2%D8%B4-%D8%AA%D8%B3%D8%AA-%D9%86%D8%B1%D9%85-%D8%A7%D9%81%D8%B2%D8%A7%D8%B1-(-unittesting-)-\" title=\"دوره آموزش تست نرم افزار ( Unit Testing ) \"> دوره آموزش تست نرم افزار ( Unit Testing ) </a></h2>,\n",
       " <h2><a href=\"/courses/82/%D8%AF%D9%88%D8%B1%D9%87-%D8%A2%D9%85%D9%88%D8%B2%D8%B4-%D8%AC%D8%A7%D9%85%D8%B9-vuejs\" title=\"دوره آموزش جامع Vue Js\"> دوره آموزش جامع Vue Js </a></h2>,\n",
       " <h2><a href=\"/courses/83/%D8%AF%D9%88%D8%B1%D9%87-%D8%A2%D9%85%D9%88%D8%B2%D8%B4-signal-r-%D8%AF%D8%B1-asp-netcore\" title=\"دوره آموزش SignalR در Asp.Net Core\"> دوره آموزش SignalR در Asp.Net Core </a></h2>,\n",
       " <h2><a href=\"/courses/88/%D8%B3%D8%A7%D8%AE%D8%AA-%D9%BE%D8%B1%D9%88%DA%98%D9%87-%DA%A9%D8%A7%D9%85%D9%84-%D8%A8%D8%A7-angular-6-%D9%88-asp-netcore\" title=\"ساخت پروژه کامل با Angular 6 و Asp.Net Core\"> ساخت پروژه کامل با Angular 6 و Asp.Net Core </a></h2>,\n",
       " <h2><a href=\"/courses/96/%D8%AF%D9%88%D8%B1%D9%87-%D8%A2%D9%85%D9%88%D8%B2%D8%B4-kotlin-%D8%A8%D9%87-%D9%87%D9%85%D8%B1%D8%A7%D9%87-%D9%BE%D8%B1%D9%88%DA%98%D9%87-%D8%B9%D9%85%D9%84%DB%8C-whats-app\" title=\"دوره آموزش Kotlin به همراه پروژه عملی WhatsApp\"> دوره آموزش Kotlin به همراه پروژه عملی WhatsApp </a></h2>,\n",
       " <h2><a href=\"/courses/100/%D8%AF%D9%88%D8%B1%D9%87-%D8%B3%DB%8C-%D9%BE%D9%84%D8%A7%D8%B3-%D9%BE%D9%84%D8%A7%D8%B3-%D9%BE%DB%8C%D8%B4%D8%B1%D9%81%D8%AA%D9%87\" title=\"دوره سی پلاس پلاس پیشرفته\"> دوره سی پلاس پلاس پیشرفته </a></h2>,\n",
       " <h2><a href=\"/courses/101/%D8%AF%D9%88%D8%B1%D9%87-xamarinforms-%D9%BE%DB%8C%D8%B4%D8%B1%D9%81%D8%AA%D9%87-\" title=\"دوره Xamarin Forms پیشرفته \"> دوره Xamarin Forms پیشرفته </a></h2>,\n",
       " <h2><a href=\"/courses/105/%D8%A2%D9%85%D9%88%D8%B2%D8%B4-%D8%A8%D8%B1%D9%86%D8%A7%D9%85%D9%87%E2%80%8C-%D9%86%D9%88%DB%8C%D8%B3%DB%8C-%D8%A8%D9%84%D8%A7%DA%A9%E2%80%8C%DA%86%DB%8C%D9%86-%D8%AF%D8%B1-asp-netcore\" title=\"آموزش برنامه‌ نویسی بلاک‌چین در Asp.Net Core\"> آموزش برنامه‌ نویسی بلاک‌چین در Asp.Net Core </a></h2>,\n",
       " <h2><a href=\"/courses/106/%D8%A2%D9%85%D9%88%D8%B2%D8%B4-%D8%AC%D8%A7%D9%85%D8%B9-ionic-4\" title=\"آموزش جامع Ionic 4\"> آموزش جامع Ionic 4 </a></h2>,\n",
       " <h2><a href=\"/courses/1116/%D8%A2%D9%85%D9%88%D8%B2%D8%B4-%D8%B5%D9%81%D8%B1-%D8%AA%D8%A7-%D8%B5%D8%AF-blazor-%D8%AF%D8%B1-core-3\" title=\"آموزش صفر تا صد Blazor در Core 3\"> آموزش صفر تا صد Blazor در Core 3 </a></h2>,\n",
       " <h2><a href=\"/courses/2124/%D8%AF%D9%88%D8%B1%D9%87-%D8%A7%D8%B5%D9%88%D9%84-%D9%82%D8%B1%D8%A7%D8%B1%D8%AF%D8%A7%D8%AF-%D9%86%D9%88%DB%8C%D8%B3%DB%8C-%D8%A8%D8%B1%D8%A7%DB%8C-%D8%A8%D8%B1%D9%86%D8%A7%D9%85%D9%87-%D9%86%D9%88%DB%8C%D8%B3%D8%A7%D9%86\" title=\"دوره اصول قرارداد نویسی برای برنامه نویسان\"> دوره اصول قرارداد نویسی برای برنامه نویسان </a></h2>,\n",
       " <h2><a href=\"/courses/2125/%D8%A2%D9%85%D9%88%D8%B2%D8%B4-%D8%B7%D8%B1%D8%A7%D8%AD%DB%8C-%D8%B3%D8%A7%DB%8C%D8%AA-%D8%A8%D8%AF%D9%88%D9%86-%D8%A8%D8%B1%D9%86%D8%A7%D9%85%D9%87-%D9%86%D9%88%DB%8C%D8%B3%DB%8C\" title=\"آموزش طراحی سایت بدون برنامه نویسی\"> آموزش طراحی سایت بدون برنامه نویسی </a></h2>,\n",
       " <h2><a href=\"/courses/2129/11-%D8%AA%D8%AE%D8%B5%D8%B5-%D9%BE%D9%88%D9%84%D8%B3%D8%A7%D8%B2-%D8%A2%DB%8C%D9%86%D8%AF%D9%87-%D8%AF%D8%B1-%D8%A7%DB%8C%D9%86%D8%AA%D8%B1%D9%86%D8%AA\" title=\"11 تخصص پولساز آینده در اینترنت\"> 11 تخصص پولساز آینده در اینترنت </a></h2>,\n",
       " <h2><a href=\"/courses/2130/%D8%A2%D9%85%D9%88%D8%B2%D8%B4-sqlserver-2019\" title=\"آموزش Sql Server 2019\"> آموزش Sql Server 2019 </a></h2>,\n",
       " <h2><a href=\"/courses/2132/%D8%B3%D8%A7%D8%AE%D8%AA-%D9%81%D8%B1%D9%88%D8%B4%DA%AF%D8%A7%D9%87-%D8%A2%D9%86%D9%84%D8%A7%DB%8C%D9%86-%D8%A8%D8%A7-word-press\" title=\"ساخت فروشگاه آنلاین با WordPress\"> ساخت فروشگاه آنلاین با WordPress </a></h2>,\n",
       " <h2><a href=\"/courses/2136/%D8%AF%D9%88%D8%B1%D9%87-%D8%AC%D8%A7%D9%85%D8%B9-%D9%86%D8%AA%D9%88%D8%B1%D9%83-%D9%BE%D9%84%D8%A7%D8%B3-%D9%88-ccna\" title=\"دوره جامع نتورك پلاس و CCNA\"> دوره جامع نتورك پلاس و CCNA </a></h2>,\n",
       " <h2><a href=\"/courses/2140/%D8%AF%D9%88%D8%B1%D9%87-%D8%A2%D9%85%D9%88%D8%B2%D8%B4-ecmascript\" title=\"دوره آموزش ECMA Script\"> دوره آموزش ECMA Script </a></h2>,\n",
       " <h2><a href=\"/courses/2160/%D8%A2%D9%85%D9%88%D8%B2%D8%B4-%D8%B7%D8%B1%D8%A7%D8%AD%DB%8C-%D9%82%D8%A7%D9%84%D8%A8-%D9%81%D8%B1%D9%88%D8%B4%DA%AF%D8%A7%D9%87%DB%8C-%D9%88%D8%B1%D8%AF%D9%BE%D8%B1%D8%B3\" title=\"آموزش طراحی قالب فروشگاهی وردپرس\"> آموزش طراحی قالب فروشگاهی وردپرس </a></h2>,\n",
       " <h2><a href=\"/courses/2168/-%D8%A7%DB%8C%D8%AC%D8%A7%D8%AF-%D8%AE%D9%88%D8%AF%DA%A9%D8%A7%D8%B1-%D9%81%D8%A7%DB%8C%D9%84-%D9%87%D8%A7-%D8%A8%D8%A7-%23-c-%D8%AF%D8%B1-%D9%87%D9%85%D9%87-%D8%B2%D8%A8%D8%A7%D9%86-%D9%87%D8%A7\" title=\" ایجاد خودکار فایل ها با #C در همه زبان ها\"> ایجاد خودکار فایل ها با #C در همه زبان ها </a></h2>,\n",
       " <h2><a href=\"/courses/2172/%D8%A2%D9%85%D9%88%D8%B2%D8%B4-wpf-%D8%A7%D8%B2-%D9%85%D9%82%D8%AF%D9%85%D8%A7%D8%AA%DB%8C-%D8%AA%D8%A7-%D9%BE%DB%8C%D8%B4%D8%B1%D9%81%D8%AA%D9%87\" title=\"آموزش WPF از مقدماتی تا پیشرفته\"> آموزش WPF از مقدماتی تا پیشرفته </a></h2>,\n",
       " <h2><a href=\"/courses/2176/%D8%A2%D9%85%D9%88%D8%B2%D8%B4-%D8%B3%D8%B1%DA%86-%DA%A9%D9%86%D8%B3%D9%88%D9%84-%D8%AC%D8%AF%DB%8C%D8%AF-%DA%AF%D9%88%DA%AF%D9%84\" title=\"آموزش سرچ کنسول جدید گوگل\"> آموزش سرچ کنسول جدید گوگل </a></h2>,\n",
       " <h2><a href=\"/courses/2177/%D8%A2%D9%85%D9%88%D8%B2%D8%B4-%DA%A9%D8%AA%D8%A7%D8%A8%D8%AE%D8%A7%D9%86%D9%87-lottie-%E2%80%93-%D8%A7%D9%86%DB%8C%D9%85%DB%8C%D8%B4%D9%86-%D8%AF%D8%B1-%D8%A7%D9%86%D8%AF%D8%B1%D9%88%DB%8C%D8%AF\" title=\"آموزش کتابخانه LOTTIE – انیمیشن در اندروید\"> آموزش کتابخانه LOTTIE – انیمیشن در اندروید </a></h2>,\n",
       " <h2><a href=\"/courses/2179/%D8%A2%D9%85%D9%88%D8%B2%D8%B4-%D8%A7%D9%81%D8%AA%D8%B1-%D8%A7%D9%81%DA%A9%D8%AA-(-aftereffects-)\" title=\"آموزش افتر افکت ( After Effects )\"> آموزش افتر افکت ( After Effects ) </a></h2>,\n",
       " <h2><a href=\"/courses/2182/%D8%A2%D9%85%D9%88%D8%B2%D8%B4-%D8%B3%D8%A7%D8%AE%D8%AA-%D9%81%D8%B1%D9%88%D8%B4%DA%AF%D8%A7%D9%87-%D9%81%D8%A7%DB%8C%D9%84-%D8%A8%D8%A7-%D9%88%D8%B1%D8%AF%D9%BE%D8%B1%D8%B3\" title=\"آموزش ساخت فروشگاه فایل با وردپرس\"> آموزش ساخت فروشگاه فایل با وردپرس </a></h2>,\n",
       " <h2><a href=\"/courses/2184/%D8%A2%D9%85%D9%88%D8%B2%D8%B4-%DA%A9%D8%A7%D8%B1-%D8%A8%D8%A7-%D9%81%D8%A7%DB%8C%D9%84-%D9%87%D8%A7-%D8%AF%D8%B1-%DA%A9%D8%A7%D8%AA%D9%84%DB%8C%D9%86-(%D8%A7%D9%86%D8%AF%D8%B1%D9%88%DB%8C%D8%AF)\" title=\"آموزش کار با فایل ها در کاتلین (اندروید)\"> آموزش کار با فایل ها در کاتلین (اندروید) </a></h2>,\n",
       " <h2><a href=\"/courses/2192/%D8%A2%D9%85%D9%88%D8%B2%D8%B4-%D8%A8%D8%B1%D9%86%D8%A7%D9%85%D9%87-%D9%86%D9%88%DB%8C%D8%B3%DB%8C-%D9%85%D9%88%D8%A7%D8%B2%DB%8C-%D8%AF%D8%B1-dot-netcore\" title=\"آموزش برنامه نویسی موازی در DotNet Core\"> آموزش برنامه نویسی موازی در DotNet Core </a></h2>,\n",
       " <h2><a href=\"/courses/2194/%D8%A2%D9%85%D9%88%D8%B2%D8%B4-angular(%D8%A7%D9%86%DA%AF%D9%88%D9%84%D8%A7%D8%B1-8-%D9%88-9-%D9%88-10)\" title=\"آموزش Angular  (انگولار 8 و 9 و 10)\"> آموزش Angular (انگولار 8 و 9 و 10) </a></h2>,\n",
       " <h2><a href=\"/courses/2196/%D8%A2%D9%85%D9%88%D8%B2%D8%B4-%D8%B3%D8%A7%D8%AE%D8%AA-%D9%84%DB%8C%D8%B3%D8%AA-%D9%87%D8%A7%DB%8C-%D8%B3%D9%81%D8%A7%D8%B1%D8%B4%DB%8C-%D8%AF%D8%B1-%D8%B3%DB%8C-%D8%B4%D8%A7%D8%B1%D9%BE\" title=\"آموزش ساخت لیست های سفارشی در سی شارپ\"> آموزش ساخت لیست های سفارشی در سی شارپ </a></h2>,\n",
       " <h2><a href=\"/courses/2200/%D8%A2%D9%85%D9%88%D8%B2%D8%B4-%D8%B3%D8%A7%D8%AE%D8%AA-%D9%86%D9%85%D9%88%D8%AF%D8%A7%D8%B1-%D8%AF%D8%B1-%D8%B3%DB%8C-%D8%B4%D8%A7%D8%B1%D9%BE\" title=\"آموزش ساخت نمودار در سی شارپ\"> آموزش ساخت نمودار در سی شارپ </a></h2>,\n",
       " <h2><a href=\"/courses/2209/%D8%A2%D9%85%D9%88%D8%B2%D8%B4-%D8%B3%D8%A6%D9%88-%D9%88%D8%B1%D8%AF%D9%BE%D8%B1%D8%B3-(-wordpressseo-)\" title=\"آموزش سئو وردپرس ( Wordpress SEO )\"> آموزش سئو وردپرس ( Wordpress SEO ) </a></h2>,\n",
       " <h2><a href=\"/courses/2211/%D8%A2%D9%85%D9%88%D8%B2%D8%B4-%D8%B7%D8%B1%D8%A7%D8%AD%DB%8C-%D8%B3%D8%A7%DB%8C%D8%AA-%D8%A8%D8%AF%D9%88%D9%86-%DA%A9%D8%AF%D9%86%D9%88%DB%8C%D8%B3%DB%8C-%D8%AF%D8%B1-adobemuse\" title=\"آموزش طراحی سایت بدون کدنویسی در Adobe Muse\"> آموزش طراحی سایت بدون کدنویسی در Adobe Muse </a></h2>,\n",
       " <h2><a href=\"/courses/2214/%D8%B7%D8%B1%D8%A7%D8%AD%DB%8C-%D8%A8%D8%A7-xander-%D8%AF%D8%B1-%D8%B3%DB%8C-%D8%B4%D8%A7%D8%B1%D9%BE\" title=\"طراحی با Xander در سی شارپ\"> طراحی با Xander در سی شارپ </a></h2>,\n",
       " <h2><a href=\"/courses/2221/%D8%A2%D9%85%D9%88%D8%B2%D8%B4-%D8%A7%D9%85%D9%86%DB%8C%D8%AA-%D9%88%D8%B1%D8%AF%D9%BE%D8%B1%D8%B3-(-wordpresssecurity-)\" title=\"آموزش امنیت وردپرس ( Wordpress Security )\"> آموزش امنیت وردپرس ( Wordpress Security ) </a></h2>,\n",
       " <h2><a href=\"/courses/3227/%D8%A2%D9%85%D9%88%D8%B2%D8%B4-%D8%A7%DB%8C%D9%86%D8%B3%D8%AA%D8%A7%DA%AF%D8%B1%D8%A7%D9%85-%D9%85%D8%A7%D8%B1%DA%A9%D8%AA%DB%8C%D9%86%DA%AF\" title=\"آموزش اینستاگرام مارکتینگ\"> آموزش اینستاگرام مارکتینگ </a></h2>,\n",
       " <h2><a href=\"/courses/3229/%D8%A2%D9%85%D9%88%D8%B2%D8%B4-0-%D8%AA%D8%A7-100-%D9%88%D8%A7%D9%82%D8%B9%DB%8C%D8%AA-%D8%A7%D9%81%D8%B2%D9%88%D8%AF%D9%87\" title=\"آموزش 0 تا 100 واقعیت افزوده\"> آموزش 0 تا 100 واقعیت افزوده </a></h2>,\n",
       " <h2><a href=\"/courses/3232/%D8%AF%D9%88%D8%B1%D9%87-%D8%A2%D9%85%D9%88%D8%B2%D8%B4-%D8%AC%D8%A7%D9%85%D8%B9-icdl\" title=\"دوره آموزش جامع ICDL\"> دوره آموزش جامع ICDL </a></h2>,\n",
       " <h2><a href=\"/courses/3236/%D8%B3%D8%A7%D8%AE%D8%AA-%D8%B3%DB%8C%D8%B3%D8%AA%D9%85-%D9%85%D8%AF%DB%8C%D8%B1%DB%8C%D8%AA-%D9%85%D8%AF%D8%A7%D8%B1%D8%B3-%D8%A8%D8%A7-%D8%B3%DB%8C-%D8%B4%D8%A7%D8%B1%D9%BE\" title=\"ساخت سیستم مدیریت مدارس با سی شارپ\"> ساخت سیستم مدیریت مدارس با سی شارپ </a></h2>,\n",
       " <h2><a href=\"/courses/3237/%D8%A2%D9%85%D9%88%D8%B2%D8%B4-%D8%AA%D8%A8%D9%84%DB%8C%D8%BA-%D9%86%D9%88%DB%8C%D8%B3%DB%8C\" title=\"آموزش تبلیغ نویسی\"> آموزش تبلیغ نویسی </a></h2>,\n",
       " <h2><a href=\"/courses/3239/%D8%B7%D8%B1%D8%A7%D8%AD%DB%8C-%D8%B3%D8%A7%DB%8C%D8%AA-%D8%AA%D8%A7-%D9%88%D8%B1%D9%88%D8%AF-%D8%A8%D9%87-%D8%A8%D8%A7%D8%B2%D8%A7%D8%B1-%DA%A9%D8%A7%D8%B1-(%D9%BE%D8%B1%D9%88%DA%98%D9%87-%D9%85%D8%AD%D9%88%D8%B1)\" title=\"طراحی سایت تا ورود به بازار کار (پروژه محور)\"> طراحی سایت تا ورود به بازار کار (پروژه محور) </a></h2>,\n",
       " <h2><a href=\"/courses/3245/%D8%A2%D9%85%D9%88%D8%B2%D8%B4-%D8%AC%D8%A7%D9%85%D8%B9-%D8%A7%DA%A9%D8%B3%D9%84-(-excel-)\" title=\"آموزش جامع اکسل ( Excel )\"> آموزش جامع اکسل ( Excel ) </a></h2>,\n",
       " <h2><a href=\"/courses/3248/%D8%A2%D9%85%D9%88%D8%B2%D8%B4-%D8%AA%D9%84%DA%AF%D8%B1%D8%A7%D9%85-%D9%85%D8%A7%D8%B1%DA%A9%D8%AA%DB%8C%D9%86%DA%AF\" title=\"آموزش تلگرام مارکتینگ\"> آموزش تلگرام مارکتینگ </a></h2>,\n",
       " <h2><a href=\"/courses/3249/%D8%A2%D9%85%D9%88%D8%B2%D8%B4-j-queryui-%D8%A7%D8%B2-%DB%B0-%D8%AA%D8%A7-%DB%B1%DB%B0%DB%B0\" title=\"آموزش jQuery UI از ۰ تا ۱۰۰\"> آموزش jQuery UI از ۰ تا ۱۰۰ </a></h2>,\n",
       " <h2><a href=\"/courses/3252/%D8%A2%D9%85%D9%88%D8%B2%D8%B4-%D8%B7%D8%B1%D8%A7%D8%AD%DB%8C-%DA%A9%D8%A7%D8%B1%D8%AA-%D9%88%DB%8C%D8%B2%DB%8C%D8%AA-%D9%87%D8%A7%DB%8C-%D8%AC%D8%B0%D8%A7%D8%A8\" title=\"آموزش طراحی کارت ویزیت های جذاب\"> آموزش طراحی کارت ویزیت های جذاب </a></h2>,\n",
       " <h2><a href=\"/courses/3257/%D8%A2%D9%85%D9%88%D8%B2%D8%B4-green-dao-%D8%AF%D8%B1-%D8%A7%D9%86%D8%AF%D8%B1%D9%88%DB%8C%D8%AF\" title=\"آموزش GreenDao در اندروید\"> آموزش GreenDao در اندروید </a></h2>,\n",
       " <h2><a href=\"/courses/3262/%D8%A2%D9%85%D9%88%D8%B2%D8%B4-%D8%AC%D8%A7%D9%85%D8%B9-%D9%BE%D8%A7%DB%8C%D8%AA%D9%88%D9%86-2020\" title=\"آموزش جامع پایتون 2020\"> آموزش جامع پایتون 2020 </a></h2>,\n",
       " <h2><a href=\"/courses/3264/%D8%A2%D9%85%D9%88%D8%B2%D8%B4-%D8%AC%D8%A7%D9%85%D8%B9-tkinter-%D8%AF%D8%B1-%D9%BE%D8%A7%DB%8C%D8%AA%D9%88%D9%86\" title=\"آموزش جامع Tkinter در پایتون\"> آموزش جامع Tkinter در پایتون </a></h2>,\n",
       " <h2><a href=\"/courses/3265/%D8%A2%D9%85%D9%88%D8%B2%D8%B4-hexo-%D8%A8%D8%AF%D9%88%D9%86-%DA%A9%D8%AF%D9%86%D9%88%DB%8C%D8%B3%DB%8C\" title=\"آموزش Hexo بدون کدنویسی\"> آموزش Hexo بدون کدنویسی </a></h2>,\n",
       " <h2><a href=\"/courses/3267/%D8%A2%D9%85%D9%88%D8%B2%D8%B4-%D8%B3%D8%A7%D8%AE%D8%AA-%D9%81%D8%B1%D9%88%D8%B4%DA%AF%D8%A7%D9%87-%D8%AD%D8%B1%D9%81%D9%87-%D8%A7%DB%8C-%D8%A8%D8%A7-angular-9\" title=\"آموزش ساخت فروشگاه حرفه ای با Angular 9\"> آموزش ساخت فروشگاه حرفه ای با Angular 9 </a></h2>,\n",
       " <h2><a href=\"/courses/3276/%D8%A2%D9%85%D9%88%D8%B2%D8%B4-%D9%BE%D9%84%D8%A7%DA%AF%DB%8C%D9%86-%D9%87%D8%A7%DB%8C-%D8%AC%DB%8C-%DA%A9%D9%88%D8%A6%D8%B1%DB%8C-(-j-queryplugins-)\" title=\"آموزش پلاگین های جی کوئری ( jQuery Plugins )\"> آموزش پلاگین های جی کوئری ( jQuery Plugins ) </a></h2>,\n",
       " <h2><a href=\"/courses/4277/%D8%A2%D9%85%D9%88%D8%B2%D8%B4-%D8%B3%D8%A7%D8%AE%D8%AA-%D9%85%D8%AD%D8%B5%D9%88%D9%84%D8%A7%D8%AA-%D8%AF%DB%8C%D8%AC%DB%8C%D8%AA%D8%A7%D9%84%DB%8C-%D9%BE%D8%B1%D9%81%D8%B1%D9%88%D8%B4\" title=\"آموزش ساخت محصولات دیجیتالی پرفروش\"> آموزش ساخت محصولات دیجیتالی پرفروش </a></h2>,\n",
       " <h2><a href=\"/courses/4280/%D8%A2%D9%85%D9%88%D8%B2%D8%B4-50-%D9%86%DA%A9%D8%AA%D9%87-%D8%B3%D8%A6%D9%88-%D9%88%D8%B1%D8%AF%D9%BE%D8%B1%D8%B3-(2020)\" title=\"آموزش 50 نکته سئو وردپرس (2020)\"> آموزش 50 نکته سئو وردپرس (2020) </a></h2>,\n",
       " <h2><a href=\"/courses/4285/%D8%A2%D9%85%D9%88%D8%B2%D8%B4-%D9%88%DB%8C%D8%AF%D8%A6%D9%88-%D9%85%D8%A7%D8%B1%DA%A9%D8%AA%DB%8C%D9%86%DA%AF-(%D8%A7%DB%8C%D9%86%D8%B3%D8%AA%D8%A7%DA%AF%D8%B1%D8%A7%D9%85%D8%8C-%D8%A7%D9%BE%D8%A7%D8%B1%D8%A7%D8%AA%D8%8C-%DB%8C%D9%88%D8%AA%DB%8C%D9%88%D8%A8)\" title=\"آموزش ویدئو مارکتینگ (اینستاگرام، اپارات، یوتیوب)\"> آموزش ویدئو مارکتینگ (اینستاگرام، اپارات، یوتیوب) </a></h2>,\n",
       " <h2><a href=\"/courses/4290/%D8%A2%D9%85%D9%88%D8%B2%D8%B4-%D8%B7%D8%B1%D8%A7%D8%AD%DB%8C-%D9%81%D8%B1%DB%8C%D9%85%D9%88%D8%B1%DA%A9-%D8%AF%D8%B1-%D8%B3%DB%8C-%D8%B4%D8%A7%D8%B1%D9%BE-(%D8%B2%DB%8C%D8%B1%D9%86%D9%88%DB%8C%D8%B3-%D9%81%D8%A7%D8%B1%D8%B3%DB%8C)\" title=\"آموزش طراحی فریمورک در سی شارپ (زیرنویس فارسی)\"> آموزش طراحی فریمورک در سی شارپ (زیرنویس فارسی) </a></h2>,\n",
       " <h2><a href=\"/courses/4291/%D8%A2%D9%85%D9%88%D8%B2%D8%B4-%D8%A8%D8%A7%D8%B2%D8%A7%D8%B1%DB%8C%D8%A7%D8%A8%DB%8C-%D8%B9%D8%B5%D8%A8%DB%8C\" title=\"آموزش بازاریابی عصبی\"> آموزش بازاریابی عصبی </a></h2>,\n",
       " <h2><a href=\"/courses/4292/%D8%A2%D9%85%D9%88%D8%B2%D8%B4-%D8%AC%D8%A7%D9%85%D8%B9-darkdeepweb\" title=\"آموزش جامع Dark/Deep Web\"> آموزش جامع Dark/Deep Web </a></h2>,\n",
       " <h2><a href=\"/courses/4296/-%D8%A2%D9%85%D9%88%D8%B2%D8%B4-%D8%B3%D8%A7%D8%AE%D8%AA-%D8%A8%D8%A7%D8%B2%DB%8C-%D8%AF%D9%88%D9%86%D9%81%D8%B1%D9%87-%D9%87%D8%A7%D8%AA%D8%B3%D9%BE%D8%A7%D8%AA%DB%8C-%D8%AF%D8%B1-%DB%8C%D9%88%D9%86%DB%8C%D8%AA%DB%8C\" title=\" آموزش ساخت بازی دونفره هاتسپاتی در یونیتی\"> آموزش ساخت بازی دونفره هاتسپاتی در یونیتی </a></h2>,\n",
       " <h2><a href=\"/courses/4297/%D8%A2%D9%85%D9%88%D8%B2%D8%B4-%D8%A7%D9%85%D9%86%DB%8C%D8%AA-%D8%B3%D9%85%D8%AA-%D8%B3%D8%B1%D9%88%D8%B1-%D8%AF%D8%B1-node-js\" title=\"آموزش امنیت سمت سرور در Node.js\"> آموزش امنیت سمت سرور در Node.js </a></h2>,\n",
       " <h2><a href=\"/courses/4300/%D8%A2%D9%85%D9%88%D8%B2%D8%B4-%D9%BE%D8%B1%D9%88%DA%98%D9%87-%D9%85%D8%AD%D9%88%D8%B1-%D8%B3%D8%A7%D8%AE%D8%AA-%D8%A7%D9%BE%D9%84%DB%8C%DA%A9%DB%8C%D8%B4%D9%86-%D9%81%D8%B1%D9%88%D8%B4%DA%AF%D8%A7%D9%87-%D8%AF%D8%B1-%D8%A7%D9%86%D8%AF%D8%B1%D9%88%DB%8C%D8%AF\" title=\"آموزش پروژه محور ساخت اپلیکیشن فروشگاه در اندروید\"> آموزش پروژه محور ساخت اپلیکیشن فروشگاه در اندروید </a></h2>,\n",
       " <h2><a href=\"/courses/4305/%D8%A2%D9%85%D9%88%D8%B2%D8%B4-%D8%B3%DB%8C-%D8%B4%D8%A7%D8%B1%D9%BE-%D8%AF%D8%B1-%DB%8C%D9%88%D9%86%DB%8C%D8%AA%DB%8C-%D9%85%D9%82%D8%AF%D9%85%D8%A7%D8%AA%DB%8C-%D8%AA%D8%A7-%D9%BE%DB%8C%D8%B4%D8%B1%D9%81%D8%AA%D9%87\" title=\"آموزش سی شارپ در یونیتی مقدماتی تا پیشرفته\"> آموزش سی شارپ در یونیتی مقدماتی تا پیشرفته </a></h2>,\n",
       " <h2><a href=\"/courses/4307/%D8%AF%D9%88%D8%B1%D9%87-%D8%AC%D8%A7%D9%85%D8%B9-java-script-2020\" title=\"دوره جامع JavaScript 2020\"> دوره جامع JavaScript 2020 </a></h2>,\n",
       " <h2><a href=\"/courses/4314/%DA%A9%D8%A7%D8%B3%D8%AA%D9%88%D9%85-%D9%BE%D8%B3%D8%AA-%D8%AA%D8%A7%DB%8C%D9%BE-%D9%87%D8%A7%DB%8C-%D8%B3%D9%81%D8%A7%D8%B1%D8%B4%DB%8C-%D8%AF%D8%B1-%D9%88%D8%B1%D8%AF%D9%BE%D8%B1%D8%B3-customposttype\" title=\"کاستوم پست تایپ های سفارشی در وردپرس Custom Post Type\"> کاستوم پست تایپ های سفارشی در وردپرس Custom Post Type </a></h2>,\n",
       " <h2><a href=\"/courses/4315/%D8%A2%D9%85%D9%88%D8%B2%D8%B4-%DB%8C%D8%A7%D8%AF%DA%AF%DB%8C%D8%B1%DB%8C-%D9%85%D8%A7%D8%B4%DB%8C%D9%86-%D9%88-%D8%AF%D8%A7%D8%AF%D9%87-%DA%A9%D8%A7%D9%88%DB%8C-%D8%A8%D8%A7-%D9%BE%D8%A7%DB%8C%D8%AA%D9%88%D9%86\" title=\"آموزش یادگیری ماشین و داده کاوی با پایتون\"> آموزش یادگیری ماشین و داده کاوی با پایتون </a></h2>,\n",
       " <h2><a href=\"/courses/4327/%D8%A2%D9%85%D9%88%D8%B2%D8%B4-unittesting-%D8%AF%D8%B1-%D8%AC%D8%A7%D9%88%D8%A7%D8%A7%D8%B3%DA%A9%D8%B1%DB%8C%D9%BE%D8%AA\" title=\"آموزش Unit Testing در جاوااسکریپت\"> آموزش Unit Testing در جاوااسکریپت </a></h2>,\n",
       " <h2><a href=\"/courses/4329/%D8%A2%D9%85%D9%88%D8%B2%D8%B4-%D8%A7%D9%BE%D9%84%DB%8C%DA%A9%DB%8C%D8%B4%D9%86-%D9%87%D8%A7%DB%8C-%D9%88%D8%A8-%D9%BE%DB%8C%D8%B4-%D8%B1%D9%88%D9%86%D8%AF%D9%87-(-pwa-)\" title=\"آموزش اپلیکیشن های وب پیش رونده ( PWA )\"> آموزش اپلیکیشن های وب پیش رونده ( PWA ) </a></h2>,\n",
       " <h2><a href=\"/courses/4330/%D8%A2%D9%85%D9%88%D8%B2%D8%B4-%D9%BE%D9%84%D8%A7%DA%AF%DB%8C%D9%86-emmet\" title=\"آموزش پلاگین emmet\"> آموزش پلاگین emmet </a></h2>,\n",
       " <h2><a href=\"/courses/4333/%D8%A2%D9%85%D9%88%D8%B2%D8%B4-%DA%A9%D8%A7%D8%B1-%D8%A8%D8%A7-%D9%85%D9%88%D8%AA%D9%88%D8%B1-%D8%A8%D8%A7%D8%B2%DB%8C-%D8%B3%D8%A7%D8%B2%DB%8C-%D8%A2%D9%86%D8%B1%DB%8C%D9%84-%D8%A7%D9%86%D8%AC%DB%8C%D9%86\" title=\"آموزش کار با موتور بازی سازی آنریل انجین\"> آموزش کار با موتور بازی سازی آنریل انجین </a></h2>,\n",
       " <h2><a href=\"/courses/4338/%D8%A2%D9%85%D9%88%D8%B2%D8%B4-%D8%A7%D9%81%D8%AA%D8%B1%D8%A7%D9%81%DA%A9%D8%AA-(-%D8%A7%D9%86%DB%8C%D9%85%DB%8C%D8%B4%D9%86-%D8%B3%D8%A7%D8%B2%DB%8C-)\" title=\"آموزش افترافکت ( انیمیشن سازی )\"> آموزش افترافکت ( انیمیشن سازی ) </a></h2>,\n",
       " <h2><a href=\"/courses/4343/%D8%A2%D9%85%D9%88%D8%B2%D8%B4-%D8%B3%D8%A7%D8%AE%D8%AA-%D8%B3%D8%A7%DB%8C%D8%AA-%D9%81%D8%B1%D9%88%D8%B4%DA%AF%D8%A7%D9%87%DB%8C-%D8%A8%D8%B1%D8%A7%DB%8C-%D9%87%D9%85%D9%87-%D8%A8%D8%A7-%D9%88%D8%B1%D8%AF%D9%BE%D8%B1%D8%B3\" title=\"آموزش ساخت سایت فروشگاهی برای همه با وردپرس\"> آموزش ساخت سایت فروشگاهی برای همه با وردپرس </a></h2>,\n",
       " <h2><a href=\"/courses/4348/%D8%A2%D9%85%D9%88%D8%B2%D8%B4-%D8%B9%D8%A8%D8%A7%D8%B1%D8%A7%D8%AA-%D8%A8%D8%A7-%D9%82%D8%A7%D8%B9%D8%AF%D9%87-regularexpressions\" title=\"آموزش عبارات با قاعده Regular Expressions\"> آموزش عبارات با قاعده Regular Expressions </a></h2>,\n",
       " <h2><a href=\"/courses/4349/%D8%AF%D9%88%D8%B1%D9%87-%D8%A2%D9%85%D9%88%D8%B2%D8%B4-%D8%AC%D8%A7%D9%85%D8%B9-node-js\" title=\"دوره آموزش جامع NodeJs\"> دوره آموزش جامع NodeJs </a></h2>,\n",
       " <h2><a href=\"/courses/4352/%D8%AF%D9%88%D8%B1%D9%87-%D9%85%D8%AA%D8%AE%D8%B5%D8%B5-%D8%B2%D8%A7%D9%85%D8%A7%D8%B1%DB%8C%D9%86-%D8%A7%D9%86%D8%AF%D8%B1%D9%88%DB%8C%D8%AF-\" title=\"دوره متخصص زامارین اندروید \"> دوره متخصص زامارین اندروید </a></h2>,\n",
       " <h2><a href=\"/courses/4354/%D8%A2%D9%85%D9%88%D8%B2%D8%B4-%D8%AC%D8%A7%D9%85%D8%B9-react-native\" title=\"آموزش جامع ReactNative\"> آموزش جامع ReactNative </a></h2>,\n",
       " <h2><a href=\"/courses/4365/%D8%A2%D9%85%D9%88%D8%B2%D8%B4-%D8%A7%D9%86%DB%8C%D9%85%DB%8C%D8%B4%D9%86-%D8%B3%D8%A7%D8%B2%DB%8C-%D9%BE%DB%8C%D8%B4%D8%B1%D9%81%D8%AA%D9%87\" title=\"آموزش انیمیشن سازی پیشرفته\"> آموزش انیمیشن سازی پیشرفته </a></h2>,\n",
       " <h2><a href=\"/courses/4366/%D8%A2%D9%85%D9%88%D8%B2%D8%B4-%D8%B7%D8%B1%D8%A7%D8%AD%DB%8C-%D8%A8%D8%A7%D8%B2%DB%8C-%D9%87%D8%A7%DB%8C-%DA%A9%D8%A7%D9%85%D9%BE%DB%8C%D9%88%D8%AA%D8%B1%DB%8C\" title=\"آموزش طراحی بازی های کامپیوتری\"> آموزش طراحی بازی های کامپیوتری </a></h2>,\n",
       " <h2><a href=\"/courses/4372/%D8%A2%D9%85%D9%88%D8%B2%D8%B4-asp-netcore%D9%BE%D8%B1%D9%88%DA%98%D9%87-%D9%85%D8%AD%D9%88%D8%B1\" title=\"آموزش Asp.Net Core  پروژه محور\"> آموزش Asp.Net Core پروژه محور </a></h2>,\n",
       " <h2><a href=\"/courses/4374/%D8%A2%D9%85%D9%88%D8%B2%D8%B4-%D8%B7%D8%B1%D8%A7%D8%AD%DB%8C-%D8%B3%D8%A7%DB%8C%D8%AA-%D8%AF%DB%8C%D8%AC%DB%8C%DA%A9%D8%A7%D9%84%D8%A7-%D8%A8%D8%A7-boot-strap-4\" title=\"آموزش طراحی سایت دیجیکالا با BootStrap 4\"> آموزش طراحی سایت دیجیکالا با BootStrap 4 </a></h2>,\n",
       " <h2><a href=\"/courses/4378/%D8%A2%D9%85%D9%88%D8%B2%D8%B4-reactjs-%D8%AC%D8%A7%D9%85%D8%B9-%D9%88-%D9%BE%D8%B1%D9%88%DA%98%D9%87-%D9%85%D8%AD%D9%88%D8%B1-(%D9%BE%D8%B1%D9%88%DA%98%D9%87-%D8%AA%D9%88%DB%8C%DB%8C%D8%AA%D8%B1)\" title=\"آموزش React JS جامع و پروژه محور (پروژه توییتر)\"> آموزش React JS جامع و پروژه محور (پروژه توییتر) </a></h2>,\n",
       " <h2><a href=\"/courses/4379/%DA%A9%D8%AA%D8%A7%D8%A8-%D9%BE%D8%B1%D9%88%DA%98%D9%87-%D9%87%D8%A7%DB%8C-%D9%87%D9%88%D8%B4-%D9%85%D8%B5%D9%86%D9%88%D8%B9%DB%8C-%D8%A8%D8%A7-%D9%BE%D8%A7%DB%8C%D8%AA%D9%88%D9%86-(%DB%8C%D8%A7%D8%AF%DA%AF%DB%8C%D8%B1%DB%8C-%D9%85%D8%A7%D8%B4%DB%8C%D9%86)\" title=\"کتاب پروژه های هوش مصنوعی با پایتون (یادگیری ماشین)\"> کتاب پروژه های هوش مصنوعی با پایتون (یادگیری ماشین) </a></h2>,\n",
       " <h2><a href=\"/courses/4383/%D8%A2%D9%85%D9%88%D8%B2%D8%B4-%D8%B3%D8%A7%D8%AE%D8%AA-%D8%A7%D8%AF%D9%85%DB%8C%D9%86-%D9%BE%D9%86%D9%84-%D9%85%D8%AA%D8%B1%DB%8C%D8%A7%D9%84-react\" title=\"آموزش ساخت ادمین پنل متریال React\"> آموزش ساخت ادمین پنل متریال React </a></h2>,\n",
       " <h2><a href=\"/courses/4388/%D8%A2%D9%85%D9%88%D8%B2%D8%B4-%D8%B3%D8%A7%D8%AE%D8%AA-%D8%A8%D8%A7%D8%B2%DB%8C-%D8%A8%D8%A7-%D8%AC%D8%A7%D9%88%D8%A7-%D8%A7%D8%B3%DA%A9%D8%B1%DB%8C%D9%BE%D8%AA\" title=\"آموزش ساخت بازی با جاوا اسکریپت\"> آموزش ساخت بازی با جاوا اسکریپت </a></h2>,\n",
       " <h2><a href=\"/courses/4390/%D8%A2%D9%85%D9%88%D8%B2%D8%B4-%D8%B3%D8%A7%D8%AE%D8%AA-%D8%A7%D9%BE%D9%84%DB%8C%DA%A9%DB%8C%D8%B4%D9%86-moviestreaming\" title=\"آموزش ساخت اپلیکیشن Movie Streaming\"> آموزش ساخت اپلیکیشن Movie Streaming </a></h2>,\n",
       " <h2><a href=\"/courses/4391/%D8%AF%D9%88%D8%B1%D9%87-mcsa\" title=\"دوره MCSA\"> دوره MCSA </a></h2>,\n",
       " <h2><a href=\"/courses/4394/%D8%A2%D9%85%D9%88%D8%B2%D8%B4-%D8%B7%D8%B1%D8%A7%D8%AD%DB%8C-%D8%AF%D8%A7%D8%B4%D8%A8%D9%88%D8%B1%D8%AF-%D8%AF%D8%B1-%D8%A7%DA%A9%D8%B3%D9%84\" title=\"آموزش طراحی داشبورد در اکسل\"> آموزش طراحی داشبورد در اکسل </a></h2>,\n",
       " <h2><a href=\"/courses/4395/%DA%A9%D8%AA%D8%A7%D8%A8-%D8%B1%D8%A7%D9%87%D9%86%D9%85%D8%A7-%D8%AC%D8%A7%D9%85%D8%B9-%DA%AF%DB%8C%D8%AA-%D9%88-%DA%AF%DB%8C%D8%AA-%D9%87%D8%A7%D8%A8-%D8%A8%D9%87-%D8%B5%D9%88%D8%B1%D8%AA-%D8%AA%D8%B5%D9%88%DB%8C%D8%B1%DB%8C\" title=\"کتاب راهنما جامع گیت و گیت هاب به صورت تصویری\"> کتاب راهنما جامع گیت و گیت هاب به صورت تصویری </a></h2>,\n",
       " <h2><a href=\"/courses/4396/%D8%A2%D9%85%D9%88%D8%B2%D8%B4-%D8%AC%D8%A7%D9%85%D8%B9-%DA%AF%D8%B1%D8%A7%D9%81-%DA%A9%DB%8C%D9%88-%D8%A7%D9%84-(-graphql-)-%D8%AF%D8%B1-nodejs\" title=\"آموزش جامع گراف کیو ال ( Graph QL ) در Node JS\"> آموزش جامع گراف کیو ال ( Graph QL ) در Node JS </a></h2>,\n",
       " <h2><a href=\"/courses/4401/%D8%A2%D9%85%D9%88%D8%B2%D8%B4-bulma\" title=\"آموزش Bulma\"> آموزش Bulma </a></h2>,\n",
       " <h2><a href=\"/courses/4405/%D8%A2%D9%85%D9%88%D8%B2%D8%B4-%D8%B3%D8%A7%D8%AE%D8%AA-%D9%88%D8%A8%D8%B3%D8%A7%DB%8C%D8%AA-%D8%A2%D9%85%D9%88%D8%B2%D8%B4%DB%8C-(%D9%81%D8%B1%D9%88%D8%B4%DA%AF%D8%A7%D9%87%DB%8C)-%D8%A8%D8%A7-php\" title=\"آموزش ساخت وبسایت آموزشی (فروشگاهی) با PHP\"> آموزش ساخت وبسایت آموزشی (فروشگاهی) با PHP </a></h2>,\n",
       " <h2><a href=\"/courses/4406/%D8%A2%D9%85%D9%88%D8%B2%D8%B4-%D9%86%D9%82%D8%B4%D9%87-leaflet-%D9%87%D9%85%D8%B1%D8%A7%D9%87-%D8%A8%D8%A7-%D9%BE%D8%B1%D9%88%DA%98%D9%87-%D8%B9%D9%85%D9%84%DB%8C\" title=\"آموزش نقشه Leaflet همراه با پروژه عملی\"> آموزش نقشه Leaflet همراه با پروژه عملی </a></h2>,\n",
       " <h2><a href=\"/courses/4407/%D8%A2%D9%85%D9%88%D8%B2%D8%B4-%DA%A9%D8%A7%D9%84%DB%8C%DA%AF%D8%B1%D8%A7%D9%81%DB%8C-%D8%AF%D8%B1-%D9%81%D8%AA%D9%88%D8%B4%D8%A7%D9%BE\" title=\"آموزش کالیگرافی در فتوشاپ\"> آموزش کالیگرافی در فتوشاپ </a></h2>,\n",
       " <h2><a href=\"/courses/4420/%D8%A2%D9%85%D9%88%D8%B2%D8%B4-%D9%87%D9%88%D8%B4-%D9%85%D8%B5%D9%86%D9%88%D8%B9%DB%8C-%D8%A8%D8%A7-%D8%B3%DB%8C-%D8%B4%D8%A7%D8%B1%D9%BE-(-ml-net-)\" title=\"آموزش هوش مصنوعی با سی شارپ ( ML.Net )\"> آموزش هوش مصنوعی با سی شارپ ( ML.Net ) </a></h2>,\n",
       " <h2><a href=\"/courses/4422/%D8%A2%D9%85%D9%88%D8%B2%D8%B4-%D9%85%D8%B9%D9%85%D8%A7%D8%B1%DB%8C-mvvm\" title=\"آموزش معماری MVVM\"> آموزش معماری MVVM </a></h2>,\n",
       " <h2><a href=\"/courses/4428/%D8%AF%D9%88%D8%B1%D9%87-%D9%85%D8%A8%D8%A7%D8%AD%D8%AB-%D9%BE%DB%8C%D8%B4%D8%B1%D9%81%D8%AA%D9%87-reactjs\" title=\"دوره مباحث پیشرفته React JS\"> دوره مباحث پیشرفته React JS </a></h2>,\n",
       " <h2><a href=\"/courses/4432/%D8%A2%D9%85%D9%88%D8%B2%D8%B4-%D8%B3%D8%A7%D8%AE%D8%AA-%D8%AF%D8%B3%D8%AA%DB%8C%D8%A7%D8%B1-%D8%B5%D9%88%D8%AA%DB%8C-%D8%A8%D8%A7-%D9%BE%D8%A7%DB%8C%D8%AA%D9%88%D9%86\" title=\"آموزش ساخت دستیار صوتی با پایتون\"> آموزش ساخت دستیار صوتی با پایتون </a></h2>,\n",
       " <h2><a href=\"/courses/4442/-%D8%A2%D9%85%D9%88%D8%B2%D8%B4-rxjava-%D8%AF%D8%B1-%D8%A7%D9%86%D8%AF%D8%B1%D9%88%DB%8C%D8%AF\" title=\" آموزش Rx Java در اندروید\"> آموزش Rx Java در اندروید </a></h2>,\n",
       " <h2><a href=\"/courses/4445/%D8%A2%D9%85%D9%88%D8%B2%D8%B4react-js-wordpress-(%D9%BE%D8%B1%D9%88%DA%98%D9%87-%D9%85%D8%AD%D9%88%D8%B1)\" title=\"آموزش  ReactJS+Wordpress (پروژه محور)\"> آموزش ReactJS+Wordpress (پروژه محور) </a></h2>,\n",
       " <h2><a href=\"/courses/4454/%D8%A2%D9%85%D9%88%D8%B2%D8%B4-wx-python-\" title=\"آموزش WxPython \"> آموزش WxPython </a></h2>,\n",
       " <h2><a href=\"/courses/4455/%D8%B3%D8%A7%D8%AE%D8%AA-%D8%A7%D9%BE%D9%84%DB%8C%DA%A9%DB%8C%D8%B4%D9%86-%DA%A9%D8%AA%D8%A7%D8%A8-%D8%AF%D8%A7%D8%B3%D8%AA%D8%A7%D9%86-%D8%A2%D9%86%D9%84%D8%A7%DB%8C%D9%86-%D8%A8%D8%A7-%D9%81%D9%84%D8%A7%D8%AA%D8%B1\" title=\"ساخت اپلیکیشن کتاب داستان آنلاین با فلاتر\"> ساخت اپلیکیشن کتاب داستان آنلاین با فلاتر </a></h2>,\n",
       " <h2><a href=\"/courses/4456/%D8%A2%D9%85%D9%88%D8%B2%D8%B4-%DA%A9%D8%A7%D8%B1-%D8%A8%D8%A7-api-%D8%AF%D8%B1%D8%A7%D9%86%D8%AF%D8%B1%D9%88%DB%8C%D8%AF-(%D9%BE%D8%B1%D9%88%DA%98%D9%87-%D9%85%D8%AD%D9%88%D8%B1)\" title=\"آموزش کار با Api دراندروید (پروژه محور)\"> آموزش کار با Api دراندروید (پروژه محور) </a></h2>,\n",
       " <h2><a href=\"/courses/4458/%D8%A2%D9%85%D9%88%D8%B2%D8%B4-%D9%BE%DB%8C%D8%B4%D8%B1%D9%81%D8%AA%D9%87-reactsocketio\" title=\"آموزش پیشرفته React Socket IO\"> آموزش پیشرفته React Socket IO </a></h2>,\n",
       " <h2><a href=\"/courses/4468/%D8%A2%D9%85%D9%88%D8%B2%D8%B4-%D8%A7%DB%8C%D8%AC%D8%A7%D8%AF-%D8%AF%D8%A7%D8%B4%D8%A8%D9%88%D8%B1%D8%AF-%D9%85%D8%AF%DB%8C%D8%B1%DB%8C%D8%AA%DB%8C-%D8%A8%D8%A7-qlik-view-%D8%A8%D9%87-%D9%87%D9%85%D8%B1%D8%A7%D9%87-%D9%BE%D8%B1%D9%88%DA%98%D9%87-%D8%B9%D9%85%D9%84%DB%8C\" title=\"آموزش ایجاد داشبورد مدیریتی با QlikView به همراه پروژه عملی\"> آموزش ایجاد داشبورد مدیریتی با QlikView به همراه پروژه عملی </a></h2>,\n",
       " <h2><a href=\"/courses/4472/%D8%A2%D9%85%D9%88%D8%B2%D8%B4-windows-server-2019\" title=\"آموزش windows server 2019\"> آموزش windows server 2019 </a></h2>,\n",
       " <h2><a href=\"/courses/4473/-%D8%A2%D9%85%D9%88%D8%B2%D8%B4-dagger-2\" title=\" آموزش dagger 2\"> آموزش dagger 2 </a></h2>,\n",
       " <h2><a href=\"/courses/4475/%D8%A2%D9%85%D9%88%D8%B2%D8%B4-materialdesign-%D8%AF%D8%B1-%D8%A7%D9%86%D8%AF%D8%B1%D9%88%DB%8C%D8%AF-(%D9%BE%D8%B1%D9%88%DA%98%D9%87-%D9%85%D8%AD%D9%88%D8%B1)\" title=\"آموزش Material Design در اندروید (پروژه محور)\"> آموزش Material Design در اندروید (پروژه محور) </a></h2>,\n",
       " <h2><a href=\"/courses/4484/%D8%A2%D9%85%D9%88%D8%B2%D8%B4-%D8%AC%D8%A7%D9%85%D8%B9-api-%D9%86%D9%88%DB%8C%D8%B3%DB%8C-nodejs\" title=\"آموزش جامع API نویسی Node JS\"> آموزش جامع API نویسی Node JS </a></h2>,\n",
       " <h2><a href=\"/courses/4485/%D8%A8%D8%B1%D9%86%D8%A7%D9%85%D9%87-%D9%86%D9%88%DB%8C%D8%B3%DB%8C-%D8%B4%DB%8C-%DA%AF%D8%B1%D8%A7-%D8%AF%D8%B1-%D8%AC%D8%A7%D9%88%D8%A7-%D8%A7%D8%B3%DA%A9%D8%B1%DB%8C%D9%BE%D8%AA\" title=\"برنامه نویسی شی گرا در جاوا اسکریپت\"> برنامه نویسی شی گرا در جاوا اسکریپت </a></h2>,\n",
       " <h2><a href=\"/courses/4494/-%DA%A9%D8%A7%D8%B3%D8%AA%D9%88%D9%85-%D8%AA%D8%A7%DA%A9%D8%B3%D9%88%D9%86%D9%88%D9%85%DB%8C-(-customtaxonomy-)-%D8%AF%D8%B1-%D9%88%D8%B1%D8%AF%D9%BE%D8%B1%D8%B3\" title=\" کاستوم تاکسونومی (Custom Taxonomy) در وردپرس\"> کاستوم تاکسونومی (Custom Taxonomy) در وردپرس </a></h2>,\n",
       " <h2><a href=\"/courses/4495/%D8%B7%D8%B1%D8%A7%D8%AD-%D9%88-%D8%AA%D8%AD%D9%84%DB%8C%D9%84%DA%AF%D8%B1-%D9%86%D8%B1%D9%85-%D8%A7%D9%81%D8%B2%D8%A7%D8%B1\" title=\"طراح و تحلیلگر نرم افزار\"> طراح و تحلیلگر نرم افزار </a></h2>,\n",
       " <h2><a href=\"/courses/4501/%D8%A2%D9%85%D9%88%D8%B2%D8%B4-%D8%A8%D8%B1%D9%86%D8%A7%D9%85%D9%87-%D9%86%D9%88%DB%8C%D8%B3%DB%8C-%D8%A7%D9%86%D8%AF%D8%B1%D9%88%DB%8C%D8%AF-%D8%A7%D8%B2-%D9%BE%D8%A7%DB%8C%D9%87-%D8%AA%D8%A7-%D9%BE%DB%8C%D8%B4%D8%B1%D9%81%D8%AA%D9%87\" title=\"آموزش برنامه نویسی اندروید از پایه تا پیشرفته\"> آموزش برنامه نویسی اندروید از پایه تا پیشرفته </a></h2>,\n",
       " <h2><a href=\"/courses/4503/%D8%A8%D8%B1%D9%86%D8%A7%D9%85%D9%87-%D9%86%D9%88%DB%8C%D8%B3%DB%8C-%D8%AC%D8%A7%D9%88%D8%A7-%D8%A7%D8%B3%DA%A9%D8%B1%DB%8C%D9%BE%D8%AA-%D8%A8%D8%B1%D8%A7%DB%8C-%D8%B7%D8%B1%D8%A7%D8%AD%D8%A7%D9%86-%D9%88%D8%A8\" title=\"برنامه نویسی جاوا اسکریپت برای طراحان وب\"> برنامه نویسی جاوا اسکریپت برای طراحان وب </a></h2>,\n",
       " <h2><a href=\"/courses/4504/%D8%A2%D9%85%D9%88%D8%B2%D8%B4-%D8%B3%D8%A7%D8%AE%D8%AA-%D8%AF%D8%B3%D8%AA%DB%8C%D8%A7%D8%B1-%D8%B5%D9%88%D8%AA%DB%8C-%D8%A8%D8%A7-%D8%B3%DB%8C-%D8%B4%D8%A7%D8%B1%D9%BE\" title=\"آموزش ساخت دستیار صوتی با سی شارپ\"> آموزش ساخت دستیار صوتی با سی شارپ </a></h2>,\n",
       " <h2><a href=\"/courses/4506/-%D8%A2%D9%85%D9%88%D8%B2%D8%B4-%D8%B3%D8%A7%D8%AE%D8%AA-%D8%A7%D9%BE%D9%84%DB%8C%DA%A9%DB%8C%D8%B4%D9%86-%D9%81%D8%B1%D9%88%D8%B4%DA%AF%D8%A7%D9%87%DB%8C-%D8%AF%D8%B1-%D8%A7%D9%86%D8%AF%D8%B1%D9%88%DB%8C%D8%AF\" title=\" آموزش ساخت اپلیکیشن فروشگاهی در اندروید\"> آموزش ساخت اپلیکیشن فروشگاهی در اندروید </a></h2>,\n",
       " <h2><a href=\"/courses/4509/%D8%AD%D9%84-%D8%AA%D9%85%D8%B1%DB%8C%D9%86-%D9%88-%D9%85%D8%AB%D8%A7%D9%84-%D8%B2%D8%A8%D8%A7%D9%86-%D8%A8%D8%B1%D9%86%D8%A7%D9%85%D9%87-%D9%86%D9%88%DB%8C%D8%B3%DB%8C-%D9%BE%D8%A7%DB%8C%D8%AA%D9%88%D9%86\" title=\"حل تمرین و مثال زبان برنامه نویسی پایتون\"> حل تمرین و مثال زبان برنامه نویسی پایتون </a></h2>,\n",
       " <h2><a href=\"/courses/4516/%D8%A8%D8%B1%D9%86%D8%A7%D9%85%D9%87-%D9%86%D9%88%DB%8C%D8%B3%DB%8C-%D8%A7%D9%BE%D9%84%DB%8C%DA%A9%DB%8C%D8%B4%D9%86-%D8%A8%D8%B1%D8%A7%DB%8C-%D8%AA%D9%85%D8%A7%D9%85-%D9%BE%D9%84%D8%AA%D9%81%D8%B1%D9%85-%D9%87%D8%A7-%D8%A8%D8%A7-%D9%BE%D8%A7%DB%8C%D8%AA%D9%88%D9%86\" title=\"برنامه نویسی اپلیکیشن برای تمام پلتفرم ها با پایتون\"> برنامه نویسی اپلیکیشن برای تمام پلتفرم ها با پایتون </a></h2>,\n",
       " <h2><a href=\"/courses/4517/%D8%B7%D8%B1%D8%A7%D8%AD%DB%8C-%D9%87%D8%A7%DB%8C-%D8%AE%D9%84%D8%A7%D9%82%D8%A7%D9%86%D9%87-%D8%B1%D8%A7%D8%A8%D8%B7-%DA%A9%D8%A7%D8%B1%D8%A8%D8%B1%DB%8C-%D9%88%D8%A8-%D8%B3%D8%A7%DB%8C%D8%AA-(-html-,-css-,-j-query-)-\" title=\"طراحی های خلاقانه رابط کاربری وب سایت (HTML, CSS, jQuery) \"> طراحی های خلاقانه رابط کاربری وب سایت (HTML, CSS, jQuery) </a></h2>,\n",
       " <h2><a href=\"/courses/4529/%D9%85%D8%AA%D8%B1%DB%8C%D8%A7%D9%84-%D8%A8%D9%88%D8%AA-%D8%A7%D8%B3%D8%AA%D8%B1%D9%BE-(mdbootstrap-)\" title=\"متریال بوت استرپ (mdbootstrap)\"> متریال بوت استرپ (mdbootstrap) </a></h2>,\n",
       " <h2><a href=\"/courses/4531/-%D8%A2%D9%85%D9%88%D8%B2%D8%B4-%DA%AF%D8%B1%D8%A7%D9%81%DB%8C%DA%A9-%D8%AA%D8%A8%D9%84%DB%8C%D8%BA%D8%A7%D8%AA%DB%8C-%D9%BE%DB%8C%D8%B4%D8%B1%D9%81%D8%AA%D9%87\" title=\" آموزش گرافیک تبلیغاتی پیشرفته\"> آموزش گرافیک تبلیغاتی پیشرفته </a></h2>,\n",
       " <h2><a href=\"/courses/4533/%D8%A8%D8%B1%D9%86%D8%A7%D9%85%D9%87-%D9%86%D9%88%DB%8C%D8%B3%DB%8C-%D8%A7%D9%86%D8%AF%D8%B1%D9%88%DB%8C%D8%AF-%D9%BE%DB%8C%D8%B4%D8%B1%D9%81%D8%AA%D9%87-%D8%A8%D9%87-%D9%87%D9%85%D8%B1%D8%A7%D9%87-%D9%BE%D8%B1%D9%88%DA%98%D9%87-%D8%B9%D9%85%D9%84%DB%8C\" title=\"برنامه نویسی اندروید پیشرفته به همراه پروژه عملی\"> برنامه نویسی اندروید پیشرفته به همراه پروژه عملی </a></h2>,\n",
       " <h2><a href=\"/courses/4542/%D8%A2%D9%85%D9%88%D8%B2%D8%B4-asp-netcorerazorpages\" title=\"آموزش Asp.Net Core Razor Pages\"> آموزش Asp.Net Core Razor Pages </a></h2>,\n",
       " <h2><a href=\"/courses/4545/%D8%B1%D8%A7%D9%87%D9%86%D9%85%D8%A7%DB%8C-%D9%88%D8%B1%D9%88%D8%AF-%D8%A8%D9%87-%D8%AF%D9%86%DB%8C%D8%A7%DB%8C-production-%D8%A8%D8%B1%D8%A7%DB%8C-%D8%AA%D9%88%D8%B3%D8%B9%D9%87-%D8%AF%D9%87%D9%86%D8%AF%DA%AF%D8%A7%D9%86-aspnetcore-5\" title=\"راهنمای ورود به دنیای Production برای توسعه دهندگان ASP .NET Core 5\"> راهنمای ورود به دنیای Production برای توسعه دهندگان ASP .NET Core 5 </a></h2>,\n",
       " <h2><a href=\"/courses/4546/-%D9%82%D9%81%D9%84-%DA%AF%D8%B0%D8%A7%D8%B1%DB%8C-%D8%A8%D8%B1-%D8%B1%D9%88%DB%8C-%D9%86%D8%B1%D9%85-%D8%A7%D9%81%D8%B2%D8%A7%D8%B1-%D9%87%D8%A7%DB%8C-%D8%AA%D8%AC%D8%A7%D8%B1%DB%8C\" title=\" قفل گذاری بر روی نرم افزار های تجاری\"> قفل گذاری بر روی نرم افزار های تجاری </a></h2>,\n",
       " <h2><a href=\"/courses/4547/%D8%A2%D9%85%D9%88%D8%B2%D8%B4-%D8%B3%D8%A7%D8%AE%D8%AA-%D8%A7%D9%BE%D9%84%DB%8C%DA%A9%DB%8C%D8%B4%D9%86-%D8%A7%DB%8C%D9%86%D8%B3%D8%AA%D8%A7%DA%AF%D8%B1%D8%A7%D9%85(%D8%A8%D8%AF%D9%88%D9%86-%DA%A9%D8%AF%D9%86%D9%88%DB%8C%D8%B3%DB%8C)\" title=\"آموزش ساخت اپلیکیشن اینستاگرام(بدون کدنویسی)\"> آموزش ساخت اپلیکیشن اینستاگرام(بدون کدنویسی) </a></h2>,\n",
       " <h2><a href=\"/courses/4549/%D8%AD%D9%84-%D9%85%D8%B3%D8%A7%D8%A6%D9%84-%D9%88%D8%AA%D9%85%D8%B1%DB%8C%D9%86-%D9%87%D8%A7%DB%8C-%D8%A7%D9%84%DA%AF%D9%88%D8%B1%DB%8C%D8%AA%D9%85-%D9%88%D9%81%D9%84%D9%88%DA%86%D8%A7%D8%B1%D8%AA\" title=\"حل مسائل وتمرین های الگوریتم وفلوچارت\"> حل مسائل وتمرین های الگوریتم وفلوچارت </a></h2>,\n",
       " <h2><a href=\"/courses/4560/%D8%AC%D8%A7%D8%AF%D9%88%DB%8C-%D9%81%D8%B1%D9%85-%D8%B3%D8%A7%D8%B2%DB%8C-%D8%A8%D8%A7-%DA%AF%D8%B1%D8%A7%D9%88%DB%8C%D8%AA%DB%8C\" title=\"جادوی فرم سازی با گراویتی\"> جادوی فرم سازی با گراویتی </a></h2>,\n",
       " <h2><a href=\"/courses/4565/%D8%A2%D9%85%D9%88%D8%B2%D8%B4-%DA%A9%D8%A7%D8%B1%D8%A8%D8%B1%D8%AF%DB%8C-ajax-%D8%A8%D9%87%D9%85%D8%B1%D8%A7%D9%87-%D9%85%DB%8C%D9%86%DB%8C-%D9%BE%D8%B1%D9%88%DA%98%D9%87-%D8%B3%D8%A7%DB%8C%D8%AA-%D9%81%DB%8C%D9%84%D9%85\" title=\"آموزش کاربردی ajax بهمراه مینی پروژه سایت فیلم\"> آموزش کاربردی ajax بهمراه مینی پروژه سایت فیلم </a></h2>,\n",
       " <h2><a href=\"/courses/4566/%D8%A2%D9%85%D9%88%D8%B2%D8%B4-%D8%B3%DB%8C%E2%80%8C%D8%B4%D8%A7%D8%B1%D9%BE-%D9%BE%DB%8C%D8%B4%D8%B1%D9%81%D8%AA%D9%87%D8%A8%D8%B1%D9%86%D8%A7%D9%85%D9%87%E2%80%8C%D9%86%D9%88%DB%8C%D8%B3%DB%8C-%D8%AA%D8%A7%D8%A8%D8%B9%DB%8C\" title=\"آموزش سی‌شارپ پیشرفته - برنامه‌نویسی تابعی\"> آموزش سی‌شارپ پیشرفته - برنامه‌نویسی تابعی </a></h2>,\n",
       " <h2><a href=\"/courses/4567/%D8%A2%D9%85%D9%88%D8%B2%D8%B4-%D8%AC%D8%A7%D9%85%D8%B9-%D9%87%D9%88%D8%B4-%D9%85%D8%B5%D9%86%D9%88%D8%B9%DB%8C-%D8%A8%D8%A7-%D9%BE%D8%A7%DB%8C%D8%AA%D9%88%D9%86-(-python-)\" title=\"آموزش جامع هوش مصنوعی با پایتون ( Python )\"> آموزش جامع هوش مصنوعی با پایتون ( Python ) </a></h2>,\n",
       " <h2><a href=\"/courses/4569/%D8%B3%D8%A7%D8%AE%D8%AA-filewiper-%D8%AF%D8%B1-%D8%B3%DB%8C-%D8%B4%D8%A7%D8%B1%D9%BE\" title=\"ساخت File Wiper در سی شارپ\"> ساخت File Wiper در سی شارپ </a></h2>,\n",
       " <h2><a href=\"/courses/4572/%D8%AF%D9%88%D8%B1%D9%87-%D8%AC%D8%A7%D9%85%D8%B9-0-%D8%AA%D8%A7-100-%D8%B7%D8%B1%D8%A7%D8%AD%DB%8C-%D8%B3%D8%A7%DB%8C%D8%AA-%D9%88-%D9%81%D8%B1%D9%88%D8%B4%DA%AF%D8%A7%D9%87-%D8%A7%DB%8C%D9%86%D8%AA%D8%B1%D9%86%D8%AA%DB%8C-%D8%A8%D8%A7-%D9%88%D8%B1%D8%AF%D9%BE%D8%B1%D8%B3\" title=\"دوره جامع 0 تا 100 طراحی سایت و فروشگاه اینترنتی با وردپرس\"> دوره جامع 0 تا 100 طراحی سایت و فروشگاه اینترنتی با وردپرس </a></h2>,\n",
       " <h2><a href=\"/courses/4574/%D8%A2%D9%85%D9%88%D8%B2%D8%B4-php-%D8%A8%D8%B1%D8%A7%DB%8C-%D9%88%D8%B1%D8%AF%D9%BE%D8%B1%D8%B3%DB%8C-%D9%87%D8%A7\" title=\"آموزش php برای وردپرسی ها\"> آموزش php برای وردپرسی ها </a></h2>,\n",
       " <h2><a href=\"/courses/4575/%D8%A2%D9%85%D9%88%D8%B2%D8%B4-%D8%A8%D8%A7%D8%B2%DB%8C-%D8%B3%D8%A7%D8%B2%DB%8C-%D8%A8%D9%87-%DA%A9%D9%88%D8%AF%DA%A9%D8%A7%D9%86-%D8%A8%D8%A7-%D8%A7%D8%B3%DA%A9%D8%B1%DA%86-\" title=\"آموزش بازی سازی به کودکان با اسکرچ \"> آموزش بازی سازی به کودکان با اسکرچ </a></h2>,\n",
       " <h2><a href=\"/courses/4576/%D8%A2%D9%85%D9%88%D8%B2%D8%B4-%D9%88%DB%8C%DA%98%D9%88%D8%A7%D9%84-%D8%A8%DB%8C%D8%B3%DB%8C%DA%A9-%D9%BE%DB%8C%D8%B4%D8%B1%D9%81%D8%AA%D9%87-\" title=\"آموزش ویژوال بیسیک پیشرفته \"> آموزش ویژوال بیسیک پیشرفته </a></h2>,\n",
       " <h2><a href=\"/courses/4578/%D8%A2%D9%85%D9%88%D8%B2%D8%B4-dapper-%D8%A8%D8%A7-asp-netcore-(-net-5)\" title=\"آموزش Dapper با ASP.NET Core (.NET 5)\"> آموزش Dapper با ASP.NET Core (.NET 5) </a></h2>,\n",
       " <h2><a href=\"/courses/4579/%D8%A2%D9%85%D9%88%D8%B2%D8%B4-%D8%B3%D8%A7%DB%8C%D8%AA-%D9%81%D8%B1%D9%88%D8%B4%DA%AF%D8%A7%D9%87-%D8%B3%D8%A7%D8%B2-(-marketplace-)-%D8%A8%D8%A7-asp-netcore-5\" title=\"آموزش سایت فروشگاه ساز ( Market Place) با Asp.net Core5\"> آموزش سایت فروشگاه ساز ( Market Place) با Asp.net Core5 </a></h2>,\n",
       " <h2><a href=\"/courses/4580/%D8%A2%D9%85%D9%88%D8%B2%D8%B4-ckeditor-%D8%AF%D8%B1-mvc-core\" title=\"آموزش ckeditor در mvc core\"> آموزش ckeditor در mvc core </a></h2>,\n",
       " <h2><a href=\"/courses/4581/%D8%AF%D9%88%D8%B1%D9%87-%EF%BB%83%EF%BA%AE%D8%A7%EF%BA%A3%EF%AF%BD-%EF%BA%91%EF%BB%A8%EF%BA%AE-%EF%BB%A3%EF%BA%98%EF%BA%A4%EF%BA%AE%DA%A9-%EF%BA%B3%EF%BA%8E%EF%AF%BE%EF%BA%96-%D8%AF%D8%B1-%EF%BB%93%EF%BA%98%EF%BB%AE%EF%BA%B7%EF%BA%8E%D9%BE-\" title=\"دوره ﻃﺮاﺣﯽ ﺑﻨﺮ ﻣﺘﺤﺮک ﺳﺎﯾﺖ در ﻓﺘﻮﺷﺎپ \"> دوره ﻃﺮاﺣﯽ ﺑﻨﺮ ﻣﺘﺤﺮک ﺳﺎﯾﺖ در ﻓﺘﻮﺷﺎپ </a></h2>,\n",
       " <h2><a href=\"/courses/4582/%D8%A7%D9%81%D8%B2%D8%A7%DB%8C%D8%B4-%D8%B3%D8%B1%D8%B9%D8%AA-%DA%A9%D8%AF%D9%86%D9%88%DB%8C%D8%B3%DB%8C-%D8%AF%D8%B1-visualstudio\" title=\"افزایش سرعت کدنویسی در Visual Studio\"> افزایش سرعت کدنویسی در Visual Studio </a></h2>,\n",
       " <h2><a href=\"/courses/4594/%D8%A2%D9%85%D9%88%D8%B2%D8%B4-%DA%AF%D9%88%DA%AF%D9%84-%D8%AA%DA%AF-%D9%85%D9%86%DB%8C%D8%AC%D8%B1\" title=\"آموزش گوگل تگ منیجر\"> آموزش گوگل تگ منیجر </a></h2>,\n",
       " <h2><a href=\"/courses/4601/%D8%AF%D9%88%D8%B1%D9%87-%D8%A2%D9%85%D9%88%D8%B2%D8%B4-%D9%BE%D8%B1%D9%88%DA%98%D9%87-%D9%85%D8%AD%D9%88%D8%B1-%D9%81%D8%B1%DB%8C%D9%85-%D9%88%D8%B1%DA%A9-flask\" title=\"دوره آموزش پروژه محور فریم ورک Flask\"> دوره آموزش پروژه محور فریم ورک Flask </a></h2>,\n",
       " <h2><a href=\"/courses/4602/%D8%AF%D9%88%D8%B1%D9%87%E2%80%8C%DB%8C-%D8%AC%D8%A7%D9%85%D8%B9-%D8%AC%D8%A7%D9%88%D8%A7-%D8%A7%D8%B3%DA%A9%D8%B1%DB%8C%D9%BE%D8%AA-%D9%86%D8%A7%D9%85%D8%AA%D9%82%D8%A7%D8%B1%D9%86\" title=\"دوره‌ی جامع جاوا اسکریپت نامتقارن\"> دوره‌ی جامع جاوا اسکریپت نامتقارن </a></h2>,\n",
       " <h2><a href=\"/courses/4609/%D8%A2%D9%85%D9%88%D8%B2%D8%B4-%D9%85%D8%AA%D8%AE%D8%B5%D8%B5-%D8%A7%DB%8C%D9%86%D8%AF%DB%8C%D8%B2%D8%A7%DB%8C%D9%86\" title=\"آموزش متخصص ایندیزاین\"> آموزش متخصص ایندیزاین </a></h2>,\n",
       " <h2><a href=\"/courses/4613/%D8%A2%D9%85%D9%88%D8%B2%D8%B4-%D9%86%D8%B1%D9%85-%D8%A7%D9%81%D8%B2%D8%A7%D8%B1-%D9%81%DB%8C%DA%AF%D9%85%D8%A7\" title=\"آموزش نرم افزار فیگما\"> آموزش نرم افزار فیگما </a></h2>,\n",
       " <h2><a href=\"/courses/4614/-%DA%A9%D8%A7%D8%B1-%D8%A8%D8%A7-provider-%D8%AF%D8%B1-%D9%81%D9%84%D8%A7%D8%AA%D8%B1(%D9%BE%D8%B1%D9%88%DA%98%D9%87-%D9%85%D8%AD%D9%88%D8%B1)\" title=\" کار با Provider در فلاتر(پروژه محور)\"> کار با Provider در فلاتر(پروژه محور) </a></h2>,\n",
       " <h2><a href=\"/courses/4617/%D8%A2%D9%85%D9%88%D8%B2%D8%B4-%D8%B3%D8%A7%D8%AE%D8%AA-%DA%A9%D8%A7%D9%88%D8%B1-%D8%A7%DB%8C%D9%86%D8%B3%D8%AA%D8%A7%DA%AF%D8%B1%D8%A7%D9%85-%D8%AF%D8%B1-%D9%81%D8%AA%D9%88%D8%B4%D8%A7%D9%BE\" title=\"آموزش ساخت کاور اینستاگرام در فتوشاپ\"> آموزش ساخت کاور اینستاگرام در فتوشاپ </a></h2>,\n",
       " <h2><a href=\"/courses/4620/%D8%A2%D9%85%D9%88%D8%B2%D8%B4-%D8%AC%D8%A7%D9%85%D8%B9-efcore\" title=\"آموزش جامع EF Core\"> آموزش جامع EF Core </a></h2>,\n",
       " <h2><a href=\"/courses/4628/-%D8%A2%D9%85%D9%88%D8%B2%D8%B4-py-qt-5-%D8%A7%D8%B2-%D8%B5%D9%81%D8%B1\" title=\" آموزش PyQt5 از صفر\"> آموزش PyQt5 از صفر </a></h2>,\n",
       " <h2><a href=\"/courses/4630/%D8%A2%D9%85%D9%88%D8%B2%D8%B4-%D8%B3%D8%A7%D8%AE%D8%AA-%D8%A8%D8%A7%D8%B2%DB%8C-%D8%AD%D8%A7%D9%81%D8%B8%D9%87-%D8%AA%D8%B5%D9%88%DB%8C%D8%B1%DB%8C-%D8%A8%D8%A7-%D9%BE%D8%A7%DB%8C%D8%AA%D9%88%D9%86-\" title=\"آموزش ساخت بازی حافظه تصویری با پایتون \"> آموزش ساخت بازی حافظه تصویری با پایتون </a></h2>,\n",
       " <h2><a href=\"/courses/4631/%D8%A2%D9%85%D9%88%D8%B2%D8%B4-%D9%BE%DB%8C%D8%B4%D8%B1%D9%81%D8%AA%D9%87-selenium-%D8%AF%D8%B1-%D9%BE%D8%A7%DB%8C%D8%AA%D9%88%D9%86\" title=\"آموزش پیشرفته selenium در پایتون\"> آموزش پیشرفته selenium در پایتون </a></h2>,\n",
       " <h2><a href=\"/courses/4633/%D8%A2%D9%85%D9%88%D8%B2%D8%B4-%D8%AC%D8%A7%D9%85%D8%B9-%D9%87%D9%88%D8%B4-%D9%85%D8%B5%D9%86%D9%88%D8%B9%DB%8C-%D8%A8%D8%A7-%D8%AC%D8%A7%D9%88%D8%A7-%D8%A7%D8%B3%DA%A9%D8%B1%DB%8C%D9%BE%D8%AA\" title=\"آموزش جامع هوش مصنوعی  با جاوا اسکریپت\"> آموزش جامع هوش مصنوعی با جاوا اسکریپت </a></h2>,\n",
       " <h2><a href=\"/courses/4636/%D8%A2%D9%85%D9%88%D8%B2%D8%B4-redux-%D9%85%D9%82%D8%AF%D9%85%D8%A7%D8%AA%DB%8C-%D8%AA%D8%A7-%D9%BE%DB%8C%D8%B4%D8%B1%D9%81%D8%AA%D9%87\" title=\"آموزش Redux مقدماتی تا پیشرفته\"> آموزش Redux مقدماتی تا پیشرفته </a></h2>,\n",
       " <h2><a href=\"/courses/4637/-%D8%A2%D9%85%D9%80%D9%88%D8%B2%D8%B4-%D8%AC%D8%A7%D9%85%D9%80%D8%B9-%D8%B1%D8%A7%D8%A8%D8%B7-%DA%A9%D8%A7%D8%B1%D8%A8%D9%80%D8%B1%DB%8C-%D9%88-%D8%AA%D8%AC%D8%B1%D8%A8%D9%87-%DA%A9%D8%A7%D8%B1%D8%A8%D9%80%D8%B1%DB%8C\" title=\" آمـوزش جامـع رابط کاربـری و تجربه کاربـری\"> آمـوزش جامـع رابط کاربـری و تجربه کاربـری </a></h2>,\n",
       " <h2><a href=\"/courses/4639/%D8%A2%D9%85%D9%88%D8%B2%D8%B4-%DA%A9%D8%A7%D9%84%DB%8C-%D9%84%DB%8C%D9%86%D9%88%DA%A9%D8%B3\" title=\"آموزش کالی لینوکس\"> آموزش کالی لینوکس </a></h2>,\n",
       " <h2><a href=\"/courses/4644/%D8%A2%D9%85%D9%80%D9%88%D8%B2%D8%B4-flaskrestfulapi-%D9%87%D9%85%D8%B1%D8%A7%D9%87-%D8%A8%D8%A7-vuejs-3\" title=\"آمـوزش Flask Restful Api همراه با Vuejs 3\"> آمـوزش Flask Restful Api همراه با Vuejs 3 </a></h2>,\n",
       " <h2><a href=\"/courses/4647/%D8%A2%D9%85%D9%88%D8%B2%D8%B4-%D8%AC%D8%A7%D9%85%D9%80%D9%80%D8%B9-%D9%81%D8%B1%DB%8C%D9%85-%D9%88%D8%B1%DA%A9-blazor\" title=\"آموزش جامــع فریم ورک Blazor\"> آموزش جامــع فریم ورک Blazor </a></h2>,\n",
       " <h2><a href=\"/courses/4649/%D8%B3%D8%A7%D8%AE%D8%AA-short-code-%D9%88%D8%B1%D8%AF%D9%BE%D9%80%D8%B1%D8%B3\" title=\"ساخت ShortCode وردپـرس\"> ساخت ShortCode وردپـرس </a></h2>,\n",
       " <h2><a href=\"/courses/4653/%D8%A2%D9%85%D9%88%D8%B2%D8%B4-security-\" title=\"آموزش security + \"> آموزش security + </a></h2>,\n",
       " <h2><a href=\"/courses/4656/%D8%AF%D9%88%D8%B1%D9%87-%DB%8C-%D8%A2%D9%85%D9%88%D8%B2%D8%B4-%D9%85%D9%82%D8%AF%D9%85%D8%A7%D8%AA%DB%8C-%D8%AA%D8%A7-%D9%BE%DB%8C%D8%B4%D8%B1%D9%81%D8%AA%D9%87-corelvideostudio\" title=\"دوره ی آموزش مقدماتی تا پیشرفته Corel Video Studio\"> دوره ی آموزش مقدماتی تا پیشرفته Corel Video Studio </a></h2>,\n",
       " <h2><a href=\"/courses/4657/%D8%A2%D9%85%D9%88%D8%B2%D8%B4-%D9%85%D9%82%D8%AF%D9%85%D8%A7%D8%AA%DB%8C-%D9%85%DB%8C%DA%A9%D8%B1%D9%88%DA%A9%D9%86%D8%AA%D8%B1%D9%84%D8%B1-avr\" title=\"آموزش مقدماتی میکروکنترلر AVR\"> آموزش مقدماتی میکروکنترلر AVR </a></h2>,\n",
       " <h2><a href=\"/courses/4660/%D8%A2%D9%85%D9%88%D8%B2%D8%B4-%D9%BE%DB%8C%D8%B4%D8%B1%D9%81%D8%AA%D9%87-%D8%B3%D8%A7%D8%AE%D8%AA-%D8%B1%D8%A8%D8%A7%D8%AA-%D8%AA%D9%84%DA%AF%D8%B1%D8%A7%D9%85-%D8%A8%D8%A7-%D8%AC%D8%A7%D9%88%D8%A7%D8%A7%D8%B3%DA%A9%D8%B1%DB%8C%D9%BE%D8%AA-(%D9%BE%D8%B1%D9%88%DA%98%D9%87-%D8%AA%D8%A7%D9%BE-%D9%84%D8%B1%D9%86)\" title=\"آموزش پیشرفته ساخت ربات تلگرام با جاوااسکریپت (پروژه تاپ لرن)\"> آموزش پیشرفته ساخت ربات تلگرام با جاوااسکریپت (پروژه تاپ لرن) </a></h2>,\n",
       " <h2><a href=\"/courses/4662/%D8%B7%D8%B1%D8%A7%D8%AD%DB%8C-%D8%B9%DA%A9%D8%B3%D9%86%D9%88%D8%B4%D8%AA%D9%87-%D9%87%D8%A7%DB%8C-%D8%AC%D8%B0%D8%A7%D8%A8-%D8%AF%D8%B1-%D9%81%D8%AA%D9%88%D8%B4%D8%A7%D9%BE\" title=\"طراحی عکسنوشته های جذاب در فتوشاپ\"> طراحی عکسنوشته های جذاب در فتوشاپ </a></h2>,\n",
       " <h2><a href=\"/courses/4663/%D8%A2%D9%85%D9%88%D8%B2%D8%B4-kotlinarchitecture%D8%AF%D8%B1-%D8%A7%D9%86%D8%AF%D8%B1%D9%88%DB%8C%D8%AF\" title=\"آموزش Kotlin Architecture  در اندروید\"> آموزش Kotlin Architecture در اندروید </a></h2>,\n",
       " <h2><a href=\"/courses/4664/%D8%A2%D9%85%D9%80%D9%80%D9%88%D8%B2%D8%B4-%D8%A7%D8%B3%D8%AA%D9%81%D9%80%D9%80%D8%A7%D8%AF%D9%87-%D8%A7%D8%B2-api-%D9%88%D9%88%DA%A9%D8%A7%D9%85%D9%80%D9%80%D8%B1%D8%B3\" title=\"آمــوزش استفــاده از api ووکامــرس\"> آمــوزش استفــاده از api ووکامــرس </a></h2>,\n",
       " <h2><a href=\"/courses/4673/-%D8%A7%D9%81%D8%B2%D8%A7%D9%8A%D8%B4-%D8%B3%D8%B1%D8%B9%D8%AA-%D9%83%D8%AF%D9%86%D9%88%D9%8A%D8%B3%D9%8A-%D8%AF%D8%B1-visualstudiocode\" title=\" افزايش سرعت كدنويسي در Visual Studio Code\"> افزايش سرعت كدنويسي در Visual Studio Code </a></h2>,\n",
       " <h2><a href=\"/courses/4678/%D8%A2%D9%85%D9%88%D8%B2%D8%B4-%D9%81%D8%B1%DB%8C%D9%85-%D9%88%D8%B1%DA%A9-%D8%AC%D9%86%DA%AF%D9%88-(-django-)-%D8%A7%D8%B2-%D9%85%D9%82%D8%AF%D9%85%D8%A7%D8%AA%DB%8C-%D8%AA%D8%A7-%D9%BE%DB%8C%D8%B4%D8%B1%D9%81%D8%AA%D9%87\" title=\"آموزش فریم ورک جنگو ( Django )  از مقدماتی تا پیشرفته\"> آموزش فریم ورک جنگو ( Django ) از مقدماتی تا پیشرفته </a></h2>,\n",
       " <h2><a href=\"/courses/4679/-%D8%A2%D9%85%D9%88%D8%B2%D8%B4-ajax-%D8%AF%D8%B1-php\" title=\" آموزش ajax در php\"> آموزش ajax در php </a></h2>,\n",
       " <h2><a href=\"/courses/4680/-%D8%A2%D9%85%D9%88%D8%B2%D8%B4-%D8%AC%D8%A7%D9%85%D8%B9-%D8%AA%D9%88%D9%84%DB%8C%D8%AF-%D9%85%D8%AD%D8%AA%D9%88%D8%A7\" title=\" آموزش جامع تولید محتوا\"> آموزش جامع تولید محتوا </a></h2>,\n",
       " <h2><a href=\"/courses/4686/%D8%AF%D9%88%D8%B1%D9%87-%D9%BE%DB%8C%D8%B4%D8%B1%D9%81%D8%AA%D9%87-next-js-(%D9%BE%D8%B1%D9%88%DA%98%D9%87-%D9%81%D9%88%D9%84-%D8%A7%D8%B3%D8%AA%DA%A9-%D8%B3%D8%A7%DB%8C%D8%AA-%D9%81%DB%8C%D9%84%D9%85-%D9%88-%D9%BE%D9%86%D9%84-%D8%A7%D8%AF%D9%85%DB%8C%D9%86)\" title=\"دوره پیشرفته Next.js (پروژه فول استک سایت فیلم و پنل ادمین)\"> دوره پیشرفته Next.js (پروژه فول استک سایت فیلم و پنل ادمین) </a></h2>,\n",
       " <h2><a href=\"/courses/4691/%D8%A2%D9%85%D9%88%D8%B2%D8%B4-%D8%AC%D8%A7%D9%85%D8%B9-%D9%86%D8%B1%D9%85-%D8%A7%D9%81%D8%B2%D8%A7%D8%B1-%D9%85%D8%AA%D9%84%D8%A8\" title=\"آموزش جامع نرم افزار متلب\"> آموزش جامع نرم افزار متلب </a></h2>,\n",
       " <h2><a href=\"/courses/4694/%D8%A2%D9%85%D9%88%D8%B2%D8%B4-%D8%B3%D8%A7%D8%AE%D8%AA-%DB%8C%DA%A9-%D8%A8%D8%A7%D8%B2%DB%8C-%D8%B3%D8%A7%D8%AF%D9%87-%D8%AF%D8%B1-%DB%8C%D9%88%D9%86%DB%8C%D8%AA%DB%8C-(-fingerfight-)\" title=\"آموزش ساخت یک بازی ساده در یونیتی (Finger Fight)\"> آموزش ساخت یک بازی ساده در یونیتی (Finger Fight) </a></h2>,\n",
       " <h2><a href=\"/courses/4695/%D8%A2%D9%85%D9%88%D8%B2%D8%B4-%D9%BE%D8%A7%D8%B1%D8%AA%DB%8C%DA%A9%D9%84-%D8%B3%DB%8C%D8%B3%D8%AA%D9%85-%D8%AF%D8%B1-%DB%8C%D9%80%D9%80%D9%88%D9%86%DB%8C%D8%AA%DB%8C\" title=\"آموزش پارتیکل سیستم در یــونیتی\"> آموزش پارتیکل سیستم در یــونیتی </a></h2>,\n",
       " <h2><a href=\"/courses/4696/%D8%A2%D9%85%D9%88%D8%B2%D8%B4-%D8%A8%D8%A7%D8%B2%DB%8C-%D8%B3%D8%A7%D8%B2%DB%8C-%D8%A8%D8%A7-%D9%BE%D8%A7%DB%8C%D8%AA%D9%88%D9%86-%D8%A8%D8%B1%D8%A7%DB%8C-%D8%AF%D8%A7%D9%86%D8%B4-%D8%A2%D9%85%D9%88%D8%B2%D8%A7%D9%86\" title=\"آموزش بازی سازی با پایتون برای دانش آموزان\"> آموزش بازی سازی با پایتون برای دانش آموزان </a></h2>,\n",
       " <h2><a href=\"/courses/4697/%D8%A2%D9%85%D9%88%D8%B2%D8%B4-%D8%AC%D8%A7%D9%85%D8%B9-%D8%B1%D8%A7%D8%A8%D8%B7-%DA%A9%D8%A7%D8%B1%D8%A8%D8%B1%DB%8C-%D9%88-%D8%AA%D8%AC%D8%B1%D8%A8%D9%87-%DA%A9%D8%A7%D8%B1%D8%A8%D8%B1%DB%8C\" title=\"آموزش جامع رابط کاربری و تجربه کاربری\"> آموزش جامع رابط کاربری و تجربه کاربری </a></h2>,\n",
       " <h2><a href=\"/courses/4699/%D8%A2%D9%85%D9%88%D8%B2%D8%B4-%D8%AC%D9%86%DA%A9%DB%8C%D9%86%D8%B2-(-jenkins-)-\" title=\"آموزش جنکینز (Jenkins)  \"> آموزش جنکینز (Jenkins) </a></h2>,\n",
       " <h2><a href=\"/courses/4701/%D8%A2%D9%85%D9%80%D9%80%D9%80%D9%88%D8%B2%D8%B4-%D9%81%D8%A7%DB%8C%D8%B1%D8%A8%DB%8C%D8%B3-%D8%AF%D8%B1-%D8%A7%D9%86%DA%AF%D9%80%D9%80%D9%80%D9%80%D9%88%D9%84%D8%A7%D8%B1-12\" title=\"آمـــوزش فایربیس در انگــــولار 12\"> آمـــوزش فایربیس در انگــــولار 12 </a></h2>,\n",
       " <h2><a href=\"/courses/4703/%D8%A2%D9%85%D9%88%D8%B2%D8%B4-%D8%B3%D8%A7%D8%B2%D9%85%D8%A7%D9%86%DB%8C-%DA%AF%DB%8C%D8%AA-%D9%88-%DA%AF%DB%8C%D8%AA-%D9%87%D8%A7%D8%A8\" title=\"آموزش سازمانی گیت و گیت هاب\"> آموزش سازمانی گیت و گیت هاب </a></h2>,\n",
       " <h2><a href=\"/courses/4707/%D8%B7%D8%B1%D8%A7%D8%AD%DB%8C-%D8%A7%D8%B3%D8%AA%D9%88%D8%B1%DB%8C-%D8%A7%DB%8C%D9%86%D8%B3%D8%AA%D8%A7%DA%AF%D8%B1%D8%A7%D9%85-%D8%AF%D8%B1-%D8%A7%D9%81%D8%AA%D8%B1-%D8%A7%D9%81%DA%A9%D8%AA\" title=\"طراحی استوری اینستاگرام در افتر افکت\"> طراحی استوری اینستاگرام در افتر افکت </a></h2>,\n",
       " <h2><a href=\"/courses/4710/%D8%A2%D9%85%D9%88%D8%B2%D8%B4-googlecolab-%D8%A8%D8%B1%D8%A7%DB%8C-%D8%AA%D9%88%D8%B3%D8%B9%D9%87-%D8%AF%D9%87%D9%86%D8%AF%DA%AF%D8%A7%D9%86-%D9%BE%D8%A7%DB%8C%D8%AA%D9%88%D9%86\" title=\"آموزش Google Colab برای توسعه دهندگان پایتون\"> آموزش Google Colab برای توسعه دهندگان پایتون </a></h2>,\n",
       " <h2><a href=\"/courses/4717/%D8%A2%D9%85%D9%88%D8%B2%D8%B4-%D9%84%DB%8C%D9%86%D9%88%DA%A9%D8%B3-lpic-1102\" title=\"آموزش لینوکس LPIC 1 - 102\"> آموزش لینوکس LPIC 1 - 102 </a></h2>,\n",
       " <h2><a href=\"/courses/4720/%D8%A2%D9%85%D9%88%D8%B2%D8%B4-%D9%84%D8%A7%DB%8C%D8%B3%D9%86%D8%B3-%DA%AF%D8%B0%D8%A7%D8%B1%DB%8C-%D9%85%D8%AD%D8%B5%D9%88%D9%84%D8%A7%D8%AA-%D9%88%D9%88%DA%A9%D8%A7%D9%85%D8%B1%D8%B3\" title=\"آموزش لایسنس گذاری محصولات ووکامرس\"> آموزش لایسنس گذاری محصولات ووکامرس </a></h2>,\n",
       " <h2><a href=\"/courses/4721/%D8%A2%D9%85%D9%88%D8%B2%D8%B4-systemio-%D8%AF%D8%B1-net-5\" title=\"آموزش System IO در NET 5.\"> آموزش System IO در NET 5. </a></h2>,\n",
       " <h2><a href=\"/courses/4722/%D8%A2%D9%85%D9%88%D8%B2%D8%B4-%D9%85%D9%82%D8%AF%D9%85%D8%A7%D8%AA%DB%8C-%D8%AA%D8%A7-%D9%BE%DB%8C%D8%B4%D8%B1%D9%81%D8%AA%D9%87-%D8%A8%D8%B1%D9%86%D8%A7%D9%85%D9%87%E2%80%8C%D9%86%D9%88%DB%8C%D8%B3%DB%8C-%D9%85%D9%88%D8%A7%D8%B2%DB%8C-%D8%AF%D8%B1-%D8%B3%DB%8C%E2%80%8C%D8%B4%D8%A7%D8%B1%D9%BE\" title=\"آموزش مقدماتی تا پیشرفته برنامه‌نویسی موازی در سی‌شارپ\"> آموزش مقدماتی تا پیشرفته برنامه‌نویسی موازی در سی‌شارپ </a></h2>,\n",
       " <h2><a href=\"/courses/4725/%D8%A2%D9%85%D9%88%D8%B2%D8%B4-%D9%85%D9%82%D8%AF%D9%85%D8%A7%D8%AA%DB%8C-%D8%AA%D8%A7-%D9%BE%DB%8C%D8%B4%D8%B1%D9%81%D8%AA%D9%87-%D8%B2%D8%A8%D8%A7%D9%86-%D8%AF%D8%A7%D8%B1%D8%AA-(-dart-)-\" title=\"آموزش مقدماتی تا پیشرفته زبان دارت (Dart) \"> آموزش مقدماتی تا پیشرفته زبان دارت (Dart) </a></h2>,\n",
       " <h2><a href=\"/courses/4726/%D8%B3%D8%A7%D8%AE%D8%AA-%D8%B4%D8%A8%DA%A9%D9%87-%DB%8C-%D8%A7%D8%AC%D8%AA%D9%85%D8%A7%D8%B9%DB%8C-%D8%AA%D9%88%DB%8C%DB%8C%D8%AA%D8%B1-%D8%A8%D8%A7-%D9%81%D8%B1%DB%8C%D9%85-%D9%88%D8%B1%DA%A9-%D8%A7%D8%AE%D8%AA%D8%B5%D8%A7%D8%B5%DB%8C-%D8%A8%D8%B1-%D9%BE%D8%A7%DB%8C%D9%87-mvc\" title=\"ساخت شبکه ی اجتماعی توییتر با فریم ورک اختصاصی بر پایه MVC\"> ساخت شبکه ی اجتماعی توییتر با فریم ورک اختصاصی بر پایه MVC </a></h2>,\n",
       " <h2><a href=\"/courses/4731/%D8%A2%D9%85%D9%88%D8%B2%D8%B4-%D8%B3%D8%A7%DB%8C%D8%AA-%D9%81%D8%B1%D9%88%D8%B4%DA%AF%D8%A7%D9%87-%D8%A7%DB%8C%D9%86%D8%AA%D8%B1%D9%86%D8%AA%DB%8C-%D8%A8%D8%A7-asp-netcore-5-(%D9%BE%D8%B1%D9%88%DA%98%D9%87-%D9%85%D8%AD%D9%88%D8%B1)\" title=\"آموزش سایت فروشگاه اینترنتی با Asp.Net Core 5 (پروژه محور)\"> آموزش سایت فروشگاه اینترنتی با Asp.Net Core 5 (پروژه محور) </a></h2>,\n",
       " <h2><a href=\"/courses/4732/%D8%A2%D9%85%D9%88%D8%B2%D8%B4-%D9%BE%D8%B1%D9%88%DA%98%D9%87-%D9%85%D8%AD%D9%88%D8%B1-blender\" title=\"آموزش پروژه محور Blender\"> آموزش پروژه محور Blender </a></h2>,\n",
       " <h2><a href=\"/courses/4739/%D8%A2%D9%85%D9%88%D8%B2%D8%B4-%D8%B3%D8%A7%D8%AE%D8%AA-%D9%86%D8%B1%D9%85-%D8%A7%D9%81%D8%B2%D8%A7%D8%B1crm-%D8%A8%D8%A7-asp-netcore\" title=\"آموزش ساخت نرم افزار  CRM با ASP.NET Core\"> آموزش ساخت نرم افزار CRM با ASP.NET Core </a></h2>,\n",
       " <h2><a href=\"/courses/5741/%D8%A2%D9%85%D9%88%D8%B2%D8%B4-%D8%B3%D8%A7%D8%AE%D8%AA-%D8%B5%D9%81%D8%B1-%D8%AA%D8%A7-%D8%B5%D8%AF-%D9%88%D8%A8-%D8%B3%D8%A7%DB%8C%D8%AA-%D8%A8%D8%A7-%D9%84%D8%A7%D8%B1%D8%A7%D9%88%D9%84\" title=\"آموزش ساخت صفر تا صد وب سایت با لاراول\"> آموزش ساخت صفر تا صد وب سایت با لاراول </a></h2>,\n",
       " <h2><a href=\"/courses/5746/%D8%A2%D9%85%D9%88%D8%B2%D8%B4-%D8%B7%D8%B1%D8%A7%D8%AD%DB%8C-%D8%B3%D8%A7%DB%8C%D8%AA-%D8%B4%D8%B1%DA%A9%D8%AA%DB%8C-%D8%A8%D8%A7-%D9%88%D8%B1%D8%AF%D9%BE%D8%B1%D8%B3\" title=\"آموزش طراحی سایت شرکتی با وردپرس\"> آموزش طراحی سایت شرکتی با وردپرس </a></h2>,\n",
       " <h2><a href=\"/courses/5747/%D8%A2%D9%85%D9%88%D8%B2%D8%B4-%D9%BE%DB%8C%D8%A7%D8%AF%D9%87-%D8%B3%D8%A7%D8%B2%DB%8C-%D8%A7%D9%84%DA%AF%D9%88%D8%B1%DB%8C%D8%AA%D9%85-%D8%A7%D8%B2%D8%AF%D8%AD%D8%A7%D9%85-%D8%B0%D8%B1%D8%A7%D8%AA-(-pso-)-%D8%AF%D8%B1-%D9%85%D8%AA%D9%84%D8%A8\" title=\"آموزش پیاده سازی الگوریتم ازدحام ذرات (PSO) در متلب\"> آموزش پیاده سازی الگوریتم ازدحام ذرات (PSO) در متلب </a></h2>,\n",
       " <h2><a href=\"/courses/5748/%D8%A2%D9%85%D9%88%D8%B2%D8%B4-%D8%AC%D8%A7%D9%85%D8%B9-%D9%81%D8%AA%D9%88%D8%B4%D8%A7%D9%BE-(%D9%85%D9%82%D8%AF%D9%85%D8%A7%D8%AA%DB%8C-%D8%AA%D8%A7-%D9%BE%DB%8C%D8%B4%D8%B1%D9%81%D8%AA%D9%87)\" title=\"آموزش جامع فتوشاپ (مقدماتی تا پیشرفته)\"> آموزش جامع فتوشاپ (مقدماتی تا پیشرفته) </a></h2>,\n",
       " <h2><a href=\"/courses/5751/%D8%A2%D9%85%D9%88%D8%B2%D8%B4-%D8%B1%D8%A7%D9%87-%D8%A7%D9%86%D8%AF%D8%A7%D8%B2%DB%8C-%D8%A7%D9%86%D9%88%D8%A7%D8%B9-%D8%AF%D8%A7%D9%85%D9%86%D9%87-%D8%A8%D8%B1-%D8%B1%D9%88%DB%8C-%D9%87%D8%A7%D8%B3%D8%AA-\" title=\"آموزش راه اندازی انواع دامنه بر روی هاست \"> آموزش راه اندازی انواع دامنه بر روی هاست </a></h2>,\n",
       " <h2><a href=\"/courses/5755/%D8%A2%D9%85%D9%88%D8%B2%D8%B4-%D8%B7%D8%B1%D8%A7%D8%AD%DB%8C-%D9%86%D9%85%D9%88%D8%AF%D8%A7%D8%B1%D9%87%D8%A7%DB%8C-%D8%A7%DB%8C%D9%86%D9%81%D9%88%DA%AF%D8%B1%D8%A7%D9%81%DB%8C%DA%A9%DB%8C-%D8%AF%D8%B1-%D8%A7%D9%81%D8%AA%D8%B1%D8%A7%D9%81%DA%A9%D8%AA\" title=\"آموزش طراحی نمودارهای اینفوگرافیکی در افترافکت\"> آموزش طراحی نمودارهای اینفوگرافیکی در افترافکت </a></h2>,\n",
       " <h2><a href=\"/courses/5762/%D8%A2%D9%85%D9%88%D8%B2%D8%B4-%D9%84%DB%8C%D9%86%D9%88%DA%A9%D8%B3-lpic-2201\" title=\"آموزش لینوکس LPIC 2 - 201\"> آموزش لینوکس LPIC 2 - 201 </a></h2>,\n",
       " <h2><a href=\"/courses/5767/%D8%A2%D9%85%D9%88%D8%B2%D8%B4-%D8%B5%D9%81%D8%B1-%D8%AA%D8%A7-%D8%B5%D8%AF-%D8%B7%D8%B1%D8%A7%D8%AD%DB%8C-%D8%B3%D8%A7%DB%8C%D8%AA-%D8%AD%D8%B1%D9%81%D9%87-%D8%A7%DB%8C-%D8%A8%D8%A7-%D8%A7%D9%84%D9%85%D9%86%D8%AA%D9%88%D8%B1-(-%D9%BE%D8%B1%D9%88%DA%98%D9%87-%D9%85%D8%AD%D9%88%D8%B1)\" title=\"آموزش صفر تا صد طراحی سایت حرفه ای با المنتور ( پروژه محور)\"> آموزش صفر تا صد طراحی سایت حرفه ای با المنتور ( پروژه محور) </a></h2>,\n",
       " <h2><a href=\"/courses/5768/%D8%A2%D9%85%D9%88%D8%B2%D8%B4-%D9%85%D8%B3%D8%AA%D8%B1-%DA%A9%D9%84%D8%A7%D8%B3-camtasia\" title=\"آموزش مستر کلاس Camtasia\"> آموزش مستر کلاس Camtasia </a></h2>,\n",
       " <h2><a href=\"/courses/5771/%D8%A2%D9%85%D9%88%D8%B2%D8%B4-graph-ql-%D8%AF%D8%B1-netcore-\" title=\"آموزش GraphQl در NET Core.\"> آموزش GraphQl در NET Core. </a></h2>,\n",
       " <h2><a href=\"/courses/5772/%D8%A2%D9%85%D9%88%D8%B2%D8%B4-slack-(%D8%A7%D8%B1%D8%AA%D8%A8%D8%A7%D8%B7-%DA%AF%D8%B1%D9%88%D9%87%DB%8C-%D9%88-%D9%85%D8%AF%DB%8C%D8%B1%DB%8C%D8%AA-%D9%BE%D8%B1%D9%88%DA%98%D9%87)\" title=\"آموزش Slack (ارتباط گروهی و مدیریت پروژه)\"> آموزش Slack (ارتباط گروهی و مدیریت پروژه) </a></h2>,\n",
       " <h2><a href=\"/courses/5773/%D8%A2%D9%85%D9%88%D8%B2%D8%B4-%D8%B3%D8%A7%D8%AE%D8%AA-%D8%B1%D8%B2%D9%88%D9%85%D9%87-%D8%AF%D8%B1-asp-netcore\" title=\"آموزش ساخت رزومه در ASP.NET Core\"> آموزش ساخت رزومه در ASP.NET Core </a></h2>,\n",
       " <h2><a href=\"/courses/5774/%D8%A2%D9%85%D9%88%D8%B2%D8%B4-%D9%BE%DB%8C%D8%A7%D8%AF%D9%87-%D8%B3%D8%A7%D8%B2%DB%8C-%D8%B3%D8%A7%DB%8C%D8%AA-%D9%BE%D8%B1%D8%B3%D8%B4-%D9%88-%D9%BE%D8%A7%D8%B3%D8%AE-%D8%A8%D8%A7-netcore-(%D9%85%D8%B4%D8%A7%D8%A8%D9%87-stack-overflow-)\" title=\"آموزش پیاده سازی سایت پرسش و پاسخ با Net Core. (مشابه StackOverflow)\"> آموزش پیاده سازی سایت پرسش و پاسخ با Net Core. (مشابه StackOverflow) </a></h2>,\n",
       " <h2><a href=\"/courses/5775/%D8%A2%D9%85%D9%88%D8%B2%D8%B4-%D8%AC%D8%A7%D9%85%D8%B9-g-rpc-%D8%AF%D8%B1-asp-netcore\" title=\"آموزش جامع gRPC در ASP.NET Core\"> آموزش جامع gRPC در ASP.NET Core </a></h2>,\n",
       " <h2><a href=\"/courses/5776/%D9%BE%DB%8C%D8%A7%D8%AF%D9%87-%D8%B3%D8%A7%D8%B2%DB%8C-%D8%A7%D9%84%DA%AF%D9%88%D8%B1%DB%8C%D8%AA%D9%85-%D8%AA%D8%B4%D8%AE%DB%8C%D8%B5-%DA%86%D9%87%D8%B1%D9%87-%D9%87%D9%88%D8%B4-%D9%85%D8%B5%D9%86%D9%88%D8%B9%DB%8C-%D8%AF%D8%B1-%D9%88%D8%A8-%D8%A8%D8%A7-django-%D9%88-opencv\" title=\"پیاده سازی الگوریتم تشخیص چهره هوش مصنوعی در وب با Django و Open CV\"> پیاده سازی الگوریتم تشخیص چهره هوش مصنوعی در وب با Django و Open CV </a></h2>,\n",
       " <h2><a href=\"/courses/5780/%D8%A2%D9%85%D9%88%D8%B2%D8%B4-%D8%A8%D8%B1%D9%86%D8%A7%D9%85%D9%87%E2%80%8C%D9%86%D9%88%DB%8C%D8%B3%DB%8C-%D8%B4%DB%8C%E2%80%8C%D8%A1-%DA%AF%D8%B1%D8%A7-%D8%AF%D8%B1-%D8%B3%DB%8C%E2%80%8C%D8%B4%D8%A7%D8%B1%D9%BE\" title=\"آموزش برنامه‌نویسی شی‌ء گرا در سی‌شارپ\"> آموزش برنامه‌نویسی شی‌ء گرا در سی‌شارپ </a></h2>,\n",
       " <h2><a href=\"/courses/5785/%D8%A2%D9%85%D9%88%D8%B2%D8%B4-%D8%B3%D8%A7%D8%AE%D8%AA-%D8%A7%D9%BE%D9%84%DB%8C%DA%A9%DB%8C%D8%B4%D9%86-%D9%85%D8%AE%D8%A7%D8%B7%D8%A8%DB%8C%D9%86-%D8%A8%D8%A7-%DA%A9%D8%A7%D8%AA%D9%84%DB%8C%D9%86\" title=\"آموزش ساخت اپلیکیشن مخاطبین با کاتلین\"> آموزش ساخت اپلیکیشن مخاطبین با کاتلین </a></h2>,\n",
       " <h2><a href=\"/courses/5788/%D8%A2%D9%85%D9%88%D8%B2%D8%B4-%D8%AC%D8%A7%D9%85%D8%B9-%D8%AF%DB%8C%D8%AA%D8%A7%D8%A8%D8%A7%DB%8C%D9%86%D8%AF%DB%8C%D9%86%DA%AF-%D8%A8%D9%87-%D9%87%D9%85%D8%B1%D8%A7%D9%87-%D9%BE%D8%B1%D9%88%DA%98%D9%87-%D8%B9%D9%85%D9%84%DB%8C\" title=\"آموزش جامع دیتابایندینگ به همراه پروژه عملی\"> آموزش جامع دیتابایندینگ به همراه پروژه عملی </a></h2>,\n",
       " <h2><a href=\"/courses/5790/%D8%A2%D9%85%D9%88%D8%B2%D8%B4-%D8%B2%D8%A8%D8%A7%D9%86-type-script-%D8%A7%D8%B2-%D8%B5%D9%81%D8%B1\" title=\"آموزش زبان TypeScript از صفر\"> آموزش زبان TypeScript از صفر </a></h2>,\n",
       " <h2><a href=\"/courses/5792/%D8%A2%D9%85%D9%88%D8%B2%D8%B4-%D9%BE%D8%B1%D8%AF%D8%A7%D8%AE%D8%AA-%D8%AF%D8%B1%D9%88%D9%86-%D8%A8%D8%B1%D9%86%D8%A7%D9%85%D9%87-%D8%A7%DB%8C-%D9%85%D8%A7%DB%8C%DA%A9%D8%AA-%D8%AF%D8%B1-%DB%8C%D9%88%D9%86%DB%8C%D8%AA%DB%8C\" title=\"آموزش پرداخت درون برنامه ای مایکت در یونیتی\"> آموزش پرداخت درون برنامه ای مایکت در یونیتی </a></h2>,\n",
       " <h2><a href=\"/courses/5793/%D8%A2%D9%85%D9%88%D8%B2%D8%B4-get-x-%D8%AF%D8%B1-%D9%81%D9%84%D8%A7%D8%AA%D8%B1\" title=\"آموزش GetX در فلاتر\"> آموزش GetX در فلاتر </a></h2>,\n",
       " <h2><a href=\"/courses/5795/%D8%A2%D9%85%D9%88%D8%B2%D8%B4-%D8%AC%D8%A7%D9%85%D8%B9-%D8%B3%DB%8C-%D9%BE%D9%84%D8%A7%D8%B3-%D9%BE%D9%84%D8%A7%D8%B3-(-c-)\" title=\"آموزش جامع سی پلاس پلاس (++C)\"> آموزش جامع سی پلاس پلاس (++C) </a></h2>,\n",
       " <h2><a href=\"/courses/5796/%D8%A2%D9%85%D9%88%D8%B2%D8%B4-%D9%BE%DB%8C%D8%B4%D8%B1%D9%81%D8%AA%D9%87-tailwind-css-%D8%A8%D9%87-%D9%87%D9%85%D8%B1%D8%A7%D9%87-alpinejs\" title=\"آموزش پیشرفته TailwindCSS به همراه Alpinejs\"> آموزش پیشرفته TailwindCSS به همراه Alpinejs </a></h2>,\n",
       " <h2><a href=\"/courses/5798/%D8%A2%D9%85%D9%88%D8%B2%D8%B4-%D9%BE%DB%8C%D8%B4%D8%B1%D9%81%D8%AA%D9%87-%D9%88-%D9%BE%D8%B1%D9%88%DA%98%D9%87-%D9%85%D8%AD%D9%88%D8%B1-%D9%BE%D8%B1%DB%8C%D9%85%DB%8C%D8%B1\" title=\"آموزش پیشرفته و پروژه محور پریمیر\"> آموزش پیشرفته و پروژه محور پریمیر </a></h2>,\n",
       " <h2><a href=\"/courses/5799/%D8%A2%D9%85%D9%88%D8%B2%D8%B4-linuxlpic-2-%E2%80%93-202-\" title=\"آموزش Linux LPIC 2 – 202 \"> آموزش Linux LPIC 2 – 202 </a></h2>,\n",
       " <h2><a href=\"/courses/5802/%D8%A2%D9%85%D9%88%D8%B2%D8%B4-%D8%B3%D8%A7%D8%AE%D8%AA-%D9%88%D8%A8%D8%B3%D8%A7%DB%8C%D8%AA-%DA%A9%D9%88%D8%AA%D8%A7%D9%87-%DA%A9%D9%86%D9%86%D8%AF%D9%87-%D9%84%DB%8C%D9%86%DA%A9-%D8%A8%D8%A7-flask\" title=\"آموزش ساخت وبسایت کوتاه کننده لینک با Flask\"> آموزش ساخت وبسایت کوتاه کننده لینک با Flask </a></h2>,\n",
       " <h2><a href=\"/courses/5803/%D8%A2%D9%85%D9%88%D8%B2%D8%B4-%D8%A7%D9%BE%D9%84%DB%8C%DA%A9%DB%8C%D8%B4%D9%86-%D8%AB%D8%A8%D8%AA-%D8%A7%D8%B7%D9%84%D8%A7%D8%B9%D8%A7%D8%AA-%D9%85%DA%A9%D8%A7%D9%86%DB%8C-%D8%A8%D8%A7-%D8%A7%D8%B3%D8%AA%D9%81%D8%A7%D8%AF%D9%87-%D8%A7%D8%B2-%D9%81%D9%84%D8%A7%D8%AA%D8%B1\" title=\"آموزش اپلیکیشن ثبت اطلاعات مکانی با استفاده از فلاتر\"> آموزش اپلیکیشن ثبت اطلاعات مکانی با استفاده از فلاتر </a></h2>,\n",
       " <h2><a href=\"/courses/5809/%D8%A2%D9%85%D9%88%D8%B2%D8%B4-%D8%B3%D8%A7%D8%AE%D8%AA-%D8%A7%D9%BE%D9%84%DB%8C%DA%A9%DB%8C%D8%B4%D9%86-%D9%85%D9%88%D8%B2%DB%8C%DA%A9%D8%A7%D9%84-%D8%A8%D8%A7-%DA%A9%D8%A7%D8%AA%D9%84%DB%8C%D9%86\" title=\"آموزش ساخت اپلیکیشن موزیکال با کاتلین\"> آموزش ساخت اپلیکیشن موزیکال با کاتلین </a></h2>,\n",
       " <h2><a href=\"/courses/5811/%D8%A2%D9%85%D9%88%D8%B2%D8%B4-%D8%B7%D8%B1%D8%A7%D8%AD%DB%8C-%D8%A7%D9%BE%D9%84%DB%8C%DA%A9%DB%8C%D8%B4%D9%86-%D8%A8%DB%8C%D9%88%DA%AF%D8%B1%D8%A7%D9%81%DB%8C-%D8%A8%D8%A7-%D9%81%D9%84%D8%A7%D8%AA%D8%B1\" title=\"آموزش طراحی اپلیکیشن بیوگرافی با فلاتر\"> آموزش طراحی اپلیکیشن بیوگرافی با فلاتر </a></h2>,\n",
       " <h2><a href=\"/courses/5812/%D8%A2%D9%85%D9%88%D8%B2%D8%B4-%D9%BE%D8%B1%D9%88%DA%98%D9%87-%D9%85%D8%AD%D9%88%D8%B1-%D8%AF%D8%A7%D8%B1%D8%AA-%D9%88-%D9%81%D9%84%D8%A7%D8%AA%D8%B1-%D9%BE%DB%8C%D8%B4%D8%B1%D9%81%D8%AA%D9%87\" title=\"آموزش پروژه محور دارت و فلاتر پیشرفته\"> آموزش پروژه محور دارت و فلاتر پیشرفته </a></h2>,\n",
       " <h2><a href=\"/courses/5818/%D8%A2%D9%85%D9%88%D8%B2%D8%B4-%D8%A7%D8%B5%D9%88%D9%84%DB%8C-%D8%B7%D8%B1%D8%A7%D8%AD%DB%8C-%D9%84%D9%88%DA%AF%D9%88\" title=\"آموزش اصولی طراحی لوگو\"> آموزش اصولی طراحی لوگو </a></h2>,\n",
       " <h2><a href=\"/courses/5822/%D8%A2%D9%85%D9%88%D8%B2%D8%B4-microservice-%D8%AF%D8%B1-netcore-\" title=\"آموزش Microservice در Net Core.\"> آموزش Microservice در Net Core. </a></h2>,\n",
       " <h2><a href=\"/courses/5823/%D8%A2%D9%85%D9%88%D8%B2%D8%B4-%D9%BE%D8%B1%DA%A9%D8%A7%D8%B1%D8%A8%D8%B1%D8%AF%D8%AA%D8%B1%DB%8C%D9%86-%D9%85%D8%A7%DA%98%D9%88%D9%84-%D9%87%D8%A7%DB%8C-%D8%AC%D8%A7%D9%88%D8%A7%D8%A7%D8%B3%DA%A9%D8%B1%DB%8C%D9%BE%D8%AA-%D8%AF%D8%B1-react\" title=\"آموزش پرکاربردترین ماژول های جاوااسکریپت در React\"> آموزش پرکاربردترین ماژول های جاوااسکریپت در React </a></h2>,\n",
       " <h2><a href=\"/courses/5825/%D8%A2%D9%85%D9%88%D8%B2%D8%B4-performancetuning-%D8%AF%D8%B1-sqlserver\" title=\"آموزش Performance Tuning در Sql Server\"> آموزش Performance Tuning در Sql Server </a></h2>,\n",
       " <h2><a href=\"/courses/5828/%D8%A2%D9%85%D9%88%D8%B2%D8%B4-%D9%85%D9%82%D8%AF%D9%85%D8%A7%D8%AA%DB%8C-%D8%AA%D8%A7-%D9%BE%DB%8C%D8%B4%D8%B1%D9%81%D8%AA%D9%87-electron-js\" title=\"آموزش مقدماتی تا پیشرفته Electron js\"> آموزش مقدماتی تا پیشرفته Electron js </a></h2>,\n",
       " <h2><a href=\"/courses/5829/%D8%A2%D9%85%D9%88%D8%B2%D8%B4-%D8%B7%D8%B1%D8%A7%D8%AD%DB%8C-%D9%88%D8%A8-%D8%B3%D8%A7%DB%8C%D8%AA-\" title=\"آموزش طراحی وب سایت \"> آموزش طراحی وب سایت </a></h2>,\n",
       " <h2><a href=\"/courses/5831/%D8%A2%D9%85%D9%88%D8%B2%D8%B4-cssgrid\" title=\"آموزش CSS Grid\"> آموزش CSS Grid </a></h2>,\n",
       " <h2><a href=\"/courses/5833/%D8%A2%D9%85%D9%88%D8%B2%D8%B4-%D8%B2%D8%A8%D8%A7%D9%86-%D8%A8%D8%B1%D9%86%D8%A7%D9%85%D9%87-%D9%86%D9%88%DB%8C%D8%B3%DB%8Cc-%D8%A7%D8%B2-%D9%85%D9%82%D8%AF%D9%85%D8%A7%D8%AA%DB%8C-%D8%AA%D8%A7-%D9%BE%DB%8C%D8%B4%D8%B1%D9%81%D8%AA%D9%87\" title=\"آموزش زبان برنامه نویسی ++C از  مقدماتی تا پیشرفته\"> آموزش زبان برنامه نویسی ++C از مقدماتی تا پیشرفته </a></h2>,\n",
       " <h2><a href=\"/courses/5834/%D8%A2%D9%85%D9%88%D8%B2%D8%B4-%D8%B5%D9%81%D8%B1-%D8%AA%D8%A7-%D8%B5%D8%AF-react-js\" title=\"آموزش صفر تا صد ReactJs\"> آموزش صفر تا صد ReactJs </a></h2>,\n",
       " <h2><a href=\"/courses/5835/%D8%A2%D9%85%D9%88%D8%B2%D8%B4-%D8%B5%D9%81%D8%B1-%D8%AA%D8%A7-%D8%B5%D8%AF-%D8%B7%D8%B1%D8%A7%D8%AD%DB%8C-%D8%B3%D8%A7%DB%8C%D8%AA-%D9%88%D8%A7%DA%A9%D9%86%D8%B4%DA%AF%D8%B1%D8%A7-%D8%A8%D8%A7-shoelace\" title=\"آموزش صفر تا صد طراحی سایت واکنشگرا با shoelace\"> آموزش صفر تا صد طراحی سایت واکنشگرا با shoelace </a></h2>,\n",
       " <h2><a href=\"/courses/5841/%D8%A2%D9%85%D9%88%D8%B2%D8%B4-%D8%B3%D8%A7%D8%AE%D8%AA-25-%D9%BE%D8%B1%D9%88%DA%98%D9%87-%D8%A8%D8%A7-react-js\" title=\"آموزش ساخت 25 پروژه با ReactJS\"> آموزش ساخت 25 پروژه با ReactJS </a></h2>,\n",
       " <h2><a href=\"/courses/5849/%D8%A2%D9%85%D9%88%D8%B2%D8%B4-%D8%B3%D8%A7%D8%AE%D8%AA-%D8%B3%D8%A7%DB%8C%D8%AA-%D8%AE%D8%A8%D8%B1%DB%8C-%D8%A8%D8%A7-%D9%84%D8%A7%D8%B1%D8%A7%D9%88%D9%84-%D8%A8%D9%87-%D8%B5%D9%88%D8%B1%D8%AA-%D9%85%D8%A7%DA%98%D9%88%D9%84%D8%A7%D8%B1\" title=\"آموزش ساخت سایت خبری با لاراول به صورت ماژولار\"> آموزش ساخت سایت خبری با لاراول به صورت ماژولار </a></h2>,\n",
       " <h2><a href=\"/courses/5851/%D8%A2%D9%85%D9%88%D8%B2%D8%B4-%D9%BE%D8%B1%D9%88%DA%98%D9%87-%D9%85%D8%AD%D9%88%D8%B1-%D8%A7%D9%BE%D9%84%DB%8C%DA%A9%DB%8C%D8%B4%D9%86-%DA%86%D8%AA-%D9%88-%DA%A9%D8%A7%D8%B1-%D8%A8%D8%A7-%D9%88%D8%A8-%D8%B3%D9%88%DA%A9%D8%AA-(%D9%85%D9%82%D8%AF%D9%85%D8%A7%D8%AA%DB%8C)\" title=\"آموزش پروژه محور اپلیکیشن چت و کار با وب سوکت (مقدماتی)\"> آموزش پروژه محور اپلیکیشن چت و کار با وب سوکت (مقدماتی) </a></h2>,\n",
       " <h2><a href=\"/courses/5853/%D8%A2%D9%85%D9%88%D8%B2%D8%B4-%D8%B5%D9%81%D8%B1-%D8%AA%D8%A7-%D8%B5%D8%AF-%D9%81%D8%B1%D9%88%D8%B4%DA%AF%D8%A7%D9%87-%D8%B3%D8%A7%D8%B2-%D9%88%D9%88%DA%A9%D8%A7%D9%85%D8%B1%D8%B3-%D8%A8%D9%87-%D9%87%D9%85%D8%B1%D8%A7%D9%87-%D9%BE%D8%B1%D9%88%DA%98%D9%87-%D8%B9%D9%85%D9%84%DB%8C\" title=\"آموزش صفر تا صد فروشگاه ساز ووکامرس به همراه پروژه عملی\"> آموزش صفر تا صد فروشگاه ساز ووکامرس به همراه پروژه عملی </a></h2>,\n",
       " <h2><a href=\"/courses/5857/%D8%A2%D9%85%D9%88%D8%B2%D8%B4-%D8%B3%D8%A7%D8%AE%D8%AA-webap-is-%D8%A8%D8%A7-asp-netcore\" title=\"آموزش ساخت Web APIs با ASP.NET Core\"> آموزش ساخت Web APIs با ASP.NET Core </a></h2>,\n",
       " <h2><a href=\"/courses/5859/%D8%A2%D9%85%D9%88%D8%B2%D8%B4-maui-%D8%AF%D8%B1-net-\" title=\"آموزش MAUI در NET.\"> آموزش MAUI در NET. </a></h2>,\n",
       " <h2><a href=\"/courses/5861/%D8%A2%D9%85%D9%88%D8%B2%D8%B4c-%D8%AF%D8%B1-%D8%A2%D9%86%D8%B1%DB%8C%D9%84-%D8%A7%D9%86%D8%AC%DB%8C%D9%86\" title=\"آموزش ++C در آنریل انجین\"> آموزش ++C در آنریل انجین </a></h2>,\n",
       " <h2><a href=\"/courses/5862/%D8%A2%D9%85%D9%88%D8%B2%D8%B4-%D8%AA%D8%A7%DB%8C%D9%BE-%D8%A7%D8%B3%DA%A9%D8%B1%DB%8C%D9%BE%D8%AA-(-type-script-)\" title=\"آموزش تایپ اسکریپت (TypeScript)\"> آموزش تایپ اسکریپت (TypeScript) </a></h2>,\n",
       " <h2><a href=\"/courses/5863/%D8%A8%D8%B1%D9%86%D8%A7%D9%85%D9%87-%D9%86%D9%88%DB%8C%D8%B3%DB%8C-%D9%88%D8%A8-%D8%A7%D9%BE-%D8%A8%D8%A7-%D9%81%D9%84%D8%A7%D8%AA%D8%B1\" title=\"برنامه نویسی وب اپ با فلاتر\"> برنامه نویسی وب اپ با فلاتر </a></h2>,\n",
       " <h2><a href=\"/courses/5864/%D8%A2%D9%85%D9%88%D8%B2%D8%B4-%DA%A9%D8%A7%D8%B1%D8%A8%D8%B1%D8%AF%DB%8C-%DA%AF%DB%8C%D8%AA-%D9%88-%DA%AF%DB%8C%D8%AA-%D9%87%D8%A7%D8%A8\" title=\"آموزش کاربردی گیت و گیت هاب\"> آموزش کاربردی گیت و گیت هاب </a></h2>,\n",
       " <h2><a href=\"/courses/5868/%D8%A2%D9%85%D9%88%D8%B2%D8%B4-%D8%AC%D8%A7%D9%85%D8%B9-%D8%AF%D8%A7%DA%A9%D8%B1\" title=\"آموزش جامع داکر\"> آموزش جامع داکر </a></h2>,\n",
       " <h2><a href=\"/courses/5871/%D8%A2%D9%85%D9%88%D8%B2%D8%B4-%D8%A8%D8%B1%D9%86%D8%A7%D9%85%D9%87-%D9%86%D9%88%DB%8C%D8%B3%DB%8C-%D8%AF%D8%A7%D8%B1%D8%AA-(-dart-)-%D9%85%D9%82%D8%AF%D9%85%D8%A7%D8%AA%DB%8C-%D8%AA%D8%A7-%D9%BE%DB%8C%D8%B4%D8%B1%D9%81%D8%AA%D9%87\" title=\"آموزش برنامه نویسی دارت (Dart) مقدماتی تا پیشرفته\"> آموزش برنامه نویسی دارت (Dart) مقدماتی تا پیشرفته </a></h2>,\n",
       " <h2><a href=\"/courses/5876/%D8%A2%D9%85%D9%88%D8%B2%D8%B4-sqlserver-2022\" title=\"آموزش SQL Server 2022\"> آموزش SQL Server 2022 </a></h2>,\n",
       " <h2><a href=\"/courses/5879/%D8%A2%D9%85%D9%88%D8%B2%D8%B4-%D8%B3%D8%A7%D8%AE%D8%AA-%DB%B1%DB%B0-%D9%BE%D8%B1%D9%88%DA%98%D9%87-%D8%B4%DB%8C-%DA%AF%D8%B1%D8%A7%DB%8C%DB%8C-%D8%AF%D8%B1-%D8%AC%D8%A7%D9%88%D8%A7\" title=\"آموزش ساخت ۱۰ پروژه شی گرایی در جاوا\"> آموزش ساخت ۱۰ پروژه شی گرایی در جاوا </a></h2>,\n",
       " <h2><a href=\"/courses/5887/%D8%A2%D9%85%D9%88%D8%B2%D8%B4-sqlserverdatabaseadministrator\" title=\"آموزش SQL Server Database Administrator\"> آموزش SQL Server Database Administrator </a></h2>,\n",
       " <h2><a href=\"/courses/5889/%D9%BE%DA%A9%DB%8C%D8%AC-%D9%87%D8%A7%DB%8C-%D8%A8%D8%B1%D9%86%D8%A7%D9%85%D9%87-%D9%86%D9%88%DB%8C%D8%B3%DB%8C-%D9%81%D9%84%D8%A7%D8%AA%D8%B1\" title=\"پکیج های برنامه نویسی فلاتر\"> پکیج های برنامه نویسی فلاتر </a></h2>,\n",
       " <h2><a href=\"/courses/5897/%D8%A2%D9%85%D9%88%D8%B2%D8%B4-%D8%B5%D9%81%D8%B1-%D8%AA%D8%A7-%D8%B5%D8%AF-efcore\" title=\"آموزش صفر تا صد EF Core\"> آموزش صفر تا صد EF Core </a></h2>,\n",
       " <h2><a href=\"/courses/5899/%D8%A2%D9%85%D9%88%D8%B2%D8%B4-%D8%AC%D8%A7%D9%85%D8%B9-%D9%88-%D9%BE%D8%B1%D9%88%DA%98%D9%87-%D9%85%D8%AD%D9%88%D8%B1-%DA%A9%D8%AA%D8%A7%D8%A8%D8%AE%D8%A7%D9%86%D9%87-tkinter-%D9%BE%D8%A7%DB%8C%D8%AA%D9%88%D9%86\" title=\"آموزش جامع و پروژه محور کتابخانه Tkinter پایتون\"> آموزش جامع و پروژه محور کتابخانه Tkinter پایتون </a></h2>,\n",
       " <h2><a href=\"/courses/5902/%D8%A2%D9%85%D9%88%D8%B2%D8%B4-%D9%81%D9%84%D8%A7%D8%AA%D8%B1-%D8%A7%D8%B2-%D9%85%D9%82%D8%AF%D9%85%D8%A7%D8%AA%DB%8C-%D8%AA%D8%A7-%D9%BE%DB%8C%D8%B4%D8%B1%D9%81%D8%AA%D9%87-%D8%A8%D9%87-%D9%87%D9%85%D8%B1%D8%A7%D9%87-%D9%BE%D8%B1%D9%88%DA%98%D9%87-%D8%B9%D9%85%D9%84%DB%8C\" title=\"آموزش فلاتر از مقدماتی تا پیشرفته به همراه پروژه عملی\"> آموزش فلاتر از مقدماتی تا پیشرفته به همراه پروژه عملی </a></h2>,\n",
       " <h2><a href=\"/courses/5903/%D8%A2%D9%85%D9%88%D8%B2%D8%B4-aide-(%D8%A8%D8%B1%D9%86%D8%A7%D9%85%D9%87-%D9%86%D9%88%DB%8C%D8%B3%DB%8C-%D8%A7%D9%86%D8%AF%D8%B1%D9%88%DB%8C%D8%AF-%D8%AF%D8%B1-%D9%85%D9%88%D8%A8%D8%A7%DB%8C%D9%84)\" title=\"آموزش Aide (برنامه نویسی اندروید در موبایل)\"> آموزش Aide (برنامه نویسی اندروید در موبایل) </a></h2>,\n",
       " <h2><a href=\"/courses/5905/%D8%A2%D9%85%D9%88%D8%B2%D8%B4-%D9%85%D8%B9%D9%85%D8%A7%D8%B1%DB%8C-%D8%AA%D9%85%DB%8C%D8%B2-%D9%87%D9%85%D8%B1%D8%A7%D9%87-%D8%A8%D8%A7-%D9%BE%DB%8C%D8%A7%D8%AF%D9%87-%D8%B3%D8%A7%D8%B2%DB%8C-%D8%A7%D8%B5%D9%88%D9%84-solid-%D8%AF%D8%B1-asp-netcore\" title=\"آموزش معماری تمیز همراه با پیاده سازی اصول SOLID در ASP.NET Core\"> آموزش معماری تمیز همراه با پیاده سازی اصول SOLID در ASP.NET Core </a></h2>,\n",
       " <h2><a href=\"/courses/5906/%D8%A2%D9%85%D9%88%D8%B2%D8%B4-%D8%B3%D8%A7%D8%AE%D8%AA-%DB%8C%DA%A9-%D9%BE%D8%B1%D9%88%DA%98%D9%87-%D8%A8%D8%A7-angular-%D9%88-asp-netcoreapi-%D8%A7%D8%B2-%D8%B5%D9%81%D8%B1-%D8%AA%D8%A7-%D8%B5%D8%AF\" title=\"آموزش ساخت یک پروژه با Angular و ASP.NET Core API از صفر تا صد\"> آموزش ساخت یک پروژه با Angular و ASP.NET Core API از صفر تا صد </a></h2>,\n",
       " <h2><a href=\"/courses/5908/%D8%A2%D9%85%D9%88%D8%B2%D8%B4-%D9%85%D9%82%D8%AF%D9%85%D8%A7%D8%AA%DB%8C-%D8%A8%D8%B1%D9%86%D8%A7%D9%85%D9%87-%D9%86%D9%88%DB%8C%D8%B3%DB%8C-%D8%B3%D8%A7%D9%84%DB%8C%D8%AF%DB%8C%D8%AA%DB%8C-(-solidity-)\" title=\"آموزش مقدماتی برنامه نویسی سالیدیتی (Solidity)\"> آموزش مقدماتی برنامه نویسی سالیدیتی (Solidity) </a></h2>,\n",
       " <h2><a href=\"/courses/5909/%D8%A2%D9%85%D9%88%D8%B2%D8%B4-%D8%A7%D9%81%D8%B2%D9%88%D8%AF%D9%86-%D9%85%D9%86%D9%88%DB%8C-%D9%85%D8%AF%DB%8C%D8%B1%DB%8C%D8%AA-%D8%A8%D9%87-%D9%BE%DB%8C%D8%B4%D8%AE%D9%88%D8%A7%D9%86-%D9%88%D8%B1%D8%AF%D9%BE%D8%B1%D8%B3-(-api-addmenupage-)\" title=\"آموزش افزودن منوی مدیریت به پیشخوان وردپرس (API add_menu_page)\"> آموزش افزودن منوی مدیریت به پیشخوان وردپرس (API add_menu_page) </a></h2>,\n",
       " <h2><a href=\"/courses/5911/%D8%AF%D9%88%D8%B1%D9%87-%D8%AC%D8%A7%D9%85%D8%B9-%D8%AF%D8%A7%D8%B1%D8%AA-%D9%88-%D9%81%D9%84%D8%A7%D8%AA%D8%B1\" title=\"دوره جامع دارت و فلاتر\"> دوره جامع دارت و فلاتر </a></h2>,\n",
       " <h2><a href=\"/courses/5914/%D8%AF%D9%88%D8%B1%D9%87-%D8%AC%D8%A7%D9%85%D8%B9-%D9%85%D8%AA%D8%AE%D8%B5%D8%B5-%D9%BE%D8%A7%DB%8C%D8%AA%D9%88%D9%86-(%D8%AA%D8%AD%D8%AA-%D8%AF%D8%B3%DA%A9%D8%AA%D8%A7%D9%BE-%D8%AA%D8%AD%D8%AA-%D9%88%D8%A8-%3D-%DA%A9%D8%B3%D8%A8-%D8%AF%D8%B1%D8%A2%D9%85%D8%AF)\" title=\"دوره جامع متخصص پایتون (تحت دسکتاپ + تحت وب = کسب درآمد)\"> دوره جامع متخصص پایتون (تحت دسکتاپ + تحت وب = کسب درآمد) </a></h2>,\n",
       " <h2><a href=\"/courses/5920/performance-%26-tuning-%D8%AF%D8%B1-sqlserver\" title=\"Performance &amp; Tuning در SQL Server\"> Performance &amp; Tuning در SQL Server </a></h2>,\n",
       " <h2><a href=\"/courses/5922/%D8%B3%D8%A7%D8%AE%D8%AA-%D9%82%D9%81%D9%84-%D9%86%D8%B1%D9%85-%D8%A7%D9%81%D8%B2%D8%A7%D8%B1%DB%8C-%D9%BE%DB%8C%D8%B4%D8%B1%D9%81%D8%AA%D9%87\" title=\"ساخت قفل نرم افزاری پیشرفته\"> ساخت قفل نرم افزاری پیشرفته </a></h2>,\n",
       " <h2><a href=\"/courses/5925/%D8%A2%D9%85%D9%88%D8%B2%D8%B4-%D8%A8%D8%B1%D9%86%D8%A7%D9%85%D9%87-%D9%86%D9%88%DB%8C%D8%B3%DB%8C-%D8%A8%D8%A7-%D9%BE%D8%A7%DB%8C%D8%AA%D9%88%D9%86-%D8%A8%D8%B1%D8%A7%DB%8C-%D8%AF%D8%A7%D9%86%D8%B4-%D8%A2%D9%85%D9%88%D8%B2%D8%A7%D9%86\" title=\"آموزش برنامه نویسی با پایتون برای دانش آموزان\"> آموزش برنامه نویسی با پایتون برای دانش آموزان </a></h2>,\n",
       " <h2><a href=\"/courses/5932/%D8%A2%D9%85%D9%88%D8%B2%D8%B4-%D9%BE%D8%B1%D8%AF%D8%A7%D8%B2%D8%B4-%D9%81%D8%A7%DB%8C%D9%84-pdf-%D8%A8%D8%A7-%D9%BE%D8%A7%DB%8C%D8%AA%D9%88%D9%86\" title=\"آموزش پردازش فایل PDF با پایتون\"> آموزش پردازش فایل PDF با پایتون </a></h2>,\n",
       " <h2><a href=\"/courses/5935/%D8%A2%D9%85%D9%88%D8%B2%D8%B4-blazorweb-assembly-%D9%BE%DB%8C%D8%B4%D8%B1%D9%81%D8%AA%D9%87-(-%D9%BE%D8%B1%D9%88%DA%98%D9%87-%D9%85%D8%AD%D9%88%D8%B1-)\" title=\"آموزش Blazor WebAssembly پیشرفته ( پروژه محور )\"> آموزش Blazor WebAssembly پیشرفته ( پروژه محور ) </a></h2>,\n",
       " <h2><a href=\"/courses/5936/%D8%A2%D9%85%D9%88%D8%B2%D8%B4-web-scraping-%D8%A8%D8%A7-node-js-(%D9%BE%DB%8C%D8%B4%D8%B1%D9%81%D8%AA%D9%87)\" title=\"آموزش web scraping با Node js (پیشرفته)\"> آموزش web scraping با Node js (پیشرفته) </a></h2>,\n",
       " <h2><a href=\"/courses/5940/%D8%A2%D9%85%D9%88%D8%B2%D8%B4-%D8%B3%D8%A7%D8%AE%D8%AA-%DB%8C%DA%A9-%D9%BE%D8%B1%D9%88%DA%98%D9%87-%D8%A8%D8%A7-asp-netcore-%D9%88-react\" title=\"آموزش ساخت یک پروژه با Asp.net Core و React\"> آموزش ساخت یک پروژه با Asp.net Core و React </a></h2>,\n",
       " <h2><a href=\"/courses/5944/%D8%A2%D9%85%D9%88%D8%B2%D8%B4-%D8%B3%D8%A7%D8%AE%D8%AA-%D9%88%D8%A8-%D8%B3%D8%A7%DB%8C%D8%AA-%D8%AE%D8%A8%D8%B1%DB%8C-%D8%A8%D8%A7-reactnodemy-sql\" title=\"آموزش ساخت وب سایت خبری با React Node MySQL\"> آموزش ساخت وب سایت خبری با React Node MySQL </a></h2>,\n",
       " <h2><a href=\"/courses/5945/%D8%A2%D9%85%D9%88%D8%B2%D8%B4-%D8%B3%D8%A7%D8%AE%D8%AA-%D8%B4%D8%A8%DA%A9%D9%87-%D8%A7%D8%AC%D8%AA%D9%85%D8%A7%D8%B9%DB%8C-%D8%A8%D8%A7-mern\" title=\"آموزش ساخت شبکه اجتماعی با MERN\"> آموزش ساخت شبکه اجتماعی با MERN </a></h2>,\n",
       " <h2><a href=\"/courses/5948/%D8%AF%D9%88%D8%B1%D9%87-%D8%B3%DB%8C%D9%85%D9%88%D9%84%DB%8C%D9%86%DA%A9-%D9%85%D8%AA%D9%84%D8%A8\" title=\"دوره سیمولینک متلب\"> دوره سیمولینک متلب </a></h2>,\n",
       " <h2><a href=\"/courses/5953/%D8%AD%D9%84-100-%DA%86%D8%A7%D9%84%D8%B4-%D8%A8%D8%B1%D9%86%D8%A7%D9%85%D9%87%E2%80%8C%D9%86%D9%88%DB%8C%D8%B3%DB%8C-%D8%AF%D8%B1-%D8%B3%DB%8C%E2%80%8C%D8%B4%D8%A7%D8%B1%D9%BE\" title=\"حل 100 چالش برنامه‌نویسی در سی‌شارپ\"> حل 100 چالش برنامه‌نویسی در سی‌شارپ </a></h2>,\n",
       " <h2><a href=\"/courses/5956/%D8%A2%D9%85%D9%88%D8%B2%D8%B4-%D8%A7%D8%A8%D8%B2%D8%A7%D8%B1%D9%87%D8%A7%DB%8C-%D8%A8%D8%B1%D9%86%D8%A7%D9%85%D9%87-%D9%86%D9%88%DB%8C%D8%B3%DB%8C-%D8%B3%D8%A7%D9%84%DB%8C%D8%AF%DB%8C%D8%AA%DB%8C\" title=\"آموزش ابزارهای برنامه نویسی سالیدیتی\"> آموزش ابزارهای برنامه نویسی سالیدیتی </a></h2>,\n",
       " <h2><a href=\"/courses/5957/%D8%A2%D9%85%D9%88%D8%B2%D8%B4-%D9%BE%DB%8C%D8%B4%D8%B1%D9%81%D8%AA%D9%87-%D8%A8%D8%B1%D9%86%D8%A7%D9%85%D9%87-%D9%86%D9%88%DB%8C%D8%B3%DB%8C-%D8%B3%D8%A7%D9%84%DB%8C%D8%AF%DB%8C%D8%AA%DB%8C\" title=\"آموزش پیشرفته برنامه نویسی سالیدیتی\"> آموزش پیشرفته برنامه نویسی سالیدیتی </a></h2>,\n",
       " <h2><a href=\"/courses/4642/70-%D9%BE%D8%B1%D9%88%DA%98%D9%87-%D9%88%D8%A8-%D8%A8%D8%A7-%D8%AC%D8%A7%D9%88%D8%A7%D8%A7%D8%B3%DA%A9%D8%B1%DB%8C%D9%BE%D8%AA\" title=\"70 پروژه وب با جاوااسکریپت\"> 70 پروژه وب با جاوااسکریپت </a></h2>,\n",
       " <h2><a href=\"/courses/4490/%D8%B7%D8%B1%D8%A7%D8%AD%DB%8C-%D9%88%D8%A8-%D9%BE%DB%8C%D8%B4%D8%B1%D9%81%D8%AA%D9%87-12-%D9%BE%D8%B1%D9%88%DA%98%D9%87-%D8%B9%D9%85%D9%84%DB%8C\" title=\"طراحی وب پیشرفته + 12 پروژه عملی\"> طراحی وب پیشرفته + 12 پروژه عملی </a></h2>,\n",
       " <h2><a href=\"/courses/5901/%D8%A2%D9%85%D9%88%D8%B2%D8%B4-%D8%AC%D8%A7%D9%85%D8%B9-maui-%D8%A8%D8%A7-%D8%B3%D8%A7%D8%AE%D8%AA-10-%D8%A7%D9%BE%D9%84%DB%8C%DA%A9%DB%8C%D8%B4%D9%86-%DA%A9%D8%A7%D8%B1%D8%A8%D8%B1%D8%AF%DB%8C\" title=\"آموزش جامع MAUI با ساخت 10 اپلیکیشن کاربردی\"> آموزش جامع MAUI با ساخت 10 اپلیکیشن کاربردی </a></h2>,\n",
       " <h2><a href=\"/courses/5824/%D8%A2%D9%85%D9%88%D8%B2%D8%B4-sqlserverreportingservices-(ssrs-)\" title=\"آموزش SQL Server Reporting Services (ssrs)\"> آموزش SQL Server Reporting Services (ssrs) </a></h2>,\n",
       " <h2><a href=\"/courses/5904/%D8%A2%D9%85%D9%88%D8%B2%D8%B4-microsoftazuredev-ops-%D8%A8%D9%87-%D9%87%D9%85%D8%B1%D8%A7%D9%87-%D9%BE%D8%B1%D9%88%DA%98%D9%87-%D8%B9%D9%85%D9%84%DB%8C\" title=\"آموزش Microsoft Azure DevOps به همراه پروژه عملی\"> آموزش Microsoft Azure DevOps به همراه پروژه عملی </a></h2>,\n",
       " <h2><a href=\"/courses/5874/%D8%A2%D9%85%D9%88%D8%B2%D8%B4-%D8%AC%D8%A7%D9%85%D8%B9-agile\" title=\"آموزش جامع Agile\"> آموزش جامع Agile </a></h2>,\n",
       " <h2><a href=\"/courses/2143/%D8%AF%D9%88%D8%B1%D9%87-%D8%A2%D9%85%D9%88%D8%B2%D8%B4-phpmvc\" title=\"دوره آموزش PHP MVC\"> دوره آموزش PHP MVC </a></h2>,\n",
       " <h2><a href=\"/courses/2144/%D8%AF%D9%88%D8%B1%D9%87-%D8%AC%D8%A7%D9%85%D8%B9-%D8%A2%D9%85%D9%88%D8%B2%D8%B4-laravel\" title=\"دوره جامع آموزش Laravel\"> دوره جامع آموزش Laravel </a></h2>,\n",
       " <h2><a href=\"/courses/4493/%D8%AF%D9%88%D8%B1%D9%87-%D8%A2%D9%85%D9%88%D8%B2%D8%B4-%D8%B7%D8%B1%D8%A7%D8%AD%DB%8C-%D8%B3%D8%A7%DB%8C%D8%AA-%D9%BE%D8%B1%D9%88%DA%98%D9%87-%D9%85%D8%AD%D9%88%D8%B1\" title=\"دوره آموزش طراحی سایت پروژه محور\"> دوره آموزش طراحی سایت پروژه محور </a></h2>,\n",
       " <h2><a href=\"/courses/4645/%D8%AF%D9%88%D8%B1%D9%87-%D8%AC%D8%A7%D9%85%D9%80%D9%80%D8%B9-%D8%A2%D9%85%D9%80%D9%80%D9%88%D8%B2%D8%B4-php-\" title=\"دوره جامــع آمــوزش PHP \"> دوره جامــع آمــوزش PHP </a></h2>,\n",
       " <h2><a href=\"/courses/5844/%DA%A9%D8%AA%D8%A7%D8%A8-%D8%A2%D9%85%D9%88%D8%B2%D8%B4-%D8%B3%D8%B1%DB%8C%D8%B9-%D8%B2%D8%A8%D8%A7%D9%86-php-%D9%85%D8%B9%D9%85%D8%A7%D8%B1%DB%8C-mvc-%D9%87%D9%85%D8%B1%D8%A7%D9%87-%D8%A8%D8%A7-my-sql-%DA%A9%D8%A7%D9%85%D9%84%D8%A7-%D9%BE%D8%B1%D9%88%DA%98%D9%87-%D9%85%D8%AD%D9%88%D8%B1\" title=\"کتاب آموزش سریع زبان PHP معماری MVC همراه با MySQL کاملا پروژه محور\"> کتاب آموزش سریع زبان PHP معماری MVC همراه با MySQL کاملا پروژه محور </a></h2>,\n",
       " <h2><a href=\"/courses/5907/%D8%A2%D9%85%D9%88%D8%B2%D8%B4-%D9%BE%D8%B1%D9%88%DA%98%D9%87-%D9%85%D8%AD%D9%88%D8%B1-tailwind-css\" title=\"آموزش پروژه محور TailwindCSS\"> آموزش پروژه محور TailwindCSS </a></h2>,\n",
       " <h2><a href=\"/courses/5843/%D8%A2%D9%85%D9%88%D8%B2%D8%B4-%D8%A7%D9%85%D9%86%DB%8C%D8%AA-%D8%AF%D8%B1-php\" title=\"آموزش امنیت در PHP\"> آموزش امنیت در PHP </a></h2>,\n",
       " <h2><a href=\"/courses/5917/%D8%A2%D9%85%D9%88%D8%B2%D8%B4-%DA%A9%D8%AF-%D9%86%D9%88%DB%8C%D8%B3%DB%8C-%D9%82%D8%A7%D9%84%D8%A8-%D9%88%D8%B1%D8%AF%D9%BE%D8%B1%D8%B3\" title=\"آموزش کد نویسی قالب وردپرس\"> آموزش کد نویسی قالب وردپرس </a></h2>]"
      ]
     },
     "execution_count": 16,
     "metadata": {},
     "output_type": "execute_result"
    }
   ],
   "source": [
    "# this cell get the initial value of target element\n",
    "list_h2 = soup.find_all('h2')\n",
    "# next_span_info = list_h2.find_next_sibling('span', {'class': 'info-value'})\n",
    "# price_span = next_span_info.find('span', {'class': 'info-price'})\n",
    "# initial_value = price_span.text\n",
    "# initial_value\n",
    "list_h2"
   ]
  },
  {
   "cell_type": "code",
   "execution_count": null,
   "metadata": {},
   "outputs": [],
   "source": [
    "while True:\n",
    "    seventh_h3 = soup.find_all('h2')[7] \n",
    "    next_span_info = seventh_h3.find_next_sibling('span', {'class': 'info-value'})\n",
    "    price_span = next_span_info.find('span', {'class': 'info-price'})\n",
    "    if initial_value != price_span.text:\n",
    "        new_price = price_span.text\n",
    "        print(price_span.text)\n",
    "        break"
   ]
  }
 ],
 "metadata": {
  "kernelspec": {
   "display_name": "Python 3.8.5 64-bit",
   "language": "python",
   "name": "python3"
  },
  "language_info": {
   "codemirror_mode": {
    "name": "ipython",
    "version": 3
   },
   "file_extension": ".py",
   "mimetype": "text/x-python",
   "name": "python",
   "nbconvert_exporter": "python",
   "pygments_lexer": "ipython3",
   "version": "3.8.5"
  },
  "vscode": {
   "interpreter": {
    "hash": "aee8b7b246df8f9039afb4144a1f6fd8d2ca17a180786b69acc140d282b71a49"
   }
  }
 },
 "nbformat": 4,
 "nbformat_minor": 4
}
