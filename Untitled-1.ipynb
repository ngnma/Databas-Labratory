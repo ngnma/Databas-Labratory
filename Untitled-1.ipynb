{
 "cells": [
  {
   "cell_type": "markdown",
   "metadata": {},
   "source": [
    "# Database Labratory Project"
   ]
  },
  {
   "cell_type": "markdown",
   "metadata": {},
   "source": [
    "- Negin mashayekhi\n",
    "- Farbod fooladi"
   ]
  },
  {
   "cell_type": "markdown",
   "metadata": {},
   "source": [
    "### 1. Checking a webpage to know when an element has changed"
   ]
  },
  {
   "cell_type": "code",
   "execution_count": null,
   "metadata": {},
   "outputs": [],
   "source": [
    "import requests\n",
    "from bs4 import BeautifulSoup\n",
    "\n",
    "url = 'https://www.digikala.com/search/category-foreign-printed-book/'\n",
    "response = requests.get(url)\n",
    "soup = BeautifulSoup(response.text, 'html.parser')"
   ]
  },
  {
   "cell_type": "code",
   "execution_count": null,
   "metadata": {},
   "outputs": [],
   "source": [
    "# this cell get the initial value of target element\n",
    "seventh_h3 = soup.find_all('h3')[7] \n",
    "next_span_info = seventh_h3.find_next_sibling('span', {'class': 'info-value'})\n",
    "price_span = next_span_info.find('span', {'class': 'info-price'})\n",
    "initial_value = price_span.text\n",
    "initial_value"
   ]
  },
  {
   "cell_type": "code",
   "execution_count": null,
   "metadata": {},
   "outputs": [],
   "source": [
    "# this cell check the element continously \n",
    "while True:\n",
    "    seventh_h3 = soup.find_all('h3')[7] \n",
    "    next_span_info = seventh_h3.find_next_sibling('span', {'class': 'info-value'})\n",
    "    price_span = next_span_info.find('span', {'class': 'info-price'})\n",
    "    if initial_value != price_span.text:\n",
    "        new_price = price_span.text\n",
    "        print(price_span.text)\n",
    "        break"
   ]
  },
  {
   "cell_type": "markdown",
   "metadata": {},
   "source": [
    "#### Sending Email"
   ]
  },
  {
   "cell_type": "code",
   "execution_count": null,
   "metadata": {},
   "outputs": [],
   "source": [
    "import smtplib\n",
    "from email.mime.text import MIMEText\n",
    "from email.mime.multipart import MIMEMultipart"
   ]
  },
  {
   "cell_type": "code",
   "execution_count": null,
   "metadata": {},
   "outputs": [],
   "source": [
    "# Set up connection to the SMTP server\n",
    "smtp_server = 'smtp.gmail.com'  # replace with your SMTP server address\n",
    "smtp_port = 25  # replace with your SMTP server port\n",
    "username = 'n.mashayekhi456@gmail.com'  # replace with your email address\n",
    "password = '123456'  # replace with your email password\n",
    "\n",
    "server = smtplib.SMTP(smtp_server, smtp_port)\n",
    "server.starttls()\n",
    "server.login(username, password)\n",
    "\n",
    "# Construct the email message\n",
    "from_addr = 'n.mashayekhi456@gmail.com'  # replace with your email address\n",
    "to_addr = 'n.mashayekhi456@gmail.com'  # replace with recipient email address\n",
    "subject = 'teter price has changed!'\n",
    "body = new_price\n",
    "\n",
    "msg = MIMEMultipart()\n",
    "msg['From'] = from_addr\n",
    "msg['To'] = to_addr\n",
    "msg['Subject'] = subject\n",
    "\n",
    "msg.attach(MIMEText(body, 'plain'))\n",
    "\n",
    "# Send the email\n",
    "text = msg.as_string()\n",
    "server.sendmail(from_addr, to_addr, text)\n",
    "\n",
    "# Close the connection to the SMTP server\n",
    "server.quit()\n"
   ]
  },
  {
   "cell_type": "markdown",
   "metadata": {},
   "source": [
    "#### Sending SMS\n"
   ]
  },
  {
   "cell_type": "code",
   "execution_count": null,
   "metadata": {},
   "outputs": [],
   "source": [
    "from twilio.rest import Client\n",
    "\n",
    "# Your Account SID and Auth Token from twilio.com/console\n",
    "account_sid = 'your_account_sid'\n",
    "auth_token = 'your_auth_token'\n",
    "client = Client(account_sid, auth_token)\n",
    "\n",
    "# Use the Twilio API to send an SMS message\n",
    "message = client.messages.create(\n",
    "    body='Hello, this is a test message!',\n",
    "    from_='+989351004976', # Replace with your Twilio phone number\n",
    "    to='+989120753574' # Replace with the recipient's phone number\n",
    ")\n",
    "\n",
    "print(f'Sent message with SID: {message.sid}')"
   ]
  },
  {
   "attachments": {},
   "cell_type": "markdown",
   "metadata": {},
   "source": [
    "# Phase 2"
   ]
  },
  {
   "cell_type": "code",
   "execution_count": null,
   "metadata": {},
   "outputs": [],
   "source": [
    "from bs4 import BeautifulSoup\n",
    "\n",
    "# Parse the HTML content using Beautiful Soup\n",
    "html = '<<span>۷۵,۰۰۰</span><div class=\"d-flex\"><svg style=\"width: 16px; height: 16px; fill: var(--color-icon-high-emphasis);\"><use xlink:href=\"#toman\"></use></svg></div>>'\n",
    "soup = BeautifulSoup(html, 'html.parser')\n",
    "\n",
    "# Find the outer div using a CSS selector\n",
    "outer_div = soup.find('div', {'class': 'outer'})\n",
    "\n",
    "# Iterate over all the nested elements using the descendants attribute\n",
    "for element in outer_div.descendants:\n",
    "    if element.name == 'span' and element.get('id') == 'my-element':\n",
    "        # Extract the text or other attributes of the desired element\n",
    "        element_text = element.text\n",
    "        element_attribute = element['data-my-attribute']\n",
    "        break\n",
    "else:\n",
    "    # Handle the case where the desired element was not found\n",
    "    element_text = None\n",
    "    element_attribute = None\n"
   ]
  },
  {
   "cell_type": "code",
   "execution_count": null,
   "metadata": {},
   "outputs": [],
   "source": [
    "div.product-list_ProductList__item__LiiNI:nth-child(1) > a:nth-child(1) > div:nth-child(1) > article:nth-child(1) > div:nth-child(2) > div:nth-child(2) > div:nth-child(4) > div:nth-child(1) > div:nth-child(1) > span:nth-child(1)\n",
    "\n",
    "<span>۷۵,۰۰۰</span><div class=\"d-flex\"><svg style=\"width: 16px; height: 16px; fill: var(--color-icon-high-emphasis);\"><use xlink:href=\"#toman\"></use></svg></div>"
   ]
  },
  {
   "attachments": {},
   "cell_type": "markdown",
   "metadata": {},
   "source": [
    "# Phase 3\n",
    "* database creation"
   ]
  },
  {
   "cell_type": "code",
   "execution_count": 5,
   "metadata": {},
   "outputs": [
    {
     "ename": "DatabaseError",
     "evalue": "2003 (HY000): Can't connect to MySQL server on 'localhost:3306' (10061)",
     "output_type": "error",
     "traceback": [
      "\u001b[1;31m---------------------------------------------------------------------------\u001b[0m",
      "\u001b[1;31mMySQLInterfaceError\u001b[0m                       Traceback (most recent call last)",
      "File \u001b[1;32mc:\\Python311\\Lib\\site-packages\\mysql\\connector\\connection_cext.py:288\u001b[0m, in \u001b[0;36mCMySQLConnection._open_connection\u001b[1;34m(self)\u001b[0m\n\u001b[0;32m    287\u001b[0m \u001b[39mtry\u001b[39;00m:\n\u001b[1;32m--> 288\u001b[0m     \u001b[39mself\u001b[39;49m\u001b[39m.\u001b[39;49m_cmysql\u001b[39m.\u001b[39;49mconnect(\u001b[39m*\u001b[39;49m\u001b[39m*\u001b[39;49mcnx_kwargs)\n\u001b[0;32m    289\u001b[0m     \u001b[39mself\u001b[39m\u001b[39m.\u001b[39m_cmysql\u001b[39m.\u001b[39mconverter_str_fallback \u001b[39m=\u001b[39m \u001b[39mself\u001b[39m\u001b[39m.\u001b[39m_converter_str_fallback\n",
      "\u001b[1;31mMySQLInterfaceError\u001b[0m: Can't connect to MySQL server on 'localhost:3306' (10061)",
      "\nThe above exception was the direct cause of the following exception:\n",
      "\u001b[1;31mDatabaseError\u001b[0m                             Traceback (most recent call last)",
      "Cell \u001b[1;32mIn[5], line 4\u001b[0m\n\u001b[0;32m      1\u001b[0m \u001b[39mimport\u001b[39;00m \u001b[39mmysql\u001b[39;00m\u001b[39m.\u001b[39;00m\u001b[39mconnector\u001b[39;00m\n\u001b[0;32m      3\u001b[0m \u001b[39m# Connect to MySQL server\u001b[39;00m\n\u001b[1;32m----> 4\u001b[0m mydb \u001b[39m=\u001b[39m mysql\u001b[39m.\u001b[39;49mconnector\u001b[39m.\u001b[39;49mconnect(\n\u001b[0;32m      5\u001b[0m   host\u001b[39m=\u001b[39;49m\u001b[39m\"\u001b[39;49m\u001b[39mlocalhost\u001b[39;49m\u001b[39m\"\u001b[39;49m,\n\u001b[0;32m      6\u001b[0m   user\u001b[39m=\u001b[39;49m\u001b[39m\"\u001b[39;49m\u001b[39mnf\u001b[39;49m\u001b[39m\"\u001b[39;49m,\n\u001b[0;32m      7\u001b[0m   password\u001b[39m=\u001b[39;49m\u001b[39m\"\u001b[39;49m\u001b[39m1234\u001b[39;49m\u001b[39m\"\u001b[39;49m,\n\u001b[0;32m      8\u001b[0m   port\u001b[39m=\u001b[39;49m\u001b[39m3306\u001b[39;49m\n\u001b[0;32m      9\u001b[0m )\n\u001b[0;32m     11\u001b[0m \u001b[39m# Create a cursor object\u001b[39;00m\n\u001b[0;32m     12\u001b[0m mycursor \u001b[39m=\u001b[39m mydb\u001b[39m.\u001b[39mcursor()\n",
      "File \u001b[1;32mc:\\Python311\\Lib\\site-packages\\mysql\\connector\\pooling.py:293\u001b[0m, in \u001b[0;36mconnect\u001b[1;34m(*args, **kwargs)\u001b[0m\n\u001b[0;32m    290\u001b[0m         \u001b[39mraise\u001b[39;00m \u001b[39mImportError\u001b[39;00m(ERROR_NO_CEXT)\n\u001b[0;32m    292\u001b[0m \u001b[39mif\u001b[39;00m CMySQLConnection \u001b[39mand\u001b[39;00m \u001b[39mnot\u001b[39;00m use_pure:\n\u001b[1;32m--> 293\u001b[0m     \u001b[39mreturn\u001b[39;00m CMySQLConnection(\u001b[39m*\u001b[39;49margs, \u001b[39m*\u001b[39;49m\u001b[39m*\u001b[39;49mkwargs)\n\u001b[0;32m    294\u001b[0m \u001b[39mreturn\u001b[39;00m MySQLConnection(\u001b[39m*\u001b[39margs, \u001b[39m*\u001b[39m\u001b[39m*\u001b[39mkwargs)\n",
      "File \u001b[1;32mc:\\Python311\\Lib\\site-packages\\mysql\\connector\\connection_cext.py:118\u001b[0m, in \u001b[0;36mCMySQLConnection.__init__\u001b[1;34m(self, **kwargs)\u001b[0m\n\u001b[0;32m    115\u001b[0m \u001b[39msuper\u001b[39m()\u001b[39m.\u001b[39m\u001b[39m__init__\u001b[39m()\n\u001b[0;32m    117\u001b[0m \u001b[39mif\u001b[39;00m kwargs:\n\u001b[1;32m--> 118\u001b[0m     \u001b[39mself\u001b[39;49m\u001b[39m.\u001b[39;49mconnect(\u001b[39m*\u001b[39;49m\u001b[39m*\u001b[39;49mkwargs)\n",
      "File \u001b[1;32mc:\\Python311\\Lib\\site-packages\\mysql\\connector\\abstracts.py:1178\u001b[0m, in \u001b[0;36mMySQLConnectionAbstract.connect\u001b[1;34m(self, **kwargs)\u001b[0m\n\u001b[0;32m   1175\u001b[0m     \u001b[39mself\u001b[39m\u001b[39m.\u001b[39mconfig(\u001b[39m*\u001b[39m\u001b[39m*\u001b[39mkwargs)\n\u001b[0;32m   1177\u001b[0m \u001b[39mself\u001b[39m\u001b[39m.\u001b[39mdisconnect()\n\u001b[1;32m-> 1178\u001b[0m \u001b[39mself\u001b[39;49m\u001b[39m.\u001b[39;49m_open_connection()\n\u001b[0;32m   1179\u001b[0m \u001b[39m# Server does not allow to run any other statement different from ALTER\u001b[39;00m\n\u001b[0;32m   1180\u001b[0m \u001b[39m# when user's password has been expired.\u001b[39;00m\n\u001b[0;32m   1181\u001b[0m \u001b[39mif\u001b[39;00m \u001b[39mnot\u001b[39;00m \u001b[39mself\u001b[39m\u001b[39m.\u001b[39m_client_flags \u001b[39m&\u001b[39m ClientFlag\u001b[39m.\u001b[39mCAN_HANDLE_EXPIRED_PASSWORDS:\n",
      "File \u001b[1;32mc:\\Python311\\Lib\\site-packages\\mysql\\connector\\connection_cext.py:293\u001b[0m, in \u001b[0;36mCMySQLConnection._open_connection\u001b[1;34m(self)\u001b[0m\n\u001b[0;32m    291\u001b[0m         \u001b[39mself\u001b[39m\u001b[39m.\u001b[39mconverter\u001b[39m.\u001b[39mstr_fallback \u001b[39m=\u001b[39m \u001b[39mself\u001b[39m\u001b[39m.\u001b[39m_converter_str_fallback\n\u001b[0;32m    292\u001b[0m \u001b[39mexcept\u001b[39;00m MySQLInterfaceError \u001b[39mas\u001b[39;00m err:\n\u001b[1;32m--> 293\u001b[0m     \u001b[39mraise\u001b[39;00m get_mysql_exception(\n\u001b[0;32m    294\u001b[0m         msg\u001b[39m=\u001b[39merr\u001b[39m.\u001b[39mmsg, errno\u001b[39m=\u001b[39merr\u001b[39m.\u001b[39merrno, sqlstate\u001b[39m=\u001b[39merr\u001b[39m.\u001b[39msqlstate\n\u001b[0;32m    295\u001b[0m     ) \u001b[39mfrom\u001b[39;00m \u001b[39merr\u001b[39;00m\n\u001b[0;32m    297\u001b[0m \u001b[39mself\u001b[39m\u001b[39m.\u001b[39m_do_handshake()\n",
      "\u001b[1;31mDatabaseError\u001b[0m: 2003 (HY000): Can't connect to MySQL server on 'localhost:3306' (10061)"
     ]
    }
   ],
   "source": [
    "import mysql.connector\n",
    "\n",
    "# Connect to MySQL server\n",
    "mydb = mysql.connector.connect(\n",
    "  host=\"localhost\",\n",
    "  user=\"nf\",\n",
    "  password=\"1234\",\n",
    "  port=3306\n",
    ")\n",
    "\n",
    "# Create a cursor object\n",
    "mycursor = mydb.cursor()\n",
    "\n",
    "# Create a database named \"DB_Lab\"\n",
    "mycursor.execute(\"CREATE DATABASE DB_Lab\")\n",
    "\n",
    "# Switch to the newly created database\n",
    "mycursor.execute(\"USE DB_Lab\")\n",
    "\n",
    "# Create the \"urlLink\" table\n",
    "mycursor.execute(\"CREATE TABLE urlLink (id INT AUTO_INCREMENT PRIMARY KEY, url VARCHAR(255))\")\n",
    "\n",
    "# Create the \"captchaType\" table\n",
    "mycursor.execute(\"CREATE TABLE captchaType (id INT AUTO_INCREMENT PRIMARY KEY, type VARCHAR(255))\")\n",
    "\n",
    "# Create the \"libraryType\" table\n",
    "mycursor.execute(\"CREATE TABLE libraryType (id INT AUTO_INCREMENT PRIMARY KEY, type VARCHAR(255))\")\n",
    "\n",
    "# Confirm that the tables have been created\n",
    "mycursor.execute(\"SHOW TABLES\")\n",
    "for table in mycursor:\n",
    "  print(table)\n"
   ]
  },
  {
   "attachments": {},
   "cell_type": "markdown",
   "metadata": {},
   "source": [
    "* add data to tables"
   ]
  },
  {
   "attachments": {},
   "cell_type": "markdown",
   "metadata": {},
   "source": [
    "import mysql.connector\n",
    "\n",
    "# Connect to MySQL server\n",
    "mydb = mysql.connector.connect(\n",
    "  host=\"localhost\",\n",
    "  user=\"yourusername\",\n",
    "  password=\"yourpassword\",\n",
    "  database=\"DB_Lab\"\n",
    ")\n",
    "\n",
    "# Create a cursor object\n",
    "mycursor = mydb.cursor()\n",
    "\n",
    "# Insert data into the \"urlLink\" table\n",
    "sql = \"INSERT INTO urlLink (url) VALUES (%s)\"\n",
    "val = [\n",
    "  (\"https://www.example.com\"),\n",
    "  (\"https://www.google.com\"),\n",
    "  (\"https://www.yahoo.com\"),\n",
    "  (\"https://www.amazon.com\"),\n",
    "  (\"https://www.microsoft.com\")\n",
    "]\n",
    "mycursor.executemany(sql, val)\n",
    "mydb.commit()\n",
    "\n",
    "# Confirm that the data has been inserted\n",
    "mycursor.execute(\"SELECT * FROM urlLink\")\n",
    "result = mycursor.fetchall()\n",
    "for row in result:\n",
    "  print(row)\n"
   ]
  }
 ],
 "metadata": {
  "kernelspec": {
   "display_name": "Python 3",
   "language": "python",
   "name": "python3"
  },
  "language_info": {
   "codemirror_mode": {
    "name": "ipython",
    "version": 3
   },
   "file_extension": ".py",
   "mimetype": "text/x-python",
   "name": "python",
   "nbconvert_exporter": "python",
   "pygments_lexer": "ipython3",
   "version": "3.11.0"
  }
 },
 "nbformat": 4,
 "nbformat_minor": 4
}
